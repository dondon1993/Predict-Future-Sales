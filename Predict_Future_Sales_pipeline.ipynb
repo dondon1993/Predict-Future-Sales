{
 "cells": [
  {
   "cell_type": "markdown",
   "metadata": {},
   "source": [
    "# Data loading and Preprocessing"
   ]
  },
  {
   "cell_type": "code",
   "execution_count": 1,
   "metadata": {},
   "outputs": [],
   "source": [
    "%load_ext autoreload\n",
    "%autoreload 2\n",
    "\n",
    "%matplotlib inline"
   ]
  },
  {
   "cell_type": "code",
   "execution_count": 2,
   "metadata": {
    "_cell_guid": "b1076dfc-b9ad-4769-8c92-a6c4dae69d19",
    "_uuid": "8f2839f25d086af736a60e9eeb907d3b93b6e0e5"
   },
   "outputs": [],
   "source": [
    "import numpy as np # linear algebra\n",
    "import pandas as pd # data processing, CSV file I/O (e.g. pd.read_csv)\n",
    "\n",
    "import matplotlib.pyplot as plt\n",
    "import seaborn as sns\n",
    "sns.set()\n",
    "\n",
    "import os"
   ]
  },
  {
   "cell_type": "code",
   "execution_count": 3,
   "metadata": {},
   "outputs": [],
   "source": [
    "from sklearn.model_selection import GroupKFold\n",
    "from sklearn.preprocessing import LabelEncoder\n",
    "from sklearn.ensemble import RandomForestRegressor"
   ]
  },
  {
   "cell_type": "code",
   "execution_count": 4,
   "metadata": {},
   "outputs": [],
   "source": [
    "import matplotlib.pyplot as plt\n",
    "%matplotlib inline\n",
    "from tqdm import tqdm_notebook\n",
    "from sklearn.preprocessing import StandardScaler, LabelEncoder\n",
    "from sklearn.svm import NuSVR, SVR\n",
    "from sklearn.metrics import mean_absolute_error\n",
    "from sklearn import metrics\n",
    "pd.options.display.precision = 15\n",
    "\n",
    "import lightgbm as lgb\n",
    "import xgboost as xgb\n",
    "import time\n",
    "import datetime\n",
    "from catboost import CatBoostRegressor\n",
    "from sklearn.preprocessing import LabelEncoder\n",
    "from sklearn.model_selection import StratifiedKFold, KFold, RepeatedKFold, GroupKFold, TimeSeriesSplit\n",
    "from sklearn.metrics import mean_squared_error\n",
    "from sklearn.linear_model import LinearRegression\n",
    "import gc\n",
    "import seaborn as sns\n",
    "import warnings\n",
    "import scipy.signal as sg\n",
    "warnings.filterwarnings(\"ignore\")\n",
    "\n",
    "from scipy import stats"
   ]
  },
  {
   "cell_type": "code",
   "execution_count": 5,
   "metadata": {},
   "outputs": [],
   "source": [
    "import gc\n",
    "from itertools import product\n",
    "import random\n",
    "import pickle"
   ]
  },
  {
   "cell_type": "code",
   "execution_count": 6,
   "metadata": {},
   "outputs": [],
   "source": [
    "from xgboost import XGBRegressor\n",
    "from xgboost import plot_importance"
   ]
  },
  {
   "cell_type": "code",
   "execution_count": 7,
   "metadata": {},
   "outputs": [],
   "source": [
    "def reduce_mem_usage(df, verbose=True):\n",
    "    numerics = ['int16', 'int32', 'int64', 'float16', 'float32', 'float64']\n",
    "    start_mem = df.memory_usage().sum() / 1024**2\n",
    "    for col in df.columns:\n",
    "        col_type = df[col].dtypes\n",
    "        \n",
    "        if col_type in numerics:\n",
    "            c_min = df[col].min()\n",
    "            c_max = df[col].max()\n",
    "            if str(col_type)[:3] == 'int':\n",
    "                if c_min > np.iinfo(np.int8).min and c_max < np.iinfo(np.int8).max:\n",
    "                    df[col] = df[col].astype(np.int8)\n",
    "                elif c_min > np.iinfo(np.int16).min and c_max < np.iinfo(np.int16).max:\n",
    "                    df[col] = df[col].astype(np.int16)\n",
    "                elif c_min > np.iinfo(np.int32).min and c_max < np.iinfo(np.int32).max:\n",
    "                    df[col] = df[col].astype(np.int32)\n",
    "                elif c_min > np.iinfo(np.int64).min and c_max < np.iinfo(np.int64).max:\n",
    "                    df[col] = df[col].astype(np.int64)\n",
    "            else:\n",
    "                c_prec = df[col].apply(lambda x: np.finfo(x).precision).max()\n",
    "                if c_min > np.finfo(np.float16).min and c_max < np.finfo(np.float16).max and c_prec == np.finfo(np.float16).precision:\n",
    "                    df[col] = df[col].astype(np.float16)\n",
    "                elif c_min > np.finfo(np.float32).min and c_max < np.finfo(np.float32).max: #and c_prec == np.finfo(np.float32).precision:\n",
    "                    df[col] = df[col].astype(np.float32)\n",
    "                else:\n",
    "                    df[col] = df[col].astype(np.float64)\n",
    "    end_mem = df.memory_usage().sum() / 1024**2\n",
    "    if verbose: print('Mem. usage decreased to {:5.2f} Mb ({:.1f}% reduction)'.format(end_mem, 100 * (start_mem - end_mem) / start_mem))\n",
    "    return df"
   ]
  },
  {
   "cell_type": "code",
   "execution_count": 8,
   "metadata": {},
   "outputs": [],
   "source": [
    "def merge_dataset(df):\n",
    "    \n",
    "    df = pd.merge(df, shops, on=['shop_id'], how='left')\n",
    "    df = pd.merge(df, item, on=['item_id'], how='left')\n",
    "    df = pd.merge(df, item_cat, on=['item_category_id'], how='left')\n",
    "    df['city_code'] = df['city_code'].astype(np.int8)\n",
    "    df['item_category_id'] = df['item_category_id'].astype(np.int8)\n",
    "    df['type_code'] = df['type_code'].astype(np.int8)\n",
    "    df['subtype_code'] = df['subtype_code'].astype(np.int8)\n",
    "        \n",
    "    return df"
   ]
  },
  {
   "cell_type": "code",
   "execution_count": 9,
   "metadata": {},
   "outputs": [],
   "source": [
    "def target_generate(df):\n",
    "    df = pd.merge(df, sales_group[['date_block_num','shop_id','item_id','revenue_month','item_cnt_month']], on=cols, how='left')\n",
    "    df['item_cnt_month'] = (df['item_cnt_month']\n",
    "                                    .fillna(0)\n",
    "                                    .clip(0,20) # NB clip target here\n",
    "                                    .astype(np.float32))\n",
    "    \n",
    "    df['revenue_month'] = (df['revenue_month']\n",
    "                                    .fillna(0)\n",
    "                                    #.clip(0,20) # NB clip target here\n",
    "                                    .astype(np.float32))\n",
    "    return df"
   ]
  },
  {
   "cell_type": "code",
   "execution_count": 11,
   "metadata": {},
   "outputs": [],
   "source": [
    "lags = np.arange(12) + 1\n",
    "def lag_feature(df, lags, groupcols = ['shop_id', 'item_id'], col = 'item_cnt_month', fillna = '0'):\n",
    "    subset = ['date_block_num'] + groupcols\n",
    "    new_col = '_'.join(groupcols)+'_avg_'+str(col)\n",
    "    \n",
    "    group = train_mix.groupby(subset).agg({col: ['mean']})\n",
    "    group.columns = [new_col]\n",
    "    group.reset_index(inplace=True)\n",
    "    \n",
    "    for i in lags:\n",
    "        shifted = group.copy()\n",
    "        shifted.columns = ['date_block_num'] + groupcols + [new_col+'_lag_'+str(i)]\n",
    "        shifted['date_block_num'] += i\n",
    "        df = pd.merge(df, shifted, on=(['date_block_num'] + groupcols), how='left')\n",
    "        \n",
    "        if fillna == 'median':\n",
    "            df[f'{col}_lag_{i}'].fillna(df[new_col+'_lag_'+str(i)].median(), inplace = True)\n",
    "        elif fillna == 'mean':\n",
    "            df[f'{col}_lag_{i}'].fillna(df[new_col+'_lag_'+str(i)].mean(), inplace = True)\n",
    "        elif fillna == '0':\n",
    "            df.fillna(0, inplace = True)\n",
    "        del shifted\n",
    "        gc.collect()    \n",
    "        \n",
    "    del group\n",
    "    \n",
    "    return df"
   ]
  },
  {
   "cell_type": "code",
   "execution_count": 34,
   "metadata": {
    "_cell_guid": "79c7e3d0-c299-4dcb-8224-4455121ee9b0",
    "_uuid": "d629ff2d2480ee46fbb7e2d37f6b5fab8052498a"
   },
   "outputs": [],
   "source": [
    "sales_train = pd.read_csv('./input/sales_train_v2.csv')\n",
    "test = pd.read_csv('./input/test.csv')"
   ]
  },
  {
   "cell_type": "code",
   "execution_count": 35,
   "metadata": {},
   "outputs": [],
   "source": [
    "item_cat = pd.read_csv('./input/item_categories.csv')\n",
    "item= pd.read_csv('./input/items.csv')\n",
    "shops = pd.read_csv('./input/shops.csv')"
   ]
  },
  {
   "cell_type": "code",
   "execution_count": 36,
   "metadata": {},
   "outputs": [],
   "source": [
    "def remove_duplicate():\n",
    "    # Якутск Орджоникидзе, 56\n",
    "    sales_train.loc[sales_train.shop_id == 0, 'shop_id'] = 57\n",
    "    test.loc[test.shop_id == 0, 'shop_id'] = 57\n",
    "    # Якутск ТЦ \"Центральный\"\n",
    "    sales_train.loc[sales_train.shop_id == 1, 'shop_id'] = 58\n",
    "    test.loc[test.shop_id == 1, 'shop_id'] = 58\n",
    "    # Жуковский ул. Чкалова 39м²\n",
    "    sales_train.loc[sales_train.shop_id == 10, 'shop_id'] = 11\n",
    "    test.loc[test.shop_id == 10, 'shop_id'] = 11\n",
    "    #\n",
    "    sales_train.loc[sales_train.shop_id == 39, 'shop_id'] = 40\n",
    "    test.loc[test.shop_id == 39, 'shop_id'] = 40\n",
    "    \n",
    "remove_duplicate()"
   ]
  },
  {
   "cell_type": "code",
   "execution_count": 37,
   "metadata": {},
   "outputs": [],
   "source": [
    "def preprocess_sales_train(df):\n",
    "    df = df[df['item_cnt_day'] < 1000]\n",
    "    df = df[df['item_price'] < 100000]\n",
    "    df = df[df.item_price > 0].reset_index(drop=True)\n",
    "    df.loc[df.item_cnt_day < 1, 'item_cnt_day'] = 0\n",
    "    return df"
   ]
  },
  {
   "cell_type": "code",
   "execution_count": 38,
   "metadata": {},
   "outputs": [],
   "source": [
    "sales_train = preprocess_sales_train(sales_train)\n",
    "median = sales_train[(sales_train.shop_id==32)&(sales_train.item_id==2973)&(sales_train.date_block_num==4)&(sales_train.item_price>0)].item_price.median()\n",
    "sales_train.loc[sales_train.item_price<0, 'item_price'] = median"
   ]
  },
  {
   "cell_type": "code",
   "execution_count": 39,
   "metadata": {},
   "outputs": [
    {
     "data": {
      "text/plain": [
       "array(['Орджоникидзе,', 'ТЦ', 'ТРК', 'ТРЦ', 'etc', 'ул.', 'Магазин', 'ТК',\n",
       "       'склад'], dtype=object)"
      ]
     },
     "execution_count": 39,
     "metadata": {},
     "output_type": "execute_result"
    }
   ],
   "source": [
    "shops.loc[shops.shop_name == 'Сергиев Посад ТЦ \"7Я\"', 'shop_name'] = 'СергиевПосад ТЦ \"7Я\"'\n",
    "\n",
    "shops['city'] = shops['shop_name'].str.split(' ').map(lambda x: x[0])\n",
    "shops['category'] = shops['shop_name'].str.split(' ').map(lambda x:x[1]).astype(str)\n",
    "\n",
    "shops.loc[shops.city == '!Якутск', 'city'] = 'Якутск'\n",
    "\n",
    "category = ['Орджоникидзе,', 'ТЦ', 'ТРК', 'ТРЦ','ул.', 'Магазин', 'ТК', 'склад']\n",
    "shops.category = shops.category.apply(lambda x: x if (x in category) else 'etc')\n",
    "shops.category.unique()"
   ]
  },
  {
   "cell_type": "code",
   "execution_count": 40,
   "metadata": {},
   "outputs": [
    {
     "name": "stdout",
     "output_type": "stream",
     "text": [
      "Category Distribution           shop_id\n",
      "category         \n",
      "etc           223\n",
      "ТК            184\n",
      "ТРК           140\n",
      "ТРЦ           340\n",
      "ТЦ            883\n"
     ]
    }
   ],
   "source": [
    "category = ['ТЦ', 'ТРК', 'ТРЦ', 'ТК']\n",
    "shops.category = shops.category.apply(lambda x: x if (x in category) else 'etc')\n",
    "print('Category Distribution', shops.groupby(['category']).sum())"
   ]
  },
  {
   "cell_type": "markdown",
   "metadata": {},
   "source": [
    "Label encoder is used very frequently to save storage"
   ]
  },
  {
   "cell_type": "code",
   "execution_count": 41,
   "metadata": {},
   "outputs": [
    {
     "data": {
      "text/html": [
       "<div>\n",
       "<style scoped>\n",
       "    .dataframe tbody tr th:only-of-type {\n",
       "        vertical-align: middle;\n",
       "    }\n",
       "\n",
       "    .dataframe tbody tr th {\n",
       "        vertical-align: top;\n",
       "    }\n",
       "\n",
       "    .dataframe thead th {\n",
       "        text-align: right;\n",
       "    }\n",
       "</style>\n",
       "<table border=\"1\" class=\"dataframe\">\n",
       "  <thead>\n",
       "    <tr style=\"text-align: right;\">\n",
       "      <th></th>\n",
       "      <th>shop_id</th>\n",
       "      <th>shop_city</th>\n",
       "      <th>shop_category</th>\n",
       "    </tr>\n",
       "  </thead>\n",
       "  <tbody>\n",
       "    <tr>\n",
       "      <th>0</th>\n",
       "      <td>0</td>\n",
       "      <td>29</td>\n",
       "      <td>0</td>\n",
       "    </tr>\n",
       "    <tr>\n",
       "      <th>1</th>\n",
       "      <td>1</td>\n",
       "      <td>29</td>\n",
       "      <td>4</td>\n",
       "    </tr>\n",
       "    <tr>\n",
       "      <th>2</th>\n",
       "      <td>2</td>\n",
       "      <td>0</td>\n",
       "      <td>4</td>\n",
       "    </tr>\n",
       "    <tr>\n",
       "      <th>3</th>\n",
       "      <td>3</td>\n",
       "      <td>1</td>\n",
       "      <td>2</td>\n",
       "    </tr>\n",
       "    <tr>\n",
       "      <th>4</th>\n",
       "      <td>4</td>\n",
       "      <td>2</td>\n",
       "      <td>4</td>\n",
       "    </tr>\n",
       "  </tbody>\n",
       "</table>\n",
       "</div>"
      ],
      "text/plain": [
       "   shop_id  shop_city  shop_category\n",
       "0        0         29              0\n",
       "1        1         29              4\n",
       "2        2          0              4\n",
       "3        3          1              2\n",
       "4        4          2              4"
      ]
     },
     "execution_count": 41,
     "metadata": {},
     "output_type": "execute_result"
    }
   ],
   "source": [
    "shops['shop_city'] = shops.city\n",
    "shops['shop_category'] = shops.category\n",
    "\n",
    "shops['shop_city'] = LabelEncoder().fit_transform(shops['shop_city'])\n",
    "shops['shop_category'] = LabelEncoder().fit_transform(shops['shop_category'])\n",
    "\n",
    "shops = shops[['shop_id','shop_city', 'shop_category']]\n",
    "shops.head()"
   ]
  },
  {
   "cell_type": "code",
   "execution_count": 42,
   "metadata": {},
   "outputs": [],
   "source": [
    "import re\n",
    "from collections import Counter\n",
    "from operator import itemgetter"
   ]
  },
  {
   "cell_type": "code",
   "execution_count": 43,
   "metadata": {},
   "outputs": [],
   "source": [
    "def name_correction(x):\n",
    "    x = x.lower()\n",
    "    x = re.sub(\"[']+\", '', x)\n",
    "    x = re.sub(\"[-]+\", ' ', x)\n",
    "    x = re.sub('[^A-Za-z0-9А-Яа-я]+', ' ', x)\n",
    "    x = x.replace('  ', ' ')\n",
    "    x = x.strip()\n",
    "    return x\n",
    "\n",
    "item['name_copy'] = item['item_name'].apply(lambda x: name_correction(x))"
   ]
  },
  {
   "cell_type": "code",
   "execution_count": 44,
   "metadata": {},
   "outputs": [],
   "source": [
    "item['name_copy'] = item.name_copy.str.replace('xbox360', 'xbox 360')\n",
    "item['name_copy'] = item.name_copy.str.replace('x360', 'xbox 360')\n",
    "item['name_copy'] = item.name_copy.str.replace('xone', 'xbox one')\n",
    "item['name_copy'] = item.name_copy.str.replace('xboxone', 'xbox one')"
   ]
  },
  {
   "cell_type": "markdown",
   "metadata": {},
   "source": [
    "Item name is an important feature. For example if Assasin's creed 1 is popular we can guess Assasin's creed 2 is also popular. One simple way to use name feature is extract part of them."
   ]
  },
  {
   "cell_type": "code",
   "execution_count": 45,
   "metadata": {},
   "outputs": [],
   "source": [
    "word_list = item['name_copy'].str.split(' ')\n",
    "item['name_1'] = word_list.str[0]\n",
    "item['name_2'] = word_list.str[0] + \" \" + word_list.str[1]\n",
    "item['name_3'] = word_list.str[0] + \" \" + word_list.str[1] + \" \" +word_list.str[2]\n",
    "item['name_4'] = word_list.str[0] + \" \" + word_list.str[1] + \" \" +word_list.str[2] + \" \" +word_list.str[3]\n",
    "item['name_5'] = word_list.str[0] + \" \" + word_list.str[1] + \" \" +word_list.str[2] + \" \" +word_list.str[3] + \" \" +word_list.str[4]"
   ]
  },
  {
   "cell_type": "code",
   "execution_count": 26,
   "metadata": {},
   "outputs": [
    {
     "data": {
      "text/html": [
       "<div>\n",
       "<style scoped>\n",
       "    .dataframe tbody tr th:only-of-type {\n",
       "        vertical-align: middle;\n",
       "    }\n",
       "\n",
       "    .dataframe tbody tr th {\n",
       "        vertical-align: top;\n",
       "    }\n",
       "\n",
       "    .dataframe thead th {\n",
       "        text-align: right;\n",
       "    }\n",
       "</style>\n",
       "<table border=\"1\" class=\"dataframe\">\n",
       "  <thead>\n",
       "    <tr style=\"text-align: right;\">\n",
       "      <th></th>\n",
       "      <th>item_name</th>\n",
       "      <th>item_id</th>\n",
       "      <th>item_category_id</th>\n",
       "      <th>name_copy</th>\n",
       "      <th>name_1</th>\n",
       "      <th>name_2</th>\n",
       "      <th>name_3</th>\n",
       "      <th>name_4</th>\n",
       "      <th>name_5</th>\n",
       "    </tr>\n",
       "  </thead>\n",
       "  <tbody>\n",
       "    <tr>\n",
       "      <th>0</th>\n",
       "      <td>! ВО ВЛАСТИ НАВАЖДЕНИЯ (ПЛАСТ.)         D</td>\n",
       "      <td>0</td>\n",
       "      <td>40</td>\n",
       "      <td>во власти наваждения пласт d</td>\n",
       "      <td>во</td>\n",
       "      <td>во власти</td>\n",
       "      <td>во власти наваждения</td>\n",
       "      <td>во власти наваждения пласт</td>\n",
       "      <td>во власти наваждения пласт d</td>\n",
       "    </tr>\n",
       "    <tr>\n",
       "      <th>1</th>\n",
       "      <td>!ABBYY FineReader 12 Professional Edition Full...</td>\n",
       "      <td>1</td>\n",
       "      <td>76</td>\n",
       "      <td>abbyy finereader 12 professional edition full ...</td>\n",
       "      <td>abbyy</td>\n",
       "      <td>abbyy finereader</td>\n",
       "      <td>abbyy finereader 12</td>\n",
       "      <td>abbyy finereader 12 professional</td>\n",
       "      <td>abbyy finereader 12 professional edition</td>\n",
       "    </tr>\n",
       "    <tr>\n",
       "      <th>2</th>\n",
       "      <td>***В ЛУЧАХ СЛАВЫ   (UNV)                    D</td>\n",
       "      <td>2</td>\n",
       "      <td>40</td>\n",
       "      <td>в лучах славы unv d</td>\n",
       "      <td>в</td>\n",
       "      <td>в лучах</td>\n",
       "      <td>в лучах славы</td>\n",
       "      <td>в лучах славы unv</td>\n",
       "      <td>в лучах славы unv d</td>\n",
       "    </tr>\n",
       "    <tr>\n",
       "      <th>3</th>\n",
       "      <td>***ГОЛУБАЯ ВОЛНА  (Univ)                      D</td>\n",
       "      <td>3</td>\n",
       "      <td>40</td>\n",
       "      <td>голубая волна univ d</td>\n",
       "      <td>голубая</td>\n",
       "      <td>голубая волна</td>\n",
       "      <td>голубая волна univ</td>\n",
       "      <td>голубая волна univ d</td>\n",
       "      <td>NaN</td>\n",
       "    </tr>\n",
       "    <tr>\n",
       "      <th>4</th>\n",
       "      <td>***КОРОБКА (СТЕКЛО)                       D</td>\n",
       "      <td>4</td>\n",
       "      <td>40</td>\n",
       "      <td>коробка стекло d</td>\n",
       "      <td>коробка</td>\n",
       "      <td>коробка стекло</td>\n",
       "      <td>коробка стекло d</td>\n",
       "      <td>NaN</td>\n",
       "      <td>NaN</td>\n",
       "    </tr>\n",
       "  </tbody>\n",
       "</table>\n",
       "</div>"
      ],
      "text/plain": [
       "                                           item_name  item_id  \\\n",
       "0          ! ВО ВЛАСТИ НАВАЖДЕНИЯ (ПЛАСТ.)         D        0   \n",
       "1  !ABBYY FineReader 12 Professional Edition Full...        1   \n",
       "2      ***В ЛУЧАХ СЛАВЫ   (UNV)                    D        2   \n",
       "3    ***ГОЛУБАЯ ВОЛНА  (Univ)                      D        3   \n",
       "4        ***КОРОБКА (СТЕКЛО)                       D        4   \n",
       "\n",
       "   item_category_id                                          name_copy  \\\n",
       "0                40                       во власти наваждения пласт d   \n",
       "1                76  abbyy finereader 12 professional edition full ...   \n",
       "2                40                                в лучах славы unv d   \n",
       "3                40                               голубая волна univ d   \n",
       "4                40                                   коробка стекло d   \n",
       "\n",
       "    name_1            name_2                name_3  \\\n",
       "0       во         во власти  во власти наваждения   \n",
       "1    abbyy  abbyy finereader   abbyy finereader 12   \n",
       "2        в           в лучах         в лучах славы   \n",
       "3  голубая     голубая волна    голубая волна univ   \n",
       "4  коробка    коробка стекло      коробка стекло d   \n",
       "\n",
       "                             name_4                                    name_5  \n",
       "0        во власти наваждения пласт              во власти наваждения пласт d  \n",
       "1  abbyy finereader 12 professional  abbyy finereader 12 professional edition  \n",
       "2                 в лучах славы unv                       в лучах славы unv d  \n",
       "3              голубая волна univ d                                       NaN  \n",
       "4                               NaN                                       NaN  "
      ]
     },
     "execution_count": 26,
     "metadata": {},
     "output_type": "execute_result"
    }
   ],
   "source": [
    "item.head()"
   ]
  },
  {
   "cell_type": "code",
   "execution_count": 46,
   "metadata": {},
   "outputs": [],
   "source": [
    "item.loc[item['name_2'].isnull(),'name_2'] = item.loc[item['name_2'].isnull(),'name_1']\n",
    "item.loc[item['name_3'].isnull(),'name_3'] = item.loc[item['name_3'].isnull(),'name_2']\n",
    "item.loc[item['name_4'].isnull(),'name_4'] = item.loc[item['name_4'].isnull(),'name_3']\n",
    "item.loc[item['name_5'].isnull(),'name_5'] = item.loc[item['name_5'].isnull(),'name_4']"
   ]
  },
  {
   "cell_type": "code",
   "execution_count": 28,
   "metadata": {},
   "outputs": [
    {
     "data": {
      "text/html": [
       "<div>\n",
       "<style scoped>\n",
       "    .dataframe tbody tr th:only-of-type {\n",
       "        vertical-align: middle;\n",
       "    }\n",
       "\n",
       "    .dataframe tbody tr th {\n",
       "        vertical-align: top;\n",
       "    }\n",
       "\n",
       "    .dataframe thead th {\n",
       "        text-align: right;\n",
       "    }\n",
       "</style>\n",
       "<table border=\"1\" class=\"dataframe\">\n",
       "  <thead>\n",
       "    <tr style=\"text-align: right;\">\n",
       "      <th></th>\n",
       "      <th>item_name</th>\n",
       "      <th>item_id</th>\n",
       "      <th>item_category_id</th>\n",
       "      <th>name_copy</th>\n",
       "      <th>name_1</th>\n",
       "      <th>name_2</th>\n",
       "      <th>name_3</th>\n",
       "      <th>name_4</th>\n",
       "      <th>name_5</th>\n",
       "    </tr>\n",
       "  </thead>\n",
       "  <tbody>\n",
       "    <tr>\n",
       "      <th>0</th>\n",
       "      <td>! ВО ВЛАСТИ НАВАЖДЕНИЯ (ПЛАСТ.)         D</td>\n",
       "      <td>0</td>\n",
       "      <td>40</td>\n",
       "      <td>во власти наваждения пласт d</td>\n",
       "      <td>во</td>\n",
       "      <td>во власти</td>\n",
       "      <td>во власти наваждения</td>\n",
       "      <td>во власти наваждения пласт</td>\n",
       "      <td>во власти наваждения пласт d</td>\n",
       "    </tr>\n",
       "    <tr>\n",
       "      <th>1</th>\n",
       "      <td>!ABBYY FineReader 12 Professional Edition Full...</td>\n",
       "      <td>1</td>\n",
       "      <td>76</td>\n",
       "      <td>abbyy finereader 12 professional edition full ...</td>\n",
       "      <td>abbyy</td>\n",
       "      <td>abbyy finereader</td>\n",
       "      <td>abbyy finereader 12</td>\n",
       "      <td>abbyy finereader 12 professional</td>\n",
       "      <td>abbyy finereader 12 professional edition</td>\n",
       "    </tr>\n",
       "    <tr>\n",
       "      <th>2</th>\n",
       "      <td>***В ЛУЧАХ СЛАВЫ   (UNV)                    D</td>\n",
       "      <td>2</td>\n",
       "      <td>40</td>\n",
       "      <td>в лучах славы unv d</td>\n",
       "      <td>в</td>\n",
       "      <td>в лучах</td>\n",
       "      <td>в лучах славы</td>\n",
       "      <td>в лучах славы unv</td>\n",
       "      <td>в лучах славы unv d</td>\n",
       "    </tr>\n",
       "    <tr>\n",
       "      <th>3</th>\n",
       "      <td>***ГОЛУБАЯ ВОЛНА  (Univ)                      D</td>\n",
       "      <td>3</td>\n",
       "      <td>40</td>\n",
       "      <td>голубая волна univ d</td>\n",
       "      <td>голубая</td>\n",
       "      <td>голубая волна</td>\n",
       "      <td>голубая волна univ</td>\n",
       "      <td>голубая волна univ d</td>\n",
       "      <td>голубая волна univ d</td>\n",
       "    </tr>\n",
       "    <tr>\n",
       "      <th>4</th>\n",
       "      <td>***КОРОБКА (СТЕКЛО)                       D</td>\n",
       "      <td>4</td>\n",
       "      <td>40</td>\n",
       "      <td>коробка стекло d</td>\n",
       "      <td>коробка</td>\n",
       "      <td>коробка стекло</td>\n",
       "      <td>коробка стекло d</td>\n",
       "      <td>коробка стекло d</td>\n",
       "      <td>коробка стекло d</td>\n",
       "    </tr>\n",
       "  </tbody>\n",
       "</table>\n",
       "</div>"
      ],
      "text/plain": [
       "                                           item_name  item_id  \\\n",
       "0          ! ВО ВЛАСТИ НАВАЖДЕНИЯ (ПЛАСТ.)         D        0   \n",
       "1  !ABBYY FineReader 12 Professional Edition Full...        1   \n",
       "2      ***В ЛУЧАХ СЛАВЫ   (UNV)                    D        2   \n",
       "3    ***ГОЛУБАЯ ВОЛНА  (Univ)                      D        3   \n",
       "4        ***КОРОБКА (СТЕКЛО)                       D        4   \n",
       "\n",
       "   item_category_id                                          name_copy  \\\n",
       "0                40                       во власти наваждения пласт d   \n",
       "1                76  abbyy finereader 12 professional edition full ...   \n",
       "2                40                                в лучах славы unv d   \n",
       "3                40                               голубая волна univ d   \n",
       "4                40                                   коробка стекло d   \n",
       "\n",
       "    name_1            name_2                name_3  \\\n",
       "0       во         во власти  во власти наваждения   \n",
       "1    abbyy  abbyy finereader   abbyy finereader 12   \n",
       "2        в           в лучах         в лучах славы   \n",
       "3  голубая     голубая волна    голубая волна univ   \n",
       "4  коробка    коробка стекло      коробка стекло d   \n",
       "\n",
       "                             name_4                                    name_5  \n",
       "0        во власти наваждения пласт              во власти наваждения пласт d  \n",
       "1  abbyy finereader 12 professional  abbyy finereader 12 professional edition  \n",
       "2                 в лучах славы unv                       в лучах славы unv d  \n",
       "3              голубая волна univ d                      голубая волна univ d  \n",
       "4                  коробка стекло d                          коробка стекло d  "
      ]
     },
     "execution_count": 28,
     "metadata": {},
     "output_type": "execute_result"
    }
   ],
   "source": [
    "item.head()"
   ]
  },
  {
   "cell_type": "code",
   "execution_count": 47,
   "metadata": {},
   "outputs": [],
   "source": [
    "item['name_1'] = item['name_1'].astype('str')\n",
    "item['name_2'] = item['name_2'].astype('str')\n",
    "item['name_3'] = item['name_3'].astype('str')\n",
    "item['name_4'] = item['name_4'].astype('str')\n",
    "item['name_5'] = item['name_5'].astype('str')"
   ]
  },
  {
   "cell_type": "markdown",
   "metadata": {},
   "source": [
    "There are some keywords repeatily showing up in the item names. They can be used as features"
   ]
  },
  {
   "cell_type": "code",
   "execution_count": 48,
   "metadata": {},
   "outputs": [],
   "source": [
    "item['language'] = -1\n",
    "item.loc[item['name_copy'].str.contains('русс'),'language'] = 0\n",
    "item.loc[item['name_copy'].str.contains('англий'), 'language']=1\n",
    "item['language'] = item['language'].astype(np.int8)"
   ]
  },
  {
   "cell_type": "code",
   "execution_count": 49,
   "metadata": {},
   "outputs": [],
   "source": [
    "item['isbd'] = 0\n",
    "item.loc[item['name_copy'].str.contains('bd'),'isbd'] = 1\n",
    "item['isрегион'] = 0\n",
    "item.loc[item['name_copy'].str.contains('регион'),'isрегион'] = 1\n",
    "item['isjewel'] = 0\n",
    "item.loc[item['name_copy'].str.contains('jewel'),'isjewel'] = 1\n",
    "item['isdigital'] = 0\n",
    "item.loc[(item['name_copy'].str.contains('digi'))|(item['name_copy'].str.contains('цифро')),'isdigital']=1"
   ]
  },
  {
   "cell_type": "code",
   "execution_count": 50,
   "metadata": {},
   "outputs": [],
   "source": [
    "item['console'] = -1\n",
    "consoles = ['pc', 'xbox', 'xbox 360', 'xbox one', 'ps', 'ps3', 'ps4']\n",
    "count = 0\n",
    "for console in consoles:\n",
    "    item.loc[item['name_copy'].str.contains(console),'console'] = count\n",
    "    count = count + 1"
   ]
  },
  {
   "cell_type": "code",
   "execution_count": 51,
   "metadata": {},
   "outputs": [],
   "source": [
    "formats = ['cd', 'dvd', 'mp3', 'lp']\n",
    "for format in formats:\n",
    "    feature = f'has_{format}'\n",
    "    item[feature] = 0\n",
    "    item.loc[item['name_copy'].str.contains(format),feature]=1"
   ]
  },
  {
   "cell_type": "markdown",
   "metadata": {},
   "source": [
    "Version is a feature shared among different items. Basically it's determined by price"
   ]
  },
  {
   "cell_type": "code",
   "execution_count": 52,
   "metadata": {},
   "outputs": [],
   "source": [
    "item['version'] = -1"
   ]
  },
  {
   "cell_type": "code",
   "execution_count": 53,
   "metadata": {},
   "outputs": [],
   "source": [
    "#'game version'\n",
    "versions = []\n",
    "versions.append(['basic','essential','standard'])\n",
    "versions.append(['classics','exclusive','special','season','специальное'])\n",
    "versions.append(['deluxe', 'limited'])\n",
    "versions.append(['gold edition','premium'])\n",
    "versions.append(['ultimate edition'])\n",
    "versions.append(['collector', 'legendary', 'коллекционное'])\n",
    "versions.append(['допол','add','dlc', 'pack', 'расширенное'])\n",
    "versions.append(['пред']) # pre-order\n",
    "\n",
    "for i in range(8):\n",
    "    item.loc[(item['item_category_id']>=18) \n",
    "             & (item['item_category_id']<32) \n",
    "             & (item['name_copy'].str.contains('|'.join(versions[i])))\n",
    "             & (item['version']==-1), 'version'] = i\n",
    "                                                                                        "
   ]
  },
  {
   "cell_type": "code",
   "execution_count": 54,
   "metadata": {},
   "outputs": [],
   "source": [
    "item.loc[item['version']==-1, 'version'] = 0"
   ]
  },
  {
   "cell_type": "code",
   "execution_count": 33,
   "metadata": {},
   "outputs": [
    {
     "data": {
      "text/html": [
       "<div>\n",
       "<style scoped>\n",
       "    .dataframe tbody tr th:only-of-type {\n",
       "        vertical-align: middle;\n",
       "    }\n",
       "\n",
       "    .dataframe tbody tr th {\n",
       "        vertical-align: top;\n",
       "    }\n",
       "\n",
       "    .dataframe thead th {\n",
       "        text-align: right;\n",
       "    }\n",
       "</style>\n",
       "<table border=\"1\" class=\"dataframe\">\n",
       "  <thead>\n",
       "    <tr style=\"text-align: right;\">\n",
       "      <th></th>\n",
       "      <th>item_name</th>\n",
       "      <th>item_id</th>\n",
       "      <th>item_category_id</th>\n",
       "      <th>name_copy</th>\n",
       "      <th>name_1</th>\n",
       "      <th>name_2</th>\n",
       "      <th>name_3</th>\n",
       "      <th>name_4</th>\n",
       "      <th>name_5</th>\n",
       "      <th>language</th>\n",
       "      <th>isbd</th>\n",
       "      <th>isрегион</th>\n",
       "      <th>isjewel</th>\n",
       "      <th>isdigital</th>\n",
       "      <th>console</th>\n",
       "      <th>has_cd</th>\n",
       "      <th>has_dvd</th>\n",
       "      <th>has_mp3</th>\n",
       "      <th>has_lp</th>\n",
       "      <th>version</th>\n",
       "    </tr>\n",
       "  </thead>\n",
       "  <tbody>\n",
       "    <tr>\n",
       "      <th>0</th>\n",
       "      <td>! ВО ВЛАСТИ НАВАЖДЕНИЯ (ПЛАСТ.)         D</td>\n",
       "      <td>0</td>\n",
       "      <td>40</td>\n",
       "      <td>во власти наваждения пласт d</td>\n",
       "      <td>во</td>\n",
       "      <td>во власти</td>\n",
       "      <td>во власти наваждения</td>\n",
       "      <td>во власти наваждения пласт</td>\n",
       "      <td>во власти наваждения пласт d</td>\n",
       "      <td>-1</td>\n",
       "      <td>0</td>\n",
       "      <td>0</td>\n",
       "      <td>0</td>\n",
       "      <td>0</td>\n",
       "      <td>-1</td>\n",
       "      <td>0</td>\n",
       "      <td>0</td>\n",
       "      <td>0</td>\n",
       "      <td>0</td>\n",
       "      <td>-1</td>\n",
       "    </tr>\n",
       "    <tr>\n",
       "      <th>1</th>\n",
       "      <td>!ABBYY FineReader 12 Professional Edition Full...</td>\n",
       "      <td>1</td>\n",
       "      <td>76</td>\n",
       "      <td>abbyy finereader 12 professional edition full ...</td>\n",
       "      <td>abbyy</td>\n",
       "      <td>abbyy finereader</td>\n",
       "      <td>abbyy finereader 12</td>\n",
       "      <td>abbyy finereader 12 professional</td>\n",
       "      <td>abbyy finereader 12 professional edition</td>\n",
       "      <td>-1</td>\n",
       "      <td>0</td>\n",
       "      <td>0</td>\n",
       "      <td>0</td>\n",
       "      <td>1</td>\n",
       "      <td>0</td>\n",
       "      <td>0</td>\n",
       "      <td>0</td>\n",
       "      <td>0</td>\n",
       "      <td>0</td>\n",
       "      <td>-1</td>\n",
       "    </tr>\n",
       "    <tr>\n",
       "      <th>2</th>\n",
       "      <td>***В ЛУЧАХ СЛАВЫ   (UNV)                    D</td>\n",
       "      <td>2</td>\n",
       "      <td>40</td>\n",
       "      <td>в лучах славы unv d</td>\n",
       "      <td>в</td>\n",
       "      <td>в лучах</td>\n",
       "      <td>в лучах славы</td>\n",
       "      <td>в лучах славы unv</td>\n",
       "      <td>в лучах славы unv d</td>\n",
       "      <td>-1</td>\n",
       "      <td>0</td>\n",
       "      <td>0</td>\n",
       "      <td>0</td>\n",
       "      <td>0</td>\n",
       "      <td>-1</td>\n",
       "      <td>0</td>\n",
       "      <td>0</td>\n",
       "      <td>0</td>\n",
       "      <td>0</td>\n",
       "      <td>-1</td>\n",
       "    </tr>\n",
       "    <tr>\n",
       "      <th>3</th>\n",
       "      <td>***ГОЛУБАЯ ВОЛНА  (Univ)                      D</td>\n",
       "      <td>3</td>\n",
       "      <td>40</td>\n",
       "      <td>голубая волна univ d</td>\n",
       "      <td>голубая</td>\n",
       "      <td>голубая волна</td>\n",
       "      <td>голубая волна univ</td>\n",
       "      <td>голубая волна univ d</td>\n",
       "      <td>nan</td>\n",
       "      <td>-1</td>\n",
       "      <td>0</td>\n",
       "      <td>0</td>\n",
       "      <td>0</td>\n",
       "      <td>0</td>\n",
       "      <td>-1</td>\n",
       "      <td>0</td>\n",
       "      <td>0</td>\n",
       "      <td>0</td>\n",
       "      <td>0</td>\n",
       "      <td>-1</td>\n",
       "    </tr>\n",
       "    <tr>\n",
       "      <th>4</th>\n",
       "      <td>***КОРОБКА (СТЕКЛО)                       D</td>\n",
       "      <td>4</td>\n",
       "      <td>40</td>\n",
       "      <td>коробка стекло d</td>\n",
       "      <td>коробка</td>\n",
       "      <td>коробка стекло</td>\n",
       "      <td>коробка стекло d</td>\n",
       "      <td>nan</td>\n",
       "      <td>nan</td>\n",
       "      <td>-1</td>\n",
       "      <td>0</td>\n",
       "      <td>0</td>\n",
       "      <td>0</td>\n",
       "      <td>0</td>\n",
       "      <td>-1</td>\n",
       "      <td>0</td>\n",
       "      <td>0</td>\n",
       "      <td>0</td>\n",
       "      <td>0</td>\n",
       "      <td>-1</td>\n",
       "    </tr>\n",
       "  </tbody>\n",
       "</table>\n",
       "</div>"
      ],
      "text/plain": [
       "                                           item_name  item_id  \\\n",
       "0          ! ВО ВЛАСТИ НАВАЖДЕНИЯ (ПЛАСТ.)         D        0   \n",
       "1  !ABBYY FineReader 12 Professional Edition Full...        1   \n",
       "2      ***В ЛУЧАХ СЛАВЫ   (UNV)                    D        2   \n",
       "3    ***ГОЛУБАЯ ВОЛНА  (Univ)                      D        3   \n",
       "4        ***КОРОБКА (СТЕКЛО)                       D        4   \n",
       "\n",
       "   item_category_id                                          name_copy  \\\n",
       "0                40                       во власти наваждения пласт d   \n",
       "1                76  abbyy finereader 12 professional edition full ...   \n",
       "2                40                                в лучах славы unv d   \n",
       "3                40                               голубая волна univ d   \n",
       "4                40                                   коробка стекло d   \n",
       "\n",
       "    name_1            name_2                name_3  \\\n",
       "0       во         во власти  во власти наваждения   \n",
       "1    abbyy  abbyy finereader   abbyy finereader 12   \n",
       "2        в           в лучах         в лучах славы   \n",
       "3  голубая     голубая волна    голубая волна univ   \n",
       "4  коробка    коробка стекло      коробка стекло d   \n",
       "\n",
       "                             name_4                                    name_5  \\\n",
       "0        во власти наваждения пласт              во власти наваждения пласт d   \n",
       "1  abbyy finereader 12 professional  abbyy finereader 12 professional edition   \n",
       "2                 в лучах славы unv                       в лучах славы unv d   \n",
       "3              голубая волна univ d                                       nan   \n",
       "4                               nan                                       nan   \n",
       "\n",
       "   language  isbd  isрегион  isjewel  isdigital  console  has_cd  has_dvd  \\\n",
       "0        -1     0         0        0          0       -1       0        0   \n",
       "1        -1     0         0        0          1        0       0        0   \n",
       "2        -1     0         0        0          0       -1       0        0   \n",
       "3        -1     0         0        0          0       -1       0        0   \n",
       "4        -1     0         0        0          0       -1       0        0   \n",
       "\n",
       "   has_mp3  has_lp  version  \n",
       "0        0       0       -1  \n",
       "1        0       0       -1  \n",
       "2        0       0       -1  \n",
       "3        0       0       -1  \n",
       "4        0       0       -1  "
      ]
     },
     "execution_count": 33,
     "metadata": {},
     "output_type": "execute_result"
    }
   ],
   "source": [
    "item.head()"
   ]
  },
  {
   "cell_type": "code",
   "execution_count": 35,
   "metadata": {},
   "outputs": [
    {
     "data": {
      "text/html": [
       "<div>\n",
       "<style scoped>\n",
       "    .dataframe tbody tr th:only-of-type {\n",
       "        vertical-align: middle;\n",
       "    }\n",
       "\n",
       "    .dataframe tbody tr th {\n",
       "        vertical-align: top;\n",
       "    }\n",
       "\n",
       "    .dataframe thead th {\n",
       "        text-align: right;\n",
       "    }\n",
       "</style>\n",
       "<table border=\"1\" class=\"dataframe\">\n",
       "  <thead>\n",
       "    <tr style=\"text-align: right;\">\n",
       "      <th></th>\n",
       "      <th>item_id</th>\n",
       "      <th>item_category_id</th>\n",
       "      <th>name_1</th>\n",
       "      <th>name_2</th>\n",
       "      <th>name_3</th>\n",
       "      <th>name_4</th>\n",
       "      <th>name_5</th>\n",
       "      <th>language</th>\n",
       "      <th>isbd</th>\n",
       "      <th>isрегион</th>\n",
       "      <th>isjewel</th>\n",
       "      <th>isdigital</th>\n",
       "      <th>console</th>\n",
       "      <th>has_cd</th>\n",
       "      <th>has_dvd</th>\n",
       "      <th>has_mp3</th>\n",
       "      <th>has_lp</th>\n",
       "      <th>version</th>\n",
       "    </tr>\n",
       "  </thead>\n",
       "  <tbody>\n",
       "    <tr>\n",
       "      <th>0</th>\n",
       "      <td>0</td>\n",
       "      <td>40</td>\n",
       "      <td>1577</td>\n",
       "      <td>3228</td>\n",
       "      <td>5504</td>\n",
       "      <td>7006</td>\n",
       "      <td>8186</td>\n",
       "      <td>-1</td>\n",
       "      <td>0</td>\n",
       "      <td>0</td>\n",
       "      <td>0</td>\n",
       "      <td>0</td>\n",
       "      <td>-1</td>\n",
       "      <td>0</td>\n",
       "      <td>0</td>\n",
       "      <td>0</td>\n",
       "      <td>0</td>\n",
       "      <td>-1</td>\n",
       "    </tr>\n",
       "    <tr>\n",
       "      <th>1</th>\n",
       "      <td>1</td>\n",
       "      <td>76</td>\n",
       "      <td>53</td>\n",
       "      <td>157</td>\n",
       "      <td>439</td>\n",
       "      <td>678</td>\n",
       "      <td>826</td>\n",
       "      <td>-1</td>\n",
       "      <td>0</td>\n",
       "      <td>0</td>\n",
       "      <td>0</td>\n",
       "      <td>1</td>\n",
       "      <td>0</td>\n",
       "      <td>0</td>\n",
       "      <td>0</td>\n",
       "      <td>0</td>\n",
       "      <td>0</td>\n",
       "      <td>-1</td>\n",
       "    </tr>\n",
       "    <tr>\n",
       "      <th>2</th>\n",
       "      <td>2</td>\n",
       "      <td>40</td>\n",
       "      <td>1477</td>\n",
       "      <td>2979</td>\n",
       "      <td>5163</td>\n",
       "      <td>6598</td>\n",
       "      <td>7723</td>\n",
       "      <td>-1</td>\n",
       "      <td>0</td>\n",
       "      <td>0</td>\n",
       "      <td>0</td>\n",
       "      <td>0</td>\n",
       "      <td>-1</td>\n",
       "      <td>0</td>\n",
       "      <td>0</td>\n",
       "      <td>0</td>\n",
       "      <td>0</td>\n",
       "      <td>-1</td>\n",
       "    </tr>\n",
       "    <tr>\n",
       "      <th>3</th>\n",
       "      <td>3</td>\n",
       "      <td>40</td>\n",
       "      <td>1730</td>\n",
       "      <td>3548</td>\n",
       "      <td>5951</td>\n",
       "      <td>7508</td>\n",
       "      <td>8731</td>\n",
       "      <td>-1</td>\n",
       "      <td>0</td>\n",
       "      <td>0</td>\n",
       "      <td>0</td>\n",
       "      <td>0</td>\n",
       "      <td>-1</td>\n",
       "      <td>0</td>\n",
       "      <td>0</td>\n",
       "      <td>0</td>\n",
       "      <td>0</td>\n",
       "      <td>-1</td>\n",
       "    </tr>\n",
       "    <tr>\n",
       "      <th>4</th>\n",
       "      <td>4</td>\n",
       "      <td>40</td>\n",
       "      <td>2367</td>\n",
       "      <td>4906</td>\n",
       "      <td>7762</td>\n",
       "      <td>9629</td>\n",
       "      <td>11058</td>\n",
       "      <td>-1</td>\n",
       "      <td>0</td>\n",
       "      <td>0</td>\n",
       "      <td>0</td>\n",
       "      <td>0</td>\n",
       "      <td>-1</td>\n",
       "      <td>0</td>\n",
       "      <td>0</td>\n",
       "      <td>0</td>\n",
       "      <td>0</td>\n",
       "      <td>-1</td>\n",
       "    </tr>\n",
       "  </tbody>\n",
       "</table>\n",
       "</div>"
      ],
      "text/plain": [
       "   item_id  item_category_id  name_1  name_2  name_3  name_4  name_5  \\\n",
       "0        0                40    1577    3228    5504    7006    8186   \n",
       "1        1                76      53     157     439     678     826   \n",
       "2        2                40    1477    2979    5163    6598    7723   \n",
       "3        3                40    1730    3548    5951    7508    8731   \n",
       "4        4                40    2367    4906    7762    9629   11058   \n",
       "\n",
       "   language  isbd  isрегион  isjewel  isdigital  console  has_cd  has_dvd  \\\n",
       "0        -1     0         0        0          0       -1       0        0   \n",
       "1        -1     0         0        0          1        0       0        0   \n",
       "2        -1     0         0        0          0       -1       0        0   \n",
       "3        -1     0         0        0          0       -1       0        0   \n",
       "4        -1     0         0        0          0       -1       0        0   \n",
       "\n",
       "   has_mp3  has_lp  version  \n",
       "0        0       0       -1  \n",
       "1        0       0       -1  \n",
       "2        0       0       -1  \n",
       "3        0       0       -1  \n",
       "4        0       0       -1  "
      ]
     },
     "execution_count": 35,
     "metadata": {},
     "output_type": "execute_result"
    }
   ],
   "source": [
    "item['name_1'] = LabelEncoder().fit_transform(item['name_1'])\n",
    "item['name_2'] = LabelEncoder().fit_transform(item['name_2'])\n",
    "item['name_3'] = LabelEncoder().fit_transform(item['name_3'])\n",
    "item['name_4'] = LabelEncoder().fit_transform(item['name_4'])\n",
    "item['name_5'] = LabelEncoder().fit_transform(item['name_5'])\n",
    "item.drop(['item_name', 'name_copy'], axis=1, inplace=True)\n",
    "item.head()"
   ]
  },
  {
   "cell_type": "code",
   "execution_count": 56,
   "metadata": {},
   "outputs": [
    {
     "name": "stdout",
     "output_type": "stream",
     "text": [
      "           item_category_id\n",
      "type_code                  \n",
      "etc                     236\n",
      "Игры                    343\n",
      "Карты                   170\n",
      "Кино                    195\n",
      "Книги                   624\n",
      "Музыка                  345\n",
      "Подарки                 798\n",
      "Программы               453\n",
      "Служебные               159\n",
      "Чистые                  163\n"
     ]
    }
   ],
   "source": [
    "item_cat['type_code'] = item_cat.item_category_name.apply(lambda x: x.split(' ')[0]).astype(str)\n",
    "item_cat.loc[(item_cat.type_code == 'Игровые') | (item_cat.type_code == 'Аксессуары'), 'category'] = 'Игры'\n",
    "item_cat.loc[item_cat.type_code == 'PC', 'category'] = 'Музыка'\n",
    "\n",
    "category = ['Игры', 'Карты', 'Кино', 'Книги','Музыка', 'Подарки', 'Программы', 'Служебные', 'Чистые']\n",
    "\n",
    "item_cat['type_code'] = item_cat.type_code.apply(lambda x: x if (x in category) else 'etc')\n",
    "\n",
    "print(item_cat.groupby(['type_code']).sum())\n",
    "\n",
    "\n",
    "item_cat['split'] = item_cat.item_category_name.apply(lambda x: x.split('-'))\n",
    "item_cat['subtype'] = item_cat['split'].map(lambda x: x[1].strip() if len(x) > 1 else x[0].strip())"
   ]
  },
  {
   "cell_type": "code",
   "execution_count": null,
   "metadata": {},
   "outputs": [],
   "source": [
    "item_cat['type_code'] = LabelEncoder().fit_transform(item_cat['type_code'])\n",
    "item_cat['subtype_code'] = LabelEncoder().fit_transform(item_cat['subtype'])\n",
    "item_cat = item_cat[['item_category_id','type_code', 'subtype_code']]"
   ]
  },
  {
   "cell_type": "code",
   "execution_count": 57,
   "metadata": {},
   "outputs": [],
   "source": [
    "l_cat = list(item_cat.item_category_id)"
   ]
  },
  {
   "cell_type": "code",
   "execution_count": 58,
   "metadata": {},
   "outputs": [],
   "source": [
    "for ind in range(0,1):\n",
    "\n",
    "     l_cat[ind] = 'PC Headsets / Headphones'\n",
    "\n",
    "for ind in range(1,8):\n",
    "\n",
    "     l_cat[ind] = 'Access'\n",
    "\n",
    "l_cat[8] = 'Tickets (figure)'\n",
    "\n",
    "l_cat[9] = 'Delivery of goods'\n",
    "\n",
    "for ind in range(10,18):\n",
    "\n",
    "    l_cat[ind] = 'Consoles'\n",
    "\n",
    "for ind in range(18,25):\n",
    "\n",
    "    l_cat[ind] = 'Consoles Games'\n",
    "\n",
    "l_cat[25] = 'Accessories for games'\n",
    "\n",
    "for ind in range(26,28):\n",
    "\n",
    "    l_cat[ind] = 'phone games'\n",
    "\n",
    "for ind in range(28,32):\n",
    "\n",
    "    l_cat[ind] = 'CD games'\n",
    "\n",
    "for ind in range(32,37):\n",
    "\n",
    "    l_cat[ind] = 'Card'\n",
    "\n",
    "for ind in range(37,43):\n",
    "\n",
    "    l_cat[ind] = 'Movie'\n",
    "\n",
    "for ind in range(43,55):\n",
    "\n",
    "    l_cat[ind] = 'Books'\n",
    "\n",
    "for ind in range(55,61):\n",
    "\n",
    "    l_cat[ind] = 'Music'\n",
    "\n",
    "for ind in range(61,73):\n",
    "\n",
    "    l_cat[ind] = 'Gifts'\n",
    "\n",
    "for ind in range(73,79):\n",
    "\n",
    "    l_cat[ind] = 'Soft'\n",
    "\n",
    "for ind in range(79,81):\n",
    "\n",
    "    l_cat[ind] = 'Office'\n",
    "\n",
    "for ind in range(81,83):\n",
    "\n",
    "    l_cat[ind] = 'Clean'\n",
    "\n",
    "l_cat[83] = 'Elements of a food'"
   ]
  },
  {
   "cell_type": "code",
   "execution_count": 39,
   "metadata": {},
   "outputs": [],
   "source": [
    "from sklearn import preprocessing\n",
    "\n",
    "lb = preprocessing.LabelEncoder()\n",
    "item_cat['item_cat_id_fix'] = lb.fit_transform(l_cat)"
   ]
  },
  {
   "cell_type": "code",
   "execution_count": 104,
   "metadata": {},
   "outputs": [],
   "source": [
    "sales_train['revenue'] = sales_train['item_price'] *  sales_train['item_cnt_day']"
   ]
  },
  {
   "cell_type": "code",
   "execution_count": 105,
   "metadata": {},
   "outputs": [
    {
     "data": {
      "text/plain": [
       "148"
      ]
     },
     "execution_count": 105,
     "metadata": {},
     "output_type": "execute_result"
    }
   ],
   "source": [
    "gc.collect()"
   ]
  },
  {
   "cell_type": "code",
   "execution_count": 106,
   "metadata": {},
   "outputs": [
    {
     "name": "stdout",
     "output_type": "stream",
     "text": [
      "Mem. usage decreased to 67.20 Mb (57.1% reduction)\n"
     ]
    }
   ],
   "source": [
    "sales_train = reduce_mem_usage(sales_train)"
   ]
  },
  {
   "cell_type": "markdown",
   "metadata": {},
   "source": [
    "# Categorize test and validation data set"
   ]
  },
  {
   "cell_type": "code",
   "execution_count": 107,
   "metadata": {},
   "outputs": [],
   "source": [
    "cols = ['date_block_num','shop_id','item_id']"
   ]
  },
  {
   "cell_type": "code",
   "execution_count": 108,
   "metadata": {},
   "outputs": [],
   "source": [
    "test['date_block_num']= 34\n",
    "test['date_block_num'] = test['date_block_num'].astype(np.int8)\n",
    "test['shop_id'] = test['shop_id'].astype(np.int8)\n",
    "test['item_id'] = test['item_id'].astype(np.int16)\n",
    "test = test[cols]"
   ]
  },
  {
   "cell_type": "code",
   "execution_count": 109,
   "metadata": {},
   "outputs": [],
   "source": [
    "sales_group = sales_train.groupby(['date_block_num', 'shop_id', 'item_id']).agg({\n",
    "                                    'item_cnt_day': ['sum'],\n",
    "                                    'revenue': ['sum']\n",
    "})"
   ]
  },
  {
   "cell_type": "code",
   "execution_count": 110,
   "metadata": {},
   "outputs": [],
   "source": [
    "sales_group.columns = ['_'.join(col).strip() for col in sales_group.columns.values]\n",
    "sales_group.rename(columns = {\n",
    "                            'revenue_sum': 'revenue_month',\n",
    "                            'item_cnt_day_sum': 'item_cnt_month',\n",
    "                            },\n",
    "                 inplace = True) \n",
    "sales_group.reset_index(inplace=True)"
   ]
  },
  {
   "cell_type": "code",
   "execution_count": 111,
   "metadata": {},
   "outputs": [],
   "source": [
    "cols = [col for col in item.columns.values if col not in ['item_name', 'name_copy']]\n",
    "sales_group = pd.merge(sales_group, item[cols], on = ['item_id'], how = 'left')"
   ]
  },
  {
   "cell_type": "code",
   "execution_count": 112,
   "metadata": {},
   "outputs": [
    {
     "data": {
      "text/html": [
       "<div>\n",
       "<style scoped>\n",
       "    .dataframe tbody tr th:only-of-type {\n",
       "        vertical-align: middle;\n",
       "    }\n",
       "\n",
       "    .dataframe tbody tr th {\n",
       "        vertical-align: top;\n",
       "    }\n",
       "\n",
       "    .dataframe thead th {\n",
       "        text-align: right;\n",
       "    }\n",
       "</style>\n",
       "<table border=\"1\" class=\"dataframe\">\n",
       "  <thead>\n",
       "    <tr style=\"text-align: right;\">\n",
       "      <th></th>\n",
       "      <th>date_block_num</th>\n",
       "      <th>shop_id</th>\n",
       "      <th>item_id</th>\n",
       "      <th>item_cnt_month</th>\n",
       "      <th>revenue_month</th>\n",
       "      <th>item_category_id</th>\n",
       "      <th>name_1</th>\n",
       "      <th>name_2</th>\n",
       "      <th>name_3</th>\n",
       "      <th>name_4</th>\n",
       "      <th>...</th>\n",
       "      <th>isbd</th>\n",
       "      <th>isрегион</th>\n",
       "      <th>isjewel</th>\n",
       "      <th>isdigital</th>\n",
       "      <th>console</th>\n",
       "      <th>has_cd</th>\n",
       "      <th>has_dvd</th>\n",
       "      <th>has_mp3</th>\n",
       "      <th>has_lp</th>\n",
       "      <th>version</th>\n",
       "    </tr>\n",
       "  </thead>\n",
       "  <tbody>\n",
       "    <tr>\n",
       "      <th>0</th>\n",
       "      <td>0</td>\n",
       "      <td>2</td>\n",
       "      <td>27</td>\n",
       "      <td>1.0</td>\n",
       "      <td>2499.0</td>\n",
       "      <td>19</td>\n",
       "      <td>007</td>\n",
       "      <td>007 legends</td>\n",
       "      <td>007 legends ps3</td>\n",
       "      <td>007 legends ps3 русская</td>\n",
       "      <td>...</td>\n",
       "      <td>0</td>\n",
       "      <td>0</td>\n",
       "      <td>0</td>\n",
       "      <td>0</td>\n",
       "      <td>5</td>\n",
       "      <td>0</td>\n",
       "      <td>0</td>\n",
       "      <td>0</td>\n",
       "      <td>0</td>\n",
       "      <td>-1</td>\n",
       "    </tr>\n",
       "    <tr>\n",
       "      <th>1</th>\n",
       "      <td>0</td>\n",
       "      <td>2</td>\n",
       "      <td>33</td>\n",
       "      <td>1.0</td>\n",
       "      <td>499.0</td>\n",
       "      <td>37</td>\n",
       "      <td>1</td>\n",
       "      <td>1 1</td>\n",
       "      <td>1 1 bd</td>\n",
       "      <td>1 1 bd</td>\n",
       "      <td>...</td>\n",
       "      <td>1</td>\n",
       "      <td>0</td>\n",
       "      <td>0</td>\n",
       "      <td>0</td>\n",
       "      <td>-1</td>\n",
       "      <td>0</td>\n",
       "      <td>0</td>\n",
       "      <td>0</td>\n",
       "      <td>0</td>\n",
       "      <td>-1</td>\n",
       "    </tr>\n",
       "    <tr>\n",
       "      <th>2</th>\n",
       "      <td>0</td>\n",
       "      <td>2</td>\n",
       "      <td>317</td>\n",
       "      <td>1.0</td>\n",
       "      <td>299.0</td>\n",
       "      <td>45</td>\n",
       "      <td>1с</td>\n",
       "      <td>1с аудиокниги</td>\n",
       "      <td>1с аудиокниги мединский</td>\n",
       "      <td>1с аудиокниги мединский в</td>\n",
       "      <td>...</td>\n",
       "      <td>0</td>\n",
       "      <td>0</td>\n",
       "      <td>0</td>\n",
       "      <td>1</td>\n",
       "      <td>-1</td>\n",
       "      <td>0</td>\n",
       "      <td>1</td>\n",
       "      <td>0</td>\n",
       "      <td>0</td>\n",
       "      <td>-1</td>\n",
       "    </tr>\n",
       "    <tr>\n",
       "      <th>3</th>\n",
       "      <td>0</td>\n",
       "      <td>2</td>\n",
       "      <td>438</td>\n",
       "      <td>1.0</td>\n",
       "      <td>299.0</td>\n",
       "      <td>45</td>\n",
       "      <td>1с</td>\n",
       "      <td>1с аудиотеатр</td>\n",
       "      <td>1с аудиотеатр лучшие</td>\n",
       "      <td>1с аудиотеатр лучшие произведения</td>\n",
       "      <td>...</td>\n",
       "      <td>0</td>\n",
       "      <td>0</td>\n",
       "      <td>0</td>\n",
       "      <td>1</td>\n",
       "      <td>-1</td>\n",
       "      <td>0</td>\n",
       "      <td>1</td>\n",
       "      <td>0</td>\n",
       "      <td>0</td>\n",
       "      <td>-1</td>\n",
       "    </tr>\n",
       "    <tr>\n",
       "      <th>4</th>\n",
       "      <td>0</td>\n",
       "      <td>2</td>\n",
       "      <td>471</td>\n",
       "      <td>2.0</td>\n",
       "      <td>798.0</td>\n",
       "      <td>49</td>\n",
       "      <td>1с</td>\n",
       "      <td>1с бухгалтерия</td>\n",
       "      <td>1с бухгалтерия 8</td>\n",
       "      <td>1с бухгалтерия 8 ред</td>\n",
       "      <td>...</td>\n",
       "      <td>0</td>\n",
       "      <td>0</td>\n",
       "      <td>0</td>\n",
       "      <td>0</td>\n",
       "      <td>-1</td>\n",
       "      <td>0</td>\n",
       "      <td>0</td>\n",
       "      <td>0</td>\n",
       "      <td>0</td>\n",
       "      <td>-1</td>\n",
       "    </tr>\n",
       "  </tbody>\n",
       "</table>\n",
       "<p>5 rows × 22 columns</p>\n",
       "</div>"
      ],
      "text/plain": [
       "   date_block_num  shop_id  item_id  item_cnt_month  revenue_month  \\\n",
       "0               0        2       27             1.0         2499.0   \n",
       "1               0        2       33             1.0          499.0   \n",
       "2               0        2      317             1.0          299.0   \n",
       "3               0        2      438             1.0          299.0   \n",
       "4               0        2      471             2.0          798.0   \n",
       "\n",
       "   item_category_id name_1          name_2                   name_3  \\\n",
       "0                19    007     007 legends          007 legends ps3   \n",
       "1                37      1             1 1                   1 1 bd   \n",
       "2                45     1с   1с аудиокниги  1с аудиокниги мединский   \n",
       "3                45     1с   1с аудиотеатр     1с аудиотеатр лучшие   \n",
       "4                49     1с  1с бухгалтерия         1с бухгалтерия 8   \n",
       "\n",
       "                              name_4  ... isbd  isрегион  isjewel  isdigital  \\\n",
       "0            007 legends ps3 русская  ...    0         0        0          0   \n",
       "1                             1 1 bd  ...    1         0        0          0   \n",
       "2          1с аудиокниги мединский в  ...    0         0        0          1   \n",
       "3  1с аудиотеатр лучшие произведения  ...    0         0        0          1   \n",
       "4               1с бухгалтерия 8 ред  ...    0         0        0          0   \n",
       "\n",
       "   console  has_cd  has_dvd  has_mp3  has_lp  version  \n",
       "0        5       0        0        0       0       -1  \n",
       "1       -1       0        0        0       0       -1  \n",
       "2       -1       0        1        0       0       -1  \n",
       "3       -1       0        1        0       0       -1  \n",
       "4       -1       0        0        0       0       -1  \n",
       "\n",
       "[5 rows x 22 columns]"
      ]
     },
     "execution_count": 112,
     "metadata": {},
     "output_type": "execute_result"
    }
   ],
   "source": [
    "sales_group.head()"
   ]
  },
  {
   "cell_type": "markdown",
   "metadata": {},
   "source": [
    "Initialize category column, 4 means haven't assigned any tag"
   ]
  },
  {
   "cell_type": "code",
   "execution_count": 56,
   "metadata": {},
   "outputs": [],
   "source": [
    "test['category'] = 4"
   ]
  },
  {
   "cell_type": "code",
   "execution_count": 57,
   "metadata": {},
   "outputs": [],
   "source": [
    "shop_train = sales_group.loc[sales_group['date_block_num']<=33]['shop_id'].unique()\n",
    "item_lst = sales_group.loc[sales_group['date_block_num']<=33]['item_id'].unique()\n",
    "shop_test = test.loc[test['category']==0]['shop_id'].unique()"
   ]
  },
  {
   "cell_type": "code",
   "execution_count": 58,
   "metadata": {},
   "outputs": [
    {
     "data": {
      "text/plain": [
       "(0, 0, 0)"
      ]
     },
     "execution_count": 58,
     "metadata": {},
     "output_type": "execute_result"
    }
   ],
   "source": [
    "len(test.loc[test['category']==0]), len(test.loc[test['category']==1]), len(test.loc[test['category']==2])"
   ]
  },
  {
   "cell_type": "code",
   "execution_count": 59,
   "metadata": {},
   "outputs": [
    {
     "data": {
      "text/html": [
       "<div>\n",
       "<style scoped>\n",
       "    .dataframe tbody tr th:only-of-type {\n",
       "        vertical-align: middle;\n",
       "    }\n",
       "\n",
       "    .dataframe tbody tr th {\n",
       "        vertical-align: top;\n",
       "    }\n",
       "\n",
       "    .dataframe thead th {\n",
       "        text-align: right;\n",
       "    }\n",
       "</style>\n",
       "<table border=\"1\" class=\"dataframe\">\n",
       "  <thead>\n",
       "    <tr style=\"text-align: right;\">\n",
       "      <th></th>\n",
       "      <th>date_block_num</th>\n",
       "      <th>shop_id</th>\n",
       "      <th>item_id</th>\n",
       "      <th>category</th>\n",
       "    </tr>\n",
       "  </thead>\n",
       "  <tbody>\n",
       "    <tr>\n",
       "      <th>0</th>\n",
       "      <td>34</td>\n",
       "      <td>5</td>\n",
       "      <td>5037</td>\n",
       "      <td>4</td>\n",
       "    </tr>\n",
       "    <tr>\n",
       "      <th>1</th>\n",
       "      <td>34</td>\n",
       "      <td>5</td>\n",
       "      <td>5320</td>\n",
       "      <td>4</td>\n",
       "    </tr>\n",
       "    <tr>\n",
       "      <th>2</th>\n",
       "      <td>34</td>\n",
       "      <td>5</td>\n",
       "      <td>5233</td>\n",
       "      <td>4</td>\n",
       "    </tr>\n",
       "    <tr>\n",
       "      <th>3</th>\n",
       "      <td>34</td>\n",
       "      <td>5</td>\n",
       "      <td>5232</td>\n",
       "      <td>4</td>\n",
       "    </tr>\n",
       "    <tr>\n",
       "      <th>4</th>\n",
       "      <td>34</td>\n",
       "      <td>5</td>\n",
       "      <td>5268</td>\n",
       "      <td>4</td>\n",
       "    </tr>\n",
       "  </tbody>\n",
       "</table>\n",
       "</div>"
      ],
      "text/plain": [
       "   date_block_num  shop_id  item_id  category\n",
       "0              34        5     5037         4\n",
       "1              34        5     5320         4\n",
       "2              34        5     5233         4\n",
       "3              34        5     5232         4\n",
       "4              34        5     5268         4"
      ]
     },
     "execution_count": 59,
     "metadata": {},
     "output_type": "execute_result"
    }
   ],
   "source": [
    "test.head()"
   ]
  },
  {
   "cell_type": "code",
   "execution_count": 41,
   "metadata": {},
   "outputs": [
    {
     "data": {
      "text/plain": [
       "33"
      ]
     },
     "execution_count": 41,
     "metadata": {},
     "output_type": "execute_result"
    }
   ],
   "source": [
    "sales_group['date_block_num'].max()"
   ]
  },
  {
   "cell_type": "markdown",
   "metadata": {},
   "source": [
    "Normal items with shop and item in sale history"
   ]
  },
  {
   "cell_type": "code",
   "execution_count": 60,
   "metadata": {},
   "outputs": [],
   "source": [
    "for shop in shop_train:\n",
    "    item_lst_shop = sales_group.loc[(sales_group['date_block_num']<=33)&(sales_group['shop_id'] == shop)]['item_id'].unique()\n",
    "    test.loc[(test['shop_id'] == shop) & (test['item_id'].isin(item_lst_shop)), 'category'] = 0"
   ]
  },
  {
   "cell_type": "markdown",
   "metadata": {},
   "source": [
    "Items w/o sale history in train data."
   ]
  },
  {
   "cell_type": "code",
   "execution_count": 61,
   "metadata": {},
   "outputs": [],
   "source": [
    "test.loc[~(test['item_id'].isin(item_lst)), 'category'] = 2"
   ]
  },
  {
   "cell_type": "markdown",
   "metadata": {},
   "source": [
    "Items w sale history but not in a particular shop"
   ]
  },
  {
   "cell_type": "code",
   "execution_count": 62,
   "metadata": {},
   "outputs": [],
   "source": [
    "test.loc[test['category'] == 4, 'category'] = 1"
   ]
  },
  {
   "cell_type": "code",
   "execution_count": 46,
   "metadata": {},
   "outputs": [
    {
     "data": {
      "text/plain": [
       "(111511, 87443, 15246)"
      ]
     },
     "execution_count": 46,
     "metadata": {},
     "output_type": "execute_result"
    }
   ],
   "source": [
    "len(test.loc[test['category']==0]), len(test.loc[test['category']==1]), len(test.loc[test['category']==2])"
   ]
  },
  {
   "cell_type": "code",
   "execution_count": 44,
   "metadata": {},
   "outputs": [],
   "source": [
    "with open('df_prediction_20191031.pickle', 'wb') as handle:\n",
    "    pickle.dump(test, handle, protocol = pickle.HIGHEST_PROTOCOL)"
   ]
  },
  {
   "cell_type": "code",
   "execution_count": null,
   "metadata": {},
   "outputs": [],
   "source": [
    "with open('df_prediction_20191031.pickle', 'rb') as handle:\n",
    "    test = pickle.load(handle)"
   ]
  },
  {
   "cell_type": "markdown",
   "metadata": {},
   "source": [
    "# Data preparation"
   ]
  },
  {
   "cell_type": "code",
   "execution_count": 63,
   "metadata": {},
   "outputs": [],
   "source": [
    "cols = ['date_block_num','shop_id','item_id']"
   ]
  },
  {
   "cell_type": "markdown",
   "metadata": {},
   "source": [
    "Training data should be generated from sale history (all nonzero) padded with 0 sale record. The test set is generated by shop * item. That is too much data for training set. Instead, the training set is generated by (shop in a month) * (items in a month)"
   ]
  },
  {
   "cell_type": "code",
   "execution_count": 64,
   "metadata": {},
   "outputs": [],
   "source": [
    "train_mix = []\n",
    "for i in range(34):\n",
    "    sales = sales_train[sales_train.date_block_num==i]\n",
    "    train_mix.append(np.array(list(product([i], sales.shop_id.unique(), sales.item_id.unique())), dtype='int16'))\n",
    "    \n",
    "train_mix = pd.DataFrame(np.vstack(train_mix), columns=cols)\n",
    "train_mix['date_block_num'] = train_mix['date_block_num'].astype(np.int8)\n",
    "train_mix['shop_id'] = train_mix['shop_id'].astype(np.int8)\n",
    "train_mix['item_id'] = train_mix['item_id'].astype(np.int16)\n",
    "train_mix.sort_values(cols,inplace=True)"
   ]
  },
  {
   "cell_type": "code",
   "execution_count": 49,
   "metadata": {},
   "outputs": [
    {
     "data": {
      "text/plain": [
       "21"
      ]
     },
     "execution_count": 49,
     "metadata": {},
     "output_type": "execute_result"
    }
   ],
   "source": [
    "gc.collect()"
   ]
  },
  {
   "cell_type": "code",
   "execution_count": 65,
   "metadata": {},
   "outputs": [],
   "source": [
    "train_mix['category'] = 4"
   ]
  },
  {
   "cell_type": "code",
   "execution_count": 66,
   "metadata": {},
   "outputs": [],
   "source": [
    "train_mix = pd.concat([train_mix, test], ignore_index=True, sort=False, keys=cols)\n",
    "train_mix.fillna(0, inplace=True) # 34 month"
   ]
  },
  {
   "cell_type": "code",
   "execution_count": 67,
   "metadata": {},
   "outputs": [],
   "source": [
    "train_mix = target_generate(train_mix)"
   ]
  },
  {
   "cell_type": "code",
   "execution_count": 75,
   "metadata": {},
   "outputs": [],
   "source": [
    "def merge_dataset(df):\n",
    "    \n",
    "    df = pd.merge(df, shops[['shop_id','shop_city','shop_category']], on=['shop_id'], how='left')\n",
    "    df = pd.merge(df, item, on=['item_id'], how='left')\n",
    "    df = pd.merge(df, item_cat[['item_category_id','type_code','subtype_code','item_cat_id_fix']], on=['item_category_id'], how='left')\n",
    "      \n",
    "    return df"
   ]
  },
  {
   "cell_type": "code",
   "execution_count": 76,
   "metadata": {},
   "outputs": [],
   "source": [
    "train_mix = merge_dataset(train_mix)"
   ]
  },
  {
   "cell_type": "markdown",
   "metadata": {},
   "source": [
    "Change data type of columns to save space as much as possible"
   ]
  },
  {
   "cell_type": "code",
   "execution_count": 77,
   "metadata": {},
   "outputs": [
    {
     "data": {
      "text/plain": [
       "70"
      ]
     },
     "execution_count": 77,
     "metadata": {},
     "output_type": "execute_result"
    }
   ],
   "source": [
    "train_mix['shop_city'] = train_mix['shop_city'].astype(np.int8)\n",
    "train_mix['shop_category'] = train_mix['shop_category'].astype(np.int8)\n",
    "train_mix['item_category_id'] = train_mix['item_category_id'].astype(np.int8)\n",
    "train_mix['type_code'] = train_mix['type_code'].astype(np.int8)\n",
    "train_mix['subtype_code'] = train_mix['subtype_code'].astype(np.int8)\n",
    "gc.collect()"
   ]
  },
  {
   "cell_type": "code",
   "execution_count": 114,
   "metadata": {},
   "outputs": [
    {
     "data": {
      "text/plain": [
       "8.782300472259521"
      ]
     },
     "execution_count": 114,
     "metadata": {},
     "output_type": "execute_result"
    }
   ],
   "source": [
    "ts = time.time()\n",
    "\n",
    "lags = [1,2,3,6]\n",
    "groupcols = ['shop_id','item_id']\n",
    "col = 'item_cnt_month'\n",
    "train_mix = lag_feature(train_mix,lags,groupcols,col)\n",
    "new_col = '_'.join(groupcols)+'_avg_'+str(col)\n",
    "for lag in lags:\n",
    "    train_mix[f'{new_col}_lag_'+str(lag)] = train_mix[f'{new_col}_lag_'+str(lag)].astype(np.float16)\n",
    "\n",
    "time.time() - ts"
   ]
  },
  {
   "cell_type": "code",
   "execution_count": 121,
   "metadata": {},
   "outputs": [
    {
     "data": {
      "text/plain": [
       "0.35834717750549316"
      ]
     },
     "execution_count": 121,
     "metadata": {},
     "output_type": "execute_result"
    }
   ],
   "source": [
    "ts = time.time()\n",
    "\n",
    "lags = [1,2,3,6]\n",
    "groupcols = ['shop_id','item_id']\n",
    "col = 'revenue_month'\n",
    "train_mix = lag_feature(train_mix,lags,groupcols,col)\n",
    "new_col = '_'.join(groupcols)+'_avg_'+str(col)\n",
    "for lag in lags:\n",
    "    train_mix[f'{new_col}_lag_'+str(lag)] = train_mix[f'{new_col}_lag_'+str(lag)].astype(np.float32)\n",
    "\n",
    "time.time() - ts"
   ]
  },
  {
   "cell_type": "code",
   "execution_count": 61,
   "metadata": {},
   "outputs": [
    {
     "data": {
      "text/plain": [
       "0.8517468562527272"
      ]
     },
     "execution_count": 61,
     "metadata": {},
     "output_type": "execute_result"
    }
   ],
   "source": [
    "len(train_mix.loc[(train_mix['date_block_num'] < 34) & (train_mix['item_cnt_month']==0)])/len(train_mix.loc[(train_mix['date_block_num'] < 34)])"
   ]
  },
  {
   "cell_type": "markdown",
   "metadata": {},
   "source": [
    "Categorize data in train_mix. (This way is not actually correct)"
   ]
  },
  {
   "cell_type": "code",
   "execution_count": 84,
   "metadata": {},
   "outputs": [],
   "source": [
    "for shop in shop_train:\n",
    "    item_lst_shop = sales_group.loc[(sales_group['date_block_num']<=33)&(sales_group['shop_id'] == shop)]['item_id'].unique()\n",
    "    train_mix.loc[(train_mix['shop_id'] == shop) & (train_mix['item_id'].isin(item_lst_shop)), 'category'] = 0"
   ]
  },
  {
   "cell_type": "code",
   "execution_count": 85,
   "metadata": {},
   "outputs": [],
   "source": [
    "train_mix.loc[~(train_mix['item_id'].isin(item_lst)), 'category'] = 2"
   ]
  },
  {
   "cell_type": "code",
   "execution_count": 86,
   "metadata": {},
   "outputs": [],
   "source": [
    "train_mix.loc[train_mix['category'] == 4, 'category'] = 1"
   ]
  },
  {
   "cell_type": "code",
   "execution_count": 58,
   "metadata": {},
   "outputs": [
    {
     "data": {
      "text/plain": [
       "Series([], dtype: object)"
      ]
     },
     "execution_count": 58,
     "metadata": {},
     "output_type": "execute_result"
    }
   ],
   "source": [
    "train_mix.columns.to_series()[np.isinf(train_mix).any()]"
   ]
  },
  {
   "cell_type": "markdown",
   "metadata": {},
   "source": [
    "# Feature Engineering"
   ]
  },
  {
   "cell_type": "markdown",
   "metadata": {},
   "source": [
    "Lag features"
   ]
  },
  {
   "cell_type": "code",
   "execution_count": 122,
   "metadata": {},
   "outputs": [
    {
     "data": {
      "text/plain": [
       "9.6251220703125"
      ]
     },
     "execution_count": 122,
     "metadata": {},
     "output_type": "execute_result"
    }
   ],
   "source": [
    "ts = time.time()\n",
    "\n",
    "lags = [1,2,3,6,12]\n",
    "groupcols = []\n",
    "col = 'item_cnt_month'\n",
    "train_mix = lag_feature(train_mix,lags,groupcols,col)\n",
    "new_col = '_'.join(groupcols)+'_avg_'+str(col)\n",
    "for lag in lags:\n",
    "    train_mix[f'{new_col}_lag_'+str(lag)] = train_mix[f'{new_col}_lag_'+str(lag)].astype(np.float16)\n",
    "\n",
    "time.time() - ts"
   ]
  },
  {
   "cell_type": "code",
   "execution_count": 123,
   "metadata": {},
   "outputs": [
    {
     "data": {
      "text/plain": [
       "0.2973592281341553"
      ]
     },
     "execution_count": 123,
     "metadata": {},
     "output_type": "execute_result"
    }
   ],
   "source": [
    "ts = time.time()\n",
    "\n",
    "lags = [1,2,3,6]\n",
    "groupcols = []\n",
    "col = 'revenue_month'\n",
    "train_mix = lag_feature(train_mix,lags,groupcols,col)\n",
    "new_col = '_'.join(groupcols)+'_avg_'+str(col)\n",
    "for lag in lags:\n",
    "    train_mix[f'{new_col}_lag_'+str(lag)] = train_mix[f'{new_col}_lag_'+str(lag)].astype(np.float32)\n",
    "\n",
    "time.time() - ts"
   ]
  },
  {
   "cell_type": "code",
   "execution_count": 124,
   "metadata": {},
   "outputs": [
    {
     "data": {
      "text/plain": [
       "7.278248071670532"
      ]
     },
     "execution_count": 124,
     "metadata": {},
     "output_type": "execute_result"
    }
   ],
   "source": [
    "ts = time.time()\n",
    "\n",
    "lags = [1,2,3,6]\n",
    "groupcols = ['item_id']\n",
    "col = 'item_cnt_month'\n",
    "train_mix = lag_feature(train_mix,lags,groupcols,col)\n",
    "new_col = '_'.join(groupcols)+'_avg_'+str(col)\n",
    "for lag in lags:\n",
    "    train_mix[f'{new_col}_lag_'+str(lag)] = train_mix[f'{new_col}_lag_'+str(lag)].astype(np.float16)\n",
    "\n",
    "time.time() - ts"
   ]
  },
  {
   "cell_type": "code",
   "execution_count": 125,
   "metadata": {},
   "outputs": [
    {
     "data": {
      "text/plain": [
       "6.718816041946411"
      ]
     },
     "execution_count": 125,
     "metadata": {},
     "output_type": "execute_result"
    }
   ],
   "source": [
    "ts = time.time()\n",
    "\n",
    "lags = [1,2,3,6]\n",
    "groupcols = ['shop_id']\n",
    "col = 'item_cnt_month'\n",
    "train_mix = lag_feature(train_mix,lags,groupcols,col)\n",
    "new_col = '_'.join(groupcols)+'_avg_'+str(col)\n",
    "for lag in lags:\n",
    "    train_mix[f'{new_col}_lag_'+str(lag)] = train_mix[f'{new_col}_lag_'+str(lag)].astype(np.float16)\n",
    "\n",
    "time.time() - ts"
   ]
  },
  {
   "cell_type": "code",
   "execution_count": null,
   "metadata": {},
   "outputs": [],
   "source": [
    "ts = time.time()\n",
    "\n",
    "lags = [1,2,3,12]\n",
    "groupcols = ['name_1']\n",
    "col = 'item_cnt_month'\n",
    "train_mix = lag_feature(train_mix,lags,groupcols,col)\n",
    "new_col = '_'.join(groupcols)+'_avg_'+str(col)\n",
    "for lag in lags:\n",
    "    train_mix[f'{new_col}_lag_'+str(lag)] = train_mix[f'{new_col}_lag_'+str(lag)].astype(np.float16)\n",
    "\n",
    "time.time() - ts"
   ]
  },
  {
   "cell_type": "code",
   "execution_count": 126,
   "metadata": {},
   "outputs": [
    {
     "data": {
      "text/plain": [
       "6.194637775421143"
      ]
     },
     "execution_count": 126,
     "metadata": {},
     "output_type": "execute_result"
    }
   ],
   "source": [
    "ts = time.time()\n",
    "\n",
    "lags = [1,2,3,12]\n",
    "groupcols = ['name_2']\n",
    "col = 'item_cnt_month'\n",
    "train_mix = lag_feature(train_mix,lags,groupcols,col)\n",
    "new_col = '_'.join(groupcols)+'_avg_'+str(col)\n",
    "for lag in lags:\n",
    "    train_mix[f'{new_col}_lag_'+str(lag)] = train_mix[f'{new_col}_lag_'+str(lag)].astype(np.float16)\n",
    "\n",
    "time.time() - ts"
   ]
  },
  {
   "cell_type": "code",
   "execution_count": 127,
   "metadata": {},
   "outputs": [
    {
     "data": {
      "text/plain": [
       "5.8112876415252686"
      ]
     },
     "execution_count": 127,
     "metadata": {},
     "output_type": "execute_result"
    }
   ],
   "source": [
    "ts = time.time()\n",
    "\n",
    "lags = [1,2,3,12]\n",
    "groupcols = ['name_3']\n",
    "col = 'item_cnt_month'\n",
    "train_mix = lag_feature(train_mix,lags,groupcols,col)\n",
    "new_col = '_'.join(groupcols)+'_avg_'+str(col)\n",
    "for lag in lags:\n",
    "    train_mix[f'{new_col}_lag_'+str(lag)] = train_mix[f'{new_col}_lag_'+str(lag)].astype(np.float16)\n",
    "\n",
    "time.time() - ts"
   ]
  },
  {
   "cell_type": "code",
   "execution_count": 128,
   "metadata": {},
   "outputs": [
    {
     "data": {
      "text/plain": [
       "5.301374912261963"
      ]
     },
     "execution_count": 128,
     "metadata": {},
     "output_type": "execute_result"
    }
   ],
   "source": [
    "ts = time.time()\n",
    "\n",
    "lags = [1,2,3,12]\n",
    "groupcols = ['name_4']\n",
    "col = 'item_cnt_month'\n",
    "train_mix = lag_feature(train_mix,lags,groupcols,col)\n",
    "new_col = '_'.join(groupcols)+'_avg_'+str(col)\n",
    "for lag in lags:\n",
    "    train_mix[f'{new_col}_lag_'+str(lag)] = train_mix[f'{new_col}_lag_'+str(lag)].astype(np.float16)\n",
    "\n",
    "time.time() - ts"
   ]
  },
  {
   "cell_type": "code",
   "execution_count": null,
   "metadata": {},
   "outputs": [],
   "source": [
    "ts = time.time()\n",
    "\n",
    "lags = [1,2,3,12]\n",
    "groupcols = ['shop_id','name_1']\n",
    "col = 'item_cnt_month'\n",
    "train_mix = lag_feature(train_mix,lags,groupcols,col)\n",
    "new_col = '_'.join(groupcols)+'_avg_'+str(col)\n",
    "for lag in lags:\n",
    "    train_mix[f'{new_col}_lag_'+str(lag)] = train_mix[f'{new_col}_lag_'+str(lag)].astype(np.float16)\n",
    "\n",
    "time.time() - ts"
   ]
  },
  {
   "cell_type": "code",
   "execution_count": 129,
   "metadata": {},
   "outputs": [
    {
     "data": {
      "text/plain": [
       "4.819436311721802"
      ]
     },
     "execution_count": 129,
     "metadata": {},
     "output_type": "execute_result"
    }
   ],
   "source": [
    "ts = time.time()\n",
    "\n",
    "lags = [1,2,3,12]\n",
    "groupcols = ['shop_id','name_2']\n",
    "col = 'item_cnt_month'\n",
    "train_mix = lag_feature(train_mix,lags,groupcols,col)\n",
    "new_col = '_'.join(groupcols)+'_avg_'+str(col)\n",
    "for lag in lags:\n",
    "    train_mix[f'{new_col}_lag_'+str(lag)] = train_mix[f'{new_col}_lag_'+str(lag)].astype(np.float16)\n",
    "\n",
    "time.time() - ts"
   ]
  },
  {
   "cell_type": "code",
   "execution_count": 130,
   "metadata": {},
   "outputs": [
    {
     "data": {
      "text/plain": [
       "4.313985347747803"
      ]
     },
     "execution_count": 130,
     "metadata": {},
     "output_type": "execute_result"
    }
   ],
   "source": [
    "ts = time.time()\n",
    "\n",
    "lags = [1,2,3,12]\n",
    "groupcols = ['shop_id','name_3']\n",
    "col = 'item_cnt_month'\n",
    "train_mix = lag_feature(train_mix,lags,groupcols,col)\n",
    "new_col = '_'.join(groupcols)+'_avg_'+str(col)\n",
    "for lag in lags:\n",
    "    train_mix[f'{new_col}_lag_'+str(lag)] = train_mix[f'{new_col}_lag_'+str(lag)].astype(np.float16)\n",
    "\n",
    "time.time() - ts"
   ]
  },
  {
   "cell_type": "code",
   "execution_count": 131,
   "metadata": {},
   "outputs": [
    {
     "data": {
      "text/plain": [
       "3.8822169303894043"
      ]
     },
     "execution_count": 131,
     "metadata": {},
     "output_type": "execute_result"
    }
   ],
   "source": [
    "ts = time.time()\n",
    "\n",
    "lags = [1,2,3,12]\n",
    "groupcols = ['shop_id','name_4']\n",
    "col = 'item_cnt_month'\n",
    "train_mix = lag_feature(train_mix,lags,groupcols,col)\n",
    "new_col = '_'.join(groupcols)+'_avg_'+str(col)\n",
    "for lag in lags:\n",
    "    train_mix[f'{new_col}_lag_'+str(lag)] = train_mix[f'{new_col}_lag_'+str(lag)].astype(np.float16)\n",
    "\n",
    "time.time() - ts"
   ]
  },
  {
   "cell_type": "code",
   "execution_count": 132,
   "metadata": {},
   "outputs": [
    {
     "data": {
      "text/plain": [
       "0.19908690452575684"
      ]
     },
     "execution_count": 132,
     "metadata": {},
     "output_type": "execute_result"
    }
   ],
   "source": [
    "ts = time.time()\n",
    "\n",
    "lags = [1,2,3]\n",
    "groupcols = ['shop_id']\n",
    "col = 'revenue_month'\n",
    "train_mix = lag_feature(train_mix,lags,groupcols,col)\n",
    "new_col = '_'.join(groupcols)+'_avg_'+str(col)\n",
    "for lag in lags:\n",
    "    train_mix[f'{new_col}_lag_'+str(lag)] = train_mix[f'{new_col}_lag_'+str(lag)].astype(np.float32)\n",
    "\n",
    "time.time() - ts"
   ]
  },
  {
   "cell_type": "code",
   "execution_count": 133,
   "metadata": {},
   "outputs": [
    {
     "data": {
      "text/plain": [
       "0.875999927520752"
      ]
     },
     "execution_count": 133,
     "metadata": {},
     "output_type": "execute_result"
    }
   ],
   "source": [
    "ts = time.time()\n",
    "\n",
    "lags = [1]\n",
    "groupcols = ['item_category_id']\n",
    "col = 'item_cnt_month'\n",
    "train_mix = lag_feature(train_mix,lags,groupcols,col)\n",
    "new_col = '_'.join(groupcols)+'_avg_'+str(col)\n",
    "for lag in lags:\n",
    "    train_mix[f'{new_col}_lag_'+str(lag)] = train_mix[f'{new_col}_lag_'+str(lag)].astype(np.float16)\n",
    "\n",
    "time.time() - ts"
   ]
  },
  {
   "cell_type": "code",
   "execution_count": 76,
   "metadata": {},
   "outputs": [
    {
     "data": {
      "text/plain": [
       "37.51976799964905"
      ]
     },
     "execution_count": 76,
     "metadata": {},
     "output_type": "execute_result"
    }
   ],
   "source": [
    "ts = time.time()\n",
    "\n",
    "lags = [1]\n",
    "groupcols = ['item_category_id']\n",
    "col = 'revenue_month'\n",
    "train_mix = lag_feature(train_mix,lags,groupcols,col)\n",
    "new_col = '_'.join(groupcols)+'_avg_'+str(col)\n",
    "for lag in lags:\n",
    "    train_mix[f'{new_col}_lag_'+str(lag)] = train_mix[f'{new_col}_lag_'+str(lag)].astype(np.float32)\n",
    "\n",
    "time.time() - ts"
   ]
  },
  {
   "cell_type": "code",
   "execution_count": 134,
   "metadata": {},
   "outputs": [
    {
     "data": {
      "text/plain": [
       "0.8551521301269531"
      ]
     },
     "execution_count": 134,
     "metadata": {},
     "output_type": "execute_result"
    }
   ],
   "source": [
    "ts = time.time()\n",
    "\n",
    "lags = [1]\n",
    "groupcols = ['shop_id','item_category_id']\n",
    "col = 'item_cnt_month'\n",
    "train_mix = lag_feature(train_mix,lags,groupcols,col)\n",
    "new_col = '_'.join(groupcols)+'_avg_'+str(col)\n",
    "for lag in lags:\n",
    "    train_mix[f'{new_col}_lag_'+str(lag)] = train_mix[f'{new_col}_lag_'+str(lag)].astype(np.float16)\n",
    "\n",
    "time.time() - ts"
   ]
  },
  {
   "cell_type": "code",
   "execution_count": 78,
   "metadata": {},
   "outputs": [
    {
     "data": {
      "text/plain": [
       "43.63514995574951"
      ]
     },
     "execution_count": 78,
     "metadata": {},
     "output_type": "execute_result"
    }
   ],
   "source": [
    "ts = time.time()\n",
    "\n",
    "lags = [1]\n",
    "groupcols = ['shop_id','item_category_id']\n",
    "col = 'revenue_month'\n",
    "train_mix = lag_feature(train_mix,lags,groupcols,col)\n",
    "new_col = '_'.join(groupcols)+'_avg_'+str(col)\n",
    "for lag in lags:\n",
    "    train_mix[f'{new_col}_lag_'+str(lag)] = train_mix[f'{new_col}_lag_'+str(lag)].astype(np.float32)\n",
    "\n",
    "time.time() - ts"
   ]
  },
  {
   "cell_type": "code",
   "execution_count": 135,
   "metadata": {},
   "outputs": [
    {
     "data": {
      "text/plain": [
       "0.8205060958862305"
      ]
     },
     "execution_count": 135,
     "metadata": {},
     "output_type": "execute_result"
    }
   ],
   "source": [
    "ts = time.time()\n",
    "\n",
    "lags = [1]\n",
    "groupcols = ['shop_id','type_code']\n",
    "col = 'item_cnt_month'\n",
    "train_mix = lag_feature(train_mix,lags,groupcols,col)\n",
    "new_col = '_'.join(groupcols)+'_avg_'+str(col)\n",
    "for lag in lags:\n",
    "    train_mix[f'{new_col}_lag_'+str(lag)] = train_mix[f'{new_col}_lag_'+str(lag)].astype(np.float16)\n",
    "\n",
    "time.time() - ts"
   ]
  },
  {
   "cell_type": "code",
   "execution_count": 80,
   "metadata": {},
   "outputs": [
    {
     "data": {
      "text/plain": [
       "49.02784562110901"
      ]
     },
     "execution_count": 80,
     "metadata": {},
     "output_type": "execute_result"
    }
   ],
   "source": [
    "ts = time.time()\n",
    "\n",
    "lags = [1]\n",
    "groupcols = ['shop_id','type_code']\n",
    "col = 'revenue_month'\n",
    "train_mix = lag_feature(train_mix,lags,groupcols,col)\n",
    "new_col = '_'.join(groupcols)+'_avg_'+str(col)\n",
    "for lag in lags:\n",
    "    train_mix[f'{new_col}_lag_'+str(lag)] = train_mix[f'{new_col}_lag_'+str(lag)].astype(np.float32)\n",
    "    \n",
    "time.time() - ts"
   ]
  },
  {
   "cell_type": "code",
   "execution_count": 136,
   "metadata": {},
   "outputs": [
    {
     "data": {
      "text/plain": [
       "0.8017592430114746"
      ]
     },
     "execution_count": 136,
     "metadata": {},
     "output_type": "execute_result"
    }
   ],
   "source": [
    "ts = time.time()\n",
    "\n",
    "lags = [1]\n",
    "groupcols = ['shop_id','subtype_code']\n",
    "col = 'item_cnt_month'\n",
    "train_mix = lag_feature(train_mix,lags,groupcols,col)\n",
    "new_col = '_'.join(groupcols)+'_avg_'+str(col)\n",
    "for lag in lags:\n",
    "    train_mix[f'{new_col}_lag_'+str(lag)] = train_mix[f'{new_col}_lag_'+str(lag)].astype(np.float16)\n",
    "\n",
    "time.time() - ts"
   ]
  },
  {
   "cell_type": "code",
   "execution_count": 82,
   "metadata": {},
   "outputs": [
    {
     "data": {
      "text/plain": [
       "53.45315194129944"
      ]
     },
     "execution_count": 82,
     "metadata": {},
     "output_type": "execute_result"
    }
   ],
   "source": [
    "ts = time.time()\n",
    "\n",
    "lags = [1]\n",
    "groupcols = ['shop_id','subtype_code']\n",
    "col = 'revenue_month'\n",
    "train_mix = lag_feature(train_mix,lags,groupcols,col)\n",
    "new_col = '_'.join(groupcols)+'_avg_'+str(col)\n",
    "for lag in lags:\n",
    "    train_mix[f'{new_col}_lag_'+str(lag)] = train_mix[f'{new_col}_lag_'+str(lag)].astype(np.float32)\n",
    "\n",
    "time.time() - ts"
   ]
  },
  {
   "cell_type": "code",
   "execution_count": 137,
   "metadata": {},
   "outputs": [
    {
     "data": {
      "text/plain": [
       "0.7515969276428223"
      ]
     },
     "execution_count": 137,
     "metadata": {},
     "output_type": "execute_result"
    }
   ],
   "source": [
    "ts = time.time()\n",
    "\n",
    "lags = [1]\n",
    "groupcols = ['shop_city']\n",
    "col = 'item_cnt_month'\n",
    "train_mix = lag_feature(train_mix,lags,groupcols,col)\n",
    "new_col = '_'.join(groupcols)+'_avg_'+str(col)\n",
    "for lag in lags:\n",
    "    train_mix[f'{new_col}_lag_'+str(lag)] = train_mix[f'{new_col}_lag_'+str(lag)].astype(np.float16)\n",
    "\n",
    "time.time() - ts"
   ]
  },
  {
   "cell_type": "code",
   "execution_count": 138,
   "metadata": {},
   "outputs": [
    {
     "data": {
      "text/plain": [
       "0.08196759223937988"
      ]
     },
     "execution_count": 138,
     "metadata": {},
     "output_type": "execute_result"
    }
   ],
   "source": [
    "ts = time.time()\n",
    "\n",
    "lags = [1]\n",
    "groupcols = ['shop_city']\n",
    "col = 'revenue_month'\n",
    "#train_mix = lag_feature(train_mix,lags,groupcols,col)\n",
    "new_col = '_'.join(groupcols)+'_avg_'+str(col)\n",
    "for lag in lags:\n",
    "    train_mix[f'{new_col}_lag_'+str(lag)] = train_mix[f'{new_col}_lag_'+str(lag)].astype(np.float32)\n",
    "\n",
    "time.time() - ts"
   ]
  },
  {
   "cell_type": "code",
   "execution_count": 139,
   "metadata": {},
   "outputs": [
    {
     "data": {
      "text/plain": [
       "3.423837184906006"
      ]
     },
     "execution_count": 139,
     "metadata": {},
     "output_type": "execute_result"
    }
   ],
   "source": [
    "ts = time.time()\n",
    "\n",
    "lags = [1,2,3,6,12]\n",
    "groupcols = ['shop_city','item_id']\n",
    "col = 'item_cnt_month'\n",
    "train_mix = lag_feature(train_mix,lags,groupcols,col)\n",
    "new_col = '_'.join(groupcols)+'_avg_'+str(col)\n",
    "for lag in lags:\n",
    "    train_mix[f'{new_col}_lag_'+str(lag)] = train_mix[f'{new_col}_lag_'+str(lag)].astype(np.float16)\n",
    "\n",
    "time.time() - ts"
   ]
  },
  {
   "cell_type": "code",
   "execution_count": 140,
   "metadata": {},
   "outputs": [
    {
     "data": {
      "text/plain": [
       "2.5642189979553223"
      ]
     },
     "execution_count": 140,
     "metadata": {},
     "output_type": "execute_result"
    }
   ],
   "source": [
    "ts = time.time()\n",
    "\n",
    "lags = [1,2,3,6,12]\n",
    "groupcols = ['type_code']\n",
    "col = 'item_cnt_month'\n",
    "train_mix = lag_feature(train_mix,lags,groupcols,col)\n",
    "new_col = '_'.join(groupcols)+'_avg_'+str(col)\n",
    "for lag in lags:\n",
    "    train_mix[f'{new_col}_lag_'+str(lag)] = train_mix[f'{new_col}_lag_'+str(lag)].astype(np.float16)\n",
    "\n",
    "time.time() - ts"
   ]
  },
  {
   "cell_type": "code",
   "execution_count": 141,
   "metadata": {},
   "outputs": [
    {
     "data": {
      "text/plain": [
       "0.08389639854431152"
      ]
     },
     "execution_count": 141,
     "metadata": {},
     "output_type": "execute_result"
    }
   ],
   "source": [
    "ts = time.time()\n",
    "\n",
    "lags = [1]\n",
    "groupcols = ['type_code']\n",
    "col = 'revenue_month'\n",
    "train_mix = lag_feature(train_mix,lags,groupcols,col)\n",
    "new_col = '_'.join(groupcols)+'_avg_'+str(col)\n",
    "for lag in lags:\n",
    "    train_mix[f'{new_col}_lag_'+str(lag)] = train_mix[f'{new_col}_lag_'+str(lag)].astype(np.float32)\n",
    "\n",
    "time.time() - ts"
   ]
  },
  {
   "cell_type": "code",
   "execution_count": 142,
   "metadata": {},
   "outputs": [
    {
     "data": {
      "text/plain": [
       "0.43639588356018066"
      ]
     },
     "execution_count": 142,
     "metadata": {},
     "output_type": "execute_result"
    }
   ],
   "source": [
    "ts = time.time()\n",
    "\n",
    "lags = [1]\n",
    "groupcols = ['subtype_code']\n",
    "col = 'item_cnt_month'\n",
    "train_mix = lag_feature(train_mix,lags,groupcols,col)\n",
    "new_col = '_'.join(groupcols)+'_avg_'+str(col)\n",
    "for lag in lags:\n",
    "    train_mix[f'{new_col}_lag_'+str(lag)] = train_mix[f'{new_col}_lag_'+str(lag)].astype(np.float16)\n",
    "\n",
    "time.time() - ts"
   ]
  },
  {
   "cell_type": "code",
   "execution_count": 143,
   "metadata": {},
   "outputs": [
    {
     "data": {
      "text/plain": [
       "0.08698391914367676"
      ]
     },
     "execution_count": 143,
     "metadata": {},
     "output_type": "execute_result"
    }
   ],
   "source": [
    "ts = time.time()\n",
    "\n",
    "lags = [1]\n",
    "groupcols = ['subtype_code']\n",
    "col = 'revenue_month'\n",
    "train_mix = lag_feature(train_mix,lags,groupcols,col)\n",
    "new_col = '_'.join(groupcols)+'_avg_'+str(col)\n",
    "for lag in lags:\n",
    "    train_mix[f'{new_col}_lag_'+str(lag)] = train_mix[f'{new_col}_lag_'+str(lag)].astype(np.float32)\n",
    "    \n",
    "time.time() - ts"
   ]
  },
  {
   "cell_type": "code",
   "execution_count": 110,
   "metadata": {},
   "outputs": [
    {
     "data": {
      "text/plain": [
       "14"
      ]
     },
     "execution_count": 110,
     "metadata": {},
     "output_type": "execute_result"
    }
   ],
   "source": [
    "gc.collect()"
   ]
  },
  {
   "cell_type": "markdown",
   "metadata": {},
   "source": [
    "Follow the idea and do more item_price feature engineering"
   ]
  },
  {
   "cell_type": "code",
   "execution_count": null,
   "metadata": {},
   "outputs": [],
   "source": [
    "def select_value(row, feature, lags):\n",
    "    for i in lags:\n",
    "        if row[f'{feature}_lag_{i}']:\n",
    "            return row[f'{feature}_lag_{i}']\n",
    "    return 0"
   ]
  },
  {
   "cell_type": "code",
   "execution_count": null,
   "metadata": {},
   "outputs": [],
   "source": [
    "ts = time.time()\n",
    "group = sales_train.groupby(['item_id']).agg({'item_price': ['mean']})\n",
    "group.columns = ['item_avg_item_price']\n",
    "group.reset_index(inplace=True)\n",
    "\n",
    "train_mix = pd.merge(train_mix, group, on=['item_id'], how='left')\n",
    "train_mix['item_avg_item_price'] = train_mix['item_avg_item_price'].astype(np.float16)\n",
    "\n",
    "group = sales_train.groupby(['date_block_num','item_id']).agg({'item_price': ['mean']})\n",
    "group.columns = ['date_item_avg_item_price']\n",
    "group.reset_index(inplace=True)\n",
    "\n",
    "train_mix = pd.merge(train_mix, group, on=['date_block_num','item_id'], how='left')\n",
    "train_mix['date_item_avg_item_price'] = train_mix['date_item_avg_item_price'].astype(np.float16)\n",
    "\n",
    "lags = [1,2,3,4,5,6,7,8,9,10,11,12]\n",
    "groupcols = ['item_id']\n",
    "col = 'date_item_avg_item_price'\n",
    "train_mix = lag_feature(train_mix,lags,groupcols,col)\n",
    "new_col = '_'.join(groupcols)+'_avg_'+str(col)\n",
    "\n",
    "for i in lags:\n",
    "    train_mix['delta_price_lag_'+str(i)] = \\\n",
    "        (train_mix[f'{new_col}_lag_'+str(i)] - train_mix['item_avg_item_price']) / train_mix['item_avg_item_price']\n",
    "\n",
    "def select_trend(row):\n",
    "    for i in lags:\n",
    "        if np.isnan(row['delta_price_lag_'+str(i)]):\n",
    "            continue\n",
    "        if row['delta_price_lag_'+str(i)]:\n",
    "            return row['delta_price_lag_'+str(i)]\n",
    "    return 0\n",
    "    \n",
    "train_mix['delta_price_lag'] = train_mix.apply(select_trend, axis=1)\n",
    "train_mix['delta_price_lag'] = train_mix['delta_price_lag'].astype(np.float16)\n",
    "train_mix['delta_price_lag'].fillna(0, inplace=True)\n",
    "\n",
    "features_to_drop = ['item_avg_item_price', 'date_item_avg_item_price']\n",
    "for i in lags:\n",
    "    features_to_drop += [f'{new_col}_lag_'+str(i)]\n",
    "    features_to_drop += ['delta_price_lag_'+str(i)]\n",
    "\n",
    "train_mix.drop(features_to_drop, axis=1, inplace=True)\n",
    "\n",
    "time.time() - ts"
   ]
  },
  {
   "cell_type": "code",
   "execution_count": 145,
   "metadata": {},
   "outputs": [
    {
     "data": {
      "text/plain": [
       "650.6100630760193"
      ]
     },
     "execution_count": 145,
     "metadata": {},
     "output_type": "execute_result"
    }
   ],
   "source": [
    "ts = time.time()\n",
    "\n",
    "group = sales_train.groupby(['date_block_num','item_id']).agg({'item_price': ['mean']})\n",
    "group.columns = ['date_item_avg_price']\n",
    "group.reset_index(inplace=True)\n",
    "\n",
    "train_mix = pd.merge(train_mix, group, on=['date_block_num','item_id'], how='left')\n",
    "train_mix['date_item_avg_price'] = train_mix['date_item_avg_price'].astype(np.float16)\n",
    "\n",
    "lags = [1,2,3,4,5,6,7,8,9,10,11,12]\n",
    "groupcols = ['item_id']\n",
    "col = 'date_item_avg_price'\n",
    "train_mix = lag_feature(train_mix,lags,groupcols,col,'no')\n",
    "new_col = '_'.join(groupcols)+'_avg_'+str(col)\n",
    "\n",
    "def select_value(row):\n",
    "    for i in lags:\n",
    "        if np.isnan(row[f'{new_col}_lag_'+str(i)]):\n",
    "            continue\n",
    "        if row[f'{new_col}_lag_'+str(i)]:\n",
    "            return row[f'{new_col}_lag_'+str(i)]\n",
    "    return 0\n",
    "\n",
    "train_mix['last_item_avg_price'] = train_mix.apply(select_value, axis=1)\n",
    "train_mix['last_item_avg_price'] = train_mix['last_item_avg_price'].astype(np.float16)\n",
    "train_mix['last_item_avg_price'].fillna(0, inplace=True)\n",
    "\n",
    "gc.collect()\n",
    "\n",
    "features_to_drop = ['date_item_avg_price']\n",
    "for i in lags:\n",
    "    features_to_drop += [f'{new_col}_lag_'+str(i)]\n",
    "train_mix.drop(features_to_drop, axis=1, inplace=True)\n",
    "\n",
    "time.time() - ts"
   ]
  },
  {
   "cell_type": "code",
   "execution_count": 146,
   "metadata": {},
   "outputs": [
    {
     "data": {
      "text/plain": [
       "1982.9437563419342"
      ]
     },
     "execution_count": 146,
     "metadata": {},
     "output_type": "execute_result"
    }
   ],
   "source": [
    "ts = time.time()\n",
    "\n",
    "group = sales_train.groupby(['date_block_num','shop_id','item_id']).agg({'item_price': ['mean']})\n",
    "group.columns = ['date_shop_item_avg_price']\n",
    "group.reset_index(inplace=True)\n",
    "\n",
    "train_mix = pd.merge(train_mix, group, on=['date_block_num','shop_id','item_id'], how='left')\n",
    "train_mix['date_shop_item_avg_price'] = train_mix['date_shop_item_avg_price'].astype(np.float16)\n",
    "\n",
    "lags = [1,2,3,4,5,6,7,8,9,10,11,12]\n",
    "groupcols = ['shop_id','item_id']\n",
    "col = 'date_shop_item_avg_price'\n",
    "train_mix = lag_feature(train_mix,lags,groupcols,col,'no')\n",
    "new_col = '_'.join(groupcols)+'_avg_'+str(col)\n",
    "\n",
    "def select_value(row):\n",
    "    for i in lags:\n",
    "        if np.isnan(row[f'{new_col}_lag_'+str(i)]):\n",
    "            continue\n",
    "        if row[f'{new_col}_lag_'+str(i)]:\n",
    "            return row[f'{new_col}_lag_'+str(i)]\n",
    "    return 0\n",
    "\n",
    "train_mix['last_shop_item_avg_price'] = train_mix.apply(select_value, axis=1)\n",
    "train_mix['last_shop_item_avg_price'] = train_mix['last_shop_item_avg_price'].astype(np.float16)\n",
    "train_mix['last_shop_item_avg_price'].fillna(0, inplace=True)\n",
    "\n",
    "gc.collect()\n",
    "\n",
    "fetures_to_drop = ['date_shop_item_avg_price']\n",
    "for i in lags:\n",
    "    fetures_to_drop += [f'{new_col}_lag_'+str(i)]\n",
    "train_mix.drop(fetures_to_drop, axis=1, inplace=True)\n",
    "\n",
    "time.time() - ts"
   ]
  },
  {
   "cell_type": "code",
   "execution_count": 147,
   "metadata": {},
   "outputs": [],
   "source": [
    "train_mix['last_price_diff'] = train_mix['last_shop_item_avg_price'] - train_mix['last_item_avg_price']\n",
    "train_mix['last_price_ratio'] = train_mix['last_shop_item_avg_price'] / train_mix['last_item_avg_price']\n",
    "train_mix['last_price_ratio'].replace([np.inf, -np.inf], 0, inplace = True)"
   ]
  },
  {
   "cell_type": "code",
   "execution_count": null,
   "metadata": {},
   "outputs": [],
   "source": [
    "def merge_dataset(df):\n",
    "    \n",
    "    df = pd.merge(df, shops[['shop_id','shop_city','shop_category']], on=['shop_id'], how='left')\n",
    "    df = pd.merge(df, item[['item_id','item_category_id','name_2','name_3']], on=['item_id'], how='left')\n",
    "    df = pd.merge(df, item_cat[['item_category_id','type_code','subtype_code','item_cat_id_fix']], on=['item_category_id'], how='left')\n",
    "      \n",
    "    return df"
   ]
  },
  {
   "cell_type": "code",
   "execution_count": 103,
   "metadata": {},
   "outputs": [
    {
     "data": {
      "text/html": [
       "<div>\n",
       "<style scoped>\n",
       "    .dataframe tbody tr th:only-of-type {\n",
       "        vertical-align: middle;\n",
       "    }\n",
       "\n",
       "    .dataframe tbody tr th {\n",
       "        vertical-align: top;\n",
       "    }\n",
       "\n",
       "    .dataframe thead th {\n",
       "        text-align: right;\n",
       "    }\n",
       "</style>\n",
       "<table border=\"1\" class=\"dataframe\">\n",
       "  <thead>\n",
       "    <tr style=\"text-align: right;\">\n",
       "      <th></th>\n",
       "      <th>date</th>\n",
       "      <th>date_block_num</th>\n",
       "      <th>shop_id</th>\n",
       "      <th>item_id</th>\n",
       "      <th>item_price</th>\n",
       "      <th>item_cnt_day</th>\n",
       "      <th>revenue</th>\n",
       "      <th>shop_city</th>\n",
       "      <th>shop_category</th>\n",
       "      <th>item_category_id</th>\n",
       "      <th>name_2</th>\n",
       "      <th>name_3</th>\n",
       "      <th>type_code</th>\n",
       "      <th>subtype_code</th>\n",
       "      <th>item_cat_id_fix</th>\n",
       "    </tr>\n",
       "  </thead>\n",
       "  <tbody>\n",
       "    <tr>\n",
       "      <th>0</th>\n",
       "      <td>02.01.2013</td>\n",
       "      <td>0</td>\n",
       "      <td>59</td>\n",
       "      <td>22154</td>\n",
       "      <td>999.000000000000</td>\n",
       "      <td>1.0</td>\n",
       "      <td>999.000000000000</td>\n",
       "      <td>30</td>\n",
       "      <td>4</td>\n",
       "      <td>37</td>\n",
       "      <td>0</td>\n",
       "      <td>562</td>\n",
       "      <td>3</td>\n",
       "      <td>1</td>\n",
       "      <td>11</td>\n",
       "    </tr>\n",
       "    <tr>\n",
       "      <th>1</th>\n",
       "      <td>03.01.2013</td>\n",
       "      <td>0</td>\n",
       "      <td>25</td>\n",
       "      <td>2552</td>\n",
       "      <td>899.000000000000</td>\n",
       "      <td>1.0</td>\n",
       "      <td>899.000000000000</td>\n",
       "      <td>13</td>\n",
       "      <td>2</td>\n",
       "      <td>58</td>\n",
       "      <td>0</td>\n",
       "      <td>42</td>\n",
       "      <td>5</td>\n",
       "      <td>27</td>\n",
       "      <td>12</td>\n",
       "    </tr>\n",
       "    <tr>\n",
       "      <th>2</th>\n",
       "      <td>05.01.2013</td>\n",
       "      <td>0</td>\n",
       "      <td>25</td>\n",
       "      <td>2552</td>\n",
       "      <td>899.000000000000</td>\n",
       "      <td>0.0</td>\n",
       "      <td>0.000000000000</td>\n",
       "      <td>13</td>\n",
       "      <td>2</td>\n",
       "      <td>58</td>\n",
       "      <td>0</td>\n",
       "      <td>42</td>\n",
       "      <td>5</td>\n",
       "      <td>27</td>\n",
       "      <td>12</td>\n",
       "    </tr>\n",
       "    <tr>\n",
       "      <th>3</th>\n",
       "      <td>06.01.2013</td>\n",
       "      <td>0</td>\n",
       "      <td>25</td>\n",
       "      <td>2554</td>\n",
       "      <td>1709.050048828125</td>\n",
       "      <td>1.0</td>\n",
       "      <td>1709.050048828125</td>\n",
       "      <td>13</td>\n",
       "      <td>2</td>\n",
       "      <td>58</td>\n",
       "      <td>0</td>\n",
       "      <td>42</td>\n",
       "      <td>5</td>\n",
       "      <td>27</td>\n",
       "      <td>12</td>\n",
       "    </tr>\n",
       "    <tr>\n",
       "      <th>4</th>\n",
       "      <td>15.01.2013</td>\n",
       "      <td>0</td>\n",
       "      <td>25</td>\n",
       "      <td>2555</td>\n",
       "      <td>1099.000000000000</td>\n",
       "      <td>1.0</td>\n",
       "      <td>1099.000000000000</td>\n",
       "      <td>13</td>\n",
       "      <td>2</td>\n",
       "      <td>56</td>\n",
       "      <td>0</td>\n",
       "      <td>1632</td>\n",
       "      <td>5</td>\n",
       "      <td>3</td>\n",
       "      <td>12</td>\n",
       "    </tr>\n",
       "  </tbody>\n",
       "</table>\n",
       "</div>"
      ],
      "text/plain": [
       "         date  date_block_num  shop_id  item_id         item_price  \\\n",
       "0  02.01.2013               0       59    22154   999.000000000000   \n",
       "1  03.01.2013               0       25     2552   899.000000000000   \n",
       "2  05.01.2013               0       25     2552   899.000000000000   \n",
       "3  06.01.2013               0       25     2554  1709.050048828125   \n",
       "4  15.01.2013               0       25     2555  1099.000000000000   \n",
       "\n",
       "   item_cnt_day            revenue  shop_city  shop_category  \\\n",
       "0           1.0   999.000000000000         30              4   \n",
       "1           1.0   899.000000000000         13              2   \n",
       "2           0.0     0.000000000000         13              2   \n",
       "3           1.0  1709.050048828125         13              2   \n",
       "4           1.0  1099.000000000000         13              2   \n",
       "\n",
       "   item_category_id  name_2  name_3  type_code  subtype_code  item_cat_id_fix  \n",
       "0                37       0     562          3             1               11  \n",
       "1                58       0      42          5            27               12  \n",
       "2                58       0      42          5            27               12  \n",
       "3                58       0      42          5            27               12  \n",
       "4                56       0    1632          5             3               12  "
      ]
     },
     "execution_count": 103,
     "metadata": {},
     "output_type": "execute_result"
    }
   ],
   "source": [
    "sales_train = merge_dataset(sales_train)\n",
    "sales_train.head()"
   ]
  },
  {
   "cell_type": "code",
   "execution_count": null,
   "metadata": {},
   "outputs": [],
   "source": [
    "ts = time.time()\n",
    "\n",
    "group = sales_train.groupby(['date_block_num','item_category_id']).agg({'item_price': ['mean']})\n",
    "group.columns = ['date_cat_avg_price']\n",
    "group.reset_index(inplace=True)\n",
    "\n",
    "train_mix = pd.merge(train_mix, group, on=['date_block_num','item_category_id'], how='left')\n",
    "train_mix['date_cat_avg_price'] = train_mix['date_cat_avg_price'].astype(np.float16)\n",
    "\n",
    "del group\n",
    "gc.collect()\n",
    "\n",
    "lags = [1,2,3,4,5,6,7,8,9,10,11,12]\n",
    "groupcols = ['item_category_id']\n",
    "col = 'date_cat_avg_price'\n",
    "train_mix = lag_feature(train_mix,lags,groupcols,col,'no')\n",
    "new_col = '_'.join(groupcols)+'_avg_'+str(col)\n",
    "\n",
    "def select_value(row):\n",
    "    for i in lags:\n",
    "        if np.isnan(row[f'{new_col}_lag_'+str(i)]):\n",
    "            continue\n",
    "        if row[f'{new_col}_lag_'+str(i)]:\n",
    "            return row[f'{new_col}_lag_'+str(i)]\n",
    "    return 0\n",
    "\n",
    "train_mix['last_cat_avg_price'] = train_mix.apply(select_value, axis=1)\n",
    "train_mix['last_cat_avg_price'] = train_mix['last_cat_avg_price'].astype(np.float16)\n",
    "train_mix['last_cat_avg_price'].fillna(0, inplace=True)\n",
    "\n",
    "fetures_to_drop = ['date_cat_avg_price']\n",
    "for i in lags:\n",
    "    fetures_to_drop += [f'{new_col}_lag_'+str(i)]\n",
    "\n",
    "train_mix.drop(fetures_to_drop, axis=1, inplace=True)\n",
    "\n",
    "time.time() - ts"
   ]
  },
  {
   "cell_type": "code",
   "execution_count": null,
   "metadata": {},
   "outputs": [],
   "source": [
    "ts = time.time()\n",
    "\n",
    "group = sales_train.groupby(['date_block_num','shop_id']).agg({'item_price': ['mean']})\n",
    "group.columns = ['date_shop_avg_price']\n",
    "group.reset_index(inplace=True)\n",
    "\n",
    "train_mix = pd.merge(train_mix, group, on=['date_block_num','shop_id'], how='left')\n",
    "train_mix['date_shop_avg_price'] = train_mix['date_shop_avg_price'].astype(np.float16)\n",
    "\n",
    "del group\n",
    "gc.collect()\n",
    "\n",
    "lags = [1,2,3,4,5,6,7,8,9,10,11,12]\n",
    "groupcols = ['shop_id']\n",
    "col = 'date_shop_avg_price'\n",
    "train_mix = lag_feature(train_mix,lags,groupcols,col,'no')\n",
    "new_col = '_'.join(groupcols)+'_avg_'+str(col)\n",
    "\n",
    "\n",
    "def select_value(row):\n",
    "    for i in lags:\n",
    "        if np.isnan(row[f'{new_col}_lag_'+str(i)]):\n",
    "            continue\n",
    "        if row[f'{new_col}_lag_'+str(i)]:\n",
    "            return row[f'{new_col}_lag_'+str(i)]\n",
    "    return 0\n",
    "\n",
    "train_mix['last_shop_avg_price'] = train_mix.apply(select_value, axis=1)\n",
    "train_mix['last_shop_avg_price'] = train_mix['last_shop_avg_price'].astype(np.float16)\n",
    "train_mix['last_shop_avg_price'].fillna(0, inplace=True)\n",
    "\n",
    "fetures_to_drop = ['date_shop_avg_price']\n",
    "for i in lags:\n",
    "    fetures_to_drop += [f'{new_col}_lag_'+str(i)]\n",
    "\n",
    "train_mix.drop(fetures_to_drop, axis=1, inplace=True)\n",
    "\n",
    "time.time() - ts"
   ]
  },
  {
   "cell_type": "code",
   "execution_count": null,
   "metadata": {},
   "outputs": [],
   "source": [
    "ts = time.time()\n",
    "\n",
    "group = sales_train.groupby(['date_block_num','shop_city']).agg({'item_price': ['mean']})\n",
    "group.columns = ['date_city_avg_price']\n",
    "group.reset_index(inplace=True)\n",
    "\n",
    "train_mix = pd.merge(train_mix, group, on=['date_block_num','shop_city'], how='left')\n",
    "train_mix['date_city_avg_price'] = train_mix['date_city_avg_price'].astype(np.float16)\n",
    "\n",
    "del group\n",
    "gc.collect()\n",
    "\n",
    "lags = [1,2,3,4,5,6,7,8,9,10,11,12]\n",
    "groupcols = ['shop_city']\n",
    "col = 'date_city_avg_price'\n",
    "train_mix = lag_feature(train_mix,lags,groupcols,col,'no')\n",
    "new_col = '_'.join(groupcols)+'_avg_'+str(col)\n",
    "\n",
    "def select_value(row):\n",
    "    for i in lags:\n",
    "        if np.isnan(row[f'{new_col}_lag_'+str(i)]):\n",
    "            continue\n",
    "        if row[f'{new_col}_lag_'+str(i)]:\n",
    "            return row[f'{new_col}_lag_'+str(i)]\n",
    "    return 0\n",
    "\n",
    "train_mix['last_city_avg_price'] = train_mix.apply(select_value, axis=1)\n",
    "train_mix['last_city_avg_price'] = train_mix['last_city_avg_price'].astype(np.float16)\n",
    "train_mix['last_city_avg_price'].fillna(0, inplace=True)\n",
    "\n",
    "fetures_to_drop = ['date_city_avg_price']\n",
    "for i in lags:\n",
    "    fetures_to_drop += [f'{new_col}_lag_'+str(i)]\n",
    "\n",
    "train_mix.drop(fetures_to_drop, axis=1, inplace=True)\n",
    "\n",
    "time.time() - ts"
   ]
  },
  {
   "cell_type": "code",
   "execution_count": null,
   "metadata": {},
   "outputs": [],
   "source": [
    "ts = time.time()\n",
    "\n",
    "group = sales_train.groupby(['date_block_num','shop_id','item_category_id']).agg({'item_price': ['mean']})\n",
    "group.columns = ['date_shop_cat_avg_price']\n",
    "group.reset_index(inplace=True)\n",
    "\n",
    "train_mix = pd.merge(train_mix, group, on=['date_block_num','shop_id','item_category_id'], how='left')\n",
    "train_mix['date_shop_cat_avg_price'] = train_mix['date_shop_cat_avg_price'].astype(np.float16)\n",
    "\n",
    "lags = [1,2,3,4,5,6,7,8,9,10,11,12]\n",
    "groupcols = ['shop_id','item_category_id']\n",
    "col = 'date_shop_cat_avg_price'\n",
    "train_mix = lag_feature(train_mix,lags,groupcols,col,'no')\n",
    "new_col = '_'.join(groupcols)+'_avg_'+str(col)\n",
    "\n",
    "def select_value(row):\n",
    "    for i in lags:\n",
    "        if np.isnan(row[f'{new_col}_lag_'+str(i)]):\n",
    "            continue\n",
    "        if row[f'{new_col}_lag_'+str(i)]:\n",
    "            return row[f'{new_col}_lag_'+str(i)]\n",
    "    return 0\n",
    "\n",
    "train_mix['last_shop_cat_avg_price'] = train_mix.apply(select_value, axis=1)\n",
    "train_mix['last_shop_cat_avg_price'] = train_mix['last_shop_cat_avg_price'].astype(np.float16)\n",
    "train_mix['last_shop_cat_avg_price'].fillna(0, inplace=True)\n",
    "\n",
    "fetures_to_drop = ['date_shop_cat_avg_price']\n",
    "for i in lags:\n",
    "    fetures_to_drop += [f'{new_col}_lag_'+str(i)]\n",
    "\n",
    "train_mix.drop(fetures_to_drop, axis=1, inplace=True)\n",
    "\n",
    "time.time() - ts"
   ]
  },
  {
   "cell_type": "code",
   "execution_count": null,
   "metadata": {},
   "outputs": [],
   "source": [
    "ts = time.time()\n",
    "\n",
    "group = sales_train.groupby(['date_block_num','shop_city','item_category_id']).agg({'item_price': ['mean']})\n",
    "group.columns = ['date_city_cat_avg_price']\n",
    "group.reset_index(inplace=True)\n",
    "\n",
    "train_mix = pd.merge(train_mix, group, on=['date_block_num','shop_city','item_category_id'], how='left')\n",
    "train_mix['date_city_cat_avg_price'] = train_mix['date_city_cat_avg_price'].astype(np.float16)\n",
    "\n",
    "lags = [1,2,3,4,5,6,7,8,9,10,11,12]\n",
    "groupcols = ['shop_city','item_category_id']\n",
    "col = 'date_city_cat_avg_price'\n",
    "train_mix = lag_feature(train_mix,lags,groupcols,col,'no')\n",
    "new_col = '_'.join(groupcols)+'_avg_'+str(col)\n",
    "\n",
    "def select_value(row):\n",
    "    for i in lags:\n",
    "        if np.isnan(row[f'{new_col}_lag_'+str(i)]):\n",
    "            continue\n",
    "        if row[f'{new_col}_lag_'+str(i)]:\n",
    "            return row[f'{new_col}_lag_'+str(i)]\n",
    "    return 0\n",
    "\n",
    "train_mix['last_city_cat_avg_price'] = train_mix.apply(select_value, axis=1)\n",
    "train_mix['last_city_cat_avg_price'] = train_mix['last_city_cat_avg_price'].astype(np.float16)\n",
    "train_mix['last_city_cat_avg_price'].fillna(0, inplace=True)\n",
    "\n",
    "fetures_to_drop = ['date_city_cat_avg_price']\n",
    "for i in lags:\n",
    "    fetures_to_drop += [f'{new_col}_lag_'+str(i)]\n",
    "\n",
    "train_mix.drop(fetures_to_drop, axis=1, inplace=True)\n",
    "\n",
    "time.time() - ts"
   ]
  },
  {
   "cell_type": "code",
   "execution_count": null,
   "metadata": {},
   "outputs": [],
   "source": [
    "ts = time.time()\n",
    "\n",
    "group = sales_train.groupby(['date_block_num','shop_city','item_id']).agg({'item_price': ['mean']})\n",
    "group.columns = ['date_city_item_avg_price']\n",
    "group.reset_index(inplace=True)\n",
    "\n",
    "train_mix = pd.merge(train_mix, group, on=['date_block_num','shop_city','item_id'], how='left')\n",
    "train_mix['date_city_item_avg_price'] = train_mix['date_city_item_avg_price'].astype(np.float16)\n",
    "\n",
    "lags = [1,2,3,4,5,6,7,8,9,10,11,12]\n",
    "groupcols = ['shop_city','item_id']\n",
    "col = 'date_city_item_avg_price'\n",
    "train_mix = lag_feature(train_mix,lags,groupcols,col,'no')\n",
    "new_col = '_'.join(groupcols)+'_avg_'+str(col)\n",
    "\n",
    "def select_value(row):\n",
    "    for i in lags:\n",
    "        if np.isnan(row[f'{new_col}_lag_'+str(i)]):\n",
    "            continue\n",
    "        if row[f'{new_col}_lag_'+str(i)]:\n",
    "            return row[f'{new_col}_lag_'+str(i)]\n",
    "    return 0\n",
    "\n",
    "train_mix['last_city_item_avg_price'] = train_mix.apply(select_value, axis=1)\n",
    "train_mix['last_city_item_avg_price'] = train_mix['last_city_item_avg_price'].astype(np.float16)\n",
    "train_mix['last_city_item_avg_price'].fillna(0, inplace=True)\n",
    "\n",
    "fetures_to_drop = ['date_city_item_avg_price']\n",
    "for i in lags:\n",
    "    fetures_to_drop += [f'{new_col}_lag_'+str(i)]\n",
    "\n",
    "train_mix.drop(fetures_to_drop, axis=1, inplace=True)\n",
    "\n",
    "time.time() - ts"
   ]
  },
  {
   "cell_type": "code",
   "execution_count": 17,
   "metadata": {},
   "outputs": [],
   "source": [
    "group = sales_train.groupby(['item_id']).agg({'item_price': ['max']})\n",
    "group.columns = ['item_max_price']\n",
    "group.reset_index(inplace=True)\n",
    "\n",
    "train_mix = pd.merge(train_mix, group, on=['item_id'], how='left')\n",
    "train_mix['item_max_price'] = train_mix['item_max_price'].astype(np.float16)\n",
    "\n",
    "train_mix.fillna(0, inplace = True)\n",
    "del group\n",
    "gc.collect()"
   ]
  },
  {
   "cell_type": "markdown",
   "metadata": {},
   "source": [
    "Ratio/diff related features"
   ]
  },
  {
   "cell_type": "code",
   "execution_count": 110,
   "metadata": {},
   "outputs": [],
   "source": [
    "train_mix['last_shop_item_city_item_price_ratio'] = train_mix['last_shop_item_avg_price'] / train_mix['last_city_item_avg_price']\n",
    "train_mix['last_shop_item_city_item_price_ratio'].replace([np.inf, -np.inf], 0, inplace = True)\n",
    "\n",
    "train_mix['last_shop_item_cat_price_ratio'] = train_mix['last_shop_item_avg_price'] / train_mix['last_cat_avg_price']\n",
    "train_mix['last_shop_item_cat_price_ratio'].replace([np.inf, -np.inf], 0, inplace = True)\n",
    "\n",
    "train_mix['last_shop_item_city_cat_price_ratio'] = train_mix['last_shop_item_avg_price'] / train_mix['last_city_cat_avg_price']\n",
    "train_mix['last_shop_item_city_cat_price_ratio'].replace([np.inf, -np.inf], 0, inplace = True)\n",
    "\n",
    "train_mix['last_shop_item_shop_cat_price_ratio'] = train_mix['last_shop_item_avg_price'] / train_mix['last_shop_cat_avg_price']\n",
    "train_mix['last_shop_item_shop_cat_price_ratio'].replace([np.inf, -np.inf], 0, inplace = True)\n",
    "\n",
    "train_mix['last_item_cat_price_ratio'] = train_mix['last_item_avg_price'] / train_mix['last_cat_avg_price']\n",
    "train_mix['last_item_cat_price_ratio'].replace([np.inf, -np.inf], 0, inplace = True)\n",
    "\n",
    "train_mix['last_item_shop_cat_price_ratio'] = train_mix['last_item_avg_price'] / train_mix['last_shop_cat_avg_price']\n",
    "train_mix['last_item_shop_cat_price_ratio'].replace([np.inf, -np.inf], 0, inplace = True)\n",
    "\n",
    "train_mix['last_item_city_cat_price_ratio'] = train_mix['last_item_avg_price'] / train_mix['last_city_cat_avg_price']\n",
    "train_mix['last_item_city_cat_price_ratio'].replace([np.inf, -np.inf], 0, inplace = True)\n",
    "\n",
    "train_mix['last_item_city_item_price_ratio'] = train_mix['last_item_avg_price'] / train_mix['last_city_item_avg_price']\n",
    "train_mix['last_item_city_item_price_ratio'].replace([np.inf, -np.inf], 0, inplace = True)\n",
    "\n",
    "train_mix['last_shop_cat_city_cat_price_ratio'] = train_mix['last_shop_cat_avg_price'] / train_mix['last_city_cat_avg_price']\n",
    "train_mix['last_shop_cat_city_cat_price_ratio'].replace([np.inf, -np.inf], 0, inplace = True)"
   ]
  },
  {
   "cell_type": "code",
   "execution_count": 8,
   "metadata": {},
   "outputs": [],
   "source": [
    "cols = ['item_cnt_month_lag_1', 'item_cnt_month_lag_2', 'item_cnt_month_lag_3', 'item_cnt_month_lag_6', 'item_cnt_month_lag_12']\n",
    "train_mix['shop_item_avg_cnt'] = train_mix[cols].mean(axis=1)\n",
    "train_mix['shop_item_max_cnt'] = train_mix[cols].max(axis=1)"
   ]
  },
  {
   "cell_type": "code",
   "execution_count": 9,
   "metadata": {},
   "outputs": [],
   "source": [
    "cols = ['date_item_avg_item_cnt_lag_1','date_item_avg_item_cnt_lag_2','date_item_avg_item_cnt_lag_3',\n",
    "        'date_item_avg_item_cnt_lag_6','date_item_avg_item_cnt_lag_12']\n",
    "train_mix['item_avg_cnt'] = train_mix[cols].mean(axis=1)\n",
    "train_mix['item_max_cnt'] = train_mix[cols].max(axis=1)"
   ]
  },
  {
   "cell_type": "code",
   "execution_count": 10,
   "metadata": {},
   "outputs": [],
   "source": [
    "train_mix['pred_last_3_shop_item_cnt_month_dif'] = train_mix['item_cnt_month_lag_1']*2 - train_mix['item_cnt_month_lag_2']\n",
    "train_mix['pred_last_3_shop_item_cnt_month_ratio'] = train_mix['item_cnt_month_lag_1']*train_mix['item_cnt_month_lag_1'] / train_mix['item_cnt_month_lag_2']\n",
    "train_mix.fillna(0, inplace = True)\n",
    "train_mix.replace([np.inf,-np.inf],0,inplace=True)\n",
    "train_mix.loc[train_mix['pred_last_3_shop_item_cnt_month_dif']<0,'pred_last_3_shop_item_cnt_month_dif']=0"
   ]
  },
  {
   "cell_type": "code",
   "execution_count": 11,
   "metadata": {},
   "outputs": [],
   "source": [
    "train_mix['pred_last_3_item_cnt_month_dif'] = train_mix['date_item_avg_item_cnt_lag_1']*2 - train_mix['date_item_avg_item_cnt_lag_2']\n",
    "train_mix['pred_last_3_item_cnt_month_ratio'] = train_mix['date_item_avg_item_cnt_lag_1']*train_mix['date_item_avg_item_cnt_lag_1'] / train_mix['date_item_avg_item_cnt_lag_2']\n",
    "train_mix.fillna(0, inplace = True)\n",
    "train_mix.replace([np.inf,-np.inf],0,inplace=True)\n",
    "train_mix.loc[train_mix['pred_last_3_item_cnt_month_dif']<0,'pred_last_3_item_cnt_month_dif']=0"
   ]
  },
  {
   "cell_type": "code",
   "execution_count": 12,
   "metadata": {},
   "outputs": [],
   "source": [
    "train_mix['pred_last_3_shop_item_cnt_month_ratio_2'] = train_mix['item_cnt_month_lag_1']*train_mix['date_item_avg_item_cnt_lag_1'] / train_mix['date_item_avg_item_cnt_lag_2']\n",
    "cols = ['item_cnt_month_lag_1', 'item_cnt_month_lag_2', 'item_cnt_month_lag_3']\n",
    "train_mix['pred_last_3_shop_item_cnt_month_ratio_3'] = train_mix[cols].mean(axis=1)*train_mix['date_item_avg_item_cnt_lag_1'] / train_mix['date_item_avg_item_cnt_lag_2']\n",
    "train_mix.fillna(0, inplace = True)"
   ]
  },
  {
   "cell_type": "code",
   "execution_count": 111,
   "metadata": {},
   "outputs": [],
   "source": [
    "train_mix.fillna(0, inplace = True)"
   ]
  },
  {
   "cell_type": "code",
   "execution_count": 61,
   "metadata": {},
   "outputs": [
    {
     "data": {
      "text/plain": [
       "0.0"
      ]
     },
     "execution_count": 61,
     "metadata": {},
     "output_type": "execute_result"
    }
   ],
   "source": [
    "train_mix['last_shop_item_city_item_price_ratio'].min()"
   ]
  },
  {
   "cell_type": "code",
   "execution_count": 149,
   "metadata": {},
   "outputs": [
    {
     "data": {
      "text/plain": [
       "87.327312707901"
      ]
     },
     "execution_count": 149,
     "metadata": {},
     "output_type": "execute_result"
    }
   ],
   "source": [
    "ts = time.time()\n",
    "group = sales_train.groupby(['date_block_num','shop_id']).agg({'revenue': ['sum']})\n",
    "group.columns = ['date_shop_revenue']\n",
    "group.reset_index(inplace=True)\n",
    "\n",
    "train_mix = pd.merge(train_mix, group, on=['date_block_num','shop_id'], how='left')\n",
    "train_mix['date_shop_revenue'] = train_mix['date_shop_revenue'].astype(np.float32)\n",
    "\n",
    "group = group.groupby(['shop_id']).agg({'date_shop_revenue': ['mean']})\n",
    "group.columns = ['shop_avg_revenue']\n",
    "group.reset_index(inplace=True)\n",
    "\n",
    "train_mix = pd.merge(train_mix, group, on=['shop_id'], how='left')\n",
    "train_mix['shop_avg_revenue'] = train_mix['shop_avg_revenue'].astype(np.float32)\n",
    "\n",
    "train_mix['delta_revenue'] = (train_mix['date_shop_revenue'] - train_mix['shop_avg_revenue']) / train_mix['shop_avg_revenue']\n",
    "train_mix['delta_revenue'] = train_mix['delta_revenue'].astype(np.float16)\n",
    "\n",
    "lags = [1]\n",
    "groupcols = ['shop_id','item_id']\n",
    "col = 'delta_revenue'\n",
    "train_mix = lag_feature(train_mix,lags,groupcols,col,'no')\n",
    "new_col = '_'.join(groupcols)+'_avg_'+str(col)\n",
    "for lag in lags:\n",
    "    train_mix[f'{new_col}_lag_'+str(lag)] = train_mix[f'{new_col}_lag_'+str(lag)].astype(np.float32)\n",
    "\n",
    "train_mix.drop(['date_shop_revenue','shop_avg_revenue','delta_revenue'], axis=1, inplace=True)\n",
    "time.time() - ts"
   ]
  },
  {
   "cell_type": "code",
   "execution_count": 150,
   "metadata": {},
   "outputs": [
    {
     "data": {
      "text/html": [
       "<div>\n",
       "<style scoped>\n",
       "    .dataframe tbody tr th:only-of-type {\n",
       "        vertical-align: middle;\n",
       "    }\n",
       "\n",
       "    .dataframe tbody tr th {\n",
       "        vertical-align: top;\n",
       "    }\n",
       "\n",
       "    .dataframe thead th {\n",
       "        text-align: right;\n",
       "    }\n",
       "</style>\n",
       "<table border=\"1\" class=\"dataframe\">\n",
       "  <thead>\n",
       "    <tr style=\"text-align: right;\">\n",
       "      <th></th>\n",
       "      <th>date_block_num</th>\n",
       "      <th>shop_id</th>\n",
       "      <th>item_id</th>\n",
       "      <th>category</th>\n",
       "      <th>revenue_month</th>\n",
       "      <th>item_cnt_month</th>\n",
       "      <th>shop_city</th>\n",
       "      <th>shop_category</th>\n",
       "      <th>item_category_id</th>\n",
       "      <th>name_1</th>\n",
       "      <th>...</th>\n",
       "      <th>type_code_avg_item_cnt_month_lag_12</th>\n",
       "      <th>type_code_avg_revenue_month_lag_1</th>\n",
       "      <th>subtype_code_avg_item_cnt_month_lag_1</th>\n",
       "      <th>subtype_code_avg_revenue_month_lag_1</th>\n",
       "      <th>delta_price_lag</th>\n",
       "      <th>last_item_avg_price</th>\n",
       "      <th>last_shop_item_avg_price</th>\n",
       "      <th>last_price_diff</th>\n",
       "      <th>last_price_ratio</th>\n",
       "      <th>shop_id_item_id_avg_delta_revenue_lag_1</th>\n",
       "    </tr>\n",
       "  </thead>\n",
       "  <tbody>\n",
       "    <tr>\n",
       "      <th>0</th>\n",
       "      <td>0</td>\n",
       "      <td>2</td>\n",
       "      <td>19</td>\n",
       "      <td>1</td>\n",
       "      <td>0.0</td>\n",
       "      <td>0.0</td>\n",
       "      <td>0</td>\n",
       "      <td>4</td>\n",
       "      <td>40</td>\n",
       "      <td>2112</td>\n",
       "      <td>...</td>\n",
       "      <td>0.0</td>\n",
       "      <td>0.0</td>\n",
       "      <td>0.0</td>\n",
       "      <td>0.0</td>\n",
       "      <td>-1.0</td>\n",
       "      <td>0.0</td>\n",
       "      <td>0.0</td>\n",
       "      <td>0.0</td>\n",
       "      <td>NaN</td>\n",
       "      <td>NaN</td>\n",
       "    </tr>\n",
       "    <tr>\n",
       "      <th>1</th>\n",
       "      <td>0</td>\n",
       "      <td>2</td>\n",
       "      <td>27</td>\n",
       "      <td>0</td>\n",
       "      <td>2499.0</td>\n",
       "      <td>1.0</td>\n",
       "      <td>0</td>\n",
       "      <td>4</td>\n",
       "      <td>19</td>\n",
       "      <td>0</td>\n",
       "      <td>...</td>\n",
       "      <td>0.0</td>\n",
       "      <td>0.0</td>\n",
       "      <td>0.0</td>\n",
       "      <td>0.0</td>\n",
       "      <td>-1.0</td>\n",
       "      <td>0.0</td>\n",
       "      <td>0.0</td>\n",
       "      <td>0.0</td>\n",
       "      <td>NaN</td>\n",
       "      <td>NaN</td>\n",
       "    </tr>\n",
       "    <tr>\n",
       "      <th>2</th>\n",
       "      <td>0</td>\n",
       "      <td>2</td>\n",
       "      <td>28</td>\n",
       "      <td>1</td>\n",
       "      <td>0.0</td>\n",
       "      <td>0.0</td>\n",
       "      <td>0</td>\n",
       "      <td>4</td>\n",
       "      <td>30</td>\n",
       "      <td>0</td>\n",
       "      <td>...</td>\n",
       "      <td>0.0</td>\n",
       "      <td>0.0</td>\n",
       "      <td>0.0</td>\n",
       "      <td>0.0</td>\n",
       "      <td>-1.0</td>\n",
       "      <td>0.0</td>\n",
       "      <td>0.0</td>\n",
       "      <td>0.0</td>\n",
       "      <td>NaN</td>\n",
       "      <td>NaN</td>\n",
       "    </tr>\n",
       "    <tr>\n",
       "      <th>3</th>\n",
       "      <td>0</td>\n",
       "      <td>2</td>\n",
       "      <td>29</td>\n",
       "      <td>1</td>\n",
       "      <td>0.0</td>\n",
       "      <td>0.0</td>\n",
       "      <td>0</td>\n",
       "      <td>4</td>\n",
       "      <td>23</td>\n",
       "      <td>0</td>\n",
       "      <td>...</td>\n",
       "      <td>0.0</td>\n",
       "      <td>0.0</td>\n",
       "      <td>0.0</td>\n",
       "      <td>0.0</td>\n",
       "      <td>-1.0</td>\n",
       "      <td>0.0</td>\n",
       "      <td>0.0</td>\n",
       "      <td>0.0</td>\n",
       "      <td>NaN</td>\n",
       "      <td>NaN</td>\n",
       "    </tr>\n",
       "    <tr>\n",
       "      <th>4</th>\n",
       "      <td>0</td>\n",
       "      <td>2</td>\n",
       "      <td>32</td>\n",
       "      <td>0</td>\n",
       "      <td>0.0</td>\n",
       "      <td>0.0</td>\n",
       "      <td>0</td>\n",
       "      <td>4</td>\n",
       "      <td>40</td>\n",
       "      <td>1</td>\n",
       "      <td>...</td>\n",
       "      <td>0.0</td>\n",
       "      <td>0.0</td>\n",
       "      <td>0.0</td>\n",
       "      <td>0.0</td>\n",
       "      <td>-1.0</td>\n",
       "      <td>0.0</td>\n",
       "      <td>0.0</td>\n",
       "      <td>0.0</td>\n",
       "      <td>NaN</td>\n",
       "      <td>NaN</td>\n",
       "    </tr>\n",
       "  </tbody>\n",
       "</table>\n",
       "<p>5 rows × 105 columns</p>\n",
       "</div>"
      ],
      "text/plain": [
       "   date_block_num  shop_id  item_id  category  revenue_month  item_cnt_month  \\\n",
       "0               0        2       19         1            0.0             0.0   \n",
       "1               0        2       27         0         2499.0             1.0   \n",
       "2               0        2       28         1            0.0             0.0   \n",
       "3               0        2       29         1            0.0             0.0   \n",
       "4               0        2       32         0            0.0             0.0   \n",
       "\n",
       "   shop_city  shop_category  item_category_id  name_1  ...  \\\n",
       "0          0              4                40    2112  ...   \n",
       "1          0              4                19       0  ...   \n",
       "2          0              4                30       0  ...   \n",
       "3          0              4                23       0  ...   \n",
       "4          0              4                40       1  ...   \n",
       "\n",
       "   type_code_avg_item_cnt_month_lag_12  type_code_avg_revenue_month_lag_1  \\\n",
       "0                                  0.0                                0.0   \n",
       "1                                  0.0                                0.0   \n",
       "2                                  0.0                                0.0   \n",
       "3                                  0.0                                0.0   \n",
       "4                                  0.0                                0.0   \n",
       "\n",
       "   subtype_code_avg_item_cnt_month_lag_1  \\\n",
       "0                                    0.0   \n",
       "1                                    0.0   \n",
       "2                                    0.0   \n",
       "3                                    0.0   \n",
       "4                                    0.0   \n",
       "\n",
       "   subtype_code_avg_revenue_month_lag_1  delta_price_lag  last_item_avg_price  \\\n",
       "0                                   0.0             -1.0                  0.0   \n",
       "1                                   0.0             -1.0                  0.0   \n",
       "2                                   0.0             -1.0                  0.0   \n",
       "3                                   0.0             -1.0                  0.0   \n",
       "4                                   0.0             -1.0                  0.0   \n",
       "\n",
       "   last_shop_item_avg_price  last_price_diff  last_price_ratio  \\\n",
       "0                       0.0              0.0               NaN   \n",
       "1                       0.0              0.0               NaN   \n",
       "2                       0.0              0.0               NaN   \n",
       "3                       0.0              0.0               NaN   \n",
       "4                       0.0              0.0               NaN   \n",
       "\n",
       "   shop_id_item_id_avg_delta_revenue_lag_1  \n",
       "0                                      NaN  \n",
       "1                                      NaN  \n",
       "2                                      NaN  \n",
       "3                                      NaN  \n",
       "4                                      NaN  \n",
       "\n",
       "[5 rows x 105 columns]"
      ]
     },
     "execution_count": 150,
     "metadata": {},
     "output_type": "execute_result"
    }
   ],
   "source": [
    "train_mix.head()"
   ]
  },
  {
   "cell_type": "code",
   "execution_count": 156,
   "metadata": {},
   "outputs": [
    {
     "data": {
      "text/plain": [
       "80"
      ]
     },
     "execution_count": 156,
     "metadata": {},
     "output_type": "execute_result"
    }
   ],
   "source": [
    "gc.collect()"
   ]
  },
  {
   "cell_type": "code",
   "execution_count": 153,
   "metadata": {},
   "outputs": [],
   "source": [
    "train_mix['month'] = train_mix['date_block_num'] % 12\n",
    "days = pd.Series([31,28,31,30,31,30,31,31,30,31,30,31])\n",
    "train_mix['days'] = train_mix['month'].map(days).astype(np.int8)"
   ]
  },
  {
   "cell_type": "code",
   "execution_count": 154,
   "metadata": {},
   "outputs": [
    {
     "data": {
      "text/plain": [
       "1913.8715703487396"
      ]
     },
     "execution_count": 154,
     "metadata": {},
     "output_type": "execute_result"
    }
   ],
   "source": [
    "ts = time.time()\n",
    "cache = {}\n",
    "train_mix['item_shop_last_sale'] = -1\n",
    "train_mix['item_shop_last_sale'] = train_mix['item_shop_last_sale'].astype(np.int8)\n",
    "for idx, row in train_mix.iterrows():    \n",
    "    key = str(row.item_id)+' '+str(row.shop_id)\n",
    "    if key not in cache:\n",
    "        if row.item_cnt_month!=0:\n",
    "            cache[key] = row.date_block_num\n",
    "    else:\n",
    "        last_date_block_num = cache[key]\n",
    "        train_mix.at[idx, 'item_shop_last_sale'] = row.date_block_num - last_date_block_num\n",
    "        cache[key] = row.date_block_num         \n",
    "time.time() - ts"
   ]
  },
  {
   "cell_type": "code",
   "execution_count": 169,
   "metadata": {},
   "outputs": [
    {
     "data": {
      "text/plain": [
       "1033.5302782058716"
      ]
     },
     "execution_count": 169,
     "metadata": {},
     "output_type": "execute_result"
    }
   ],
   "source": [
    "ts = time.time()\n",
    "cache = {}\n",
    "train_mix['item_last_sale'] = -1\n",
    "train_mix['item_last_sale'] = train_mix['item_last_sale'].astype(np.int8)\n",
    "for idx, row in train_mix.iterrows():    \n",
    "    key = row.item_id\n",
    "    if key not in cache:\n",
    "        if row.item_cnt_month!=0:\n",
    "            cache[key] = row.date_block_num\n",
    "    else:\n",
    "        last_date_block_num = cache[key]\n",
    "        if row.date_block_num>last_date_block_num:\n",
    "            train_mix.at[idx, 'item_last_sale'] = row.date_block_num - last_date_block_num\n",
    "            cache[key] = row.date_block_num         \n",
    "time.time() - ts"
   ]
  },
  {
   "cell_type": "code",
   "execution_count": 165,
   "metadata": {},
   "outputs": [],
   "source": [
    "train_mix['category'] = train_mix['category'].astype(np.int8)\n",
    "train_mix['name_1'] = train_mix['name_1'].astype(np.int16)\n",
    "train_mix['name_2'] = train_mix['name_2'].astype(np.int16)\n",
    "train_mix['name_3'] = train_mix['name_3'].astype(np.int16)\n",
    "train_mix['name_4'] = train_mix['name_4'].astype(np.int16)\n",
    "train_mix['name_5'] = train_mix['name_5'].astype(np.int16)"
   ]
  },
  {
   "cell_type": "code",
   "execution_count": 167,
   "metadata": {},
   "outputs": [],
   "source": [
    "train_mix['language'] = train_mix['language'].astype(np.int8)\n",
    "train_mix['isbd'] = train_mix['isbd'].astype(np.int8)\n",
    "train_mix['isрегион'] = train_mix['isрегион'].astype(np.int8)\n",
    "train_mix['isjewel'] = train_mix['isjewel'].astype(np.int8)\n",
    "train_mix['isdigital'] = train_mix['isdigital'].astype(np.int8)\n",
    "train_mix['console'] = train_mix['console'].astype(np.int8)\n",
    "train_mix['has_cd'] = train_mix['has_cd'].astype(np.int8)\n",
    "train_mix['has_dvd'] = train_mix['has_dvd'].astype(np.int8)\n",
    "train_mix['has_mp3'] = train_mix['has_mp3'].astype(np.int8)\n",
    "train_mix['has_lp'] = train_mix['has_lp'].astype(np.int8)\n",
    "train_mix['version'] = train_mix['version'].astype(np.int8)"
   ]
  },
  {
   "cell_type": "code",
   "execution_count": 153,
   "metadata": {},
   "outputs": [
    {
     "data": {
      "text/plain": [
       "115.41017627716064"
      ]
     },
     "execution_count": 153,
     "metadata": {},
     "output_type": "execute_result"
    }
   ],
   "source": [
    "ts = time.time()\n",
    "group = sales_group.groupby(['item_id','shop_id']).agg({'date_block_num': 'min'})\n",
    "group.columns = ['item_shop_month1']\n",
    "group.reset_index(inplace=True)\n",
    "\n",
    "train_mix = pd.merge(train_mix, group, on = ['item_id', 'shop_id'], how ='left')\n",
    "train_mix['item_shop_first_sale'] = train_mix['date_block_num'] - train_mix['item_shop_month1']\n",
    "train_mix.drop('item_shop_month1', axis = 1, inplace = True)\n",
    "\n",
    "group = sales_group.groupby('item_id').agg({'date_block_num': 'min'})\n",
    "group.columns = ['item_month1']\n",
    "group.reset_index(inplace = True)\n",
    "\n",
    "train_mix = pd.merge(train_mix, group, on = ['item_id'], how = 'left')\n",
    "train_mix['item_first_sale'] = train_mix['date_block_num'] - train_mix['item_month1']\n",
    "train_mix.drop('item_month1', axis = 1, inplace = True)\n",
    "\n",
    "del group\n",
    "gc.collect()\n",
    "\n",
    "time.time() - ts"
   ]
  },
  {
   "cell_type": "markdown",
   "metadata": {},
   "source": [
    "First_sale feature is the key feature to fit category 2 data in the test set because first_sale represents item that has not been sold before"
   ]
  },
  {
   "cell_type": "code",
   "execution_count": 157,
   "metadata": {},
   "outputs": [],
   "source": [
    "train_mix['item_shop_first_sale'] = train_mix['date_block_num'] - train_mix.groupby(['item_id','shop_id'])['date_block_num'].transform('min')\n",
    "train_mix['item_first_sale'] = train_mix['date_block_num'] - train_mix.groupby('item_id')['date_block_num'].transform('min')"
   ]
  },
  {
   "cell_type": "code",
   "execution_count": 110,
   "metadata": {},
   "outputs": [
    {
     "data": {
      "text/plain": [
       "214.86628603935242"
      ]
     },
     "execution_count": 110,
     "metadata": {},
     "output_type": "execute_result"
    }
   ],
   "source": [
    "ts = time.time()\n",
    "\n",
    "group = sales_group.groupby(['name_1','shop_id']).agg({'date_block_num': 'min'})\n",
    "group.columns = ['n1_shop_month1']\n",
    "group.reset_index(inplace=True)\n",
    "\n",
    "train_mix = pd.merge(train_mix, group, on = ['name_1', 'shop_id'], how ='left')\n",
    "train_mix['n1_shop_first_sale'] = train_mix['date_block_num'] - train_mix['n1_shop_month1']\n",
    "train_mix.drop('n1_shop_month1', axis = 1, inplace = True)\n",
    "\n",
    "group = sales_group.groupby(['name_2','shop_id']).agg({'date_block_num': 'min'})\n",
    "group.columns = ['n2_shop_month1']\n",
    "group.reset_index(inplace=True)\n",
    "\n",
    "train_mix = pd.merge(train_mix, group, on = ['name_2', 'shop_id'], how ='left')\n",
    "train_mix['n2_shop_first_sale'] = train_mix['date_block_num'] - train_mix['n2_shop_month1']\n",
    "train_mix.drop('n2_shop_month1', axis = 1, inplace = True)\n",
    "\n",
    "group = sales_group.groupby(['name_1']).agg({'date_block_num': 'min'})\n",
    "group.columns = ['n1_month1']\n",
    "group.reset_index(inplace=True)\n",
    "\n",
    "train_mix = pd.merge(train_mix, group, on = ['name_1'], how ='left')\n",
    "train_mix['n1_first_sale'] = train_mix['date_block_num'] - train_mix['n1_month1']\n",
    "train_mix.drop('n1_month1', axis = 1, inplace = True)\n",
    "\n",
    "group = sales_group.groupby(['name_2']).agg({'date_block_num': 'min'})\n",
    "group.columns = ['n2_month1']\n",
    "group.reset_index(inplace=True)\n",
    "\n",
    "train_mix = pd.merge(train_mix, group, on = ['name_2'], how ='left')\n",
    "train_mix['n2_first_sale'] = train_mix['date_block_num'] - train_mix['n2_month1']\n",
    "train_mix.drop('n2_month1', axis = 1, inplace = True)\n",
    "\n",
    "time.time() - ts"
   ]
  },
  {
   "cell_type": "code",
   "execution_count": 139,
   "metadata": {},
   "outputs": [],
   "source": [
    "train_mix['first_sale_diff'] = train_mix['item_first_sale'] - train_mix['item_shop_first_sale']\n",
    "train_mix['isChristmas'] = 0\n",
    "train_mix.loc[(train_mix['date_block_num']%12==11),'isChristmas']=1\n",
    "train_mix['interval_last_Christmas'] = 11 - (train_mix['date_block_num']%12)\n",
    "train_mix['interval_first_Christmas'] = (train_mix['date_block_num']%12) + 1\n",
    "train_mix['item_new'] = 0\n",
    "train_mix.loc[(train_mix['item_first_sale']>=0)&(train_mix['item_first_sale']<=1),'item_new'] = 1\n",
    "train_mix['item_shop_new'] = 0\n",
    "train_mix.loc[(train_mix['item_shop_first_sale']>=0)&(train_mix['item_shop_first_sale']<=1),'item_shop_new'] = 1"
   ]
  },
  {
   "cell_type": "code",
   "execution_count": 18,
   "metadata": {},
   "outputs": [],
   "source": [
    "train_mix.fillna({'n1_first_sale': 0,\n",
    "                  'n2_first_sale': 0},\n",
    "                inplace = True)"
   ]
  },
  {
   "cell_type": "code",
   "execution_count": 19,
   "metadata": {},
   "outputs": [],
   "source": [
    "train_mix.fillna({'n1_shop_first_sale': -100,\n",
    "                  'n2_shop_first_sale': -100},\n",
    "                inplace = True)"
   ]
  },
  {
   "cell_type": "markdown",
   "metadata": {},
   "source": [
    "n1_new and n2_new features determine whether an item has never been heard of before."
   ]
  },
  {
   "cell_type": "code",
   "execution_count": 51,
   "metadata": {},
   "outputs": [],
   "source": [
    "train_mix['n1_new'] = 0\n",
    "train_mix.loc[(train_mix['n1_first_sale']>=0)&(train_mix['n1_first_sale']<=1),'n1_new'] = 1\n",
    "train_mix['n2_new'] = 0\n",
    "train_mix.loc[(train_mix['n2_first_sale']>=0)&(train_mix['n2_first_sale']<=1),'n2_new'] = 1\n",
    "\n",
    "train_mix['n1_shop_new'] = 0\n",
    "train_mix.loc[(train_mix['n1_shop_first_sale']>=0)&(train_mix['n1_shop_first_sale']<=1),'n1_shop_new'] = 1\n",
    "train_mix['n2_shop_new'] = 0\n",
    "train_mix.loc[(train_mix['n2_shop_first_sale']>=0)&(train_mix['n2_shop_first_sale']<=1),'n2_shop_new'] = 1"
   ]
  },
  {
   "cell_type": "markdown",
   "metadata": {},
   "source": [
    "Shop open date"
   ]
  },
  {
   "cell_type": "code",
   "execution_count": 173,
   "metadata": {},
   "outputs": [
    {
     "data": {
      "text/plain": [
       "0.4828307628631592"
      ]
     },
     "execution_count": 173,
     "metadata": {},
     "output_type": "execute_result"
    }
   ],
   "source": [
    "ts = time.time()\n",
    "\n",
    "train_mix['shop_since_open'] = train_mix['date_block_num'] - train_mix.groupby(['shop_id'])['date_block_num'].transform('min')\n",
    "\n",
    "time.time() - ts"
   ]
  },
  {
   "cell_type": "code",
   "execution_count": 174,
   "metadata": {},
   "outputs": [],
   "source": [
    "group = train_mix.loc[train_mix['date_block_num']<=33].groupby(['shop_id']).agg({'date_block_num':'max'})\n",
    "group.columns = ['max_date']\n",
    "group.reset_index(inplace=True)\n",
    "\n",
    "train_mix = pd.merge(train_mix, group, on=['shop_id'], how='left')\n",
    "train_mix['max_date'] = train_mix['max_date'].astype(np.int8)"
   ]
  },
  {
   "cell_type": "code",
   "execution_count": 175,
   "metadata": {},
   "outputs": [],
   "source": [
    "train_mix['shop_duration'] = train_mix['max_date'] - train_mix['shop_since_open']"
   ]
  },
  {
   "cell_type": "code",
   "execution_count": 17,
   "metadata": {},
   "outputs": [
    {
     "data": {
      "text/plain": [
       "['last_price_ratio',\n",
       " 'shop_id_item_id_avg_delta_revenue_lag_1',\n",
       " 'n1_shop_first_sale',\n",
       " 'n2_shop_first_sale',\n",
       " 'n1_first_sale',\n",
       " 'n2_first_sale']"
      ]
     },
     "execution_count": 17,
     "metadata": {},
     "output_type": "execute_result"
    }
   ],
   "source": [
    "train_mix.columns[train_mix.isna().any()].tolist()"
   ]
  },
  {
   "cell_type": "code",
   "execution_count": 20,
   "metadata": {},
   "outputs": [],
   "source": [
    "train_mix['isChristmas'] = train_mix['isChristmas'].astype(np.int8)\n",
    "train_mix['item_new'] = train_mix['item_new'].astype(np.int8)\n",
    "train_mix['item_shop_new'] = train_mix['item_shop_new'].astype(np.int8)\n",
    "train_mix['max_date'] = train_mix['max_date'].astype(np.int8)\n",
    "train_mix['shop_duration'] = train_mix['shop_duration'].astype(np.int8)\n",
    "train_mix['n1_new'] = train_mix['n1_new'].astype(np.int8)\n",
    "train_mix['n2_new'] = train_mix['n2_new'].astype(np.int8)\n",
    "train_mix['n1_shop_new'] = train_mix['n1_shop_new'].astype(np.int8)\n",
    "train_mix['n2_shop_new'] = train_mix['n2_shop_new'].astype(np.int8)\n",
    "train_mix['n1_shop_first_sale'] = train_mix['n1_shop_first_sale'].astype(np.int8)\n",
    "train_mix['n2_shop_first_sale'] = train_mix['n2_shop_first_sale'].astype(np.int8)\n",
    "train_mix['n1_first_sale'] = train_mix['n1_first_sale'].astype(np.int8)\n",
    "train_mix['n2_first_sale'] = train_mix['n2_first_sale'].astype(np.int8)"
   ]
  },
  {
   "cell_type": "code",
   "execution_count": 51,
   "metadata": {},
   "outputs": [
    {
     "data": {
      "text/plain": [
       "-33.0"
      ]
     },
     "execution_count": 51,
     "metadata": {},
     "output_type": "execute_result"
    }
   ],
   "source": [
    "train_mix['n2_shop_first_sale'].min()"
   ]
  },
  {
   "cell_type": "code",
   "execution_count": 23,
   "metadata": {},
   "outputs": [
    {
     "data": {
      "text/plain": [
       "3.6521201133728027"
      ]
     },
     "execution_count": 23,
     "metadata": {},
     "output_type": "execute_result"
    }
   ],
   "source": [
    "ts = time.time()\n",
    "def fill_na(df):\n",
    "    for col in df.columns:\n",
    "        if ('_lag_' in col) & (df[col].isnull().any()):\n",
    "            if ('item_cnt' in col):\n",
    "                df[col].fillna(0, inplace=True)         \n",
    "    return df\n",
    "\n",
    "train_mix = fill_na(train_mix)\n",
    "time.time() - ts"
   ]
  },
  {
   "cell_type": "code",
   "execution_count": 122,
   "metadata": {},
   "outputs": [],
   "source": [
    "train_mix.loc[train_mix['delta_price_lag']==-1, 'delta_price_lag'] = 0"
   ]
  },
  {
   "cell_type": "code",
   "execution_count": 93,
   "metadata": {},
   "outputs": [],
   "source": [
    "cols = [col for col in item.columns.values if col not in ['name_2','name_3','name_4','name_5','item_category_id']]\n",
    "train_mix = pd.merge(train_mix, item[cols], on=['item_id'], how='left')"
   ]
  },
  {
   "cell_type": "code",
   "execution_count": 24,
   "metadata": {},
   "outputs": [
    {
     "data": {
      "text/plain": [
       "183.37000441551208"
      ]
     },
     "execution_count": 24,
     "metadata": {},
     "output_type": "execute_result"
    }
   ],
   "source": [
    "ts = time.time()\n",
    "\n",
    "lags = [1,2,3,4,5,6,7,8,9,10,11,12,13,14]\n",
    "groupcols = ['shop_id','name_1','item_new']\n",
    "col = 'item_cnt_month'\n",
    "train_mix = lag_feature(train_mix,lags,groupcols,col,'no')\n",
    "new_col = '_'.join(groupcols)+'_avg_'+str(col)\n",
    "cols_new = [new_col+'_lag_'+str(i) for i in lags]\n",
    "cols_old = [new_col+'_lag_'+str(i) for i in [1,2,3]]\n",
    "train_mix.loc[train_mix['item_new']==1,'shop_n1_new_avg_item_cnt'] = train_mix[cols_new].mean(axis=1)\n",
    "train_mix.loc[train_mix['item_new']==0,'shop_n1_new_avg_item_cnt'] = train_mix[cols_old].mean(axis=1)\n",
    "train_mix['shop_n1_new_avg_item_cnt'] = train_mix['shop_n1_new_avg_item_cnt'].astype(np.float16)\n",
    "\n",
    "train_mix.drop(cols_new, axis=1, inplace = True)\n",
    "train_mix.fillna({'shop_n1_new_avg_item_cnt':0}, inplace = True)\n",
    "\n",
    "time.time() - ts"
   ]
  },
  {
   "cell_type": "code",
   "execution_count": null,
   "metadata": {},
   "outputs": [],
   "source": [
    "ts = time.time()\n",
    "\n",
    "lags = [1,2,3,4,5,6,7,8,9,10,11,12,13,14]\n",
    "groupcols = ['shop_id','name_1','item_new']\n",
    "col = 'item_cnt_month'\n",
    "train_mix = lag_feature(train_mix,lags,groupcols,col,'no')\n",
    "new_col = '_'.join(groupcols)+'_avg_'+str(col)\n",
    "cols_new = [new_col+'_lag_'+str(i) for i in lags]\n",
    "cols_old = [new_col+'_lag_'+str(i) for i in [1,2,3]]\n",
    "train_mix.loc[train_mix['item_new']==1,'shop_n1_new_max_item_cnt'] = train_mix[cols_new].max(axis=1)\n",
    "train_mix.loc[train_mix['item_new']==0,'shop_n1_new_max_item_cnt'] = train_mix[cols_old].max(axis=1)\n",
    "train_mix['shop_n1_new_max_item_cnt'] = train_mix['shop_n1_new_max_item_cnt'].astype(np.float16)\n",
    "\n",
    "train_mix.drop(cols_new, axis=1, inplace = True)\n",
    "train_mix.fillna({'shop_n1_new_max_item_cnt':0}, inplace = True)\n",
    "\n",
    "time.time() - ts"
   ]
  },
  {
   "cell_type": "code",
   "execution_count": 25,
   "metadata": {},
   "outputs": [
    {
     "data": {
      "text/plain": [
       "224.42184376716614"
      ]
     },
     "execution_count": 25,
     "metadata": {},
     "output_type": "execute_result"
    }
   ],
   "source": [
    "ts = time.time()\n",
    "\n",
    "lags = [1,2,3,4,5,6,7,8,9,10,11,12,13,14]\n",
    "groupcols = ['shop_id','name_2','item_new']\n",
    "col = 'item_cnt_month'\n",
    "train_mix = lag_feature(train_mix,lags,groupcols,col,'no')\n",
    "new_col = '_'.join(groupcols)+'_avg_'+str(col)\n",
    "cols_new = [new_col+'_lag_'+str(i) for i in lags]\n",
    "cols_old = [new_col+'_lag_'+str(i) for i in [1,2,3]]\n",
    "train_mix.loc[train_mix['item_new']==1,'shop_n2_new_avg_item_cnt'] = train_mix[cols_new].mean(axis=1)\n",
    "train_mix.loc[train_mix['item_new']==0,'shop_n2_new_avg_item_cnt'] = train_mix[cols_old].mean(axis=1)\n",
    "train_mix['shop_n2_new_avg_item_cnt'] = train_mix['shop_n2_new_avg_item_cnt'].astype(np.float16)\n",
    "\n",
    "train_mix.drop(cols_new, axis=1, inplace = True)\n",
    "train_mix.fillna({'shop_n2_new_avg_item_cnt':0}, inplace = True)\n",
    "\n",
    "time.time() - ts"
   ]
  },
  {
   "cell_type": "code",
   "execution_count": null,
   "metadata": {},
   "outputs": [],
   "source": [
    "ts = time.time()\n",
    "\n",
    "lags = [1,2,3,4,5,6,7,8,9,10,11,12,13,14]\n",
    "groupcols = ['shop_id','name_2','item_new']\n",
    "col = 'item_cnt_month'\n",
    "train_mix = lag_feature(train_mix,lags,groupcols,col,'no')\n",
    "new_col = '_'.join(groupcols)+'_avg_'+str(col)\n",
    "cols_new = [new_col+'_lag_'+str(i) for i in lags]\n",
    "cols_old = [new_col+'_lag_'+str(i) for i in [1,2,3]]\n",
    "train_mix.loc[train_mix['item_new']==1,'shop_n2_new_max_item_cnt'] = train_mix[cols_new].max(axis=1)\n",
    "train_mix.loc[train_mix['item_new']==0,'shop_n2_new_max_item_cnt'] = train_mix[cols_old].max(axis=1)\n",
    "train_mix['shop_n2_new_max_item_cnt'] = train_mix['shop_n2_new_max_item_cnt'].astype(np.float16)\n",
    "\n",
    "train_mix.drop(cols_new, axis=1, inplace = True)\n",
    "train_mix.fillna({'shop_n2_new_max_item_cnt':0}, inplace = True)\n",
    "\n",
    "time.time() - ts"
   ]
  },
  {
   "cell_type": "code",
   "execution_count": 26,
   "metadata": {},
   "outputs": [
    {
     "data": {
      "text/plain": [
       "255.4257254600525"
      ]
     },
     "execution_count": 26,
     "metadata": {},
     "output_type": "execute_result"
    }
   ],
   "source": [
    "ts = time.time()\n",
    "\n",
    "lags = [1,2,3,4,5,6,7,8,9,10,11,12,13,14]\n",
    "groupcols = ['shop_id','name_3','item_new']\n",
    "col = 'item_cnt_month'\n",
    "train_mix = lag_feature(train_mix,lags, groupcols, col,'no')\n",
    "new_col = '_'.join(groupcols)+'_avg_'+str(col)\n",
    "cols_new = [new_col+'_lag_'+str(i) for i in lags]\n",
    "cols_old = [new_col+'_lag_'+str(i) for i in [1,2,3]]\n",
    "train_mix.loc[train_mix['item_new']==1,'shop_n3_new_avg_item_cnt'] = train_mix[cols_new].mean(axis=1)\n",
    "train_mix.loc[train_mix['item_new']==0,'shop_n3_new_avg_item_cnt'] = train_mix[cols_old].mean(axis=1)\n",
    "train_mix['shop_n3_new_avg_item_cnt'] = train_mix['shop_n3_new_avg_item_cnt'].astype(np.float16)\n",
    "\n",
    "train_mix.drop(cols_new, axis=1, inplace = True)\n",
    "train_mix.fillna({'shop_n3_new_avg_item_cnt':0}, inplace = True)\n",
    "\n",
    "time.time() - ts"
   ]
  },
  {
   "cell_type": "code",
   "execution_count": null,
   "metadata": {},
   "outputs": [],
   "source": [
    "ts = time.time()\n",
    "\n",
    "lags = [1,2,3,4,5,6,7,8,9,10,11,12,13,14]\n",
    "groupcols = ['shop_id','name_3','item_new']\n",
    "col = 'item_cnt_month'\n",
    "train_mix = lag_feature(train_mix,lags, groupcols, col,'no')\n",
    "new_col = '_'.join(groupcols)+'_avg_'+str(col)\n",
    "cols_new = [new_col+'_lag_'+str(i) for i in lags]\n",
    "cols_old = [new_col+'_lag_'+str(i) for i in [1,2,3]]\n",
    "train_mix.loc[train_mix['item_new']==1,'shop_n3_new_max_item_cnt'] = train_mix[cols_new].mean(axis=1)\n",
    "train_mix.loc[train_mix['item_new']==0,'shop_n3_new_max_item_cnt'] = train_mix[cols_old].mean(axis=1)\n",
    "train_mix['shop_n3_new_max_item_cnt'] = train_mix['shop_n3_new_max_item_cnt'].astype(np.float16)\n",
    "\n",
    "train_mix.drop(cols_new, axis=1, inplace = True)\n",
    "train_mix.fillna({'shop_n3_new_max_item_cnt':0}, inplace = True)\n",
    "\n",
    "time.time() - ts"
   ]
  },
  {
   "cell_type": "code",
   "execution_count": 27,
   "metadata": {},
   "outputs": [
    {
     "data": {
      "text/plain": [
       "206.93347024917603"
      ]
     },
     "execution_count": 27,
     "metadata": {},
     "output_type": "execute_result"
    }
   ],
   "source": [
    "ts = time.time()\n",
    "\n",
    "lags = [1,2,3,4,5,6,7,8,9,10,11,12,13,14]\n",
    "groupcols = ['shop_id','name_1','version','item_new']\n",
    "col = 'item_cnt_month'\n",
    "train_mix = lag_feature(train_mix,lags, groupcols, col,'no')\n",
    "new_col = '_'.join(groupcols)+'_avg_'+str(col)\n",
    "cols_new = [new_col+'_lag_'+str(i) for i in lags]\n",
    "cols_old = [new_col+'_lag_'+str(i) for i in [1,2,3]]\n",
    "train_mix.loc[train_mix['item_new']==1,'shop_n1_ver_new_avg_item_cnt'] = train_mix[cols_new].mean(axis=1)\n",
    "train_mix.loc[train_mix['item_new']==0,'shop_n1_ver_new_avg_item_cnt'] = train_mix[cols_old].mean(axis=1)\n",
    "train_mix['shop_n1_ver_new_avg_item_cnt'] = train_mix['shop_n1_ver_new_avg_item_cnt'].astype(np.float16)\n",
    "\n",
    "train_mix.drop(cols_new, axis=1, inplace = True)\n",
    "train_mix.fillna({'shop_n1_ver_new_avg_item_cnt':0}, inplace = True)\n",
    "\n",
    "time.time() - ts"
   ]
  },
  {
   "cell_type": "code",
   "execution_count": null,
   "metadata": {},
   "outputs": [],
   "source": [
    "ts = time.time()\n",
    "\n",
    "lags = [1,2,3,4,5,6,7,8,9,10,11,12,13,14]\n",
    "groupcols = ['shop_id','name_1','version','item_new']\n",
    "col = 'item_cnt_month'\n",
    "train_mix = lag_feature(train_mix,lags, groupcols, col,'no')\n",
    "new_col = '_'.join(groupcols)+'_avg_'+str(col)\n",
    "cols_new = [new_col+'_lag_'+str(i) for i in lags]\n",
    "cols_old = [new_col+'_lag_'+str(i) for i in [1,2,3]]\n",
    "train_mix.loc[train_mix['item_new']==1,'shop_n1_ver_new_max_item_cnt'] = train_mix[cols_new].max(axis=1)\n",
    "train_mix.loc[train_mix['item_new']==0,'shop_n1_ver_new_max_item_cnt'] = train_mix[cols_old].max(axis=1)\n",
    "train_mix['shop_n1_ver_new_max_item_cnt'] = train_mix['shop_n1_ver_new_max_item_cnt'].astype(np.float16)\n",
    "\n",
    "train_mix.drop(cols_new, axis=1, inplace = True)\n",
    "train_mix.fillna({'shop_n1_ver_new_max_item_cnt':0}, inplace = True)\n",
    "\n",
    "time.time() - ts"
   ]
  },
  {
   "cell_type": "code",
   "execution_count": 28,
   "metadata": {},
   "outputs": [
    {
     "data": {
      "text/plain": [
       "236.21792602539062"
      ]
     },
     "execution_count": 28,
     "metadata": {},
     "output_type": "execute_result"
    }
   ],
   "source": [
    "ts = time.time()\n",
    "\n",
    "lags = [1,2,3,4,5,6,7,8,9,10,11,12,13,14]\n",
    "groupcols = ['shop_id','name_2','version','item_new']\n",
    "col = 'item_cnt_month'\n",
    "train_mix = lag_feature(train_mix,lags, groupcols, col,'no')\n",
    "new_col = '_'.join(groupcols)+'_avg_'+str(col)\n",
    "cols_new = [new_col+'_lag_'+str(i) for i in lags]\n",
    "cols_old = [new_col+'_lag_'+str(i) for i in [1,2,3]]\n",
    "train_mix.loc[train_mix['item_new']==1,'shop_n2_ver_new_avg_item_cnt'] = train_mix[cols_new].mean(axis=1)\n",
    "train_mix.loc[train_mix['item_new']==0,'shop_n2_ver_new_avg_item_cnt'] = train_mix[cols_old].mean(axis=1)\n",
    "train_mix['shop_n2_ver_new_avg_item_cnt'] = train_mix['shop_n2_ver_new_avg_item_cnt'].astype(np.float16)\n",
    "\n",
    "train_mix.drop(cols_new, axis=1, inplace = True)\n",
    "train_mix.fillna({'shop_n2_ver_new_avg_item_cnt':0}, inplace = True)\n",
    "\n",
    "time.time() - ts"
   ]
  },
  {
   "cell_type": "code",
   "execution_count": null,
   "metadata": {},
   "outputs": [],
   "source": [
    "ts = time.time()\n",
    "\n",
    "lags = [1,2,3,4,5,6,7,8,9,10,11,12,13,14]\n",
    "groupcols = ['shop_id','name_2','version','item_new']\n",
    "col = 'item_cnt_month'\n",
    "train_mix = lag_feature(train_mix,lags, groupcols, col,'no')\n",
    "new_col = '_'.join(groupcols)+'_avg_'+str(col)\n",
    "cols_new = [new_col+'_lag_'+str(i) for i in lags]\n",
    "cols_old = [new_col+'_lag_'+str(i) for i in [1,2,3]]\n",
    "train_mix.loc[train_mix['item_new']==1,'shop_n2_ver_new_max_item_cnt'] = train_mix[cols_new].max(axis=1)\n",
    "train_mix.loc[train_mix['item_new']==0,'shop_n2_ver_new_max_item_cnt'] = train_mix[cols_old].max(axis=1)\n",
    "train_mix['shop_n2_ver_new_max_item_cnt'] = train_mix['shop_n2_ver_new_max_item_cnt'].astype(np.float16)\n",
    "\n",
    "train_mix.drop(cols_new, axis=1, inplace = True)\n",
    "train_mix.fillna({'shop_n2_ver_new_max_item_cnt':0}, inplace = True)\n",
    "\n",
    "time.time() - ts"
   ]
  },
  {
   "cell_type": "code",
   "execution_count": 29,
   "metadata": {},
   "outputs": [
    {
     "data": {
      "text/plain": [
       "219.51836681365967"
      ]
     },
     "execution_count": 29,
     "metadata": {},
     "output_type": "execute_result"
    }
   ],
   "source": [
    "ts = time.time()\n",
    "\n",
    "lags = [1,2,3,4,5,6,7,8,9,10,11,12,13,14]\n",
    "groupcols = ['shop_id','name_1','console','item_new']\n",
    "col = 'item_cnt_month'\n",
    "train_mix = lag_feature(train_mix,lags, groupcols, col,'no')\n",
    "new_col = '_'.join(groupcols)+'_avg_'+str(col)\n",
    "cols_new = [new_col+'_lag_'+str(i) for i in lags]\n",
    "cols_old = [new_col+'_lag_'+str(i) for i in [1,2,3]]\n",
    "train_mix.loc[train_mix['item_new']==1,'shop_n1_cons_new_avg_item_cnt'] = train_mix[cols_new].mean(axis=1)\n",
    "train_mix.loc[train_mix['item_new']==0,'shop_n1_cons_new_avg_item_cnt'] = train_mix[cols_old].mean(axis=1)\n",
    "train_mix['shop_n1_cons_new_avg_item_cnt'] = train_mix['shop_n1_cons_new_avg_item_cnt'].astype(np.float16)\n",
    "\n",
    "train_mix.drop(cols_new, axis=1, inplace = True)\n",
    "train_mix.fillna({'shop_n1_cons_new_avg_item_cnt':0}, inplace = True)\n",
    "\n",
    "time.time() - ts"
   ]
  },
  {
   "cell_type": "code",
   "execution_count": null,
   "metadata": {},
   "outputs": [],
   "source": [
    "ts = time.time()\n",
    "\n",
    "lags = [1,2,3,4,5,6,7,8,9,10,11,12,13,14]\n",
    "groupcols = ['shop_id','name_1','console','item_new']\n",
    "col = 'item_cnt_month'\n",
    "train_mix = lag_feature(train_mix,lags, groupcols, col,'no')\n",
    "new_col = '_'.join(groupcols)+'_avg_'+str(col)\n",
    "cols_new = [new_col+'_lag_'+str(i) for i in lags]\n",
    "cols_old = [new_col+'_lag_'+str(i) for i in [1,2,3]]\n",
    "train_mix.loc[train_mix['item_new']==1,'shop_n1_cons_new_max_item_cnt'] = train_mix[cols_new].max(axis=1)\n",
    "train_mix.loc[train_mix['item_new']==0,'shop_n1_cons_new_max_item_cnt'] = train_mix[cols_old].max(axis=1)\n",
    "train_mix['shop_n1_cons_new_max_item_cnt'] = train_mix['shop_n1_cons_new_max_item_cnt'].astype(np.float16)\n",
    "\n",
    "train_mix.drop(cols_new, axis=1, inplace = True)\n",
    "train_mix.fillna({'shop_n1_cons_new_max_item_cnt':0}, inplace = True)\n",
    "\n",
    "time.time() - ts"
   ]
  },
  {
   "cell_type": "code",
   "execution_count": 30,
   "metadata": {},
   "outputs": [
    {
     "data": {
      "text/plain": [
       "244.26563048362732"
      ]
     },
     "execution_count": 30,
     "metadata": {},
     "output_type": "execute_result"
    }
   ],
   "source": [
    "ts = time.time()\n",
    "\n",
    "lags = [1,2,3,4,5,6,7,8,9,10,11,12,13,14]\n",
    "groupcols = ['shop_id','name_2','console','item_new']\n",
    "col = 'item_cnt_month'\n",
    "train_mix = lag_feature(train_mix,lags, groupcols, col,'no')\n",
    "new_col = '_'.join(groupcols)+'_avg_'+str(col)\n",
    "cols_new = [new_col+'_lag_'+str(i) for i in lags]\n",
    "cols_old = [new_col+'_lag_'+str(i) for i in [1,2,3]]\n",
    "train_mix.loc[train_mix['item_new']==1,'shop_n2_cons_new_avg_item_cnt'] = train_mix[cols_new].mean(axis=1)\n",
    "train_mix.loc[train_mix['item_new']==0,'shop_n2_cons_new_avg_item_cnt'] = train_mix[cols_old].mean(axis=1)\n",
    "train_mix['shop_n2_cons_new_avg_item_cnt'] = train_mix['shop_n2_cons_new_avg_item_cnt'].astype(np.float16)\n",
    "\n",
    "train_mix.drop(cols_new, axis=1, inplace = True)\n",
    "train_mix.fillna({'shop_n2_cons_new_avg_item_cnt':0}, inplace = True)\n",
    "\n",
    "time.time() - ts"
   ]
  },
  {
   "cell_type": "code",
   "execution_count": null,
   "metadata": {},
   "outputs": [],
   "source": [
    "ts = time.time()\n",
    "\n",
    "lags = [1,2,3,4,5,6,7,8,9,10,11,12,13,14]\n",
    "groupcols = ['shop_id','name_2','console','item_new']\n",
    "col = 'item_cnt_month'\n",
    "train_mix = lag_feature(train_mix,lags, groupcols, col,'no')\n",
    "new_col = '_'.join(groupcols)+'_avg_'+str(col)\n",
    "cols_new = [new_col+'_lag_'+str(i) for i in lags]\n",
    "cols_old = [new_col+'_lag_'+str(i) for i in [1,2,3]]\n",
    "train_mix.loc[train_mix['item_new']==1,'shop_n2_cons_new_max_item_cnt'] = train_mix[cols_new].max(axis=1)\n",
    "train_mix.loc[train_mix['item_new']==0,'shop_n2_cons_new_max_item_cnt'] = train_mix[cols_old].max(axis=1)\n",
    "train_mix['shop_n2_cons_new_max_item_cnt'] = train_mix['shop_n2_cons_new_max_item_cnt'].astype(np.float16)\n",
    "\n",
    "train_mix.drop(cols_new, axis=1, inplace = True)\n",
    "train_mix.fillna({'shop_n2_cons_new_max_item_cnt':0}, inplace = True)\n",
    "\n",
    "time.time() - ts"
   ]
  },
  {
   "cell_type": "code",
   "execution_count": 90,
   "metadata": {},
   "outputs": [
    {
     "data": {
      "text/plain": [
       "217.29205179214478"
      ]
     },
     "execution_count": 90,
     "metadata": {},
     "output_type": "execute_result"
    }
   ],
   "source": [
    "ts = time.time()\n",
    "\n",
    "lags = [1,2,3,4,5,6,7,8,9,10,11,12,13,14]\n",
    "groupcols = ['shop_id','name_1','language','item_new']\n",
    "col = 'item_cnt_month'\n",
    "train_mix = lag_feature(train_mix,lags, groupcols, col,'no')\n",
    "new_col = '_'.join(groupcols)+'_avg_'+str(col)\n",
    "cols_new = [new_col+'_lag_'+str(i) for i in lags]\n",
    "cols_old = [new_col+'_lag_'+str(i) for i in [1,2,3]]\n",
    "train_mix.loc[train_mix['item_new']==1,'shop_n1_lang_new_avg_item_cnt'] = train_mix[cols_new].mean(axis=1)\n",
    "train_mix.loc[train_mix['item_new']==0,'shop_n1_lang_new_avg_item_cnt'] = train_mix[cols_old].mean(axis=1)\n",
    "train_mix['shop_n1_lang_new_avg_item_cnt'] = train_mix['shop_n1_lang_new_avg_item_cnt'].astype(np.float16)\n",
    "\n",
    "train_mix.drop(cols_new, axis=1, inplace = True)\n",
    "train_mix.fillna({'shop_n1_lang_new_avg_item_cnt':0}, inplace = True)\n",
    "\n",
    "time.time() - ts"
   ]
  },
  {
   "cell_type": "code",
   "execution_count": 91,
   "metadata": {},
   "outputs": [
    {
     "data": {
      "text/plain": [
       "251.2210352420807"
      ]
     },
     "execution_count": 91,
     "metadata": {},
     "output_type": "execute_result"
    }
   ],
   "source": [
    "ts = time.time()\n",
    "\n",
    "lags = [1,2,3,4,5,6,7,8,9,10,11,12,13,14]\n",
    "groupcols = ['shop_id','name_2','language','item_new']\n",
    "col = 'item_cnt_month'\n",
    "train_mix = lag_feature(train_mix,lags, groupcols, col,'no')\n",
    "new_col = '_'.join(groupcols)+'_avg_'+str(col)\n",
    "cols_new = [new_col+'_lag_'+str(i) for i in lags]\n",
    "cols_old = [new_col+'_lag_'+str(i) for i in [1,2,3]]\n",
    "train_mix.loc[train_mix['item_new']==1,'shop_n2_lang_new_avg_item_cnt'] = train_mix[cols_new].mean(axis=1)\n",
    "train_mix.loc[train_mix['item_new']==0,'shop_n2_lang_new_avg_item_cnt'] = train_mix[cols_old].mean(axis=1)\n",
    "train_mix['shop_n2_lang_new_avg_item_cnt'] = train_mix['shop_n2_lang_new_avg_item_cnt'].astype(np.float16)\n",
    "\n",
    "train_mix.drop(cols_new, axis=1, inplace = True)\n",
    "train_mix.fillna({'shop_n2_lang_new_avg_item_cnt':0}, inplace = True)\n",
    "\n",
    "time.time() - ts"
   ]
  },
  {
   "cell_type": "code",
   "execution_count": 92,
   "metadata": {},
   "outputs": [
    {
     "data": {
      "text/plain": [
       "226.25693035125732"
      ]
     },
     "execution_count": 92,
     "metadata": {},
     "output_type": "execute_result"
    }
   ],
   "source": [
    "ts = time.time()\n",
    "\n",
    "lags = [1,2,3,4,5,6,7,8,9,10,11,12,13,14]\n",
    "groupcols = ['shop_id','name_1','isрегион','item_new']\n",
    "col = 'item_cnt_month'\n",
    "train_mix = lag_feature(train_mix,lags, groupcols, col,'no')\n",
    "new_col = '_'.join(groupcols)+'_avg_'+str(col)\n",
    "cols_new = [new_col+'_lag_'+str(i) for i in lags]\n",
    "cols_old = [new_col+'_lag_'+str(i) for i in [1,2,3]]\n",
    "train_mix.loc[train_mix['item_new']==1,'shop_n1_рег_new_avg_item_cnt'] = train_mix[cols_new].mean(axis=1)\n",
    "train_mix.loc[train_mix['item_new']==0,'shop_n1_рег_new_avg_item_cnt'] = train_mix[cols_old].mean(axis=1)\n",
    "train_mix['shop_n1_рег_new_avg_item_cnt'] = train_mix['shop_n1_рег_new_avg_item_cnt'].astype(np.float16)\n",
    "\n",
    "train_mix.drop(cols_new, axis=1, inplace = True)\n",
    "train_mix.fillna({'shop_n1_рег_new_avg_item_cnt':0}, inplace = True)\n",
    "\n",
    "time.time() - ts"
   ]
  },
  {
   "cell_type": "code",
   "execution_count": 93,
   "metadata": {},
   "outputs": [
    {
     "data": {
      "text/plain": [
       "253.52968502044678"
      ]
     },
     "execution_count": 93,
     "metadata": {},
     "output_type": "execute_result"
    }
   ],
   "source": [
    "ts = time.time()\n",
    "\n",
    "lags = [1,2,3,4,5,6,7,8,9,10,11,12,13,14]\n",
    "groupcols = ['shop_id','name_2','isрегион','item_new']\n",
    "col = 'item_cnt_month'\n",
    "train_mix = lag_feature(train_mix,lags, groupcols, col,'no')\n",
    "new_col = '_'.join(groupcols)+'_avg_'+str(col)\n",
    "cols_new = [new_col+'_lag_'+str(i) for i in lags]\n",
    "cols_old = [new_col+'_lag_'+str(i) for i in [1,2,3]]\n",
    "train_mix.loc[train_mix['item_new']==1,'shop_n2_рег_new_avg_item_cnt'] = train_mix[cols_new].mean(axis=1)\n",
    "train_mix.loc[train_mix['item_new']==0,'shop_n2_рег_new_avg_item_cnt'] = train_mix[cols_old].mean(axis=1)\n",
    "train_mix['shop_n2_рег_new_avg_item_cnt'] = train_mix['shop_n2_рег_new_avg_item_cnt'].astype(np.float16)\n",
    "\n",
    "train_mix.drop(cols_new, axis=1, inplace = True)\n",
    "train_mix.fillna({'shop_n2_рег_new_avg_item_cnt':0}, inplace = True)\n",
    "\n",
    "time.time() - ts"
   ]
  },
  {
   "cell_type": "code",
   "execution_count": 94,
   "metadata": {},
   "outputs": [
    {
     "data": {
      "text/plain": [
       "224.06902527809143"
      ]
     },
     "execution_count": 94,
     "metadata": {},
     "output_type": "execute_result"
    }
   ],
   "source": [
    "ts = time.time()\n",
    "\n",
    "lags = [1,2,3,4,5,6,7,8,9,10,11,12,13,14]\n",
    "groupcols = ['shop_id','name_1','isjewel','item_new']\n",
    "col = 'item_cnt_month'\n",
    "train_mix = lag_feature(train_mix,lags, groupcols, col,'no')\n",
    "new_col = '_'.join(groupcols)+'_avg_'+str(col)\n",
    "cols_new = [new_col+'_lag_'+str(i) for i in lags]\n",
    "cols_old = [new_col+'_lag_'+str(i) for i in [1,2,3]]\n",
    "train_mix.loc[train_mix['item_new']==1,'shop_n1_jewel_new_avg_item_cnt'] = train_mix[cols_new].mean(axis=1)\n",
    "train_mix.loc[train_mix['item_new']==0,'shop_n1_jewel_new_avg_item_cnt'] = train_mix[cols_old].mean(axis=1)\n",
    "train_mix['shop_n1_jewel_new_avg_item_cnt'] = train_mix['shop_n1_jewel_new_avg_item_cnt'].astype(np.float16)\n",
    "\n",
    "train_mix.drop(cols_new, axis=1, inplace = True)\n",
    "train_mix.fillna({'shop_n1_jewel_new_avg_item_cnt':0}, inplace = True)\n",
    "\n",
    "time.time() - ts"
   ]
  },
  {
   "cell_type": "code",
   "execution_count": 95,
   "metadata": {},
   "outputs": [
    {
     "data": {
      "text/plain": [
       "254.78576183319092"
      ]
     },
     "execution_count": 95,
     "metadata": {},
     "output_type": "execute_result"
    }
   ],
   "source": [
    "ts = time.time()\n",
    "\n",
    "lags = [1,2,3,4,5,6,7,8,9,10,11,12,13,14]\n",
    "groupcols = ['shop_id','name_2','isjewel','item_new']\n",
    "col = 'item_cnt_month'\n",
    "train_mix = lag_feature(train_mix,lags, groupcols, col,'no')\n",
    "new_col = '_'.join(groupcols)+'_avg_'+str(col)\n",
    "cols_new = [new_col+'_lag_'+str(i) for i in lags]\n",
    "cols_old = [new_col+'_lag_'+str(i) for i in [1,2,3]]\n",
    "train_mix.loc[train_mix['item_new']==1,'shop_n2_jewel_new_avg_item_cnt'] = train_mix[cols_new].mean(axis=1)\n",
    "train_mix.loc[train_mix['item_new']==0,'shop_n2_jewel_new_avg_item_cnt'] = train_mix[cols_old].mean(axis=1)\n",
    "train_mix['shop_n2_jewel_new_avg_item_cnt'] = train_mix['shop_n2_jewel_new_avg_item_cnt'].astype(np.float16)\n",
    "\n",
    "train_mix.drop(cols_new, axis=1, inplace = True)\n",
    "train_mix.fillna({'shop_n2_jewel_new_avg_item_cnt':0}, inplace = True)\n",
    "\n",
    "time.time() - ts"
   ]
  },
  {
   "cell_type": "code",
   "execution_count": 144,
   "metadata": {},
   "outputs": [
    {
     "data": {
      "text/plain": [
       "229.07388615608215"
      ]
     },
     "execution_count": 144,
     "metadata": {},
     "output_type": "execute_result"
    }
   ],
   "source": [
    "ts = time.time()\n",
    "\n",
    "lags = [1,2,3,4,5,6,7,8,9,10,11,12,13,14]\n",
    "groupcols = ['shop_id','name_1','isdigital','item_new']\n",
    "col = 'item_cnt_month'\n",
    "train_mix = lag_feature(train_mix,lags, groupcols, col,'no')\n",
    "new_col = '_'.join(groupcols)+'_avg_'+str(col)\n",
    "cols_new = [new_col+'_lag_'+str(i) for i in lags]\n",
    "cols_old = [new_col+'_lag_'+str(i) for i in [1,2,3]]\n",
    "train_mix.loc[train_mix['item_new']==1,'shop_n1_digi_new_avg_item_cnt'] = train_mix[cols_new].mean(axis=1)\n",
    "train_mix.loc[train_mix['item_new']==0,'shop_n1_digi_new_avg_item_cnt'] = train_mix[cols_old].mean(axis=1)\n",
    "train_mix['shop_n1_digi_new_avg_item_cnt'] = train_mix['shop_n1_digi_new_avg_item_cnt'].astype(np.float16)\n",
    "\n",
    "train_mix.drop(cols_new, axis=1, inplace = True)\n",
    "train_mix.fillna({'shop_n1_digi_new_avg_item_cnt':0}, inplace = True)\n",
    "\n",
    "time.time() - ts"
   ]
  },
  {
   "cell_type": "code",
   "execution_count": 145,
   "metadata": {},
   "outputs": [
    {
     "data": {
      "text/plain": [
       "257.41251826286316"
      ]
     },
     "execution_count": 145,
     "metadata": {},
     "output_type": "execute_result"
    }
   ],
   "source": [
    "ts = time.time()\n",
    "\n",
    "lags = [1,2,3,4,5,6,7,8,9,10,11,12,13,14]\n",
    "groupcols = ['shop_id','name_2','isdigital','item_new']\n",
    "col = 'item_cnt_month'\n",
    "train_mix = lag_feature(train_mix,lags, groupcols, col,'no')\n",
    "new_col = '_'.join(groupcols)+'_avg_'+str(col)\n",
    "cols_new = [new_col+'_lag_'+str(i) for i in lags]\n",
    "cols_old = [new_col+'_lag_'+str(i) for i in [1,2,3]]\n",
    "train_mix.loc[train_mix['item_new']==1,'shop_n2_digi_new_avg_item_cnt'] = train_mix[cols_new].mean(axis=1)\n",
    "train_mix.loc[train_mix['item_new']==0,'shop_n2_digi_new_avg_item_cnt'] = train_mix[cols_old].mean(axis=1)\n",
    "train_mix['shop_n2_digi_new_avg_item_cnt'] = train_mix['shop_n2_digi_new_avg_item_cnt'].astype(np.float16)\n",
    "\n",
    "train_mix.drop(cols_new, axis=1, inplace = True)\n",
    "train_mix.fillna({'shop_n2_digi_new_avg_item_cnt':0}, inplace = True)\n",
    "\n",
    "time.time() - ts"
   ]
  },
  {
   "cell_type": "code",
   "execution_count": 146,
   "metadata": {},
   "outputs": [
    {
     "data": {
      "text/plain": [
       "240.5351264476776"
      ]
     },
     "execution_count": 146,
     "metadata": {},
     "output_type": "execute_result"
    }
   ],
   "source": [
    "ts = time.time()\n",
    "\n",
    "lags = [1,2,3,4,5,6,7,8,9,10,11,12,13,14]\n",
    "groupcols = ['shop_id','name_1','isbd','item_new']\n",
    "col = 'item_cnt_month'\n",
    "train_mix = lag_feature(train_mix,lags, groupcols, col,'no')\n",
    "new_col = '_'.join(groupcols)+'_avg_'+str(col)\n",
    "cols_new = [new_col+'_lag_'+str(i) for i in lags]\n",
    "cols_old = [new_col+'_lag_'+str(i) for i in [1,2,3]]\n",
    "train_mix.loc[train_mix['item_new']==1,'shop_n1_bd_new_avg_item_cnt'] = train_mix[cols_new].mean(axis=1)\n",
    "train_mix.loc[train_mix['item_new']==0,'shop_n1_bd_new_avg_item_cnt'] = train_mix[cols_old].mean(axis=1)\n",
    "train_mix['shop_n1_bd_new_avg_item_cnt'] = train_mix['shop_n1_bd_new_avg_item_cnt'].astype(np.float16)\n",
    "\n",
    "train_mix.drop(cols_new, axis=1, inplace = True)\n",
    "train_mix.fillna({'shop_n1_bd_new_avg_item_cnt':0}, inplace = True)\n",
    "\n",
    "time.time() - ts"
   ]
  },
  {
   "cell_type": "code",
   "execution_count": 147,
   "metadata": {},
   "outputs": [
    {
     "data": {
      "text/plain": [
       "263.30428862571716"
      ]
     },
     "execution_count": 147,
     "metadata": {},
     "output_type": "execute_result"
    }
   ],
   "source": [
    "ts = time.time()\n",
    "\n",
    "lags = [1,2,3,4,5,6,7,8,9,10,11,12,13,14]\n",
    "groupcols = ['shop_id','name_2','isbd','item_new']\n",
    "col = 'item_cnt_month'\n",
    "train_mix = lag_feature(train_mix,lags, groupcols, col,'no')\n",
    "new_col = '_'.join(groupcols)+'_avg_'+str(col)\n",
    "cols_new = [new_col+'_lag_'+str(i) for i in lags]\n",
    "cols_old = [new_col+'_lag_'+str(i) for i in [1,2,3]]\n",
    "train_mix.loc[train_mix['item_new']==1,'shop_n2_bd_new_avg_item_cnt'] = train_mix[cols_new].mean(axis=1)\n",
    "train_mix.loc[train_mix['item_new']==0,'shop_n2_bd_new_avg_item_cnt'] = train_mix[cols_old].mean(axis=1)\n",
    "train_mix['shop_n2_bd_new_avg_item_cnt'] = train_mix['shop_n2_bd_new_avg_item_cnt'].astype(np.float16)\n",
    "\n",
    "train_mix.drop(cols_new, axis=1, inplace = True)\n",
    "train_mix.fillna({'shop_n2_bd_new_avg_item_cnt':0}, inplace = True)\n",
    "\n",
    "time.time() - ts"
   ]
  },
  {
   "cell_type": "code",
   "execution_count": 148,
   "metadata": {},
   "outputs": [
    {
     "data": {
      "text/plain": [
       "232.7431879043579"
      ]
     },
     "execution_count": 148,
     "metadata": {},
     "output_type": "execute_result"
    }
   ],
   "source": [
    "ts = time.time()\n",
    "\n",
    "lags = [1,2,3,4,5,6,7,8,9,10,11,12,13,14]\n",
    "groupcols = ['shop_id','name_1','has_cd','item_new']\n",
    "col = 'item_cnt_month'\n",
    "train_mix = lag_feature(train_mix,lags, groupcols, col,'no')\n",
    "new_col = '_'.join(groupcols)+'_avg_'+str(col)\n",
    "cols_new = [new_col+'_lag_'+str(i) for i in lags]\n",
    "cols_old = [new_col+'_lag_'+str(i) for i in [1,2,3]]\n",
    "train_mix.loc[train_mix['item_new']==1,'shop_n1_cd_new_avg_item_cnt'] = train_mix[cols_new].mean(axis=1)\n",
    "train_mix.loc[train_mix['item_new']==0,'shop_n1_cd_new_avg_item_cnt'] = train_mix[cols_old].mean(axis=1)\n",
    "train_mix['shop_n1_cd_new_avg_item_cnt'] = train_mix['shop_n1_cd_new_avg_item_cnt'].astype(np.float16)\n",
    "\n",
    "train_mix.drop(cols_new, axis=1, inplace = True)\n",
    "train_mix.fillna({'shop_n1_cd_new_avg_item_cnt':0}, inplace = True)\n",
    "\n",
    "time.time() - ts"
   ]
  },
  {
   "cell_type": "code",
   "execution_count": 149,
   "metadata": {},
   "outputs": [
    {
     "data": {
      "text/plain": [
       "261.4915990829468"
      ]
     },
     "execution_count": 149,
     "metadata": {},
     "output_type": "execute_result"
    }
   ],
   "source": [
    "ts = time.time()\n",
    "\n",
    "lags = [1,2,3,4,5,6,7,8,9,10,11,12,13,14]\n",
    "groupcols = ['shop_id','name_2','has_cd','item_new']\n",
    "col = 'item_cnt_month'\n",
    "train_mix = lag_feature(train_mix,lags, groupcols, col,'no')\n",
    "new_col = '_'.join(groupcols)+'_avg_'+str(col)\n",
    "cols_new = [new_col+'_lag_'+str(i) for i in lags]\n",
    "cols_old = [new_col+'_lag_'+str(i) for i in [1,2,3]]\n",
    "train_mix.loc[train_mix['item_new']==1,'shop_n2_cd_new_avg_item_cnt'] = train_mix[cols_new].mean(axis=1)\n",
    "train_mix.loc[train_mix['item_new']==0,'shop_n2_cd_new_avg_item_cnt'] = train_mix[cols_old].mean(axis=1)\n",
    "train_mix['shop_n2_cd_new_avg_item_cnt'] = train_mix['shop_n2_cd_new_avg_item_cnt'].astype(np.float16)\n",
    "\n",
    "train_mix.drop(cols_new, axis=1, inplace = True)\n",
    "train_mix.fillna({'shop_n2_cd_new_avg_item_cnt':0}, inplace = True)\n",
    "\n",
    "time.time() - ts"
   ]
  },
  {
   "cell_type": "code",
   "execution_count": 150,
   "metadata": {},
   "outputs": [
    {
     "data": {
      "text/plain": [
       "232.93324732780457"
      ]
     },
     "execution_count": 150,
     "metadata": {},
     "output_type": "execute_result"
    }
   ],
   "source": [
    "ts = time.time()\n",
    "\n",
    "lags = [1,2,3,4,5,6,7,8,9,10,11,12,13,14]\n",
    "groupcols = ['shop_id','name_1','has_dvd','item_new']\n",
    "col = 'item_cnt_month'\n",
    "train_mix = lag_feature(train_mix,lags, groupcols, col,'no')\n",
    "new_col = '_'.join(groupcols)+'_avg_'+str(col)\n",
    "cols_new = [new_col+'_lag_'+str(i) for i in lags]\n",
    "cols_old = [new_col+'_lag_'+str(i) for i in [1,2,3]]\n",
    "train_mix.loc[train_mix['item_new']==1,'shop_n1_dvd_new_avg_item_cnt'] = train_mix[cols_new].mean(axis=1)\n",
    "train_mix.loc[train_mix['item_new']==0,'shop_n1_dvd_new_avg_item_cnt'] = train_mix[cols_old].mean(axis=1)\n",
    "train_mix['shop_n1_dvd_new_avg_item_cnt'] = train_mix['shop_n1_dvd_new_avg_item_cnt'].astype(np.float16)\n",
    "\n",
    "train_mix.drop(cols_new, axis=1, inplace = True)\n",
    "train_mix.fillna({'shop_n1_dvd_new_avg_item_cnt':0}, inplace = True)\n",
    "\n",
    "time.time() - ts"
   ]
  },
  {
   "cell_type": "code",
   "execution_count": 151,
   "metadata": {},
   "outputs": [
    {
     "data": {
      "text/plain": [
       "264.3113875389099"
      ]
     },
     "execution_count": 151,
     "metadata": {},
     "output_type": "execute_result"
    }
   ],
   "source": [
    "ts = time.time()\n",
    "\n",
    "lags = [1,2,3,4,5,6,7,8,9,10,11,12,13,14]\n",
    "groupcols = ['shop_id','name_2','has_dvd','item_new']\n",
    "col = 'item_cnt_month'\n",
    "train_mix = lag_feature(train_mix,lags, groupcols, col,'no')\n",
    "new_col = '_'.join(groupcols)+'_avg_'+str(col)\n",
    "cols_new = [new_col+'_lag_'+str(i) for i in lags]\n",
    "cols_old = [new_col+'_lag_'+str(i) for i in [1,2,3]]\n",
    "train_mix.loc[train_mix['item_new']==1,'shop_n2_dvd_new_avg_item_cnt'] = train_mix[cols_new].mean(axis=1)\n",
    "train_mix.loc[train_mix['item_new']==0,'shop_n2_dvd_new_avg_item_cnt'] = train_mix[cols_old].mean(axis=1)\n",
    "train_mix['shop_n2_dvd_new_avg_item_cnt'] = train_mix['shop_n2_dvd_new_avg_item_cnt'].astype(np.float16)\n",
    "\n",
    "train_mix.drop(cols_new, axis=1, inplace = True)\n",
    "train_mix.fillna({'shop_n2_dvd_new_avg_item_cnt':0}, inplace = True)\n",
    "\n",
    "time.time() - ts"
   ]
  },
  {
   "cell_type": "code",
   "execution_count": 152,
   "metadata": {},
   "outputs": [
    {
     "data": {
      "text/plain": [
       "236.06286478042603"
      ]
     },
     "execution_count": 152,
     "metadata": {},
     "output_type": "execute_result"
    }
   ],
   "source": [
    "ts = time.time()\n",
    "\n",
    "lags = [1,2,3,4,5,6,7,8,9,10,11,12,13,14]\n",
    "groupcols = ['shop_id','name_1','has_mp3','item_new']\n",
    "col = 'item_cnt_month'\n",
    "train_mix = lag_feature(train_mix,lags, groupcols, col,'no')\n",
    "new_col = '_'.join(groupcols)+'_avg_'+str(col)\n",
    "cols_new = [new_col+'_lag_'+str(i) for i in lags]\n",
    "cols_old = [new_col+'_lag_'+str(i) for i in [1,2,3]]\n",
    "train_mix.loc[train_mix['item_new']==1,'shop_n1_mp3_new_avg_item_cnt'] = train_mix[cols_new].mean(axis=1)\n",
    "train_mix.loc[train_mix['item_new']==0,'shop_n1_mp3_new_avg_item_cnt'] = train_mix[cols_old].mean(axis=1)\n",
    "train_mix['shop_n1_mp3_new_avg_item_cnt'] = train_mix['shop_n1_mp3_new_avg_item_cnt'].astype(np.float16)\n",
    "\n",
    "train_mix.drop(cols_new, axis=1, inplace = True)\n",
    "train_mix.fillna({'shop_n1_mp3_new_avg_item_cnt':0}, inplace = True)\n",
    "\n",
    "time.time() - ts"
   ]
  },
  {
   "cell_type": "code",
   "execution_count": 153,
   "metadata": {},
   "outputs": [
    {
     "data": {
      "text/plain": [
       "267.62370347976685"
      ]
     },
     "execution_count": 153,
     "metadata": {},
     "output_type": "execute_result"
    }
   ],
   "source": [
    "ts = time.time()\n",
    "\n",
    "lags = [1,2,3,4,5,6,7,8,9,10,11,12,13,14]\n",
    "groupcols = ['shop_id','name_2','has_mp3','item_new']\n",
    "col = 'item_cnt_month'\n",
    "train_mix = lag_feature(train_mix,lags, groupcols, col,'no')\n",
    "new_col = '_'.join(groupcols)+'_avg_'+str(col)\n",
    "cols_new = [new_col+'_lag_'+str(i) for i in lags]\n",
    "cols_old = [new_col+'_lag_'+str(i) for i in [1,2,3]]\n",
    "train_mix.loc[train_mix['item_new']==1,'shop_n2_mp3_new_avg_item_cnt'] = train_mix[cols_new].mean(axis=1)\n",
    "train_mix.loc[train_mix['item_new']==0,'shop_n2_mp3_new_avg_item_cnt'] = train_mix[cols_old].mean(axis=1)\n",
    "train_mix['shop_n2_mp3_new_avg_item_cnt'] = train_mix['shop_n2_mp3_new_avg_item_cnt'].astype(np.float16)\n",
    "\n",
    "train_mix.drop(cols_new, axis=1, inplace = True)\n",
    "train_mix.fillna({'shop_n2_mp3_new_avg_item_cnt':0}, inplace = True)\n",
    "\n",
    "time.time() - ts"
   ]
  },
  {
   "cell_type": "code",
   "execution_count": 26,
   "metadata": {},
   "outputs": [
    {
     "data": {
      "text/plain": [
       "254.30291414260864"
      ]
     },
     "execution_count": 26,
     "metadata": {},
     "output_type": "execute_result"
    }
   ],
   "source": [
    "ts = time.time()\n",
    "\n",
    "lags = [1,2,3,4,5,6,7,8,9,10,11,12,13,14]\n",
    "groupcols = ['shop_id','name_1','subtype_code','item_new']\n",
    "col = 'item_cnt_month'\n",
    "train_mix = lag_feature(train_mix,lags, groupcols, col,'no')\n",
    "new_col = '_'.join(groupcols)+'_avg_'+str(col)\n",
    "cols_new = [new_col+'_lag_'+str(i) for i in lags]\n",
    "cols_old = [new_col+'_lag_'+str(i) for i in [1,2,3]]\n",
    "train_mix.loc[train_mix['item_new']==1,'shop_n1_subtype_new_avg_item_cnt'] = train_mix[cols_new].mean(axis=1)\n",
    "train_mix.loc[train_mix['item_new']==0,'shop_n1_subtype_new_avg_item_cnt'] = train_mix[cols_old].mean(axis=1)\n",
    "train_mix['shop_n1_subtype_new_avg_item_cnt'] = train_mix['shop_n1_subtype_new_avg_item_cnt'].astype(np.float16)\n",
    "\n",
    "train_mix.drop(cols_new, axis=1, inplace = True)\n",
    "train_mix.fillna({'shop_n1_subtype_new_avg_item_cnt':0}, inplace = True)\n",
    "\n",
    "time.time() - ts"
   ]
  },
  {
   "cell_type": "code",
   "execution_count": 27,
   "metadata": {},
   "outputs": [
    {
     "data": {
      "text/plain": [
       "281.8988265991211"
      ]
     },
     "execution_count": 27,
     "metadata": {},
     "output_type": "execute_result"
    }
   ],
   "source": [
    "ts = time.time()\n",
    "\n",
    "lags = [1,2,3,4,5,6,7,8,9,10,11,12,13,14]\n",
    "groupcols = ['shop_id','name_2','subtype_code','item_new']\n",
    "col = 'item_cnt_month'\n",
    "train_mix = lag_feature(train_mix,lags, groupcols, col,'no')\n",
    "new_col = '_'.join(groupcols)+'_avg_'+str(col)\n",
    "cols_new = [new_col+'_lag_'+str(i) for i in lags]\n",
    "cols_old = [new_col+'_lag_'+str(i) for i in [1,2,3]]\n",
    "train_mix.loc[train_mix['item_new']==1,'shop_n2_subtype_new_avg_item_cnt'] = train_mix[cols_new].mean(axis=1)\n",
    "train_mix.loc[train_mix['item_new']==0,'shop_n2_subtype_new_avg_item_cnt'] = train_mix[cols_old].mean(axis=1)\n",
    "train_mix['shop_n2_subtype_new_avg_item_cnt'] = train_mix['shop_n2_subtype_new_avg_item_cnt'].astype(np.float16)\n",
    "\n",
    "train_mix.drop(cols_new, axis=1, inplace = True)\n",
    "train_mix.fillna({'shop_n2_subtype_new_avg_item_cnt':0}, inplace = True)\n",
    "\n",
    "time.time() - ts"
   ]
  },
  {
   "cell_type": "code",
   "execution_count": null,
   "metadata": {},
   "outputs": [],
   "source": [
    "ts = time.time()\n",
    "\n",
    "lags = [1,2,3,4,5,6,7,8,9,10,11,12,13,14]\n",
    "groupcols = ['shop_city','item_category_id','console','item_new']\n",
    "col = 'item_cnt_month'\n",
    "train_mix = lag_feature(train_mix,lags, groupcols, col,'no')\n",
    "new_col = '_'.join(groupcols)+'_avg_'+str(col)\n",
    "cols_new = [new_col+'_lag_'+str(i) for i in lags]\n",
    "cols_old = [new_col+'_lag_'+str(i) for i in [1,2,3]]\n",
    "train_mix.loc[train_mix['item_new']==1,'city_cat_cons_new_avg_item_cnt'] = train_mix[cols_new].mean(axis=1)\n",
    "train_mix.loc[train_mix['item_new']==0,'city_cat_cons_new_avg_item_cnt'] = train_mix[cols_old].mean(axis=1)\n",
    "train_mix['city_cat_cons_new_avg_item_cnt'] = train_mix['city_cat_cons_new_avg_item_cnt'].astype(np.float16)\n",
    "\n",
    "train_mix.drop(cols_new, axis=1, inplace = True)\n",
    "train_mix.fillna({'city_cat_cons_new_avg_item_cnt':0}, inplace = True)\n",
    "\n",
    "time.time() - ts"
   ]
  },
  {
   "cell_type": "markdown",
   "metadata": {},
   "source": [
    "# target encoding feature"
   ]
  },
  {
   "cell_type": "markdown",
   "metadata": {},
   "source": [
    "Target encoding doesn't work. It leads to overfitting here"
   ]
  },
  {
   "cell_type": "code",
   "execution_count": 11,
   "metadata": {},
   "outputs": [],
   "source": [
    "n_splits = 5\n",
    "folds = KFold(n_splits)    "
   ]
  },
  {
   "cell_type": "code",
   "execution_count": 14,
   "metadata": {},
   "outputs": [],
   "source": [
    "def K_Fold_target_encoding(df, GCol, folds):\n",
    "\n",
    "    colName = f'{GCol}_target_enc'\n",
    "    df_train = df.loc[df['date_block_num']<34]\n",
    "    df_test = df.loc[df['date_block_num']==34]\n",
    "    mean_of_target = df_train['item_cnt_month'].mean()\n",
    "    \n",
    "    df[colName] = np.nan\n",
    "    \n",
    "    for tr_ind, val_ind in folds.split(df_train):\n",
    "        X_tr, X_val = df_train.iloc[tr_ind], df_train.iloc[val_ind]\n",
    "        df.loc[df.index[val_ind], colName] = X_val[GCol].map(X_tr.groupby(GCol)['item_cnt_month'].mean())\n",
    "    \n",
    "    group_mean = df_train.groupby(GCol).agg({'item_cnt_month': ['mean']})\n",
    "    group_mean.columns = [f'{colName}_2']\n",
    "    group_mean.reset_index(inplace=True)\n",
    "    \n",
    "    df = pd.merge(df, group_mean, how = 'left', on = GCol)\n",
    "    df.loc[df['date_block_num']==34,colName] = df.loc[df['date_block_num']==34,f'{colName}_2']\n",
    "\n",
    "    df.drop(f'{colName}_2', axis = 1, inplace = True)\n",
    "    \n",
    "    del group_mean\n",
    "    gc.collect()\n",
    "    \n",
    "    df[colName].fillna(mean_of_target, inplace = True)\n",
    "    return df"
   ]
  },
  {
   "cell_type": "code",
   "execution_count": 15,
   "metadata": {},
   "outputs": [],
   "source": [
    "#train_use = K_Fold_target_encoding(train_use, 'item_id', folds)"
   ]
  },
  {
   "cell_type": "code",
   "execution_count": 16,
   "metadata": {},
   "outputs": [],
   "source": [
    "#train_use = K_Fold_target_encoding(train_use, 'shop_id', folds)"
   ]
  },
  {
   "cell_type": "code",
   "execution_count": 17,
   "metadata": {},
   "outputs": [],
   "source": [
    "#train_use = K_Fold_target_encoding(train_use, 'item_category_id', folds)"
   ]
  },
  {
   "cell_type": "code",
   "execution_count": 47,
   "metadata": {},
   "outputs": [],
   "source": [
    "def history_target_encoding(df, GCol, duration, target, method = 'mean'):\n",
    "    \n",
    "    if type(GCol) is list:\n",
    "        word = \"_\".join(GCol)\n",
    "        df[word] = \"\"\n",
    "        for element in GCol:\n",
    "            df[word] = df[word]+df[element].astype(str)\n",
    "        df[word] = df[word].str.strip(\"_\")\n",
    "    else:\n",
    "        word = GCol\n",
    "    colName = f'{word}_{target}_enc_{duration}_{method}'\n",
    "    \n",
    "    df[colName] = np.nan\n",
    "    \n",
    "    dates = np.arange(duration,35)\n",
    "    \n",
    "    for date in dates:\n",
    "        pre_dates = np.arange(max(0, date - duration), date)\n",
    "        df_pre_dates = df.loc[df['date_block_num'].isin(pre_dates)]\n",
    "        mean_of_target = df_pre_dates[target].mean()\n",
    "        if method == 'mean':\n",
    "            df.loc[df['date_block_num']==date, colName] = df.loc[df['date_block_num']==date, word].map(df_pre_dates.groupby(word)[target].mean())\n",
    "        if method == 'sum':\n",
    "            df.loc[df['date_block_num']==date, colName] = df.loc[df['date_block_num']==date, word].map(df_pre_dates.groupby(word)[target].sum())\n",
    "            df.loc[df['date_block_num']==date, colName] = df.loc[df['date_block_num']==date, colName] / duration\n",
    "        df.loc[(df['date_block_num']==date)&(df[colName].isnull()), colName] = mean_of_target\n",
    "        del df_pre_dates\n",
    "        gc.collect()\n",
    "    if type(GCol) is list:\n",
    "        df.drop(word, axis=1, inplace = True)\n",
    "        \n",
    "    return df"
   ]
  },
  {
   "cell_type": "code",
   "execution_count": 50,
   "metadata": {},
   "outputs": [],
   "source": [
    "train_mix = history_target_encoding(train_mix, 'shop_id', 3, 'item_cnt_month', 'sum')"
   ]
  },
  {
   "cell_type": "code",
   "execution_count": 51,
   "metadata": {},
   "outputs": [],
   "source": [
    "train_mix = history_target_encoding(train_mix, 'item_id', 3, 'item_cnt_month', 'sum')"
   ]
  },
  {
   "cell_type": "code",
   "execution_count": 52,
   "metadata": {},
   "outputs": [],
   "source": [
    "train_mix = history_target_encoding(train_mix, 'item_category_id', 3, 'item_cnt_month', 'sum')"
   ]
  },
  {
   "cell_type": "code",
   "execution_count": 53,
   "metadata": {},
   "outputs": [],
   "source": [
    "train_mix = history_target_encoding(train_mix, 'name_1_code', 3, 'item_cnt_month', 'sum')"
   ]
  },
  {
   "cell_type": "code",
   "execution_count": 54,
   "metadata": {},
   "outputs": [],
   "source": [
    "train_mix = history_target_encoding(train_mix, 'city_code', 3, 'item_cnt_month', 'sum')"
   ]
  },
  {
   "cell_type": "code",
   "execution_count": 55,
   "metadata": {},
   "outputs": [],
   "source": [
    "train_mix = history_target_encoding(train_mix, ['shop_id', 'item_id'], 3, 'item_cnt_month', method = 'sum')"
   ]
  },
  {
   "cell_type": "code",
   "execution_count": 11,
   "metadata": {},
   "outputs": [],
   "source": [
    "train_mix = history_target_encoding(train_mix, ['shop_id', 'item_id'], 6, 'item_cnt_month', method = 'sum')"
   ]
  },
  {
   "cell_type": "code",
   "execution_count": null,
   "metadata": {},
   "outputs": [],
   "source": [
    "train_mix.fillna(0, inplace = True)"
   ]
  },
  {
   "cell_type": "code",
   "execution_count": 176,
   "metadata": {},
   "outputs": [
    {
     "data": {
      "text/html": [
       "<div>\n",
       "<style scoped>\n",
       "    .dataframe tbody tr th:only-of-type {\n",
       "        vertical-align: middle;\n",
       "    }\n",
       "\n",
       "    .dataframe tbody tr th {\n",
       "        vertical-align: top;\n",
       "    }\n",
       "\n",
       "    .dataframe thead th {\n",
       "        text-align: right;\n",
       "    }\n",
       "</style>\n",
       "<table border=\"1\" class=\"dataframe\">\n",
       "  <thead>\n",
       "    <tr style=\"text-align: right;\">\n",
       "      <th></th>\n",
       "      <th>date_block_num</th>\n",
       "      <th>shop_id</th>\n",
       "      <th>item_id</th>\n",
       "      <th>category</th>\n",
       "      <th>revenue_month</th>\n",
       "      <th>item_cnt_month</th>\n",
       "      <th>city_code</th>\n",
       "      <th>shop_type_code</th>\n",
       "      <th>item_category_id</th>\n",
       "      <th>name_1_code</th>\n",
       "      <th>...</th>\n",
       "      <th>month</th>\n",
       "      <th>days</th>\n",
       "      <th>item_shop_last_sale</th>\n",
       "      <th>item_last_sale</th>\n",
       "      <th>item_shop_first_sale</th>\n",
       "      <th>item_first_sale</th>\n",
       "      <th>shop_since_open</th>\n",
       "      <th>max_date</th>\n",
       "      <th>shop_id_item_id_item_cnt_month_enc_3_sum</th>\n",
       "      <th>shop_id_item_id_item_cnt_month_enc_6_sum</th>\n",
       "    </tr>\n",
       "  </thead>\n",
       "  <tbody>\n",
       "    <tr>\n",
       "      <th>2757183</th>\n",
       "      <td>13</td>\n",
       "      <td>2</td>\n",
       "      <td>30</td>\n",
       "      <td>0</td>\n",
       "      <td>0.0</td>\n",
       "      <td>0.0</td>\n",
       "      <td>0</td>\n",
       "      <td>5</td>\n",
       "      <td>40</td>\n",
       "      <td>30</td>\n",
       "      <td>...</td>\n",
       "      <td>1</td>\n",
       "      <td>28</td>\n",
       "      <td>1</td>\n",
       "      <td>1</td>\n",
       "      <td>12</td>\n",
       "      <td>12</td>\n",
       "      <td>13</td>\n",
       "      <td>33</td>\n",
       "      <td>0.000000000000000</td>\n",
       "      <td>0.000000000000000</td>\n",
       "    </tr>\n",
       "    <tr>\n",
       "      <th>2757184</th>\n",
       "      <td>13</td>\n",
       "      <td>2</td>\n",
       "      <td>31</td>\n",
       "      <td>0</td>\n",
       "      <td>0.0</td>\n",
       "      <td>0.0</td>\n",
       "      <td>0</td>\n",
       "      <td>5</td>\n",
       "      <td>37</td>\n",
       "      <td>31</td>\n",
       "      <td>...</td>\n",
       "      <td>1</td>\n",
       "      <td>28</td>\n",
       "      <td>1</td>\n",
       "      <td>1</td>\n",
       "      <td>12</td>\n",
       "      <td>12</td>\n",
       "      <td>13</td>\n",
       "      <td>33</td>\n",
       "      <td>0.000000000000000</td>\n",
       "      <td>0.000000000000000</td>\n",
       "    </tr>\n",
       "    <tr>\n",
       "      <th>2757185</th>\n",
       "      <td>13</td>\n",
       "      <td>2</td>\n",
       "      <td>32</td>\n",
       "      <td>0</td>\n",
       "      <td>0.0</td>\n",
       "      <td>0.0</td>\n",
       "      <td>0</td>\n",
       "      <td>5</td>\n",
       "      <td>40</td>\n",
       "      <td>32</td>\n",
       "      <td>...</td>\n",
       "      <td>1</td>\n",
       "      <td>28</td>\n",
       "      <td>1</td>\n",
       "      <td>1</td>\n",
       "      <td>13</td>\n",
       "      <td>13</td>\n",
       "      <td>13</td>\n",
       "      <td>33</td>\n",
       "      <td>0.333333333333333</td>\n",
       "      <td>0.166666666666667</td>\n",
       "    </tr>\n",
       "    <tr>\n",
       "      <th>2757186</th>\n",
       "      <td>13</td>\n",
       "      <td>2</td>\n",
       "      <td>33</td>\n",
       "      <td>0</td>\n",
       "      <td>0.0</td>\n",
       "      <td>0.0</td>\n",
       "      <td>0</td>\n",
       "      <td>5</td>\n",
       "      <td>37</td>\n",
       "      <td>33</td>\n",
       "      <td>...</td>\n",
       "      <td>1</td>\n",
       "      <td>28</td>\n",
       "      <td>1</td>\n",
       "      <td>1</td>\n",
       "      <td>13</td>\n",
       "      <td>13</td>\n",
       "      <td>13</td>\n",
       "      <td>33</td>\n",
       "      <td>1.333333333333333</td>\n",
       "      <td>0.666666666666667</td>\n",
       "    </tr>\n",
       "    <tr>\n",
       "      <th>2757187</th>\n",
       "      <td>13</td>\n",
       "      <td>2</td>\n",
       "      <td>53</td>\n",
       "      <td>0</td>\n",
       "      <td>0.0</td>\n",
       "      <td>0.0</td>\n",
       "      <td>0</td>\n",
       "      <td>5</td>\n",
       "      <td>57</td>\n",
       "      <td>52</td>\n",
       "      <td>...</td>\n",
       "      <td>1</td>\n",
       "      <td>28</td>\n",
       "      <td>-1</td>\n",
       "      <td>1</td>\n",
       "      <td>13</td>\n",
       "      <td>13</td>\n",
       "      <td>13</td>\n",
       "      <td>33</td>\n",
       "      <td>0.000000000000000</td>\n",
       "      <td>0.000000000000000</td>\n",
       "    </tr>\n",
       "  </tbody>\n",
       "</table>\n",
       "<p>5 rows × 119 columns</p>\n",
       "</div>"
      ],
      "text/plain": [
       "         date_block_num  shop_id  item_id  category  revenue_month  \\\n",
       "2757183              13        2       30         0            0.0   \n",
       "2757184              13        2       31         0            0.0   \n",
       "2757185              13        2       32         0            0.0   \n",
       "2757186              13        2       33         0            0.0   \n",
       "2757187              13        2       53         0            0.0   \n",
       "\n",
       "         item_cnt_month  city_code  shop_type_code  item_category_id  \\\n",
       "2757183             0.0          0               5                40   \n",
       "2757184             0.0          0               5                37   \n",
       "2757185             0.0          0               5                40   \n",
       "2757186             0.0          0               5                37   \n",
       "2757187             0.0          0               5                57   \n",
       "\n",
       "         name_1_code  ...  month  days  item_shop_last_sale  item_last_sale  \\\n",
       "2757183           30  ...      1    28                    1               1   \n",
       "2757184           31  ...      1    28                    1               1   \n",
       "2757185           32  ...      1    28                    1               1   \n",
       "2757186           33  ...      1    28                    1               1   \n",
       "2757187           52  ...      1    28                   -1               1   \n",
       "\n",
       "         item_shop_first_sale  item_first_sale  shop_since_open  max_date  \\\n",
       "2757183                    12               12               13        33   \n",
       "2757184                    12               12               13        33   \n",
       "2757185                    13               13               13        33   \n",
       "2757186                    13               13               13        33   \n",
       "2757187                    13               13               13        33   \n",
       "\n",
       "         shop_id_item_id_item_cnt_month_enc_3_sum  \\\n",
       "2757183                         0.000000000000000   \n",
       "2757184                         0.000000000000000   \n",
       "2757185                         0.333333333333333   \n",
       "2757186                         1.333333333333333   \n",
       "2757187                         0.000000000000000   \n",
       "\n",
       "         shop_id_item_id_item_cnt_month_enc_6_sum  \n",
       "2757183                         0.000000000000000  \n",
       "2757184                         0.000000000000000  \n",
       "2757185                         0.166666666666667  \n",
       "2757186                         0.666666666666667  \n",
       "2757187                         0.000000000000000  \n",
       "\n",
       "[5 rows x 119 columns]"
      ]
     },
     "execution_count": 176,
     "metadata": {},
     "output_type": "execute_result"
    }
   ],
   "source": [
    "train_mix.loc[train_mix['date_block_num']>=13].head()"
   ]
  },
  {
   "cell_type": "code",
   "execution_count": 173,
   "metadata": {},
   "outputs": [
    {
     "data": {
      "text/plain": [
       "7"
      ]
     },
     "execution_count": 173,
     "metadata": {},
     "output_type": "execute_result"
    }
   ],
   "source": [
    "train_mix.drop('shop_id_item_id_item_cnt_month_enc',axis=1,inplace=True)\n",
    "gc.collect()"
   ]
  },
  {
   "cell_type": "markdown",
   "metadata": {},
   "source": [
    "# Save data"
   ]
  },
  {
   "cell_type": "code",
   "execution_count": 62,
   "metadata": {},
   "outputs": [],
   "source": [
    "#with open('train_mix_20200202.pickle', 'wb') as handle:\n",
    "#    pickle.dump(train_mix, handle, protocol = pickle.HIGHEST_PROTOCOL)"
   ]
  },
  {
   "cell_type": "code",
   "execution_count": 7,
   "metadata": {},
   "outputs": [],
   "source": [
    "with open('train_mix_20200202.pickle', 'rb') as handle:\n",
    "    train_mix = pickle.load(handle)"
   ]
  },
  {
   "cell_type": "markdown",
   "metadata": {},
   "source": [
    "# Xgb"
   ]
  },
  {
   "cell_type": "code",
   "execution_count": 1058,
   "metadata": {},
   "outputs": [],
   "source": [
    "features = [\n",
    "    'date_block_num',\n",
    "    'shop_id',\n",
    "    'item_id',\n",
    "    #'item_cnt_month',\n",
    "    'city_code',\n",
    "    'item_category_id',\n",
    "    'type_code',\n",
    "    'subtype_code',\n",
    "    'item_cnt_month_lag_1',\n",
    "    'item_cnt_month_lag_2',\n",
    "    'item_cnt_month_lag_3',\n",
    "    'item_cnt_month_lag_6',\n",
    "    'item_cnt_month_lag_12',\n",
    "    'date_avg_item_cnt_lag_1',\n",
    "    'date_item_avg_item_cnt_lag_1',\n",
    "    'date_item_avg_item_cnt_lag_2',\n",
    "    'date_item_avg_item_cnt_lag_3',\n",
    "    'date_item_avg_item_cnt_lag_6',\n",
    "    'date_item_avg_item_cnt_lag_12',\n",
    "    'date_shop_avg_item_cnt_lag_1',\n",
    "    'date_shop_avg_item_cnt_lag_2',\n",
    "    'date_shop_avg_item_cnt_lag_3',\n",
    "    'date_shop_avg_item_cnt_lag_6',\n",
    "    'date_shop_avg_item_cnt_lag_12',\n",
    "    'date_cat_avg_item_cnt_lag_1',\n",
    "    'date_shop_cat_avg_item_cnt_lag_1',\n",
    "    #'date_shop_type_avg_item_cnt_lag_1',\n",
    "    #'date_shop_subtype_avg_item_cnt_lag_1',\n",
    "    'date_city_avg_item_cnt_lag_1',\n",
    "    'date_item_city_avg_item_cnt_lag_1',\n",
    "    #'date_type_avg_item_cnt_lag_1',\n",
    "    #'date_subtype_avg_item_cnt_lag_1',\n",
    "    'delta_price_lag',\n",
    "    'month',\n",
    "    'days',\n",
    "    'item_shop_last_sale',\n",
    "    'item_last_sale',\n",
    "    'item_shop_first_sale',\n",
    "    'item_first_sale',\n",
    "]"
   ]
  },
  {
   "cell_type": "code",
   "execution_count": 23,
   "metadata": {},
   "outputs": [],
   "source": [
    "features = [feature for feature in train_mix.columns.values if feature not in\n",
    "           ['item_cnt_month', 'revenue_month', 'category', \n",
    "           ]\n",
    "           ]"
   ]
  },
  {
   "cell_type": "code",
   "execution_count": 24,
   "metadata": {},
   "outputs": [],
   "source": [
    "date = [12, 13, 14, 15, 16, 17, 18, 19, 20, 21, 22, 23, 24, 25, 26, 27, 28, 29, 30, 31, 32, 33, 34]"
   ]
  },
  {
   "cell_type": "code",
   "execution_count": 25,
   "metadata": {},
   "outputs": [],
   "source": [
    "train_use = train_mix.loc[train_mix['date_block_num'].isin(date)]"
   ]
  },
  {
   "cell_type": "code",
   "execution_count": 17,
   "metadata": {},
   "outputs": [],
   "source": [
    "X_train = train_use.loc[(train_use.date_block_num < 33)][features]\n",
    "Y_train = train_use.loc[(train_use.date_block_num < 33)]['item_cnt_month']\n",
    "X_valid = train_use.loc[train_use.date_block_num == 33][features]\n",
    "Y_valid = train_use.loc[train_use.date_block_num == 33]['item_cnt_month']\n",
    "X_test = train_use.loc[(train_use.date_block_num == 34)][features]"
   ]
  },
  {
   "cell_type": "code",
   "execution_count": 20,
   "metadata": {},
   "outputs": [
    {
     "data": {
      "text/plain": [
       "53"
      ]
     },
     "execution_count": 20,
     "metadata": {},
     "output_type": "execute_result"
    }
   ],
   "source": [
    "gc.collect()"
   ]
  },
  {
   "cell_type": "code",
   "execution_count": 21,
   "metadata": {
    "scrolled": true
   },
   "outputs": [
    {
     "name": "stdout",
     "output_type": "stream",
     "text": [
      "[12:39:48] WARNING: C:/Jenkins/workspace/xgboost-win64_release_0.90/src/objective/regression_obj.cu:152: reg:linear is now deprecated in favor of reg:squarederror.\n",
      "[0]\tvalidation_0-rmse:1.38813\tvalidation_1-rmse:1.3721\n",
      "Multiple eval metrics have been passed: 'validation_1-rmse' will be used for early stopping.\n",
      "\n",
      "Will train until validation_1-rmse hasn't improved in 10 rounds.\n",
      "[1]\tvalidation_0-rmse:1.33171\tvalidation_1-rmse:1.32492\n",
      "[2]\tvalidation_0-rmse:1.28349\tvalidation_1-rmse:1.28569\n",
      "[3]\tvalidation_0-rmse:1.24288\tvalidation_1-rmse:1.25268\n",
      "[4]\tvalidation_0-rmse:1.20776\tvalidation_1-rmse:1.22434\n",
      "[5]\tvalidation_0-rmse:1.17702\tvalidation_1-rmse:1.19619\n",
      "[6]\tvalidation_0-rmse:1.15123\tvalidation_1-rmse:1.17488\n",
      "[7]\tvalidation_0-rmse:1.1298\tvalidation_1-rmse:1.15818\n",
      "[8]\tvalidation_0-rmse:1.11118\tvalidation_1-rmse:1.144\n",
      "[9]\tvalidation_0-rmse:1.09514\tvalidation_1-rmse:1.13297\n",
      "[10]\tvalidation_0-rmse:1.08243\tvalidation_1-rmse:1.12409\n",
      "[11]\tvalidation_0-rmse:1.07092\tvalidation_1-rmse:1.11666\n",
      "[12]\tvalidation_0-rmse:1.06064\tvalidation_1-rmse:1.11009\n",
      "[13]\tvalidation_0-rmse:1.0524\tvalidation_1-rmse:1.10392\n",
      "[14]\tvalidation_0-rmse:1.04533\tvalidation_1-rmse:1.09848\n",
      "[15]\tvalidation_0-rmse:1.03704\tvalidation_1-rmse:1.09422\n",
      "[16]\tvalidation_0-rmse:1.03155\tvalidation_1-rmse:1.09083\n",
      "[17]\tvalidation_0-rmse:1.02521\tvalidation_1-rmse:1.08504\n",
      "[18]\tvalidation_0-rmse:1.02054\tvalidation_1-rmse:1.08186\n",
      "[19]\tvalidation_0-rmse:1.01564\tvalidation_1-rmse:1.07926\n",
      "[20]\tvalidation_0-rmse:1.01092\tvalidation_1-rmse:1.07592\n",
      "[21]\tvalidation_0-rmse:1.00777\tvalidation_1-rmse:1.07484\n",
      "[22]\tvalidation_0-rmse:1.00409\tvalidation_1-rmse:1.07271\n",
      "[23]\tvalidation_0-rmse:1.00072\tvalidation_1-rmse:1.07061\n",
      "[24]\tvalidation_0-rmse:0.997394\tvalidation_1-rmse:1.06952\n",
      "[25]\tvalidation_0-rmse:0.99477\tvalidation_1-rmse:1.06837\n",
      "[26]\tvalidation_0-rmse:0.991374\tvalidation_1-rmse:1.06657\n",
      "[27]\tvalidation_0-rmse:0.989233\tvalidation_1-rmse:1.06582\n",
      "[28]\tvalidation_0-rmse:0.987223\tvalidation_1-rmse:1.06536\n",
      "[29]\tvalidation_0-rmse:0.984923\tvalidation_1-rmse:1.06562\n",
      "[30]\tvalidation_0-rmse:0.982743\tvalidation_1-rmse:1.05808\n",
      "[31]\tvalidation_0-rmse:0.981043\tvalidation_1-rmse:1.05715\n",
      "[32]\tvalidation_0-rmse:0.979136\tvalidation_1-rmse:1.05669\n",
      "[33]\tvalidation_0-rmse:0.977516\tvalidation_1-rmse:1.05087\n",
      "[34]\tvalidation_0-rmse:0.976629\tvalidation_1-rmse:1.05062\n",
      "[35]\tvalidation_0-rmse:0.975501\tvalidation_1-rmse:1.05005\n",
      "[36]\tvalidation_0-rmse:0.974744\tvalidation_1-rmse:1.05071\n",
      "[37]\tvalidation_0-rmse:0.973957\tvalidation_1-rmse:1.05067\n",
      "[38]\tvalidation_0-rmse:0.972794\tvalidation_1-rmse:1.04991\n",
      "[39]\tvalidation_0-rmse:0.972508\tvalidation_1-rmse:1.04995\n",
      "[40]\tvalidation_0-rmse:0.971973\tvalidation_1-rmse:1.04966\n",
      "[41]\tvalidation_0-rmse:0.97128\tvalidation_1-rmse:1.04953\n",
      "[42]\tvalidation_0-rmse:0.970691\tvalidation_1-rmse:1.04962\n",
      "[43]\tvalidation_0-rmse:0.97024\tvalidation_1-rmse:1.04962\n",
      "[44]\tvalidation_0-rmse:0.969779\tvalidation_1-rmse:1.04936\n",
      "[45]\tvalidation_0-rmse:0.96912\tvalidation_1-rmse:1.04983\n",
      "[46]\tvalidation_0-rmse:0.968897\tvalidation_1-rmse:1.04986\n",
      "[47]\tvalidation_0-rmse:0.968428\tvalidation_1-rmse:1.05012\n",
      "[48]\tvalidation_0-rmse:0.967912\tvalidation_1-rmse:1.05055\n",
      "[49]\tvalidation_0-rmse:0.967248\tvalidation_1-rmse:1.0508\n",
      "[50]\tvalidation_0-rmse:0.966873\tvalidation_1-rmse:1.05093\n",
      "[51]\tvalidation_0-rmse:0.966249\tvalidation_1-rmse:1.05094\n",
      "[52]\tvalidation_0-rmse:0.965682\tvalidation_1-rmse:1.05062\n",
      "[53]\tvalidation_0-rmse:0.965459\tvalidation_1-rmse:1.05057\n",
      "[54]\tvalidation_0-rmse:0.965078\tvalidation_1-rmse:1.05059\n",
      "Stopping. Best iteration:\n",
      "[44]\tvalidation_0-rmse:0.969779\tvalidation_1-rmse:1.04936\n",
      "\n"
     ]
    },
    {
     "data": {
      "text/plain": [
       "6512.395970106125"
      ]
     },
     "execution_count": 21,
     "metadata": {},
     "output_type": "execute_result"
    }
   ],
   "source": [
    "ts = time.time()\n",
    "\n",
    "model_1 = XGBRegressor(\n",
    "    max_depth=8,\n",
    "    n_estimators=1000,\n",
    "    min_child_weight=300,                     # initial 300           best: 128\n",
    "    colsample_bytree=0.8,                     # initial 0.8           best: 0.9\n",
    "    subsample=0.8,                            # initial 0.8\n",
    "    eta=0.3,                                  # initial 0.3    \n",
    "    seed=42)\n",
    "\n",
    "model_1.fit(\n",
    "    X_train, \n",
    "    Y_train, \n",
    "    eval_metric=\"rmse\", \n",
    "    eval_set=[(X_train, Y_train), (X_valid, Y_valid)], \n",
    "    verbose=True, \n",
    "    early_stopping_rounds = 10)\n",
    "\n",
    "time.time() - ts"
   ]
  },
  {
   "cell_type": "code",
   "execution_count": 38,
   "metadata": {},
   "outputs": [],
   "source": [
    "Y_pred_1 = model_1.predict(X_valid)\n",
    "Y_test_1 = model_1.predict(X_test)"
   ]
  },
  {
   "cell_type": "code",
   "execution_count": 40,
   "metadata": {},
   "outputs": [
    {
     "data": {
      "text/html": [
       "<div>\n",
       "<style scoped>\n",
       "    .dataframe tbody tr th:only-of-type {\n",
       "        vertical-align: middle;\n",
       "    }\n",
       "\n",
       "    .dataframe tbody tr th {\n",
       "        vertical-align: top;\n",
       "    }\n",
       "\n",
       "    .dataframe thead th {\n",
       "        text-align: right;\n",
       "    }\n",
       "</style>\n",
       "<table border=\"1\" class=\"dataframe\">\n",
       "  <thead>\n",
       "    <tr style=\"text-align: right;\">\n",
       "      <th></th>\n",
       "      <th>date_block_num</th>\n",
       "      <th>shop_id</th>\n",
       "      <th>item_id</th>\n",
       "      <th>category</th>\n",
       "      <th>item_cnt_month_1</th>\n",
       "      <th>item_cnt_month_2</th>\n",
       "      <th>item_cnt_month</th>\n",
       "      <th>category_new</th>\n",
       "      <th>prediction_xgb</th>\n",
       "    </tr>\n",
       "  </thead>\n",
       "  <tbody>\n",
       "    <tr>\n",
       "      <th>6687995</th>\n",
       "      <td>34</td>\n",
       "      <td>5</td>\n",
       "      <td>5037</td>\n",
       "      <td>0</td>\n",
       "      <td>0.841313361010322</td>\n",
       "      <td>0.505305290222168</td>\n",
       "      <td>0.505305290222168</td>\n",
       "      <td>4</td>\n",
       "      <td>0.506784439086914</td>\n",
       "    </tr>\n",
       "    <tr>\n",
       "      <th>6687996</th>\n",
       "      <td>34</td>\n",
       "      <td>5</td>\n",
       "      <td>5320</td>\n",
       "      <td>2</td>\n",
       "      <td>0.441733966038716</td>\n",
       "      <td>1.312614107131958</td>\n",
       "      <td>0.441733966038716</td>\n",
       "      <td>4</td>\n",
       "      <td>0.721574187278748</td>\n",
       "    </tr>\n",
       "    <tr>\n",
       "      <th>6687997</th>\n",
       "      <td>34</td>\n",
       "      <td>5</td>\n",
       "      <td>5233</td>\n",
       "      <td>0</td>\n",
       "      <td>1.717572291089053</td>\n",
       "      <td>0.990448546409607</td>\n",
       "      <td>0.990448546409607</td>\n",
       "      <td>4</td>\n",
       "      <td>0.937995314598083</td>\n",
       "    </tr>\n",
       "    <tr>\n",
       "      <th>6687998</th>\n",
       "      <td>34</td>\n",
       "      <td>5</td>\n",
       "      <td>5232</td>\n",
       "      <td>0</td>\n",
       "      <td>0.991159905619661</td>\n",
       "      <td>0.378266042470932</td>\n",
       "      <td>0.378266042470932</td>\n",
       "      <td>4</td>\n",
       "      <td>0.449704289436340</td>\n",
       "    </tr>\n",
       "    <tr>\n",
       "      <th>6687999</th>\n",
       "      <td>34</td>\n",
       "      <td>5</td>\n",
       "      <td>5268</td>\n",
       "      <td>2</td>\n",
       "      <td>2.017714110260092</td>\n",
       "      <td>6.072189521789551</td>\n",
       "      <td>2.017714110260092</td>\n",
       "      <td>4</td>\n",
       "      <td>4.990203380584717</td>\n",
       "    </tr>\n",
       "  </tbody>\n",
       "</table>\n",
       "</div>"
      ],
      "text/plain": [
       "         date_block_num  shop_id  item_id  category   item_cnt_month_1  \\\n",
       "6687995              34        5     5037         0  0.841313361010322   \n",
       "6687996              34        5     5320         2  0.441733966038716   \n",
       "6687997              34        5     5233         0  1.717572291089053   \n",
       "6687998              34        5     5232         0  0.991159905619661   \n",
       "6687999              34        5     5268         2  2.017714110260092   \n",
       "\n",
       "          item_cnt_month_2     item_cnt_month  category_new     prediction_xgb  \n",
       "6687995  0.505305290222168  0.505305290222168             4  0.506784439086914  \n",
       "6687996  1.312614107131958  0.441733966038716             4  0.721574187278748  \n",
       "6687997  0.990448546409607  0.990448546409607             4  0.937995314598083  \n",
       "6687998  0.378266042470932  0.378266042470932             4  0.449704289436340  \n",
       "6687999  6.072189521789551  2.017714110260092             4  4.990203380584717  "
      ]
     },
     "execution_count": 40,
     "metadata": {},
     "output_type": "execute_result"
    }
   ],
   "source": [
    "test['prediction_xgb'] = Y_test_1\n",
    "test.head()"
   ]
  },
  {
   "cell_type": "markdown",
   "metadata": {},
   "source": [
    "# Lgb"
   ]
  },
  {
   "cell_type": "code",
   "execution_count": 13,
   "metadata": {},
   "outputs": [],
   "source": [
    "from math import sqrt\n",
    "def root_mean_squared_error(y_true, y_pred):\n",
    "    rmse = sqrt(mean_squared_error(y_true, y_pred))\n",
    "    return rmse"
   ]
  },
  {
   "cell_type": "code",
   "execution_count": 14,
   "metadata": {},
   "outputs": [],
   "source": [
    "def train_model_regression(X, X_test, y, params, groups, folds, model_type='lgb', eval_metric='mae', columns=None, plot_feature_importance=False, model=None,\n",
    "                               verbose=10000, early_stopping_rounds=200, n_estimators=50000):\n",
    "    \"\"\"\n",
    "    A function to train a variety of regression models.\n",
    "    Returns dictionary with oof predictions, test predictions, scores and, if necessary, feature importances.\n",
    "    \n",
    "    :params: X - training data, can be pd.DataFrame or np.ndarray (after normalizing)\n",
    "    :params: X_test - test data, can be pd.DataFrame or np.ndarray (after normalizing)\n",
    "    :params: y - target\n",
    "    :params: folds - folds to split data\n",
    "    :params: model_type - type of model to use\n",
    "    :params: eval_metric - metric to use\n",
    "    :params: columns - columns to use. If None - use all columns\n",
    "    :params: plot_feature_importance - whether to plot feature importance of LGB\n",
    "    :params: model - sklearn model, works only for \"sklearn\" model type\n",
    "    \n",
    "    \"\"\"\n",
    "    columns = X.columns if columns is None else columns\n",
    "    X_test = X_test[columns]\n",
    "    \n",
    "    # to set up scoring parameters\n",
    "    metrics_dict = {'mae': {'lgb_metric_name': 'mae',\n",
    "                        'catboost_metric_name': 'MAE',\n",
    "                        'sklearn_scoring_function': metrics.mean_absolute_error},\n",
    "                    #'group_mae': {'lgb_metric_name': 'mae',\n",
    "                    #    'catboost_metric_name': 'MAE',\n",
    "                    #    'scoring_function': group_mean_log_mae},\n",
    "                    'mse': {'lgb_metric_name': 'mse',\n",
    "                        'catboost_metric_name': 'MSE',\n",
    "                        'sklearn_scoring_function': metrics.mean_squared_error},\n",
    "                    'rmse': {'lgb_metric_name': 'rmse',\n",
    "                        'catboost_metric_name': 'RMSE',\n",
    "                        'sklearn_scoring_function': root_mean_squared_error}\n",
    "                    }\n",
    "\n",
    "    \n",
    "    result_dict = {}\n",
    "    \n",
    "    # out-of-fold predictions on train data\n",
    "    oof = np.zeros(len(X))\n",
    "    \n",
    "    # averaged predictions on train data\n",
    "    prediction = np.zeros(len(X_test))\n",
    "    \n",
    "    # list of scores on folds\n",
    "    scores = []\n",
    "    train_loss = []\n",
    "    feature_importance = pd.DataFrame()\n",
    "    \n",
    "    # split and train on folds\n",
    "    if groups is None:\n",
    "        splits = folds.split(X)\n",
    "        print('yes')\n",
    "    else:\n",
    "        splits = folds.split(X, groups = groups)\n",
    "        print('no')\n",
    "        \n",
    "    for fold_n, (train_index, valid_index) in enumerate(splits):\n",
    "        print(f'Fold {fold_n + 1} started at {time.ctime()}')\n",
    "        if type(X) == np.ndarray:\n",
    "            X_train, X_valid = X[columns][train_index], X[columns][valid_index]\n",
    "            y_train, y_valid = y[train_index], y[valid_index]\n",
    "        else:\n",
    "            X_train, X_valid = X[columns].iloc[train_index], X[columns].iloc[valid_index]\n",
    "            y_train, y_valid = y.iloc[train_index], y.iloc[valid_index]\n",
    "            \n",
    "        if model_type == 'lgb':\n",
    "            model = lgb.LGBMRegressor(**params, n_estimators = n_estimators, n_jobs = -1)\n",
    "            model.fit(X_train, y_train, \n",
    "                    eval_set=[(X_train, y_train), (X_valid, y_valid)], eval_metric=metrics_dict[eval_metric]['lgb_metric_name'],\n",
    "                    verbose=verbose, early_stopping_rounds=early_stopping_rounds)\n",
    "            \n",
    "            y_pred_valid = model.predict(X_valid)\n",
    "            y_pred_train = model.predict(X_train)\n",
    "            y_pred = model.predict(X_test, num_iteration=model.best_iteration_)\n",
    "            \n",
    "        if model_type == 'xgb':\n",
    "            train_data = xgb.DMatrix(data=X_train, label=y_train, feature_names=X.columns)\n",
    "            valid_data = xgb.DMatrix(data=X_valid, label=y_valid, feature_names=X.columns)\n",
    "\n",
    "            watchlist = [(train_data, 'train'), (valid_data, 'valid_data')]\n",
    "            model = xgb.train(dtrain=train_data, num_boost_round=20000, evals=watchlist, early_stopping_rounds=200, verbose_eval=verbose, params=params)\n",
    "            y_pred_valid = model.predict(xgb.DMatrix(X_valid, feature_names=X.columns), ntree_limit=model.best_ntree_limit)\n",
    "            y_pred = model.predict(xgb.DMatrix(X_test, feature_names=X.columns), ntree_limit=model.best_ntree_limit)\n",
    "        \n",
    "        if model_type == 'sklearn':\n",
    "            model = model\n",
    "            model.fit(X_train, y_train)\n",
    "            \n",
    "            y_pred_valid = model.predict(X_valid).reshape(-1,)\n",
    "            score = metrics_dict[eval_metric]['sklearn_scoring_function'](y_valid, y_pred_valid)\n",
    "            print(f'Fold {fold_n}. {eval_metric}: {score:.4f}.')\n",
    "            print('')\n",
    "            \n",
    "            y_pred = model.predict(X_test).reshape(-1,)\n",
    "        \n",
    "        if model_type == 'cat':\n",
    "            model = CatBoostRegressor(iterations=20000,  eval_metric=metrics_dict[eval_metric]['catboost_metric_name'], **params,\n",
    "                                      loss_function=metrics_dict[eval_metric]['catboost_metric_name'])\n",
    "            model.fit(X_train, y_train, eval_set=(X_valid, y_valid), cat_features=[], use_best_model=True, verbose=False)\n",
    "\n",
    "            y_pred_valid = model.predict(X_valid)\n",
    "            y_pred_train = model.predict(X_train)\n",
    "            y_pred = model.predict(X_test)\n",
    "        \n",
    "        oof[valid_index] = y_pred_valid.reshape(-1,)\n",
    "        if eval_metric != 'group_mae':\n",
    "            scores.append(metrics_dict[eval_metric]['sklearn_scoring_function'](y_valid, y_pred_valid))\n",
    "            train_loss.append(metrics_dict[eval_metric]['sklearn_scoring_function'](y_train, y_pred_train))\n",
    "        else:\n",
    "            scores.append(metrics_dict[eval_metric]['scoring_function'](y_valid, y_pred_valid, X_valid['type']))\n",
    "\n",
    "        prediction += y_pred    \n",
    "        \n",
    "        if model_type == 'lgb' and plot_feature_importance:\n",
    "            # feature importance\n",
    "            fold_importance = pd.DataFrame()\n",
    "            fold_importance[\"feature\"] = columns\n",
    "            fold_importance[\"importance\"] = model.feature_importances_\n",
    "            fold_importance[\"fold\"] = fold_n + 1\n",
    "            feature_importance = pd.concat([feature_importance, fold_importance], axis=0)\n",
    "\n",
    "    prediction /= folds.n_splits\n",
    "    \n",
    "    print('Train loss mean: {0:.4f}, std: {1:.4f}.'.format(np.mean(train_loss), np.std(train_loss)))\n",
    "    print('CV mean score: {0:.4f}, std: {1:.4f}.'.format(np.mean(scores), np.std(scores)))\n",
    "    \n",
    "    result_dict['oof'] = oof\n",
    "    result_dict['prediction'] = prediction\n",
    "    result_dict['scores'] = scores\n",
    "    \n",
    "    if model_type == 'lgb':\n",
    "        if plot_feature_importance:\n",
    "            feature_importance[\"importance\"] /= folds.n_splits\n",
    "            cols = feature_importance[[\"feature\", \"importance\"]].groupby(\"feature\").mean().sort_values(\n",
    "                by=\"importance\", ascending=False)[:50].index\n",
    "\n",
    "            best_features = feature_importance.loc[feature_importance.feature.isin(cols)]\n",
    "\n",
    "            plt.figure(figsize=(16, 12));\n",
    "            sns.barplot(x=\"importance\", y=\"feature\", data=best_features.sort_values(by=\"importance\", ascending=False));\n",
    "            plt.title('LGB Features (avg over folds)');\n",
    "            \n",
    "            result_dict['feature_importance'] = feature_importance\n",
    "        \n",
    "    return result_dict"
   ]
  },
  {
   "cell_type": "code",
   "execution_count": 15,
   "metadata": {},
   "outputs": [],
   "source": [
    "params = {'num_leaves': 256,                        #  1024   512   256            \n",
    "          'min_data_in_leaf': 200,                  #  50     100   200           \n",
    "          'objective': 'huber',                     # huber is the best                        \n",
    "          'max_depth': -1,                          # 10             -1    \n",
    "          'learning_rate': 0.3,                    #  0.03   0.3    0.02                     \n",
    "          \"boosting\": \"gbdt\",             \n",
    "          \"bagging_freq\": 1,                                    \n",
    "          \"bagging_fraction\": 0.7,                  # best: 0.9           0.7                              \n",
    "          'feature_fraction': 0.5,                  # best: 0.8           0.5\n",
    "          \"bagging_seed\": 11,                                    \n",
    "          \"metric\": 'rmse',                                       \n",
    "          \"verbosity\": -1,                                       \n",
    "          #'reg_alpha': 0.1,                                    \n",
    "          #'reg_lambda': 0.05,\n",
    "          'alpha': 0.5                             # 0.5\n",
    "         }"
   ]
  },
  {
   "cell_type": "code",
   "execution_count": 21,
   "metadata": {},
   "outputs": [],
   "source": [
    "date = [#6, 7, 8, 9, 10, 11,\n",
    "         12, 13, 14, 15, 16, 17, 18, 19, 20, 21, 22, 23, 24, 25, 26, 27, 28, 29, 30, 31, 32, 33, 34]\n",
    "train_use = train_mix.loc[train_mix['date_block_num'].isin(date)]"
   ]
  },
  {
   "cell_type": "code",
   "execution_count": 22,
   "metadata": {},
   "outputs": [
    {
     "data": {
      "text/plain": [
       "0"
      ]
     },
     "execution_count": 22,
     "metadata": {},
     "output_type": "execute_result"
    }
   ],
   "source": [
    "gc.collect()"
   ]
  },
  {
   "cell_type": "code",
   "execution_count": 23,
   "metadata": {},
   "outputs": [],
   "source": [
    "bad_col = ['date_block_num', 'revenue_month', 'item_cnt_month', 'mean_price', 'missing',\n",
    "           'category', \n",
    "            '1st_pre_cnt_per_month', '2nd_pre_cnt_per_month',\n",
    "            '1st_pre_item_avg_price','2nd_pre_item_avg_price','1st_2nd_item_price_diff','1st_2nd_item_price_diff_ratio',\n",
    "            'shop_id','item_id','shop_city','shop_category','delta_price_lag', 'name_2', 'name_3', 'name_4', 'name_5', 'name_1',           \n",
    "           ]\n",
    "features = [feature for feature in train_use.columns.values if feature not in bad_col]"
   ]
  },
  {
   "cell_type": "code",
   "execution_count": 18,
   "metadata": {},
   "outputs": [
    {
     "data": {
      "text/plain": [
       "0"
      ]
     },
     "execution_count": 18,
     "metadata": {},
     "output_type": "execute_result"
    }
   ],
   "source": [
    "gc.collect()"
   ]
  },
  {
   "cell_type": "code",
   "execution_count": 24,
   "metadata": {},
   "outputs": [
    {
     "data": {
      "text/plain": [
       "0"
      ]
     },
     "execution_count": 24,
     "metadata": {},
     "output_type": "execute_result"
    }
   ],
   "source": [
    "X_train = train_use.loc[(train_use.date_block_num <= 33)]      #[features]\n",
    "X_test = train_use.loc[(train_use.date_block_num == 34)]\n",
    "del train_use\n",
    "gc.collect()"
   ]
  },
  {
   "cell_type": "markdown",
   "metadata": {},
   "source": [
    "Try different validation methods"
   ]
  },
  {
   "cell_type": "code",
   "execution_count": 25,
   "metadata": {},
   "outputs": [],
   "source": [
    "n_splits = 5\n",
    "#folds = TimeSeriesSplit(n_splits=n_splits)\n",
    "#folds = KFold(n_splits)\n",
    "folds = GroupKFold(n_splits=n_splits)"
   ]
  },
  {
   "cell_type": "markdown",
   "metadata": {},
   "source": [
    "Code for PCA. But doesn't give a good result"
   ]
  },
  {
   "cell_type": "code",
   "execution_count": 121,
   "metadata": {
    "scrolled": true
   },
   "outputs": [],
   "source": [
    "#from sklearn.decomposition import PCA\n",
    "\n",
    "#cols = [col for col in X_train.columns.values if col not in ['item_category_id', 'name_2', 'name_3', \n",
    "#                                                             'type_code', 'subtype_code', 'item_cat_id_fix']]\n",
    "#pca = PCA(n_components=80)\n",
    "#pca.fit(X_train[cols])\n",
    "#X_train_new = pca.transform(X_train[cols])\n",
    "#X_test_new = pca.transform(X_test[cols])"
   ]
  },
  {
   "cell_type": "code",
   "execution_count": 34,
   "metadata": {},
   "outputs": [
    {
     "data": {
      "text/plain": [
       "0"
      ]
     },
     "execution_count": 34,
     "metadata": {},
     "output_type": "execute_result"
    }
   ],
   "source": [
    "#X_train_new = pd.DataFrame(X_train_new)\n",
    "#X_test_new = pd.DataFrame(X_test_new)\n",
    "\n",
    "#X_train.drop(cols, axis = 1, inplace = True)\n",
    "#X_train.reset_index(inplace = True)\n",
    "#X_train = pd.concat([X_train, X_train_new], axis=1)\n",
    "\n",
    "#X_test.drop(cols, axis = 1, inplace = True)\n",
    "#X_test.reset_index(inplace = True)\n",
    "#X_test = pd.concat([X_test, X_test_new], axis=1)\n",
    "\n",
    "#X_train.drop('index',axis=1,inplace = True)\n",
    "#X_test.drop('index',axis=1,inplace = True)\n",
    "\n",
    "gc.collect()"
   ]
  },
  {
   "cell_type": "markdown",
   "metadata": {},
   "source": [
    "Item without sale history"
   ]
  },
  {
   "cell_type": "code",
   "execution_count": null,
   "metadata": {},
   "outputs": [],
   "source": [
    "# Category 0 and 1 trained with all data from 20190226_0\n",
    "\n",
    "#1/10 data # 1.4350  1.9082  0.91119\n",
    "#all data with item_shop_first_sale group 5 fold: #1.3410  1.9345  0.86178\n",
    "#all data with item_shop_first_sale 5 fold: #1.2696 1.8214 0.85154"
   ]
  },
  {
   "cell_type": "markdown",
   "metadata": {},
   "source": [
    "Manually select features. Features with item_id should be removed since we are predicting items that have not been sold before. Remove some basic features without aggregation since they tend to lead to overfitting"
   ]
  },
  {
   "cell_type": "code",
   "execution_count": 26,
   "metadata": {},
   "outputs": [],
   "source": [
    "bad_col = ['item_first_sale', 'item_shop_first_sale', 'first_sale_diff', 'n1_shop_first_sale', 'n2_shop_first_sale', \n",
    "           'n1_shop_new', 'n2_shop_new', 'name_3', 'name_4', 'name_5',\n",
    "           'item_new', \n",
    "           'item_shop_new', 'item_last_sale', 'item_shop_last_sale',\n",
    "           'item_shop_last_sale', 'item_last_sale',   # safe to remove\n",
    "           'name_3_avg_item_cnt_month_lag_1','name_3_avg_item_cnt_month_lag_2','name_3_avg_item_cnt_month_lag_3','name_3_avg_item_cnt_month_lag_12',\n",
    "           'name_4_avg_item_cnt_month_lag_1','name_4_avg_item_cnt_month_lag_2','name_4_avg_item_cnt_month_lag_3','name_4_avg_item_cnt_month_lag_12',\n",
    "           'shop_id_item_id_avg_item_cnt_month_lag_1','shop_id_item_id_avg_item_cnt_month_lag_2','shop_id_item_id_avg_item_cnt_month_lag_3','shop_id_item_id_avg_item_cnt_month_lag_6',\n",
    "           'shop_id_item_id_avg_revenue_month_lag_1','shop_id_item_id_avg_revenue_month_lag_2','shop_id_item_id_avg_revenue_month_lag_3','shop_id_item_id_avg_revenue_month_lag_6',\n",
    "           'last_shop_item_avg_price',\n",
    "           'shop_id_name_4_avg_item_cnt_month_lag_1','shop_id_name_4_avg_item_cnt_month_lag_2','shop_id_name_4_avg_item_cnt_month_lag_3','shop_id_name_4_avg_item_cnt_month_lag_12',\n",
    "           'item_id_avg_item_cnt_month_lag_1','item_id_avg_item_cnt_month_lag_2','item_id_avg_item_cnt_month_lag_3','item_id_avg_item_cnt_month_lag_6','_avg_item_cnt_month_lag_12', \n",
    "           'shop_city_item_id_avg_item_cnt_month_lag_1','shop_city_item_id_avg_item_cnt_month_lag_2','shop_city_item_id_avg_item_cnt_month_lag_3','shop_city_item_id_avg_item_cnt_month_lag_6','shop_city_item_id_avg_item_cnt_month_lag_12',\n",
    "           'shop_id_item_id_avg_delta_revenue_lag_1',\n",
    "           'shop_n1_lang_new_avg_item_cnt','shop_n2_lang_new_avg_item_cnt',\n",
    "           #'shop_n1_subtype_new_avg_item_cnt','shop_n2_subtype_new_avg_item_cnt',\n",
    "           #'shop_n1_jewel_new_avg_item_cnt','shop_n2_jewel_new_avg_item_cnt',\n",
    "           'shop_n1_mp3_new_avg_item_cnt','shop_n2_mp3_new_avg_item_cnt',\n",
    "           'shop_n1_dvd_new_avg_item_cnt','shop_n2_dvd_new_avg_item_cnt',\n",
    "           'shop_n1_cd_new_avg_item_cnt','shop_n2_cd_new_avg_item_cnt',\n",
    "           'shop_n1_bd_new_avg_item_cnt','shop_n2_bd_new_avg_item_cnt',\n",
    "           #'shop_id_avg_item_cnt_month_lag_1','shop_id_avg_item_cnt_month_lag_2','shop_id_avg_item_cnt_month_lag_3','shop_id_avg_item_cnt_month_lag_6',\n",
    "          'type_code_avg_item_cnt_month_lag_1','type_code_avg_item_cnt_month_lag_2','type_code_avg_item_cnt_month_lag_3','type_code_avg_item_cnt_month_lag_6','type_code_avg_item_cnt_month_lag_12',\n",
    "            #'_avg_revenue_month_lag_1','_avg_revenue_month_lag_2','_avg_revenue_month_lag_3','_avg_revenue_month_lag_6',\n",
    "          #'shop_id_avg_revenue_month_lag_1','shop_id_avg_revenue_month_lag_2','shop_id_avg_revenue_month_lag_3',\n",
    "          ]\n",
    "features_0 = [feature for feature in features if feature not in bad_col]"
   ]
  },
  {
   "cell_type": "code",
   "execution_count": 27,
   "metadata": {
    "scrolled": true
   },
   "outputs": [
    {
     "name": "stdout",
     "output_type": "stream",
     "text": [
      "no\n",
      "Fold 1 started at Wed Mar 18 22:52:25 2020\n",
      "Training until validation scores don't improve for 200 rounds.\n",
      "[500]\ttraining's rmse: 1.35392\tvalid_1's rmse: 2.01389\n",
      "[1000]\ttraining's rmse: 1.2496\tvalid_1's rmse: 2.00756\n",
      "Early stopping, best iteration is:\n",
      "[1151]\ttraining's rmse: 1.22882\tvalid_1's rmse: 2.00523\n",
      "Fold 2 started at Wed Mar 18 23:16:05 2020\n",
      "Training until validation scores don't improve for 200 rounds.\n",
      "[500]\ttraining's rmse: 1.40303\tvalid_1's rmse: 2.05105\n",
      "Early stopping, best iteration is:\n",
      "[532]\ttraining's rmse: 1.39349\tvalid_1's rmse: 2.04987\n",
      "Fold 3 started at Wed Mar 18 23:16:53 2020\n",
      "Training until validation scores don't improve for 200 rounds.\n",
      "[500]\ttraining's rmse: 1.41517\tvalid_1's rmse: 1.67598\n",
      "Early stopping, best iteration is:\n",
      "[668]\ttraining's rmse: 1.37065\tvalid_1's rmse: 1.67197\n",
      "Fold 4 started at Wed Mar 18 23:17:47 2020\n",
      "Training until validation scores don't improve for 200 rounds.\n",
      "[500]\ttraining's rmse: 1.39492\tvalid_1's rmse: 2.25963\n",
      "[1000]\ttraining's rmse: 1.3012\tvalid_1's rmse: 2.2551\n",
      "Early stopping, best iteration is:\n",
      "[872]\ttraining's rmse: 1.31886\tvalid_1's rmse: 2.25258\n",
      "Fold 5 started at Wed Mar 18 23:18:57 2020\n",
      "Training until validation scores don't improve for 200 rounds.\n",
      "[500]\ttraining's rmse: 1.42115\tvalid_1's rmse: 1.69604\n",
      "Early stopping, best iteration is:\n",
      "[597]\ttraining's rmse: 1.39321\tvalid_1's rmse: 1.69299\n",
      "Train loss mean: 1.3410, std: 0.0623.\n",
      "CV mean score: 1.9345, std: 0.2221.\n"
     ]
    },
    {
     "data": {
      "text/plain": [
       "1645.5656008720398"
      ]
     },
     "execution_count": 27,
     "metadata": {},
     "output_type": "execute_result"
    },
    {
     "data": {
      "image/png": "[encoded data removed]",
      "text/plain": [
       "<Figure size 1152x864 with 1 Axes>"
      ]
     },
     "metadata": {
      "needs_background": "light"
     },
     "output_type": "display_data"
    }
   ],
   "source": [
    "ts = time.time()\n",
    "\n",
    "result_dict_lgb_0 = train_model_regression(\n",
    "                         X=X_train.loc[(X_train['item_first_sale']==0)\n",
    "                                       |((X_train['item_shop_first_sale']==0)) \n",
    "                                       ,features_0], \n",
    "                         X_test=X_test[features_0], \n",
    "                         y=X_train.loc[(X_train['item_first_sale']==0)\n",
    "                                       |((X_train['item_shop_first_sale']==0)) \n",
    "                                       ,'item_cnt_month'], \n",
    "                         params=params, \n",
    "                         groups = X_train.loc[(X_train['item_first_sale']==0)\n",
    "                                              |((X_train['item_shop_first_sale']==0)) \n",
    "                                              ,'date_block_num'], \n",
    "                         folds=folds, model_type='lgb', eval_metric='rmse', plot_feature_importance=True,\n",
    "                          verbose=500, early_stopping_rounds=200, n_estimators=20000)\n",
    "\n",
    "time.time()-ts"
   ]
  },
  {
   "cell_type": "code",
   "execution_count": 25,
   "metadata": {},
   "outputs": [
    {
     "data": {
      "text/plain": [
       "10222"
      ]
     },
     "execution_count": 25,
     "metadata": {},
     "output_type": "execute_result"
    }
   ],
   "source": [
    "del train_mix\n",
    "gc.collect()"
   ]
  },
  {
   "cell_type": "code",
   "execution_count": 172,
   "metadata": {},
   "outputs": [],
   "source": [
    "feature_importance = result_dict_lgb_0['feature_importance']\n",
    "feature_importance[\"importance\"] /= folds.n_splits\n",
    "cols = feature_importance[[\"feature\", \"importance\"]].groupby(\"feature\").mean().sort_values(\n",
    "                by=\"importance\", ascending=False)[-40:]\n"
   ]
  },
  {
   "cell_type": "markdown",
   "metadata": {},
   "source": [
    "Item with sale history"
   ]
  },
  {
   "cell_type": "code",
   "execution_count": null,
   "metadata": {},
   "outputs": [],
   "source": [
    "# 1/10 data items with sale history # 0.6144 0.7354 0.89096  # 0.6267 0.7590 0.88757  \n",
    "# 1/10 data all items # 0.6847 0.8785 0.88676 # 0.6771 0.8786 0.88560"
   ]
  },
  {
   "cell_type": "code",
   "execution_count": 26,
   "metadata": {
    "scrolled": true
   },
   "outputs": [
    {
     "data": {
      "text/plain": [
       "['item_category_id',\n",
       " 'language',\n",
       " 'isbd',\n",
       " 'isрегион',\n",
       " 'isjewel',\n",
       " 'isdigital',\n",
       " 'console',\n",
       " 'has_cd',\n",
       " 'has_dvd',\n",
       " 'has_mp3',\n",
       " 'has_lp',\n",
       " 'version',\n",
       " 'type_code',\n",
       " 'subtype_code',\n",
       " 'item_cat_id_fix',\n",
       " 'shop_id_item_id_avg_item_cnt_month_lag_1',\n",
       " 'shop_id_item_id_avg_item_cnt_month_lag_2',\n",
       " 'shop_id_item_id_avg_item_cnt_month_lag_3',\n",
       " 'shop_id_item_id_avg_item_cnt_month_lag_6',\n",
       " 'shop_id_item_id_avg_revenue_month_lag_1',\n",
       " 'shop_id_item_id_avg_revenue_month_lag_2',\n",
       " 'shop_id_item_id_avg_revenue_month_lag_3',\n",
       " 'shop_id_item_id_avg_revenue_month_lag_6',\n",
       " '_avg_item_cnt_month_lag_1',\n",
       " '_avg_item_cnt_month_lag_2',\n",
       " '_avg_item_cnt_month_lag_3',\n",
       " '_avg_item_cnt_month_lag_6',\n",
       " '_avg_item_cnt_month_lag_12',\n",
       " '_avg_revenue_month_lag_1',\n",
       " '_avg_revenue_month_lag_2',\n",
       " '_avg_revenue_month_lag_3',\n",
       " '_avg_revenue_month_lag_6',\n",
       " 'item_id_avg_item_cnt_month_lag_1',\n",
       " 'item_id_avg_item_cnt_month_lag_2',\n",
       " 'item_id_avg_item_cnt_month_lag_3',\n",
       " 'item_id_avg_item_cnt_month_lag_6',\n",
       " 'shop_id_avg_item_cnt_month_lag_1',\n",
       " 'shop_id_avg_item_cnt_month_lag_2',\n",
       " 'shop_id_avg_item_cnt_month_lag_3',\n",
       " 'shop_id_avg_item_cnt_month_lag_6',\n",
       " 'name_2_avg_item_cnt_month_lag_1',\n",
       " 'name_2_avg_item_cnt_month_lag_2',\n",
       " 'name_2_avg_item_cnt_month_lag_3',\n",
       " 'name_2_avg_item_cnt_month_lag_12',\n",
       " 'name_3_avg_item_cnt_month_lag_1',\n",
       " 'name_3_avg_item_cnt_month_lag_2',\n",
       " 'name_3_avg_item_cnt_month_lag_3',\n",
       " 'name_3_avg_item_cnt_month_lag_12',\n",
       " 'name_4_avg_item_cnt_month_lag_1',\n",
       " 'name_4_avg_item_cnt_month_lag_2',\n",
       " 'name_4_avg_item_cnt_month_lag_3',\n",
       " 'name_4_avg_item_cnt_month_lag_12',\n",
       " 'shop_id_name_2_avg_item_cnt_month_lag_1',\n",
       " 'shop_id_name_2_avg_item_cnt_month_lag_2',\n",
       " 'shop_id_name_2_avg_item_cnt_month_lag_3',\n",
       " 'shop_id_name_2_avg_item_cnt_month_lag_12',\n",
       " 'shop_id_name_3_avg_item_cnt_month_lag_1',\n",
       " 'shop_id_name_3_avg_item_cnt_month_lag_2',\n",
       " 'shop_id_name_3_avg_item_cnt_month_lag_3',\n",
       " 'shop_id_name_3_avg_item_cnt_month_lag_12',\n",
       " 'shop_id_avg_revenue_month_lag_1',\n",
       " 'shop_id_avg_revenue_month_lag_2',\n",
       " 'shop_id_avg_revenue_month_lag_3',\n",
       " 'shop_id_name_4_avg_item_cnt_month_lag_1',\n",
       " 'shop_id_name_4_avg_item_cnt_month_lag_2',\n",
       " 'shop_id_name_4_avg_item_cnt_month_lag_3',\n",
       " 'shop_id_name_4_avg_item_cnt_month_lag_12',\n",
       " 'item_category_id_avg_item_cnt_month_lag_1',\n",
       " 'shop_id_item_category_id_avg_item_cnt_month_lag_1',\n",
       " 'shop_id_type_code_avg_item_cnt_month_lag_1',\n",
       " 'shop_id_subtype_code_avg_item_cnt_month_lag_1',\n",
       " 'shop_city_avg_item_cnt_month_lag_1',\n",
       " 'shop_city_avg_revenue_month_lag_1',\n",
       " 'shop_city_item_id_avg_item_cnt_month_lag_1',\n",
       " 'shop_city_item_id_avg_item_cnt_month_lag_2',\n",
       " 'shop_city_item_id_avg_item_cnt_month_lag_3',\n",
       " 'shop_city_item_id_avg_item_cnt_month_lag_6',\n",
       " 'shop_city_item_id_avg_item_cnt_month_lag_12',\n",
       " 'type_code_avg_item_cnt_month_lag_1',\n",
       " 'type_code_avg_item_cnt_month_lag_2',\n",
       " 'type_code_avg_item_cnt_month_lag_3',\n",
       " 'type_code_avg_item_cnt_month_lag_6',\n",
       " 'type_code_avg_item_cnt_month_lag_12',\n",
       " 'type_code_avg_revenue_month_lag_1',\n",
       " 'subtype_code_avg_item_cnt_month_lag_1',\n",
       " 'subtype_code_avg_revenue_month_lag_1',\n",
       " 'last_item_avg_price',\n",
       " 'last_shop_item_avg_price',\n",
       " 'last_price_diff',\n",
       " 'last_price_ratio',\n",
       " 'shop_id_item_id_avg_delta_revenue_lag_1',\n",
       " 'month',\n",
       " 'days',\n",
       " 'item_shop_last_sale',\n",
       " 'item_last_sale',\n",
       " 'item_shop_first_sale',\n",
       " 'item_first_sale',\n",
       " 'first_sale_diff',\n",
       " 'isChristmas',\n",
       " 'interval_last_Christmas',\n",
       " 'interval_first_Christmas',\n",
       " 'item_new',\n",
       " 'item_shop_new',\n",
       " 'shop_since_open',\n",
       " 'max_date']"
      ]
     },
     "execution_count": 26,
     "metadata": {},
     "output_type": "execute_result"
    }
   ],
   "source": [
    "features_2 = features[:-32]\n",
    "features_2"
   ]
  },
  {
   "cell_type": "code",
   "execution_count": 29,
   "metadata": {
    "scrolled": true
   },
   "outputs": [
    {
     "name": "stdout",
     "output_type": "stream",
     "text": [
      "no\n",
      "Fold 1 started at Tue Feb  4 20:08:41 2020\n",
      "Training until validation scores don't improve for 200 rounds.\n",
      "[500]\ttraining's rmse: 0.7116\tvalid_1's rmse: 0.849724\n",
      "[1000]\ttraining's rmse: 0.623876\tvalid_1's rmse: 0.848284\n",
      "Early stopping, best iteration is:\n",
      "[1216]\ttraining's rmse: 0.594524\tvalid_1's rmse: 0.847729\n",
      "Fold 2 started at Tue Feb  4 20:12:05 2020\n",
      "Training until validation scores don't improve for 200 rounds.\n",
      "Early stopping, best iteration is:\n",
      "[195]\ttraining's rmse: 0.7993\tvalid_1's rmse: 0.826981\n",
      "Fold 3 started at Tue Feb  4 20:12:55 2020\n",
      "Training until validation scores don't improve for 200 rounds.\n",
      "[500]\ttraining's rmse: 0.704015\tvalid_1's rmse: 0.886862\n",
      "Early stopping, best iteration is:\n",
      "[349]\ttraining's rmse: 0.739658\tvalid_1's rmse: 0.886134\n",
      "Fold 4 started at Tue Feb  4 20:13:53 2020\n",
      "Training until validation scores don't improve for 200 rounds.\n",
      "[500]\ttraining's rmse: 0.707104\tvalid_1's rmse: 0.84711\n",
      "Early stopping, best iteration is:\n",
      "[411]\ttraining's rmse: 0.728432\tvalid_1's rmse: 0.846027\n",
      "Fold 5 started at Tue Feb  4 20:15:02 2020\n",
      "Training until validation scores don't improve for 200 rounds.\n",
      "[500]\ttraining's rmse: 0.693102\tvalid_1's rmse: 0.993938\n",
      "[1000]\ttraining's rmse: 0.610037\tvalid_1's rmse: 0.989546\n",
      "[1500]\ttraining's rmse: 0.552474\tvalid_1's rmse: 0.98754\n",
      "[2000]\ttraining's rmse: 0.507307\tvalid_1's rmse: 0.98657\n",
      "Early stopping, best iteration is:\n",
      "[1800]\ttraining's rmse: 0.523676\tvalid_1's rmse: 0.986075\n",
      "Train loss mean: 0.6771, std: 0.1018.\n",
      "CV mean score: 0.8786, std: 0.0571.\n"
     ]
    },
    {
     "data": {
      "text/plain": [
       "649.8033566474915"
      ]
     },
     "execution_count": 29,
     "metadata": {},
     "output_type": "execute_result"
    },
    {
     "data": {
      "image/png": "[encoded data removed]",
      "text/plain": [
       "<Figure size 1152x864 with 1 Axes>"
      ]
     },
     "metadata": {
      "needs_background": "light"
     },
     "output_type": "display_data"
    }
   ],
   "source": [
    "ts = time.time()\n",
    "\n",
    "result_dict_lgb_2 = train_model_regression(\n",
    "                 X=X_train[features_2][::10], \n",
    "                 X_test=X_test[features_2], \n",
    "                 y=X_train['item_cnt_month'][::10], \n",
    "                 params=params, \n",
    "                 groups = X_train['date_block_num'][::10], \n",
    "                 folds=folds, model_type='lgb', eval_metric='rmse', plot_feature_importance=True,\n",
    "                 verbose=500, early_stopping_rounds=200, n_estimators=20000)\n",
    "\n",
    "time.time()-ts"
   ]
  },
  {
   "cell_type": "markdown",
   "metadata": {},
   "source": [
    "# Feature selection"
   ]
  },
  {
   "cell_type": "markdown",
   "metadata": {},
   "source": [
    "If a feature is important, randomly permutate its values should worse the prediction. We use this logic to select good features"
   ]
  },
  {
   "cell_type": "code",
   "execution_count": 24,
   "metadata": {},
   "outputs": [],
   "source": [
    "def permutation_importance(X, y_true, model, features):\n",
    "    perm = {}\n",
    "    y_pred = model.predict(X[features])\n",
    "    baseline = root_mean_squared_error(y_true, y_pred)\n",
    "    count = 1\n",
    "    features_all = features\n",
    "        \n",
    "    for cols in features_all:\n",
    "        value = X[cols]\n",
    "        X[cols] = np.random.permutation(X[cols].values)\n",
    "        y_pred = model.predict(X[features])\n",
    "        perm[cols] = root_mean_squared_error(y_true, y_pred) - baseline\n",
    "        \n",
    "        print(f'Feature_{count}: {cols}, {perm[cols]}')\n",
    "        \n",
    "        X[cols] = value\n",
    "        gc.collect()\n",
    "        count += 1\n",
    "    return perm"
   ]
  },
  {
   "cell_type": "code",
   "execution_count": 25,
   "metadata": {},
   "outputs": [],
   "source": [
    "params = {'num_leaves': 256,                        #  1024   512   256            \n",
    "          'min_data_in_leaf': 200,                  #  50     100   200           \n",
    "          'objective': 'huber',                     # huber is the best                        \n",
    "          'max_depth': -1,                          # 10             -1    \n",
    "          'learning_rate': 0.3,                    #  0.03   0.3    0.02                     \n",
    "          \"boosting\": \"gbdt\",             \n",
    "          \"bagging_freq\": 1,                                    \n",
    "          \"bagging_fraction\": 0.7,                  # best: 0.9           0.7                              \n",
    "          'feature_fraction': 0.5,                  # best: 0.8           0.5\n",
    "          \"bagging_seed\": 11,                                    \n",
    "          \"metric\": 'rmse',                                       \n",
    "          \"verbosity\": -1,                                       \n",
    "          #'reg_alpha': 0.1,                                    \n",
    "          #'reg_lambda': 0.05,\n",
    "          'alpha': 0.5                             # 0.5\n",
    "         }"
   ]
  },
  {
   "cell_type": "code",
   "execution_count": 26,
   "metadata": {},
   "outputs": [],
   "source": [
    "def train_model(X_Train, y_Train, X_Valid, y_Valid, features, n_estimators = 20000):\n",
    "    model = lgb.LGBMRegressor(**params, n_estimators = n_estimators, n_jobs = -1)\n",
    "    model.fit(X_Train, y_Train, \n",
    "            eval_set=[(X_Train, y_Train), (X_Valid, y_Valid)], eval_metric='rmse',\n",
    "            verbose=500, early_stopping_rounds=200)\n",
    "\n",
    "    return model"
   ]
  },
  {
   "cell_type": "code",
   "execution_count": 27,
   "metadata": {},
   "outputs": [],
   "source": [
    "def feature_selection(X, y, iteration, features, folds):\n",
    "    Models = {}\n",
    "    features_fit = list(features)\n",
    "    for i in range(iteration + 1):\n",
    "        print(f'iteration {i}')\n",
    "        for fold_n, (train_index, valid_index) in enumerate(folds.split(X)):\n",
    "            \n",
    "            X_Train, X_Valid = X[features_fit].iloc[train_index], X[features_fit].iloc[valid_index]\n",
    "            y_Train, y_Valid = y.iloc[train_index], y.iloc[valid_index]\n",
    "            \n",
    "            model = train_model(X_Train, y_Train, X_Valid, y_Valid, features_fit) \n",
    "            perm = permutation_importance(X_Valid, y_Valid, model, features_fit)\n",
    "                \n",
    "            features_test = []\n",
    "            for feature, importance in perm.items():\n",
    "                \n",
    "                if importance >= 0:\n",
    "                    features_test.append(feature)\n",
    "                    \n",
    "        if len(features_test) == len(features_fit):\n",
    "            break\n",
    "        features_fit = list(features_test)\n",
    "        \n",
    "    return features_test, perm"
   ]
  },
  {
   "cell_type": "code",
   "execution_count": null,
   "metadata": {
    "scrolled": true
   },
   "outputs": [],
   "source": [
    "good_features, perm = feature_selection(X_train[::5],Y_train[::5],10,features,folds)"
   ]
  },
  {
   "cell_type": "code",
   "execution_count": null,
   "metadata": {},
   "outputs": [],
   "source": [
    "perm"
   ]
  },
  {
   "cell_type": "markdown",
   "metadata": {},
   "source": [
    "# Iterative find best features"
   ]
  },
  {
   "cell_type": "markdown",
   "metadata": {},
   "source": [
    "One by one select a subset of features that give the best prediction results."
   ]
  },
  {
   "cell_type": "code",
   "execution_count": 88,
   "metadata": {},
   "outputs": [],
   "source": [
    "def getDuplicateColumns(df):\n",
    "    duplicateColumnNames = set()\n",
    "    goodCol = set()\n",
    "    \n",
    "    for x in range(df.shape[1]):\n",
    "        col = df.iloc[:, x]\n",
    "        for y in range(x + 1, df.shape[1]):\n",
    "            otherCol = df.iloc[:, y]\n",
    "            if col.equals(otherCol):\n",
    "                found = True\n",
    "                goodCol.add(df.columns.values[x])\n",
    "                duplicateColumnNames.add(df.columns.values[y])\n",
    "            \n",
    "                \n",
    "    return list(duplicateColumnNames), list(goodCol)"
   ]
  },
  {
   "cell_type": "code",
   "execution_count": 89,
   "metadata": {},
   "outputs": [],
   "source": [
    "params = {'num_leaves': 256,                        #  1024   512   256            \n",
    "          'min_data_in_leaf': 200,                  #  50     100   200           \n",
    "          'objective': 'huber',                     # huber is the best                        \n",
    "          'max_depth': -1,                          # 10             -1    \n",
    "          'learning_rate': 0.3,                    #  0.03   0.3    0.02                     \n",
    "          \"boosting\": \"gbdt\",             \n",
    "          \"bagging_freq\": 1,                                    \n",
    "          \"bagging_fraction\": 0.7,                  # best: 0.9           0.7                              \n",
    "          'feature_fraction': 0.5,                  # best: 0.8           0.5\n",
    "          \"bagging_seed\": 11,                                    \n",
    "          \"metric\": 'rmse',                                       \n",
    "          \"verbosity\": -1,                                       \n",
    "          #'reg_alpha': 0.1,                                    \n",
    "          #'reg_lambda': 0.05,\n",
    "          'alpha': 0.5                             # 0.5\n",
    "         }"
   ]
  },
  {
   "cell_type": "code",
   "execution_count": 94,
   "metadata": {},
   "outputs": [],
   "source": [
    "n_splits = 2\n",
    "folds = KFold(n_splits)"
   ]
  },
  {
   "cell_type": "code",
   "execution_count": 91,
   "metadata": {},
   "outputs": [],
   "source": [
    "features = [feature for feature in train_use.columns.values if feature not in \n",
    "           ['date_block_num', 'revenue_month', 'item_cnt_month', 'mean_price', 'missing',\n",
    "            'category', \n",
    "            '1st_pre_cnt_per_month', '2nd_pre_cnt_per_month',\n",
    "            '1st_pre_item_avg_price','2nd_pre_item_avg_price','1st_2nd_item_price_diff','1st_2nd_item_price_diff_ratio',\n",
    "            #'item_id_item_cnt_month_enc', 'shop_id_item_cnt_month_enc', 'item_category_id_item_cnt_month_enc'\n",
    "           ]\n",
    "           ]"
   ]
  },
  {
   "cell_type": "code",
   "execution_count": null,
   "metadata": {
    "scrolled": true
   },
   "outputs": [],
   "source": [
    "X_t = X_train[::50]\n",
    "X_test_t = X_test[:20]\n",
    "y_t = Y_train[::50]\n",
    "\n",
    "#features = [col for col in train.columns.values if col not in badcol]\n",
    "col_tokeep = ['item_id']\n",
    "scores = [-1.]\n",
    "duplicate_features, _ = getDuplicateColumns(X_t[features])\n",
    "\n",
    "for iteration in range(38):\n",
    "    print(f'Round {iteration}:')\n",
    "    score_best = 100\n",
    "    index_best = 0\n",
    "    number = 0\n",
    "    for index in range(len(features)):\n",
    "        if features[index] in col_tokeep:\n",
    "            continue\n",
    "        if len(X_t[features[index]].unique()) == 1:\n",
    "            continue\n",
    "        if features[index] in duplicate_features:\n",
    "            continue\n",
    "            \n",
    "        print(f'{number} feature {features[index]} started at {time.ctime()}')\n",
    "        \n",
    "        number = number + 1\n",
    "        features_totest = col_tokeep.copy()\n",
    "        features_totest.append(features[index])\n",
    "        X_t_t = X_t[features_totest]\n",
    "        X_test_t_t = X_test_t[features_totest]\n",
    "        \n",
    "        result_dict_lgb = train_model_regression(X=X_t_t, X_test=X_test_t_t, y=y_t, \n",
    "                                                 params=params, folds=folds, model_type='lgb', eval_metric='rmse', plot_feature_importance=True,\n",
    "                                                      verbose=200, early_stopping_rounds=200, n_estimators=400)\n",
    "        score_mean = np.mean(result_dict_lgb['scores'])\n",
    "        if score_mean < score_best:\n",
    "            score_best = score_mean\n",
    "            index_best = index\n",
    "            \n",
    "    g.collect()\n",
    "\n",
    "    col_tokeep.append(features[index_best])\n",
    "    scores.append(score_best)"
   ]
  },
  {
   "cell_type": "code",
   "execution_count": 99,
   "metadata": {},
   "outputs": [
    {
     "data": {
      "text/plain": [
       "19828508"
      ]
     },
     "execution_count": 99,
     "metadata": {},
     "output_type": "execute_result"
    }
   ],
   "source": [
    "gc.collect()"
   ]
  },
  {
   "cell_type": "code",
   "execution_count": 100,
   "metadata": {},
   "outputs": [],
   "source": [
    "dict_feature = {'feature': col_tokeep, 'score': scores}\n",
    "df_features_0 = pd.DataFrame(dict_feature)"
   ]
  },
  {
   "cell_type": "code",
   "execution_count": 67,
   "metadata": {},
   "outputs": [],
   "source": [
    "#with open('features/result_dict_lgb_2019_12_28.pickle', 'wb') as handle:\n",
    "#    pickle.dump(df_features_0, handle, protocol = pickle.HIGHEST_PROTOCOL)\n",
    "    \n",
    "with open('features/result_dict_lgb_2019_12_28.pickle', 'rb') as handle:\n",
    "    df_features_0 = pickle.load(handle)"
   ]
  },
  {
   "cell_type": "code",
   "execution_count": null,
   "metadata": {},
   "outputs": [],
   "source": [
    "df_features_0"
   ]
  },
  {
   "cell_type": "markdown",
   "metadata": {},
   "source": [
    "# Neural network"
   ]
  },
  {
   "cell_type": "code",
   "execution_count": 203,
   "metadata": {},
   "outputs": [],
   "source": [
    "with open('train_mix_20191108_clip_0_20.pickle', 'rb') as handle:\n",
    "    train_mix = pickle.load(handle)"
   ]
  },
  {
   "cell_type": "code",
   "execution_count": 204,
   "metadata": {},
   "outputs": [],
   "source": [
    "train_mix['date_block_num_cp'] = train_mix['date_block_num']"
   ]
  },
  {
   "cell_type": "code",
   "execution_count": 205,
   "metadata": {},
   "outputs": [],
   "source": [
    "def train_mix_generate_full(df_input):\n",
    "\n",
    "    df = df_input.copy()\n",
    "    df_use = df.loc[df['date_block_num'].isin(date)]\n",
    "    Train_df = df_use[df_use['date_block_num']!= df_use['date_block_num'].max()]\n",
    "    Test_df = df_use[(df_use['date_block_num']== df_use['date_block_num'].max())&(df_use['category']!=2)]\n",
    "    \n",
    "    Train_df[feature_norm] = sc.fit_transform(Train_df[feature_norm])\n",
    "    Test_df[feature_norm] = sc.transform(Test_df[feature_norm])\n",
    "    \n",
    "    Train_df['shop_id'] = Train_df['shop_id'] - shop_min\n",
    "    #Train['item_id'] = Train['item_id'] - item_min\n",
    "    Train_df['item_category_id'] = Train_df['item_category_id'] - item_cat_min\n",
    "    #Train['item_cat_id_fix'] = Train['item_cat_id_fix'] - item_cat_id_fix_min\n",
    "    Train_df['type_code'] = Train_df['type_code'] - type_code_min\n",
    "    Train_df['subtype_code'] = Train_df['subtype_code'] - subtype_code_min\n",
    "    Train_df['city_code'] = Train_df['city_code'] - city_code_min\n",
    "    Train_df['month'] = Train_df['month'] - month_min\n",
    "\n",
    "    Test_df['shop_id'] = Test_df['shop_id'] - shop_min\n",
    "    #Test['item_id'] = Test['item_id'] - item_min\n",
    "    Test_df['item_category_id'] = Test_df['item_category_id'] - item_cat_min\n",
    "    #Test['item_cat_id_fix'] = Test['item_cat_id_fix'] - item_cat_id_fix_min\n",
    "    Test_df['type_code'] = Test_df['type_code'] - type_code_min\n",
    "    Test_df['subtype_code'] = Test_df['subtype_code'] - subtype_code_min\n",
    "    Test_df['city_code'] = Test_df['city_code'] - city_code_min\n",
    "    Test_df['month'] = Test_df['month'] - month_min\n",
    "    \n",
    "    X_train = Train_df.loc[Train_df.date_block_num < 33][features]\n",
    "    Y_train = Train_df.loc[Train_df.date_block_num < 33]['item_cnt_month']\n",
    "    X_valid = Train_df.loc[Train_df.date_block_num == 33][features]\n",
    "    Y_valid = Train_df.loc[Train_df.date_block_num == 33]['item_cnt_month']\n",
    "    X_test = Test_df.loc[Test_df['category']!=2][features]\n",
    "    \n",
    "    del Train_df, Test_df\n",
    "    gc.collect()\n",
    "    \n",
    "    return X_train, Y_train, X_valid, Y_valid, X_test, df"
   ]
  },
  {
   "cell_type": "code",
   "execution_count": 206,
   "metadata": {},
   "outputs": [],
   "source": [
    "X_train, Y_train, X_valid, Y_valid, X_test, train_mix_old = train_mix_generate_full(train_mix)"
   ]
  },
  {
   "cell_type": "code",
   "execution_count": 134,
   "metadata": {},
   "outputs": [
    {
     "data": {
      "text/plain": [
       "0"
      ]
     },
     "execution_count": 134,
     "metadata": {},
     "output_type": "execute_result"
    }
   ],
   "source": [
    "#del train_normal\n",
    "gc.collect()"
   ]
  },
  {
   "cell_type": "code",
   "execution_count": 150,
   "metadata": {},
   "outputs": [],
   "source": [
    "train_mix_month = train_mix_0.loc[(train_mix_0['date_block_num'] == 34)&(train_mix_0['category']!=2)]\n",
    "ratio_1 = len(train_mix_month.loc[train_mix_month[\"date_shop_cat_avg_item_cnt_lag_1\"]==0])/len(train_mix_month)\n",
    "\n",
    "train_mix_month = train_mix_0.loc[(train_mix_0['date_block_num'] == 34)&(train_mix_0['category']!=2)]\n",
    "ratio = len(train_mix_month.loc[train_mix_month['date_item_avg_item_cnt_lag_1']==0])/len(train_mix_month)"
   ]
  },
  {
   "cell_type": "code",
   "execution_count": 161,
   "metadata": {},
   "outputs": [],
   "source": [
    "#\"'date_block_num'_'shop_id'_'item_category_id'_avg_item_cnt_month_lag_1\"\n",
    "ratio_month = {}\n",
    "for month in range(34):\n",
    "    train_mix_month = train_mix_1.loc[train_mix_1['date_block_num'] == month]\n",
    "    r = len(train_mix_month.loc[train_mix_month[\"date_item_avg_item_cnt_lag_1\"]==0])/len(train_mix_month)\n",
    "    ratio_month[month] = r"
   ]
  },
  {
   "cell_type": "code",
   "execution_count": 162,
   "metadata": {},
   "outputs": [],
   "source": [
    "ratio_month_1 = {}\n",
    "for month in range(34):\n",
    "    train_mix_month = train_mix_1.loc[train_mix_1['date_block_num'] == month]\n",
    "    r_1 = len(train_mix_month.loc[train_mix_month[\"date_shop_cat_avg_item_cnt_lag_1\"]==0])/len(train_mix_month)\n",
    "    ratio_month_1[month] = r_1"
   ]
  },
  {
   "cell_type": "code",
   "execution_count": 1868,
   "metadata": {},
   "outputs": [],
   "source": [
    "#ratio_month_1"
   ]
  },
  {
   "cell_type": "code",
   "execution_count": 49,
   "metadata": {},
   "outputs": [
    {
     "data": {
      "text/plain": [
       "0"
      ]
     },
     "execution_count": 49,
     "metadata": {},
     "output_type": "execute_result"
    }
   ],
   "source": [
    "gc.collect()"
   ]
  },
  {
   "cell_type": "code",
   "execution_count": 50,
   "metadata": {},
   "outputs": [],
   "source": [
    "month_lst = [\n",
    " #   1, 2, 3, 4, 5,\n",
    "    6, 7, 8, 9, 10, 11,\n",
    "    12, 13, 14, 15, 16, 17, 18, 19, 20, 21, 22, 23, 24, 25, 26, 27, 28, 29, 30, 31, 32, 33\n",
    "]\n",
    "drop_counter = 0\n",
    "for month in month_lst:\n",
    "    if month == 0:\n",
    "        continue\n",
    "    train_mix_month = train_mix.loc[train_mix['date_block_num']==month]\n",
    "    l0 = len(train_mix_month)\n",
    "    l = len(train_mix_month.loc[train_mix_month[\"date_item_avg_item_cnt_lag_1\"]==0])\n",
    "    r_month = l / l0\n",
    "    if r_month < ratio:\n",
    "        continue\n",
    "    if np.abs(r_month-ratio) <= 0.02:\n",
    "        continue\n",
    "    tmp = train_mix_month.loc[train_mix_month['date_item_avg_item_cnt_lag_1'] == 0]\n",
    "    target = ratio + np.random.uniform(-0.02, 0.02)\n",
    "    l_drop = (l0 * target - l) / (target - 1)\n",
    "    df_drop = tmp.sample(n = int(l_drop))\n",
    "    train_mix.drop(df_drop.index, axis=0,inplace=True)\n",
    "    drop_counter += len(df_drop)"
   ]
  },
  {
   "cell_type": "code",
   "execution_count": 51,
   "metadata": {},
   "outputs": [
    {
     "data": {
      "text/plain": [
       "180"
      ]
     },
     "execution_count": 51,
     "metadata": {},
     "output_type": "execute_result"
    }
   ],
   "source": [
    "gc.collect()"
   ]
  },
  {
   "cell_type": "code",
   "execution_count": 52,
   "metadata": {},
   "outputs": [],
   "source": [
    "features = [feature for feature in train_mix.columns.values if feature not in\n",
    "           [ 'category', 'revenue_month', 'prediction', 'prediction_0', 'prediction_1', 'item_cnt_month', 'delta_revenue_lag_1',\n",
    "            'date_shop_type_avg_item_cnt_lag_1', 'date_shop_subtype_avg_item_cnt_lag_1', 'date_type_avg_item_cnt_lag_1', 'date_subtype_avg_item_cnt_lag_1',\n",
    "           'date_block_num'\n",
    "           ]\n",
    "           ]"
   ]
  },
  {
   "cell_type": "code",
   "execution_count": 1860,
   "metadata": {},
   "outputs": [],
   "source": [
    "#features"
   ]
  },
  {
   "cell_type": "code",
   "execution_count": 1760,
   "metadata": {},
   "outputs": [],
   "source": [
    "bad_cols = [\n",
    "            \"'date_block_num'_'item_category_id'_avg_item_cnt_month_lag_1\",       # not so good\n",
    "            \"'date_block_num'_'shop_id'_avg_item_cnt_month_lag_12\",\n",
    "            \"'date_block_num'_'subtype_code'_avg_item_cnt_month_lag_1\",\n",
    "            \"'date_block_num'_'shop_id'_avg_item_cnt_month_lag_3\",\n",
    "            \"'date_block_num'_'shop_id'_'type_code'_avg_item_cnt_month_lag_1\",\n",
    "            \"'date_block_num'_'shop_id'_avg_item_cnt_month_lag_2\",\n",
    "            \"'date_block_num'_avg_item_cnt_month_lag_1\",\n",
    "            #\"'date_block_num'_'item_id'_avg_item_cnt_month_lag_1\",                # good\n",
    "            \"'date_block_num'_'city_code'_avg_item_cnt_month_lag_1\",\n",
    "            #\"'date_block_num'_'shop_id'_'item_category_id'_avg_item_cnt_month_lag_1\",     # good\n",
    "            \"'date_block_num'_'shop_id'_avg_item_cnt_month_lag_6\",\n",
    "            \"'date_block_num'_'city_code'_'subtype_code'_avg_item_cnt_month_lag_1\",\n",
    "            #\"'date_block_num'_'item_id'_avg_item_cnt_month_lag_3\",\n",
    "            \"'date_block_num'_'item_id'_avg_item_cnt_month_lag_12\",\n",
    "            \"'date_block_num'_'shop_id'_'subtype_code'_avg_item_cnt_month_lag_1\",\n",
    "            \"'date_block_num'_'type_code'_avg_item_cnt_month_lag_1\",\n",
    "            \"'date_block_num'_'item_id'_'city_code'_avg_item_cnt_month_lag_1\",\n",
    "            #\"'date_block_num'_'item_id'_avg_item_cnt_month_lag_2\",\n",
    "            \"'date_block_num'_'city_code'_'item_category_id'_avg_item_cnt_month_lag_1\",\n",
    "            #\"'date_block_num'_'item_id'_avg_item_cnt_month_lag_6\",\n",
    "            \"'date_block_num'_'city_code'_'type_code'_avg_item_cnt_month_lag_1\",\n",
    "            \"'date_block_num'_'shop_id'_avg_item_cnt_month_lag_1\",\n",
    "           ]\n",
    "#features = list(set(features).difference(bad_cols))"
   ]
  },
  {
   "cell_type": "code",
   "execution_count": 53,
   "metadata": {},
   "outputs": [],
   "source": [
    "feature_norm = list(set(features).difference(['shop_id', \n",
    "                                              #'item_id', \n",
    "                                              'item_category_id', \n",
    "                                              #'item_cat_id_fix', \n",
    "                                              'type_code', \n",
    "                                              'subtype_code', \n",
    "                                              'city_code', \n",
    "                                              'month', \n",
    "                                              'date_block_num']))"
   ]
  },
  {
   "cell_type": "code",
   "execution_count": 54,
   "metadata": {},
   "outputs": [],
   "source": [
    "date = [\n",
    "#    1, 2, 3, 4, 5, \n",
    "    6, 7, 8, 9, 10, 11,\n",
    "    12, 13, 14, 15, 16, 17, 18, 19, 20, 21, 22, 23, 24, 25, 26, 27, 28, 29, 30, 31, 32, 33, 34\n",
    "]\n",
    "train_use = train_mix.loc[train_mix['date_block_num'].isin(date)]\n",
    "from sklearn.preprocessing import StandardScaler\n",
    "Train = train_use[train_use['date_block_num']!= train_use['date_block_num'].max()]\n",
    "Test = train_use[(train_use['date_block_num']== train_use['date_block_num'].max())&(train_use['category']!=2)]\n",
    "sc = StandardScaler()"
   ]
  },
  {
   "cell_type": "code",
   "execution_count": 55,
   "metadata": {},
   "outputs": [],
   "source": [
    "Train[feature_norm] = sc.fit_transform(Train[feature_norm])\n",
    "Test[feature_norm] = sc.transform(Test[feature_norm])\n",
    "\n",
    "shop_min = train_use['shop_id'].min()\n",
    "#item_min = train_use['item_id'].min()\n",
    "item_cat_min = train_use['item_category_id'].min()\n",
    "#item_cat_id_fix_min = train_use['item_cat_id_fix'].min()\n",
    "type_code_min = train_use['type_code'].min()\n",
    "subtype_code_min = train_use['subtype_code'].min()\n",
    "city_code_min = train_use['city_code'].min()\n",
    "month_min = train_use['month'].min()\n",
    "\n",
    "Train['shop_id'] = Train['shop_id'] - shop_min\n",
    "#Train['item_id'] = Train['item_id'] - item_min\n",
    "Train['item_category_id'] = Train['item_category_id'] - item_cat_min\n",
    "#Train['item_cat_id_fix'] = Train['item_cat_id_fix'] - item_cat_id_fix_min\n",
    "Train['type_code'] = Train['type_code'] - type_code_min\n",
    "Train['subtype_code'] = Train['subtype_code'] - subtype_code_min\n",
    "Train['city_code'] = Train['city_code'] - city_code_min\n",
    "Train['month'] = Train['month'] - month_min\n",
    "\n",
    "Test['shop_id'] = Test['shop_id'] - shop_min\n",
    "#Test['item_id'] = Test['item_id'] - item_min\n",
    "Test['item_category_id'] = Test['item_category_id'] - item_cat_min\n",
    "#Test['item_cat_id_fix'] = Test['item_cat_id_fix'] - item_cat_id_fix_min\n",
    "Test['type_code'] = Test['type_code'] - type_code_min\n",
    "Test['subtype_code'] = Test['subtype_code'] - subtype_code_min\n",
    "Test['city_code'] = Test['city_code'] - city_code_min\n",
    "Test['month'] = Test['month'] - month_min"
   ]
  },
  {
   "cell_type": "code",
   "execution_count": 72,
   "metadata": {},
   "outputs": [
    {
     "data": {
      "text/plain": [
       "113"
      ]
     },
     "execution_count": 72,
     "metadata": {},
     "output_type": "execute_result"
    }
   ],
   "source": [
    "X_train = Train.loc[Train.date_block_num < 33][features]\n",
    "Y_train = Train.loc[Train.date_block_num < 33]['item_cnt_month']\n",
    "X_valid = Train.loc[Train.date_block_num == 33][features]\n",
    "Y_valid = Train.loc[Train.date_block_num == 33]['item_cnt_month']\n",
    "X_test = Test.loc[Test['category']!=2][features]\n",
    "gc.collect()"
   ]
  },
  {
   "cell_type": "code",
   "execution_count": 124,
   "metadata": {},
   "outputs": [],
   "source": [
    "def train_mix_generate(df_input, random_state):\n",
    "    month_lst = [\n",
    "        6, 7, 8, 9, 10, 11,\n",
    "        12, 13, 14, 15, 16, 17, 18, 19, 20, 21, 22, 23, 24, 25, 26, 27, 28, 29, 30, 31, 32, 33\n",
    "    ]\n",
    "    drop_counter = 0\n",
    "    df = df_input.copy()\n",
    "    for month in month_lst:\n",
    "        if month == 0:\n",
    "            continue\n",
    "        df_month = df.loc[df['date_block_num']==month]\n",
    "        l0 = len(df_month)\n",
    "        l = len(df_month.loc[df_month[\"date_item_avg_item_cnt_lag_1\"]==0])\n",
    "        r_month = l / l0\n",
    "        if r_month < ratio:\n",
    "            continue\n",
    "        if np.abs(r_month-ratio) <= 0.02:\n",
    "            continue\n",
    "        tmp = df_month.loc[df_month['date_item_avg_item_cnt_lag_1'] == 0]\n",
    "        target = ratio + np.random.uniform(-0.02, 0.02)\n",
    "        l_drop = (l0 * target - l) / (target - 1)\n",
    "        df_drop = tmp.sample(n = int(l_drop), random_state = random_state)\n",
    "        df.drop(df_drop.index, axis=0,inplace=True)\n",
    "        drop_counter += len(df_drop)\n",
    "        \n",
    "    df_use = df.loc[df['date_block_num'].isin(date)]\n",
    "    Train_df = df_use[df_use['date_block_num']!= df_use['date_block_num'].max()]\n",
    "    Test_df = df_use[(df_use['date_block_num']== df_use['date_block_num'].max())&(df_use['category']!=2)]\n",
    "    \n",
    "    Train_df[feature_norm] = sc.fit_transform(Train_df[feature_norm])\n",
    "    Test_df[feature_norm] = sc.transform(Test_df[feature_norm])\n",
    "    \n",
    "    Train_df['shop_id'] = Train_df['shop_id'] - shop_min\n",
    "    #Train['item_id'] = Train['item_id'] - item_min\n",
    "    Train_df['item_category_id'] = Train_df['item_category_id'] - item_cat_min\n",
    "    #Train['item_cat_id_fix'] = Train['item_cat_id_fix'] - item_cat_id_fix_min\n",
    "    Train_df['type_code'] = Train_df['type_code'] - type_code_min\n",
    "    Train_df['subtype_code'] = Train_df['subtype_code'] - subtype_code_min\n",
    "    Train_df['city_code'] = Train_df['city_code'] - city_code_min\n",
    "    Train_df['month'] = Train_df['month'] - month_min\n",
    "\n",
    "    Test_df['shop_id'] = Test_df['shop_id'] - shop_min\n",
    "    #Test['item_id'] = Test['item_id'] - item_min\n",
    "    Test_df['item_category_id'] = Test_df['item_category_id'] - item_cat_min\n",
    "    #Test['item_cat_id_fix'] = Test['item_cat_id_fix'] - item_cat_id_fix_min\n",
    "    Test_df['type_code'] = Test_df['type_code'] - type_code_min\n",
    "    Test_df['subtype_code'] = Test_df['subtype_code'] - subtype_code_min\n",
    "    Test_df['city_code'] = Test_df['city_code'] - city_code_min\n",
    "    Test_df['month'] = Test_df['month'] - month_min\n",
    "    \n",
    "    X_train = Train_df.loc[Train_df.date_block_num < 33][features]\n",
    "    Y_train = Train_df.loc[Train_df.date_block_num < 33]['item_cnt_month']\n",
    "    X_valid = Train_df.loc[Train_df.date_block_num == 33][features]\n",
    "    Y_valid = Train_df.loc[Train_df.date_block_num == 33]['item_cnt_month']\n",
    "    X_test = Test_df.loc[Test_df['category']!=2][features]\n",
    "    \n",
    "    del Train_df, Test_df\n",
    "    gc.collect()\n",
    "    \n",
    "    return X_train, Y_train, X_valid, Y_valid, X_test, df"
   ]
  },
  {
   "cell_type": "code",
   "execution_count": 128,
   "metadata": {},
   "outputs": [],
   "source": [
    "X_train_0, Y_train_0, X_valid_0, Y_valid_0, X_test, train_mix_0 = train_mix_generate(train_mix, 0)"
   ]
  },
  {
   "cell_type": "code",
   "execution_count": 135,
   "metadata": {},
   "outputs": [],
   "source": [
    "X_train_1, Y_train_1, X_valid_1, Y_valid_1, X_test, train_mix_1 = train_mix_generate(train_mix, 1)"
   ]
  },
  {
   "cell_type": "code",
   "execution_count": 166,
   "metadata": {},
   "outputs": [],
   "source": [
    "X_train_2, Y_train_2, X_valid_2, Y_valid_2, X_test, train_mix_2 = train_mix_generate(train_mix, 2)"
   ]
  },
  {
   "cell_type": "code",
   "execution_count": 57,
   "metadata": {},
   "outputs": [],
   "source": [
    "shop_NN = train_use['shop_id'].unique() - train_use['shop_id'].min()\n",
    "#item_NN = train_use['item_id'].unique() - train_use['item_id'].min()\n",
    "item_cat_NN = train_use['item_category_id'].unique() - train_use['item_category_id'].min()\n",
    "#item_cat_fix_NN = train_use['item_cat_id_fix'].unique() - train_use['item_cat_id_fix'].min()\n",
    "type_NN = train_use['type_code'].unique() - train_use['type_code'].min()\n",
    "subtype_NN = train_use['subtype_code'].unique() - train_use['subtype_code'].min()\n",
    "city_NN = train_use['city_code'].unique() - train_use['city_code'].min()\n",
    "month_NN = train_use['month'].unique() - train_use['month'].min()"
   ]
  },
  {
   "cell_type": "code",
   "execution_count": 219,
   "metadata": {},
   "outputs": [],
   "source": [
    "from keras.layers import Dense\n",
    "from keras.layers import Input\n",
    "from keras.layers import Dropout\n",
    "from keras.layers import ReLU, LeakyReLU, BatchNormalization\n",
    "from keras.layers import Add\n",
    "from keras.layers import Embedding, concatenate, Reshape\n",
    "from keras.optimizers import RMSprop, Adam\n",
    "from keras import backend as K\n",
    "import tensorflow as tf\n",
    "import keras"
   ]
  },
  {
   "cell_type": "code",
   "execution_count": 220,
   "metadata": {},
   "outputs": [],
   "source": [
    "from keras.models import Model, Sequential\n",
    "from keras.callbacks import ModelCheckpoint"
   ]
  },
  {
   "cell_type": "code",
   "execution_count": 240,
   "metadata": {},
   "outputs": [],
   "source": [
    "config = tf.ConfigProto()\n",
    "config.gpu_options.allow_growth = True\n",
    "sess = tf.Session(config=config)\n",
    "sess.run(tf.global_variables_initializer())\n",
    "sess.run(tf.local_variables_initializer())"
   ]
  },
  {
   "cell_type": "markdown",
   "metadata": {},
   "source": [
    "Need to normalize all features"
   ]
  },
  {
   "cell_type": "markdown",
   "metadata": {},
   "source": [
    "Using embeddings to encode categorical features can improve the prediction. But it can only be as good as lgb"
   ]
  },
  {
   "cell_type": "code",
   "execution_count": 241,
   "metadata": {},
   "outputs": [],
   "source": [
    "initializer = keras.initializers.RandomUniform(seed=None)\n",
    "def NN_layers(n_features = 30, dense_features = 220, drop_out = 0.05, embed_dropout = 0.1):\n",
    "    \n",
    "    shop_input = Input(shape = (1,))\n",
    "    #item_input = Input(shape = (1,))\n",
    "    item_cat_input = Input(shape = (1,))\n",
    "    #item_cat_fix_input = Input(shape = (1,))\n",
    "    type_input = Input(shape = (1,))\n",
    "    subtype_input = Input(shape = (1,))\n",
    "    city_input = Input(shape = (1,))\n",
    "    month_input = Input(shape = (1,))\n",
    "    \n",
    "    layer_input = Input(shape = (X_train.shape[1] - 6,))\n",
    "    \n",
    "    #n_features = 20\n",
    "    embedding_shop = Embedding(shop_NN.max() + 1, n_features)\n",
    "    #embedding_item = Embedding(item_NN.max() + 1, n_features)\n",
    "    embedding_item_cat = Embedding(item_cat_NN.max() + 1, n_features)\n",
    "    #embedding_item_cat_fix = Embedding(item_cat_fix_NN.max() + 1, n_features)\n",
    "    embedding_type = Embedding(type_NN.max() + 1, n_features)\n",
    "    embedding_subtype = Embedding(subtype_NN.max() + 1, n_features)\n",
    "    embedding_city = Embedding(city_NN.max() + 1, n_features)\n",
    "    embedding_month = Embedding(month_NN.max() + 1, n_features)\n",
    "    \n",
    "    shop = Reshape((-1,))(embedding_shop(shop_input))\n",
    "    #item = Reshape((-1,))(embedding_item(item_input))\n",
    "    item_cat = Reshape((-1,))(embedding_item_cat(item_cat_input))\n",
    "    #item_cat_fix = Reshape((-1,))(embedding_item_cat_fix(item_cat_fix_input))\n",
    "    Type = Reshape((-1,))(embedding_type(type_input))\n",
    "    subtype = Reshape((-1,))(embedding_subtype(subtype_input))\n",
    "    city = Reshape((-1,))(embedding_city(city_input))\n",
    "    month = Reshape((-1,))(embedding_month(month_input))\n",
    "    \n",
    "    #shop = Dropout(0.1)(shop)\n",
    "    #item = Dropout(0.1)(item)\n",
    "    #item_cat = Dropout(0.1)(item_cat)\n",
    "    #item_cat_fix = Dropout(0.1)(item_cat_fix)\n",
    "    #Type = Dropout(0.1)(Type)\n",
    "    #subtype = Dropout(0.1)(subtype)\n",
    "    #city = Dropout(0.1)(city)\n",
    "    #month = Dropout(0.1)(month)\n",
    "    \n",
    "    x = concatenate([shop, \n",
    "                     #item, \n",
    "                     item_cat, \n",
    "                     #item_cat_fix, \n",
    "                     Type, \n",
    "                     subtype, \n",
    "                     city, \n",
    "                     month, \n",
    "                     layer_input], axis = -1)\n",
    "    \n",
    "    x = Dense(dense_features, input_dim=X_train.shape[1], kernel_initializer=initializer, activation='relu')(x)\n",
    "    #x = Dropout(drop_out)(x)\n",
    "    \n",
    "    x = Dense(dense_features, kernel_initializer=initializer)(x)\n",
    "    #x = BatchNormalization()(x)\n",
    "    x = ReLU(negative_slope=0.)(x)\n",
    "    x = Add()([Dense(dense_features, kernel_initializer=initializer)(x), x])\n",
    "    x = ReLU(negative_slope=0.)(x)\n",
    "    x = Dropout(drop_out)(x)\n",
    "    x = Dense(dense_features, kernel_initializer=initializer)(x)\n",
    "    #x = BatchNormalization()(x)\n",
    "    x = ReLU(negative_slope=0.)(x)\n",
    "    x = Add()([Dense(dense_features, kernel_initializer=initializer)(x), x])\n",
    "    x = ReLU(negative_slope=0.)(x)\n",
    "    x = Dropout(drop_out)(x)\n",
    "    x = Dense(dense_features, kernel_initializer=initializer)(x)\n",
    "    #x = BatchNormalization()(x)\n",
    "    x = ReLU(negative_slope=0.)(x)\n",
    "    x = Add()([Dense(dense_features, kernel_initializer=initializer)(x), x])\n",
    "    x = ReLU(negative_slope=0.)(x)\n",
    "    x = Dropout(drop_out)(x)\n",
    "    x = Dense(dense_features, kernel_initializer=initializer)(x)\n",
    "    #x = BatchNormalization()(x)\n",
    "    x = ReLU(negative_slope=0.)(x)\n",
    "    x = Add()([Dense(dense_features, kernel_initializer=initializer)(x), x])\n",
    "    x = ReLU(negative_slope=0.)(x)\n",
    "    x = Dropout(drop_out)(x)\n",
    "    x = Dense(dense_features, kernel_initializer=initializer)(x) \n",
    "    #x = BatchNormalization()(x)\n",
    "    x = ReLU(negative_slope=0.)(x)\n",
    "    x = Dense(dense_features, kernel_initializer=initializer)(x)\n",
    "    x = ReLU(negative_slope=0.)(x)\n",
    "    x = Dropout(drop_out)(x)\n",
    "\n",
    "    x = Dense(1, kernel_initializer='uniform')(x)\n",
    "    \n",
    "    return shop_input, item_cat_input, type_input, subtype_input, city_input, month_input, layer_input, x"
   ]
  },
  {
   "cell_type": "code",
   "execution_count": 242,
   "metadata": {},
   "outputs": [],
   "source": [
    "# n_features = 30 looks good\n",
    "shop_input, item_cat_input, type_input, subtype_input, city_input, month_input, layer_input, layer_output = NN_layers(30, 100, 0.2, 0.1)\n",
    "model_NN = Model([shop_input, item_cat_input, type_input, subtype_input, city_input, month_input, layer_input], layer_output)"
   ]
  },
  {
   "cell_type": "code",
   "execution_count": 243,
   "metadata": {},
   "outputs": [],
   "source": [
    "lr = 0.00005     # old 0.00005\n",
    "beta_1 = 0.9\n",
    "beta_2 = 0.999\n",
    "#Adam(lr = lr, beta_1 = beta_1, beta_2 = beta_2)\n",
    "#RMSprop(learning_rate=0.001, rho=0.9)\n",
    "model_NN.compile(loss='mse', optimizer=Adam(lr = lr, beta_1 = beta_1, beta_2 = beta_2), metrics=['mse'])\n",
    "checkpointer = ModelCheckpoint(filepath='./models/bestmodel_embedding_mix_2.hdf5', verbose=1, save_best_only=True)"
   ]
  },
  {
   "cell_type": "code",
   "execution_count": 244,
   "metadata": {
    "scrolled": true
   },
   "outputs": [
    {
     "name": "stdout",
     "output_type": "stream",
     "text": [
      "Train on 417060 samples, validate on 238172 samples\n",
      "Epoch 1/10\n",
      " - 31s - loss: 0.9363 - mse: 0.9363 - val_loss: 0.8792 - val_mse: 0.8792\n",
      "\n",
      "Epoch 00001: val_loss improved from inf to 0.87916, saving model to ./models/bestmodel_embedding_mix_2.hdf5\n",
      "Epoch 2/10\n",
      " - 31s - loss: 0.8320 - mse: 0.8320 - val_loss: 0.8506 - val_mse: 0.8506\n",
      "\n",
      "Epoch 00002: val_loss improved from 0.87916 to 0.85059, saving model to ./models/bestmodel_embedding_mix_2.hdf5\n",
      "Epoch 3/10\n",
      " - 32s - loss: 0.8067 - mse: 0.8067 - val_loss: 0.8404 - val_mse: 0.8404\n",
      "\n",
      "Epoch 00003: val_loss improved from 0.85059 to 0.84045, saving model to ./models/bestmodel_embedding_mix_2.hdf5\n",
      "Epoch 4/10\n",
      " - 34s - loss: 0.7899 - mse: 0.7899 - val_loss: 0.8399 - val_mse: 0.8399\n",
      "\n",
      "Epoch 00004: val_loss improved from 0.84045 to 0.83989, saving model to ./models/bestmodel_embedding_mix_2.hdf5\n",
      "Epoch 5/10\n",
      " - 34s - loss: 0.7836 - mse: 0.7836 - val_loss: 0.8300 - val_mse: 0.8300\n",
      "\n",
      "Epoch 00005: val_loss improved from 0.83989 to 0.82996, saving model to ./models/bestmodel_embedding_mix_2.hdf5\n",
      "Epoch 6/10\n",
      " - 35s - loss: 0.7732 - mse: 0.7732 - val_loss: 0.8388 - val_mse: 0.8388\n",
      "\n",
      "Epoch 00006: val_loss did not improve from 0.82996\n",
      "Epoch 7/10\n",
      " - 35s - loss: 0.7704 - mse: 0.7704 - val_loss: 0.8252 - val_mse: 0.8252\n",
      "\n",
      "Epoch 00007: val_loss improved from 0.82996 to 0.82523, saving model to ./models/bestmodel_embedding_mix_2.hdf5\n",
      "Epoch 8/10\n",
      " - 35s - loss: 0.7616 - mse: 0.7616 - val_loss: 0.8381 - val_mse: 0.8381\n",
      "\n",
      "Epoch 00008: val_loss did not improve from 0.82523\n",
      "Epoch 9/10\n",
      " - 35s - loss: 0.7584 - mse: 0.7584 - val_loss: 0.8265 - val_mse: 0.8265\n",
      "\n",
      "Epoch 00009: val_loss did not improve from 0.82523\n",
      "Epoch 10/10\n",
      " - 35s - loss: 0.7525 - mse: 0.7525 - val_loss: 0.8256 - val_mse: 0.8256\n",
      "\n",
      "Epoch 00010: val_loss did not improve from 0.82523\n"
     ]
    },
    {
     "data": {
      "text/plain": [
       "<keras.callbacks.callbacks.History at 0x253fafa2dd8>"
      ]
     },
     "execution_count": 244,
     "metadata": {},
     "output_type": "execute_result"
    }
   ],
   "source": [
    "Batch_size =  128                         #best: 1024\n",
    "Num_Epoch = 10\n",
    "model_NN.fit([X_train['shop_id'][::20],\n",
    "              #X_train['item_id'][::10],\n",
    "              X_train['item_category_id'][::20],\n",
    "              #X_train['item_cat_id_fix'],\n",
    "              X_train['type_code'][::20],\n",
    "              X_train['subtype_code'][::20],\n",
    "              X_train['city_code'][::20],\n",
    "              X_train['month'][::20],\n",
    "              X_train[feature_norm][::20]\n",
    "             ],\n",
    "         Y_train[::20],\n",
    "          batch_size = Batch_size,\n",
    "          epochs = Num_Epoch,\n",
    "          validation_data=([X_valid['shop_id'],\n",
    "                            #X_valid['item_id'],\n",
    "                            X_valid['item_category_id'],\n",
    "                            #X_valid['item_cat_id_fix'],\n",
    "                            X_valid['type_code'],\n",
    "                            X_valid['subtype_code'],\n",
    "                            X_valid['city_code'],\n",
    "                            X_valid['month'],\n",
    "                            X_valid[feature_norm]\n",
    "                           ], \n",
    "                           Y_valid),\n",
    "          verbose = 2,\n",
    "         callbacks = [checkpointer]\n",
    "         )"
   ]
  },
  {
   "cell_type": "code",
   "execution_count": null,
   "metadata": {},
   "outputs": [],
   "source": [
    "0.82523"
   ]
  },
  {
   "cell_type": "code",
   "execution_count": 212,
   "metadata": {},
   "outputs": [],
   "source": [
    "model_NN.load_weights('./models/bestmodel_embedding_mix_2.hdf5')"
   ]
  },
  {
   "cell_type": "code",
   "execution_count": 227,
   "metadata": {},
   "outputs": [],
   "source": [
    "Y_test_NN = model_NN.predict([X_test['shop_id'],\n",
    "                              X_test['item_category_id'],\n",
    "                              #X_test['item_cat_id_fix'],\n",
    "                              X_test['type_code'],\n",
    "                              X_test['subtype_code'],\n",
    "                              X_test['city_code'],\n",
    "                              X_test['month'],\n",
    "                              X_test[feature_norm]\n",
    "             ])\n",
    "Y_valid_NN = model_NN.predict([X_valid_0['shop_id'],\n",
    "                                X_valid_0['item_category_id'],\n",
    "                                #X_valid['item_cat_id_fix'],\n",
    "                                X_valid_0['type_code'],\n",
    "                                X_valid_0['subtype_code'],\n",
    "                                X_valid_0['city_code'],\n",
    "                                X_valid_0['month'],\n",
    "                                X_valid_0[feature_norm]\n",
    "                           ])"
   ]
  },
  {
   "cell_type": "code",
   "execution_count": 93,
   "metadata": {},
   "outputs": [],
   "source": [
    "test_submission['prediction_mix_0'] = 0.5"
   ]
  },
  {
   "cell_type": "code",
   "execution_count": 94,
   "metadata": {},
   "outputs": [],
   "source": [
    "test_submission.loc[test_submission['category']!=2, 'prediction_mix_0'] = Y_test_NN"
   ]
  },
  {
   "cell_type": "code",
   "execution_count": 239,
   "metadata": {},
   "outputs": [
    {
     "data": {
      "text/plain": [
       "32"
      ]
     },
     "execution_count": 239,
     "metadata": {},
     "output_type": "execute_result"
    }
   ],
   "source": [
    "K.clear_session()\n",
    "gc.collect()"
   ]
  },
  {
   "cell_type": "code",
   "execution_count": 1787,
   "metadata": {},
   "outputs": [
    {
     "name": "stdout",
     "output_type": "stream",
     "text": [
      "Model: \"model_3\"\n",
      "__________________________________________________________________________________________________\n",
      "Layer (type)                    Output Shape         Param #     Connected to                     \n",
      "==================================================================================================\n",
      "input_15 (InputLayer)           (None, 1)            0                                            \n",
      "__________________________________________________________________________________________________\n",
      "input_16 (InputLayer)           (None, 1)            0                                            \n",
      "__________________________________________________________________________________________________\n",
      "input_17 (InputLayer)           (None, 1)            0                                            \n",
      "__________________________________________________________________________________________________\n",
      "input_18 (InputLayer)           (None, 1)            0                                            \n",
      "__________________________________________________________________________________________________\n",
      "input_19 (InputLayer)           (None, 1)            0                                            \n",
      "__________________________________________________________________________________________________\n",
      "input_20 (InputLayer)           (None, 1)            0                                            \n",
      "__________________________________________________________________________________________________\n",
      "embedding_13 (Embedding)        (None, 1, 30)        1740        input_15[0][0]                   \n",
      "__________________________________________________________________________________________________\n",
      "embedding_14 (Embedding)        (None, 1, 30)        2520        input_16[0][0]                   \n",
      "__________________________________________________________________________________________________\n",
      "embedding_15 (Embedding)        (None, 1, 30)        600         input_17[0][0]                   \n",
      "__________________________________________________________________________________________________\n",
      "embedding_16 (Embedding)        (None, 1, 30)        1950        input_18[0][0]                   \n",
      "__________________________________________________________________________________________________\n",
      "embedding_17 (Embedding)        (None, 1, 30)        930         input_19[0][0]                   \n",
      "__________________________________________________________________________________________________\n",
      "embedding_18 (Embedding)        (None, 1, 30)        360         input_20[0][0]                   \n",
      "__________________________________________________________________________________________________\n",
      "reshape_13 (Reshape)            (None, 30)           0           embedding_13[0][0]               \n",
      "__________________________________________________________________________________________________\n",
      "reshape_14 (Reshape)            (None, 30)           0           embedding_14[0][0]               \n",
      "__________________________________________________________________________________________________\n",
      "reshape_15 (Reshape)            (None, 30)           0           embedding_15[0][0]               \n",
      "__________________________________________________________________________________________________\n",
      "reshape_16 (Reshape)            (None, 30)           0           embedding_16[0][0]               \n",
      "__________________________________________________________________________________________________\n",
      "reshape_17 (Reshape)            (None, 30)           0           embedding_17[0][0]               \n",
      "__________________________________________________________________________________________________\n",
      "reshape_18 (Reshape)            (None, 30)           0           embedding_18[0][0]               \n",
      "__________________________________________________________________________________________________\n",
      "input_21 (InputLayer)           (None, 40)           0                                            \n",
      "__________________________________________________________________________________________________\n",
      "concatenate_3 (Concatenate)     (None, 220)          0           reshape_13[0][0]                 \n",
      "                                                                 reshape_14[0][0]                 \n",
      "                                                                 reshape_15[0][0]                 \n",
      "                                                                 reshape_16[0][0]                 \n",
      "                                                                 reshape_17[0][0]                 \n",
      "                                                                 reshape_18[0][0]                 \n",
      "                                                                 input_21[0][0]                   \n",
      "__________________________________________________________________________________________________\n",
      "dense_25 (Dense)                (None, 80)           17680       concatenate_3[0][0]              \n",
      "__________________________________________________________________________________________________\n",
      "dense_26 (Dense)                (None, 80)           6480        dense_25[0][0]                   \n",
      "__________________________________________________________________________________________________\n",
      "re_lu_21 (ReLU)                 (None, 80)           0           dense_26[0][0]                   \n",
      "__________________________________________________________________________________________________\n",
      "dense_27 (Dense)                (None, 80)           6480        re_lu_21[0][0]                   \n",
      "__________________________________________________________________________________________________\n",
      "add_9 (Add)                     (None, 80)           0           dense_27[0][0]                   \n",
      "                                                                 re_lu_21[0][0]                   \n",
      "__________________________________________________________________________________________________\n",
      "re_lu_22 (ReLU)                 (None, 80)           0           add_9[0][0]                      \n",
      "__________________________________________________________________________________________________\n",
      "dropout_11 (Dropout)            (None, 80)           0           re_lu_22[0][0]                   \n",
      "__________________________________________________________________________________________________\n",
      "dense_28 (Dense)                (None, 80)           6480        dropout_11[0][0]                 \n",
      "__________________________________________________________________________________________________\n",
      "re_lu_23 (ReLU)                 (None, 80)           0           dense_28[0][0]                   \n",
      "__________________________________________________________________________________________________\n",
      "dense_29 (Dense)                (None, 80)           6480        re_lu_23[0][0]                   \n",
      "__________________________________________________________________________________________________\n",
      "add_10 (Add)                    (None, 80)           0           dense_29[0][0]                   \n",
      "                                                                 re_lu_23[0][0]                   \n",
      "__________________________________________________________________________________________________\n",
      "re_lu_24 (ReLU)                 (None, 80)           0           add_10[0][0]                     \n",
      "__________________________________________________________________________________________________\n",
      "dropout_12 (Dropout)            (None, 80)           0           re_lu_24[0][0]                   \n",
      "__________________________________________________________________________________________________\n",
      "dense_30 (Dense)                (None, 80)           6480        dropout_12[0][0]                 \n",
      "__________________________________________________________________________________________________\n",
      "re_lu_25 (ReLU)                 (None, 80)           0           dense_30[0][0]                   \n",
      "__________________________________________________________________________________________________\n",
      "dense_31 (Dense)                (None, 80)           6480        re_lu_25[0][0]                   \n",
      "__________________________________________________________________________________________________\n",
      "add_11 (Add)                    (None, 80)           0           dense_31[0][0]                   \n",
      "                                                                 re_lu_25[0][0]                   \n",
      "__________________________________________________________________________________________________\n",
      "re_lu_26 (ReLU)                 (None, 80)           0           add_11[0][0]                     \n",
      "__________________________________________________________________________________________________\n",
      "dropout_13 (Dropout)            (None, 80)           0           re_lu_26[0][0]                   \n",
      "__________________________________________________________________________________________________\n",
      "dense_32 (Dense)                (None, 80)           6480        dropout_13[0][0]                 \n",
      "__________________________________________________________________________________________________\n",
      "re_lu_27 (ReLU)                 (None, 80)           0           dense_32[0][0]                   \n",
      "__________________________________________________________________________________________________\n",
      "dense_33 (Dense)                (None, 80)           6480        re_lu_27[0][0]                   \n",
      "__________________________________________________________________________________________________\n",
      "add_12 (Add)                    (None, 80)           0           dense_33[0][0]                   \n",
      "                                                                 re_lu_27[0][0]                   \n",
      "__________________________________________________________________________________________________\n",
      "re_lu_28 (ReLU)                 (None, 80)           0           add_12[0][0]                     \n",
      "__________________________________________________________________________________________________\n",
      "dropout_14 (Dropout)            (None, 80)           0           re_lu_28[0][0]                   \n",
      "__________________________________________________________________________________________________\n",
      "dense_34 (Dense)                (None, 80)           6480        dropout_14[0][0]                 \n",
      "__________________________________________________________________________________________________\n",
      "re_lu_29 (ReLU)                 (None, 80)           0           dense_34[0][0]                   \n",
      "__________________________________________________________________________________________________\n",
      "dense_35 (Dense)                (None, 80)           6480        re_lu_29[0][0]                   \n",
      "__________________________________________________________________________________________________\n",
      "re_lu_30 (ReLU)                 (None, 80)           0           dense_35[0][0]                   \n",
      "__________________________________________________________________________________________________\n",
      "dropout_15 (Dropout)            (None, 80)           0           re_lu_30[0][0]                   \n",
      "__________________________________________________________________________________________________\n",
      "dense_36 (Dense)                (None, 1)            81          dropout_15[0][0]                 \n",
      "==================================================================================================\n",
      "Total params: 90,661\n",
      "Trainable params: 90,661\n",
      "Non-trainable params: 0\n",
      "__________________________________________________________________________________________________\n"
     ]
    }
   ],
   "source": [
    "model_NN.summary()"
   ]
  },
  {
   "cell_type": "markdown",
   "metadata": {
    "heading_collapsed": true
   },
   "source": [
    "# SVR"
   ]
  },
  {
   "cell_type": "markdown",
   "metadata": {},
   "source": [
    "Much worse compared to lgb or xgb"
   ]
  },
  {
   "cell_type": "code",
   "execution_count": 180,
   "metadata": {
    "hidden": true
   },
   "outputs": [],
   "source": [
    "model = NuSVR(gamma='scale', nu=0.7, tol=0.01, C=1.0)\n",
    "#oof_svr1, prediction_svr1 = train_model(X=X_train_scaled, X_test=X_test_scaled, params=None, model_type='sklearn', model=model)"
   ]
  },
  {
   "cell_type": "code",
   "execution_count": 182,
   "metadata": {
    "hidden": true
   },
   "outputs": [],
   "source": [
    "#model = model\n",
    "#model.fit(X_train, Y_train)\n",
    "\n",
    "y_valid_SVR = model.predict(X_valid).reshape(-1,)\n",
    "y_test_SVR = model.predict(X_test).reshape(-1,)\n"
   ]
  },
  {
   "cell_type": "code",
   "execution_count": 183,
   "metadata": {
    "hidden": true
   },
   "outputs": [
    {
     "name": "stdout",
     "output_type": "stream",
     "text": [
      "Score: 1.0977.\n"
     ]
    }
   ],
   "source": [
    "score = root_mean_squared_error(Y_valid, y_valid_SVR)\n",
    "print(f'Score: {score:.4f}.')"
   ]
  },
  {
   "cell_type": "markdown",
   "metadata": {
    "heading_collapsed": true
   },
   "source": [
    "# Iteratively find the best features"
   ]
  },
  {
   "cell_type": "code",
   "execution_count": 44,
   "metadata": {
    "hidden": true
   },
   "outputs": [],
   "source": [
    "import queue as Q\n",
    "from random import random"
   ]
  },
  {
   "cell_type": "code",
   "execution_count": 48,
   "metadata": {
    "hidden": true
   },
   "outputs": [],
   "source": [
    "def getDuplicateColumns(df):\n",
    "    duplicateColumnNames = set()\n",
    "    #goodCol = set()\n",
    "    \n",
    "    for x in range(df.shape[1]):\n",
    "        col = df.iloc[:, x]\n",
    "        for y in range(x + 1, df.shape[1]):\n",
    "            otherCol = df.iloc[:, y]\n",
    "            if col.equals(otherCol):\n",
    "                #goodCol.add(df.colu)\n",
    "                duplicateColumnNames.add(df.columns.values[y])\n",
    "    \n",
    "    return list(duplicateColumnNames)"
   ]
  },
  {
   "cell_type": "code",
   "execution_count": 52,
   "metadata": {
    "hidden": true
   },
   "outputs": [],
   "source": [
    "def select_features(df, start_features, features_toselect, refine_start, refine_feature, n_features_stop, n_features_calculate, n_Estimators):\n",
    "    X_t = df\n",
    "    X_test_t = X_t[:200]\n",
    "    y_t = X_t['item_cnt_month']\n",
    "    \n",
    "    col_tokeep = []\n",
    "    #features = [col for col in X_t.columns.values]\n",
    "    if start_features == []:\n",
    "        col_tokeep = ['city_code']\n",
    "        scores = [-1.]\n",
    "    else:\n",
    "        col_tokeep = list(start_features)\n",
    "        scores = list(np.zeros(len(start_features)))\n",
    "        \n",
    "    duplicate_features = getDuplicateColumns(X_t[features_toselect])\n",
    "    bad_col = []\n",
    "    \n",
    "    for iteration in range(n_features_calculate):\n",
    "        \n",
    "        if len(features_toselect) - iteration - len(bad_col) < n_features_stop:\n",
    "            break\n",
    "        print(f'Round {iteration + 1}')\n",
    "        score_best = 100\n",
    "        index_best = 0\n",
    "        number = 0\n",
    "        \n",
    "        q = Q.PriorityQueue()\n",
    "        \n",
    "        for index in range(len(features_toselect)):\n",
    "            \n",
    "            if features_toselect[index] in col_tokeep:\n",
    "                continue\n",
    "            if len(X_t[features_toselect[index]].unique()) == 1:\n",
    "                continue\n",
    "            if features_toselect[index] in duplicate_features:\n",
    "                continue\n",
    "            if features_toselect[index] in bad_col:\n",
    "                continue\n",
    "                \n",
    "            value = random()\n",
    "            if iteration > 15 and value > 0.85:\n",
    "                continue\n",
    "\n",
    "            print(f'{number} feature {features_toselect[index]} started at {time.ctime()}')\n",
    "\n",
    "            number = number + 1\n",
    "            features_totest = col_tokeep.copy()\n",
    "            features_totest.append(features_toselect[index])\n",
    "            X_t_t = X_t[features_totest]\n",
    "            X_test_t_t = X_test_t[features_totest]\n",
    "\n",
    "            result_dict_lgb_potential = train_model_regression(X=X_t_t, X_test=X_test_t_t, y=y_t, molecules = None, \n",
    "                                     params=params, folds=kf, model_type='lgb', eval_metric='rmse', plot_feature_importance=False,\n",
    "                                     verbose=500, early_stopping_rounds=200, n_estimators=n_Estimators, groupFold = False)\n",
    "            score_mean = np.mean(result_dict_lgb_potential['scores'])\n",
    "            if score_mean < score_best:\n",
    "                score_best = score_mean\n",
    "                index_best = index\n",
    "                \n",
    "            if iteration > refine_start:\n",
    "                q.put((-score_mean, index))\n",
    "\n",
    "        col_tokeep.append(features_toselect[index_best])\n",
    "        scores.append(score_best)\n",
    "        if iteration > refine_start and iteration < 25:\n",
    "            for i in range(refine_feature):\n",
    "                if not q.empty():\n",
    "                    temp = q.get()\n",
    "                    bad_col.append(features_toselect[temp[1]])\n",
    "                else:\n",
    "                    break\n",
    "    dict_feature = {'feature': col_tokeep, 'score': scores}\n",
    "    df_feature_1J = pd.DataFrame(dict_feature)\n",
    "    return df_feature_1J, col_tokeep, bad_col"
   ]
  },
  {
   "cell_type": "code",
   "execution_count": 54,
   "metadata": {
    "hidden": true
   },
   "outputs": [],
   "source": [
    "kf = KFold(n_splits = 2, shuffle = False, random_state = 10)"
   ]
  },
  {
   "cell_type": "code",
   "execution_count": 50,
   "metadata": {
    "hidden": true
   },
   "outputs": [],
   "source": [
    "train_testing = train_use.loc[(train_use['date_block_num'] > 13) & (train_use['date_block_num'] <= 33)][::150].copy()"
   ]
  },
  {
   "cell_type": "code",
   "execution_count": 16,
   "metadata": {
    "hidden": true
   },
   "outputs": [
    {
     "data": {
      "text/plain": [
       "38331"
      ]
     },
     "execution_count": 16,
     "metadata": {},
     "output_type": "execute_result"
    }
   ],
   "source": [
    "len(train_testing)"
   ]
  },
  {
   "cell_type": "code",
   "execution_count": null,
   "metadata": {
    "hidden": true,
    "scrolled": true
   },
   "outputs": [],
   "source": [
    "df_feature, col_tokeep, bad_col = select_features(df = train_testing, \n",
    "                                                  start_features = [], \n",
    "                                                  features_toselect = cols, \n",
    "                                                  refine_start = 10, \n",
    "                                                  refine_feature = 20, \n",
    "                                                  n_features_stop = 0, \n",
    "                                                  n_features_calculate = 35, \n",
    "                                                  n_Estimators = 400)"
   ]
  },
  {
   "cell_type": "code",
   "execution_count": 121,
   "metadata": {
    "hidden": true
   },
   "outputs": [],
   "source": [
    "with open('bad_col_20191020.pickle', 'wb') as handle:\n",
    "    pickle.dump(bad_col, handle, protocol = pickle.HIGHEST_PROTOCOL)"
   ]
  },
  {
   "cell_type": "code",
   "execution_count": 57,
   "metadata": {
    "hidden": true
   },
   "outputs": [],
   "source": [
    "df_feature.to_csv('./feature/feature_20191020.csv')"
   ]
  },
  {
   "cell_type": "code",
   "execution_count": 17,
   "metadata": {
    "hidden": true
   },
   "outputs": [],
   "source": [
    "df_feature = pd.read_csv('./feature/feature_20191020.csv')"
   ]
  },
  {
   "cell_type": "markdown",
   "metadata": {},
   "source": [
    "# Submission"
   ]
  },
  {
   "cell_type": "code",
   "execution_count": 50,
   "metadata": {},
   "outputs": [],
   "source": [
    "sample_submission = pd.read_csv('./input/sample_submission.csv', \n",
    "                                index_col='ID'\n",
    "                               )\n",
    "benchmark = sample_submission.copy()\n",
    "benchmark.reset_index(inplace = True)"
   ]
  },
  {
   "cell_type": "code",
   "execution_count": 51,
   "metadata": {},
   "outputs": [],
   "source": [
    "submission_1 = pd.read_csv('submissions/submission_20190226_0.csv', \n",
    "                                index_col='ID'\n",
    "                               )\n",
    "submission_1.reset_index(inplace = True)"
   ]
  },
  {
   "cell_type": "code",
   "execution_count": 163,
   "metadata": {},
   "outputs": [],
   "source": [
    "#submission_1 = pd.read_csv('submissions/submission_20190204_1.csv', \n",
    "#                                index_col='ID'\n",
    "#                               )\n",
    "#submission_1.reset_index(inplace = True)"
   ]
  },
  {
   "cell_type": "code",
   "execution_count": 19,
   "metadata": {},
   "outputs": [],
   "source": [
    "#submission_2 = pd.read_csv('submissions/submission_20190204_1.csv', \n",
    "#                                index_col='ID'\n",
    "#                               )\n",
    "#submission_2.reset_index(inplace = True)"
   ]
  },
  {
   "cell_type": "code",
   "execution_count": 52,
   "metadata": {},
   "outputs": [],
   "source": [
    "test = train_mix.loc[train_mix['date_block_num']==34].copy()\n",
    "test = test[['date_block_num','shop_id','item_id','category']]"
   ]
  },
  {
   "cell_type": "code",
   "execution_count": 53,
   "metadata": {},
   "outputs": [],
   "source": [
    "test['item_cnt_month_1'] = submission_1['item_cnt_month'].values\n",
    "#test['item_cnt_month_2'] = submission_2['item_cnt_month'].values\n",
    "test['item_cnt_month_2'] = result_dict_lgb_0['prediction']"
   ]
  },
  {
   "cell_type": "code",
   "execution_count": 54,
   "metadata": {},
   "outputs": [],
   "source": [
    "#ratio = 0.7\n",
    "#test['item_cnt_month'] = test['item_cnt_month_1']*(1-ratio) + test['item_cnt_month_2']*ratio\n",
    "test['item_cnt_month'] = test['item_cnt_month_1']"
   ]
  },
  {
   "cell_type": "code",
   "execution_count": 158,
   "metadata": {},
   "outputs": [],
   "source": [
    "test['category_new'] = 4\n",
    "\n",
    "shop_train = train_use.loc[(train_use['date_block_num']>=6)&(train_use['date_block_num']<=33)]['shop_id'].unique()\n",
    "item_lst = train_use.loc[(train_use['date_block_num']>=6)&(train_use['date_block_num']<=33)]['item_id'].unique()\n",
    "#shop_test = test.loc[test['category']==0]['shop_id'].unique()\n",
    "\n",
    "for shop in shop_train:\n",
    "    item_lst_shop = train_use.loc[(train_use['date_block_num']>=6)&(train_use['date_block_num']<=33)&(train_use['shop_id'] == shop)]['item_id'].unique()\n",
    "    test.loc[(test['shop_id'] == shop) & (test['item_id'].isin(item_lst_shop)), 'category_new'] = 0\n",
    "    \n",
    "test.loc[~(test['item_id'].isin(item_lst)), 'category_new'] = 2\n",
    "test.loc[test['shop_id']==36,'category_new']=2\n",
    "\n",
    "test.loc[test['category_new'] == 4, 'category_new'] = 1"
   ]
  },
  {
   "cell_type": "code",
   "execution_count": 44,
   "metadata": {},
   "outputs": [],
   "source": [
    "test.loc[test['category']==2,'item_cnt_month']=test.loc[test['category']==2,'item_cnt_month_2']"
   ]
  },
  {
   "cell_type": "code",
   "execution_count": 60,
   "metadata": {},
   "outputs": [
    {
     "data": {
      "text/html": [
       "<div>\n",
       "<style scoped>\n",
       "    .dataframe tbody tr th:only-of-type {\n",
       "        vertical-align: middle;\n",
       "    }\n",
       "\n",
       "    .dataframe tbody tr th {\n",
       "        vertical-align: top;\n",
       "    }\n",
       "\n",
       "    .dataframe thead th {\n",
       "        text-align: right;\n",
       "    }\n",
       "</style>\n",
       "<table border=\"1\" class=\"dataframe\">\n",
       "  <thead>\n",
       "    <tr style=\"text-align: right;\">\n",
       "      <th></th>\n",
       "      <th>date_block_num</th>\n",
       "      <th>shop_id</th>\n",
       "      <th>item_id</th>\n",
       "      <th>category</th>\n",
       "      <th>item_cnt_month_1</th>\n",
       "      <th>item_cnt_month_2</th>\n",
       "      <th>item_cnt_month</th>\n",
       "    </tr>\n",
       "  </thead>\n",
       "  <tbody>\n",
       "    <tr>\n",
       "      <th>10842077</th>\n",
       "      <td>34</td>\n",
       "      <td>5</td>\n",
       "      <td>5037</td>\n",
       "      <td>0</td>\n",
       "      <td>0.694902947592472</td>\n",
       "      <td>0.884471385343111</td>\n",
       "      <td>0.694902947592472</td>\n",
       "    </tr>\n",
       "    <tr>\n",
       "      <th>10842078</th>\n",
       "      <td>34</td>\n",
       "      <td>5</td>\n",
       "      <td>5320</td>\n",
       "      <td>2</td>\n",
       "      <td>1.884101990018031</td>\n",
       "      <td>1.884101990269444</td>\n",
       "      <td>1.884101990018031</td>\n",
       "    </tr>\n",
       "    <tr>\n",
       "      <th>10842079</th>\n",
       "      <td>34</td>\n",
       "      <td>5</td>\n",
       "      <td>5233</td>\n",
       "      <td>0</td>\n",
       "      <td>1.401397534206862</td>\n",
       "      <td>0.628071390589820</td>\n",
       "      <td>1.401397534206862</td>\n",
       "    </tr>\n",
       "    <tr>\n",
       "      <th>10842080</th>\n",
       "      <td>34</td>\n",
       "      <td>5</td>\n",
       "      <td>5232</td>\n",
       "      <td>0</td>\n",
       "      <td>0.881177848334276</td>\n",
       "      <td>0.570943063082906</td>\n",
       "      <td>0.881177848334276</td>\n",
       "    </tr>\n",
       "    <tr>\n",
       "      <th>10842081</th>\n",
       "      <td>34</td>\n",
       "      <td>5</td>\n",
       "      <td>5268</td>\n",
       "      <td>2</td>\n",
       "      <td>2.461680955944908</td>\n",
       "      <td>2.461680955935782</td>\n",
       "      <td>2.461680955944908</td>\n",
       "    </tr>\n",
       "  </tbody>\n",
       "</table>\n",
       "</div>"
      ],
      "text/plain": [
       "          date_block_num  shop_id  item_id  category   item_cnt_month_1  \\\n",
       "10842077              34        5     5037         0  0.694902947592472   \n",
       "10842078              34        5     5320         2  1.884101990018031   \n",
       "10842079              34        5     5233         0  1.401397534206862   \n",
       "10842080              34        5     5232         0  0.881177848334276   \n",
       "10842081              34        5     5268         2  2.461680955944908   \n",
       "\n",
       "           item_cnt_month_2     item_cnt_month  \n",
       "10842077  0.884471385343111  0.694902947592472  \n",
       "10842078  1.884101990269444  1.884101990018031  \n",
       "10842079  0.628071390589820  1.401397534206862  \n",
       "10842080  0.570943063082906  0.881177848334276  \n",
       "10842081  2.461680955935782  2.461680955944908  "
      ]
     },
     "execution_count": 60,
     "metadata": {},
     "output_type": "execute_result"
    }
   ],
   "source": [
    "test.head()"
   ]
  },
  {
   "cell_type": "code",
   "execution_count": 46,
   "metadata": {},
   "outputs": [
    {
     "data": {
      "text/html": [
       "<div>\n",
       "<style scoped>\n",
       "    .dataframe tbody tr th:only-of-type {\n",
       "        vertical-align: middle;\n",
       "    }\n",
       "\n",
       "    .dataframe tbody tr th {\n",
       "        vertical-align: top;\n",
       "    }\n",
       "\n",
       "    .dataframe thead th {\n",
       "        text-align: right;\n",
       "    }\n",
       "</style>\n",
       "<table border=\"1\" class=\"dataframe\">\n",
       "  <thead>\n",
       "    <tr style=\"text-align: right;\">\n",
       "      <th></th>\n",
       "      <th>ID</th>\n",
       "      <th>item_cnt_month</th>\n",
       "    </tr>\n",
       "  </thead>\n",
       "  <tbody>\n",
       "    <tr>\n",
       "      <th>0</th>\n",
       "      <td>0</td>\n",
       "      <td>0.694902947592472</td>\n",
       "    </tr>\n",
       "    <tr>\n",
       "      <th>1</th>\n",
       "      <td>1</td>\n",
       "      <td>1.553191983978745</td>\n",
       "    </tr>\n",
       "    <tr>\n",
       "      <th>2</th>\n",
       "      <td>2</td>\n",
       "      <td>1.401397534206862</td>\n",
       "    </tr>\n",
       "    <tr>\n",
       "      <th>3</th>\n",
       "      <td>3</td>\n",
       "      <td>0.881177848334276</td>\n",
       "    </tr>\n",
       "    <tr>\n",
       "      <th>4</th>\n",
       "      <td>4</td>\n",
       "      <td>2.392415416258590</td>\n",
       "    </tr>\n",
       "  </tbody>\n",
       "</table>\n",
       "</div>"
      ],
      "text/plain": [
       "   ID     item_cnt_month\n",
       "0   0  0.694902947592472\n",
       "1   1  1.553191983978745\n",
       "2   2  1.401397534206862\n",
       "3   3  0.881177848334276\n",
       "4   4  2.392415416258590"
      ]
     },
     "execution_count": 46,
     "metadata": {},
     "output_type": "execute_result"
    }
   ],
   "source": [
    "benchmark['item_cnt_month'] = test['item_cnt_month'].values\n",
    "#.clip(0.0, 20)\n",
    "benchmark.to_csv('submissions/submission_20190226_1.csv', index=False)\n",
    "benchmark.head()"
   ]
  }
 ],
 "metadata": {
  "kernelspec": {
   "display_name": "Python 3",
   "language": "python",
   "name": "python3"
  },
  "language_info": {
   "codemirror_mode": {
    "name": "ipython",
    "version": 3
   },
   "file_extension": ".py",
   "mimetype": "text/x-python",
   "name": "python",
   "nbconvert_exporter": "python",
   "pygments_lexer": "ipython3",
   "version": "3.7.1"
  }
 },
 "nbformat": 4,
 "nbformat_minor": 1
}
