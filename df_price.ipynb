{
 "cells": [
  {
   "cell_type": "markdown",
   "metadata": {},
   "source": [
    "# Data loading and Preprocessing"
   ]
  },
  {
   "cell_type": "code",
   "execution_count": 1,
   "metadata": {},
   "outputs": [],
   "source": [
    "%load_ext autoreload\n",
    "%autoreload 2\n",
    "\n",
    "%matplotlib inline"
   ]
  },
  {
   "cell_type": "code",
   "execution_count": 2,
   "metadata": {
    "_cell_guid": "b1076dfc-b9ad-4769-8c92-a6c4dae69d19",
    "_uuid": "8f2839f25d086af736a60e9eeb907d3b93b6e0e5"
   },
   "outputs": [],
   "source": [
    "import numpy as np # linear algebra\n",
    "import pandas as pd # data processing, CSV file I/O (e.g. pd.read_csv)\n",
    "\n",
    "import matplotlib.pyplot as plt\n",
    "import seaborn as sns\n",
    "sns.set()\n",
    "\n",
    "import os\n",
    "#print(os.listdir(\"../input\"))"
   ]
  },
  {
   "cell_type": "code",
   "execution_count": 3,
   "metadata": {},
   "outputs": [],
   "source": [
    "from sklearn.model_selection import GroupKFold\n",
    "from sklearn.preprocessing import LabelEncoder\n",
    "from sklearn.ensemble import RandomForestRegressor\n",
    "\n",
    "#from fastai.imports import *\n",
    "#from fastai.structured import *"
   ]
  },
  {
   "cell_type": "code",
   "execution_count": 4,
   "metadata": {},
   "outputs": [],
   "source": [
    "import matplotlib.pyplot as plt\n",
    "%matplotlib inline\n",
    "from tqdm import tqdm_notebook\n",
    "from sklearn.preprocessing import StandardScaler, LabelEncoder\n",
    "from sklearn.svm import NuSVR, SVR\n",
    "from sklearn.metrics import mean_absolute_error\n",
    "from sklearn import metrics\n",
    "pd.options.display.precision = 15\n",
    "\n",
    "import lightgbm as lgb\n",
    "import xgboost as xgb\n",
    "import time\n",
    "import datetime\n",
    "from catboost import CatBoostRegressor\n",
    "from sklearn.preprocessing import LabelEncoder\n",
    "from sklearn.model_selection import StratifiedKFold, KFold, RepeatedKFold, GroupKFold, TimeSeriesSplit\n",
    "from sklearn.metrics import mean_squared_error\n",
    "from sklearn.linear_model import LinearRegression\n",
    "import gc\n",
    "import seaborn as sns\n",
    "import warnings\n",
    "import scipy.signal as sg\n",
    "warnings.filterwarnings(\"ignore\")\n",
    "\n",
    "from scipy import stats"
   ]
  },
  {
   "cell_type": "code",
   "execution_count": 5,
   "metadata": {},
   "outputs": [],
   "source": [
    "import gc\n",
    "from itertools import product\n",
    "import random\n",
    "import pickle"
   ]
  },
  {
   "cell_type": "code",
   "execution_count": 6,
   "metadata": {},
   "outputs": [],
   "source": [
    "from xgboost import XGBRegressor\n",
    "from xgboost import plot_importance"
   ]
  },
  {
   "cell_type": "code",
   "execution_count": 7,
   "metadata": {},
   "outputs": [],
   "source": [
    "def reduce_mem_usage(df, verbose=True):\n",
    "    numerics = ['int16', 'int32', 'int64', 'float16', 'float32', 'float64']\n",
    "    start_mem = df.memory_usage().sum() / 1024**2\n",
    "    for col in df.columns:\n",
    "        col_type = df[col].dtypes\n",
    "        \n",
    "        if col_type in numerics:\n",
    "            c_min = df[col].min()\n",
    "            c_max = df[col].max()\n",
    "            if str(col_type)[:3] == 'int':\n",
    "                if c_min > np.iinfo(np.int8).min and c_max < np.iinfo(np.int8).max:\n",
    "                    df[col] = df[col].astype(np.int8)\n",
    "                elif c_min > np.iinfo(np.int16).min and c_max < np.iinfo(np.int16).max:\n",
    "                    df[col] = df[col].astype(np.int16)\n",
    "                elif c_min > np.iinfo(np.int32).min and c_max < np.iinfo(np.int32).max:\n",
    "                    df[col] = df[col].astype(np.int32)\n",
    "                elif c_min > np.iinfo(np.int64).min and c_max < np.iinfo(np.int64).max:\n",
    "                    df[col] = df[col].astype(np.int64)\n",
    "            else:\n",
    "                c_prec = df[col].apply(lambda x: np.finfo(x).precision).max()\n",
    "                if c_min > np.finfo(np.float16).min and c_max < np.finfo(np.float16).max and c_prec == np.finfo(np.float16).precision:\n",
    "                    df[col] = df[col].astype(np.float16)\n",
    "                elif c_min > np.finfo(np.float32).min and c_max < np.finfo(np.float32).max: #and c_prec == np.finfo(np.float32).precision:\n",
    "                    df[col] = df[col].astype(np.float32)\n",
    "                else:\n",
    "                    df[col] = df[col].astype(np.float64)\n",
    "    end_mem = df.memory_usage().sum() / 1024**2\n",
    "    if verbose: print('Mem. usage decreased to {:5.2f} Mb ({:.1f}% reduction)'.format(end_mem, 100 * (start_mem - end_mem) / start_mem))\n",
    "    return df"
   ]
  },
  {
   "cell_type": "code",
   "execution_count": 8,
   "metadata": {},
   "outputs": [],
   "source": [
    "def merge_dataset(df):\n",
    "    \n",
    "    df = pd.merge(df, shops, on=['shop_id'], how='left')\n",
    "    df = pd.merge(df, item, on=['item_id'], how='left')\n",
    "    df = pd.merge(df, item_cat, on=['item_category_id'], how='left')\n",
    "    df['city_code'] = df['city_code'].astype(np.int8)\n",
    "    df['item_category_id'] = df['item_category_id'].astype(np.int8)\n",
    "    df['type_code'] = df['type_code'].astype(np.int8)\n",
    "    df['subtype_code'] = df['subtype_code'].astype(np.int8)\n",
    "        \n",
    "    return df"
   ]
  },
  {
   "cell_type": "code",
   "execution_count": 9,
   "metadata": {},
   "outputs": [],
   "source": [
    "def target_generate(df):\n",
    "    df = pd.merge(df, sales_group[['date_block_num','shop_id','item_id','revenue_month','item_cnt_month']], on=cols, how='left')\n",
    "    df['item_cnt_month'] = (df['item_cnt_month']\n",
    "                                    .fillna(0)\n",
    "                                    .clip(0,20) # NB clip target here\n",
    "                                    .astype(np.float16))\n",
    "    \n",
    "    df['revenue_month'] = (df['revenue_month']\n",
    "                                    .fillna(0)\n",
    "                                    .clip(0,20) # NB clip target here\n",
    "                                    .astype(np.float16))\n",
    "    return df"
   ]
  },
  {
   "cell_type": "code",
   "execution_count": 10,
   "metadata": {},
   "outputs": [],
   "source": [
    "lags = np.arange(12) + 1\n",
    "def lag_feature(df, lags, col = 'item_cnt_month', fillna = '0'):\n",
    "    tmp = df[['date_block_num', 'shop_id', 'item_id', col]]\n",
    "    \n",
    "    for i in lags:\n",
    "        shifted = tmp.copy()\n",
    "        shifted.columns = ['date_block_num','shop_id','item_id', col+'_lag_'+str(i)]\n",
    "        shifted['date_block_num'] += i\n",
    "        df = pd.merge(df, shifted, on=['date_block_num','shop_id','item_id'], how='left')\n",
    "        \n",
    "        if fillna == 'median':\n",
    "            df[f'{col}_lag_{i}'].fillna(df[f'{col}_lag_{i}'].median(), inplace = True)\n",
    "        elif fillna == 'mean':\n",
    "            df[f'{col}_lag_{i}'].fillna(df[f'{col}_lag_{i}'].mean(), inplace = True)\n",
    "        elif fillna == '0':\n",
    "            df.fillna(0, inplace = True)\n",
    "        del shifted\n",
    "        gc.collect()    \n",
    "        \n",
    "    del tmp\n",
    "    \n",
    "    return df"
   ]
  },
  {
   "cell_type": "code",
   "execution_count": 11,
   "metadata": {
    "_cell_guid": "79c7e3d0-c299-4dcb-8224-4455121ee9b0",
    "_uuid": "d629ff2d2480ee46fbb7e2d37f6b5fab8052498a"
   },
   "outputs": [],
   "source": [
    "sales_train = pd.read_csv('./input/sales_train_v2.csv')\n",
    "test = pd.read_csv('./input/test.csv')"
   ]
  },
  {
   "cell_type": "code",
   "execution_count": 12,
   "metadata": {},
   "outputs": [],
   "source": [
    "item_cat = pd.read_csv('./input/item_categories.csv')\n",
    "item = pd.read_csv('./input/items.csv')\n",
    "shops = pd.read_csv('./input/shops.csv')"
   ]
  },
  {
   "cell_type": "code",
   "execution_count": 13,
   "metadata": {},
   "outputs": [],
   "source": [
    "def remove_duplicate():\n",
    "    # Якутск Орджоникидзе, 56\n",
    "    sales_train.loc[sales_train.shop_id == 0, 'shop_id'] = 57\n",
    "    test.loc[test.shop_id == 0, 'shop_id'] = 57\n",
    "    # Якутск ТЦ \"Центральный\"\n",
    "    sales_train.loc[sales_train.shop_id == 1, 'shop_id'] = 58\n",
    "    test.loc[test.shop_id == 1, 'shop_id'] = 58\n",
    "    # Жуковский ул. Чкалова 39м²\n",
    "    sales_train.loc[sales_train.shop_id == 10, 'shop_id'] = 11\n",
    "    test.loc[test.shop_id == 10, 'shop_id'] = 11\n",
    "    #\n",
    "    sales_train.loc[sales_train.shop_id == 39, 'shop_id'] = 40\n",
    "    test.loc[test.shop_id == 39, 'shop_id'] = 40\n",
    "    \n",
    "remove_duplicate()"
   ]
  },
  {
   "cell_type": "code",
   "execution_count": 14,
   "metadata": {},
   "outputs": [],
   "source": [
    "def preprocess_sales_train(df):\n",
    "    df = df[df['item_cnt_day'] < 1000]\n",
    "    df = df[df['item_price'] < 100000]\n",
    "    return df"
   ]
  },
  {
   "cell_type": "code",
   "execution_count": 15,
   "metadata": {},
   "outputs": [],
   "source": [
    "sales_train = preprocess_sales_train(sales_train)\n",
    "median = sales_train[(sales_train.shop_id==32)&(sales_train.item_id==2973)&(sales_train.date_block_num==4)&(sales_train.item_price>0)].item_price.median()\n",
    "sales_train.loc[sales_train.item_price<0, 'item_price'] = median"
   ]
  },
  {
   "cell_type": "code",
   "execution_count": 16,
   "metadata": {},
   "outputs": [
    {
     "data": {
      "text/html": [
       "<div>\n",
       "<style scoped>\n",
       "    .dataframe tbody tr th:only-of-type {\n",
       "        vertical-align: middle;\n",
       "    }\n",
       "\n",
       "    .dataframe tbody tr th {\n",
       "        vertical-align: top;\n",
       "    }\n",
       "\n",
       "    .dataframe thead th {\n",
       "        text-align: right;\n",
       "    }\n",
       "</style>\n",
       "<table border=\"1\" class=\"dataframe\">\n",
       "  <thead>\n",
       "    <tr style=\"text-align: right;\">\n",
       "      <th></th>\n",
       "      <th>shop_name</th>\n",
       "      <th>shop_id</th>\n",
       "      <th>shop_city</th>\n",
       "      <th>shop_type</th>\n",
       "    </tr>\n",
       "  </thead>\n",
       "  <tbody>\n",
       "    <tr>\n",
       "      <th>0</th>\n",
       "      <td>якутск орджоникидзе  фран</td>\n",
       "      <td>0</td>\n",
       "      <td>якутск</td>\n",
       "      <td>NO_DATA</td>\n",
       "    </tr>\n",
       "    <tr>\n",
       "      <th>1</th>\n",
       "      <td>якутск тц центральный фран</td>\n",
       "      <td>1</td>\n",
       "      <td>якутск</td>\n",
       "      <td>тц</td>\n",
       "    </tr>\n",
       "    <tr>\n",
       "      <th>2</th>\n",
       "      <td>адыгея тц мега</td>\n",
       "      <td>2</td>\n",
       "      <td>адыгея</td>\n",
       "      <td>тц</td>\n",
       "    </tr>\n",
       "    <tr>\n",
       "      <th>3</th>\n",
       "      <td>балашиха трк октябрькиномир</td>\n",
       "      <td>3</td>\n",
       "      <td>балашиха</td>\n",
       "      <td>трк</td>\n",
       "    </tr>\n",
       "    <tr>\n",
       "      <th>4</th>\n",
       "      <td>волжский тц волга молл</td>\n",
       "      <td>4</td>\n",
       "      <td>волжский</td>\n",
       "      <td>тц</td>\n",
       "    </tr>\n",
       "  </tbody>\n",
       "</table>\n",
       "</div>"
      ],
      "text/plain": [
       "                     shop_name  shop_id shop_city shop_type\n",
       "0    якутск орджоникидзе  фран        0    якутск   NO_DATA\n",
       "1   якутск тц центральный фран        1    якутск        тц\n",
       "2               адыгея тц мега        2    адыгея        тц\n",
       "3  балашиха трк октябрькиномир        3  балашиха       трк\n",
       "4       волжский тц волга молл        4  волжский        тц"
      ]
     },
     "execution_count": 16,
     "metadata": {},
     "output_type": "execute_result"
    }
   ],
   "source": [
    "#def subcategory_generation():\n",
    "shops['shop_name'] = shops['shop_name'].apply(lambda x: x.lower()).str.replace('[^\\w\\s]', '').str.replace('\\d+','').str.strip()\n",
    "shops['shop_city'] = shops['shop_name'].str.partition(' ')[0]\n",
    "shops['shop_type'] = shops['shop_name'].apply(lambda x: 'мтрц' if 'мтрц' in x else 'трц' if 'трц' in x else 'трк' if 'трк' in x else 'тц' if 'тц' in x else 'тк' if 'тк' in x else 'NO_DATA')\n",
    "shops.head()\n",
    "\n",
    "#shops['city_code'] = LabelEncoder().fit_transform(shops['city'])\n",
    "#shops = shops[['shop_id','city_code']]"
   ]
  },
  {
   "cell_type": "code",
   "execution_count": 17,
   "metadata": {},
   "outputs": [
    {
     "data": {
      "text/plain": [
       "array(['NO_DATA', 'тц', 'трк', 'трц', 'мтрц', 'тк'], dtype=object)"
      ]
     },
     "execution_count": 17,
     "metadata": {},
     "output_type": "execute_result"
    }
   ],
   "source": [
    "shops['shop_type'].unique()"
   ]
  },
  {
   "cell_type": "code",
   "execution_count": 18,
   "metadata": {},
   "outputs": [],
   "source": [
    "item['name_1'], item['name_2'] = item['item_name'].str.split('[', 1).str\n",
    "item['name_1'], item['name_3'] = item['item_name'].str.split('(', 1).str\n",
    "\n",
    "item['name_2'] = item['name_2'].str.replace('[^A-Za-z0-9А-Яа-я]+', ' ').str.lower()\n",
    "item['name_3'] = item['name_3'].str.replace('[^A-Za-z0-9А-Яа-я]+', ' ').str.lower()\n",
    "item = item.fillna('0')"
   ]
  },
  {
   "cell_type": "code",
   "execution_count": 19,
   "metadata": {},
   "outputs": [],
   "source": [
    "item_cat['split'] = item_cat['item_category_name'].str.split('-')\n",
    "item_cat['type'] = item_cat['split'].map(lambda x: x[0].strip())\n",
    "item_cat['type_code'] = LabelEncoder().fit_transform(item_cat['type'])\n",
    "# if subtype is nan then type\n",
    "item_cat['subtype'] = item_cat['split'].map(lambda x: x[1].strip() if len(x) > 1 else x[0].strip())\n",
    "item_cat['subtype_code'] = LabelEncoder().fit_transform(item_cat['subtype'])\n",
    "item_cat = item_cat[['item_category_id','type_code', 'subtype_code']]\n",
    "#subcategory_generation()"
   ]
  },
  {
   "cell_type": "code",
   "execution_count": 20,
   "metadata": {},
   "outputs": [],
   "source": [
    "l_cat = list(item_cat.item_category_id)"
   ]
  },
  {
   "cell_type": "code",
   "execution_count": 21,
   "metadata": {},
   "outputs": [],
   "source": [
    "for ind in range(0,1):\n",
    "\n",
    "     l_cat[ind] = 'PC Headsets / Headphones'\n",
    "\n",
    "for ind in range(1,8):\n",
    "\n",
    "     l_cat[ind] = 'Access'\n",
    "\n",
    "l_cat[8] = 'Tickets (figure)'\n",
    "\n",
    "l_cat[9] = 'Delivery of goods'\n",
    "\n",
    "for ind in range(10,18):\n",
    "\n",
    "    l_cat[ind] = 'Consoles'\n",
    "\n",
    "for ind in range(18,25):\n",
    "\n",
    "    l_cat[ind] = 'Consoles Games'\n",
    "\n",
    "l_cat[25] = 'Accessories for games'\n",
    "\n",
    "for ind in range(26,28):\n",
    "\n",
    "    l_cat[ind] = 'phone games'\n",
    "\n",
    "for ind in range(28,32):\n",
    "\n",
    "    l_cat[ind] = 'CD games'\n",
    "\n",
    "for ind in range(32,37):\n",
    "\n",
    "    l_cat[ind] = 'Card'\n",
    "\n",
    "for ind in range(37,43):\n",
    "\n",
    "    l_cat[ind] = 'Movie'\n",
    "\n",
    "for ind in range(43,55):\n",
    "\n",
    "    l_cat[ind] = 'Books'\n",
    "\n",
    "for ind in range(55,61):\n",
    "\n",
    "    l_cat[ind] = 'Music'\n",
    "\n",
    "for ind in range(61,73):\n",
    "\n",
    "    l_cat[ind] = 'Gifts'\n",
    "\n",
    "for ind in range(73,79):\n",
    "\n",
    "    l_cat[ind] = 'Soft'\n",
    "\n",
    "for ind in range(79,81):\n",
    "\n",
    "    l_cat[ind] = 'Office'\n",
    "\n",
    "for ind in range(81,83):\n",
    "\n",
    "    l_cat[ind] = 'Clean'\n",
    "\n",
    "l_cat[83] = 'Elements of a food'"
   ]
  },
  {
   "cell_type": "code",
   "execution_count": 22,
   "metadata": {},
   "outputs": [],
   "source": [
    "from sklearn import preprocessing\n",
    "\n",
    "lb = preprocessing.LabelEncoder()\n",
    "item_cat['item_cat_id_fix'] = lb.fit_transform(l_cat)"
   ]
  },
  {
   "cell_type": "code",
   "execution_count": 23,
   "metadata": {},
   "outputs": [
    {
     "data": {
      "text/html": [
       "<div>\n",
       "<style scoped>\n",
       "    .dataframe tbody tr th:only-of-type {\n",
       "        vertical-align: middle;\n",
       "    }\n",
       "\n",
       "    .dataframe tbody tr th {\n",
       "        vertical-align: top;\n",
       "    }\n",
       "\n",
       "    .dataframe thead th {\n",
       "        text-align: right;\n",
       "    }\n",
       "</style>\n",
       "<table border=\"1\" class=\"dataframe\">\n",
       "  <thead>\n",
       "    <tr style=\"text-align: right;\">\n",
       "      <th></th>\n",
       "      <th>item_category_id</th>\n",
       "      <th>type_code</th>\n",
       "      <th>subtype_code</th>\n",
       "      <th>item_cat_id_fix</th>\n",
       "    </tr>\n",
       "  </thead>\n",
       "  <tbody>\n",
       "    <tr>\n",
       "      <th>0</th>\n",
       "      <td>0</td>\n",
       "      <td>0</td>\n",
       "      <td>29</td>\n",
       "      <td>14</td>\n",
       "    </tr>\n",
       "    <tr>\n",
       "      <th>1</th>\n",
       "      <td>1</td>\n",
       "      <td>1</td>\n",
       "      <td>9</td>\n",
       "      <td>0</td>\n",
       "    </tr>\n",
       "    <tr>\n",
       "      <th>2</th>\n",
       "      <td>2</td>\n",
       "      <td>1</td>\n",
       "      <td>10</td>\n",
       "      <td>0</td>\n",
       "    </tr>\n",
       "    <tr>\n",
       "      <th>3</th>\n",
       "      <td>3</td>\n",
       "      <td>1</td>\n",
       "      <td>11</td>\n",
       "      <td>0</td>\n",
       "    </tr>\n",
       "    <tr>\n",
       "      <th>4</th>\n",
       "      <td>4</td>\n",
       "      <td>1</td>\n",
       "      <td>13</td>\n",
       "      <td>0</td>\n",
       "    </tr>\n",
       "  </tbody>\n",
       "</table>\n",
       "</div>"
      ],
      "text/plain": [
       "   item_category_id  type_code  subtype_code  item_cat_id_fix\n",
       "0                 0          0            29               14\n",
       "1                 1          1             9                0\n",
       "2                 2          1            10                0\n",
       "3                 3          1            11                0\n",
       "4                 4          1            13                0"
      ]
     },
     "execution_count": 23,
     "metadata": {},
     "output_type": "execute_result"
    }
   ],
   "source": [
    "item_cat.head()"
   ]
  },
  {
   "cell_type": "code",
   "execution_count": 24,
   "metadata": {},
   "outputs": [],
   "source": [
    "# label encoding shop\n",
    "shops['city_code'] = LabelEncoder().fit_transform(shops['shop_city'])\n",
    "shops['shop_type_code'] = LabelEncoder().fit_transform(shops['shop_type'])"
   ]
  },
  {
   "cell_type": "code",
   "execution_count": 25,
   "metadata": {},
   "outputs": [
    {
     "data": {
      "text/html": [
       "<div>\n",
       "<style scoped>\n",
       "    .dataframe tbody tr th:only-of-type {\n",
       "        vertical-align: middle;\n",
       "    }\n",
       "\n",
       "    .dataframe tbody tr th {\n",
       "        vertical-align: top;\n",
       "    }\n",
       "\n",
       "    .dataframe thead th {\n",
       "        text-align: right;\n",
       "    }\n",
       "</style>\n",
       "<table border=\"1\" class=\"dataframe\">\n",
       "  <thead>\n",
       "    <tr style=\"text-align: right;\">\n",
       "      <th></th>\n",
       "      <th>shop_name</th>\n",
       "      <th>shop_id</th>\n",
       "      <th>shop_city</th>\n",
       "      <th>shop_type</th>\n",
       "      <th>city_code</th>\n",
       "      <th>shop_type_code</th>\n",
       "    </tr>\n",
       "  </thead>\n",
       "  <tbody>\n",
       "    <tr>\n",
       "      <th>0</th>\n",
       "      <td>якутск орджоникидзе  фран</td>\n",
       "      <td>0</td>\n",
       "      <td>якутск</td>\n",
       "      <td>NO_DATA</td>\n",
       "      <td>29</td>\n",
       "      <td>0</td>\n",
       "    </tr>\n",
       "    <tr>\n",
       "      <th>1</th>\n",
       "      <td>якутск тц центральный фран</td>\n",
       "      <td>1</td>\n",
       "      <td>якутск</td>\n",
       "      <td>тц</td>\n",
       "      <td>29</td>\n",
       "      <td>5</td>\n",
       "    </tr>\n",
       "    <tr>\n",
       "      <th>2</th>\n",
       "      <td>адыгея тц мега</td>\n",
       "      <td>2</td>\n",
       "      <td>адыгея</td>\n",
       "      <td>тц</td>\n",
       "      <td>0</td>\n",
       "      <td>5</td>\n",
       "    </tr>\n",
       "    <tr>\n",
       "      <th>3</th>\n",
       "      <td>балашиха трк октябрькиномир</td>\n",
       "      <td>3</td>\n",
       "      <td>балашиха</td>\n",
       "      <td>трк</td>\n",
       "      <td>1</td>\n",
       "      <td>3</td>\n",
       "    </tr>\n",
       "    <tr>\n",
       "      <th>4</th>\n",
       "      <td>волжский тц волга молл</td>\n",
       "      <td>4</td>\n",
       "      <td>волжский</td>\n",
       "      <td>тц</td>\n",
       "      <td>2</td>\n",
       "      <td>5</td>\n",
       "    </tr>\n",
       "  </tbody>\n",
       "</table>\n",
       "</div>"
      ],
      "text/plain": [
       "                     shop_name  shop_id shop_city shop_type  city_code  \\\n",
       "0    якутск орджоникидзе  фран        0    якутск   NO_DATA         29   \n",
       "1   якутск тц центральный фран        1    якутск        тц         29   \n",
       "2               адыгея тц мега        2    адыгея        тц          0   \n",
       "3  балашиха трк октябрькиномир        3  балашиха       трк          1   \n",
       "4       волжский тц волга молл        4  волжский        тц          2   \n",
       "\n",
       "   shop_type_code  \n",
       "0               0  \n",
       "1               5  \n",
       "2               5  \n",
       "3               3  \n",
       "4               5  "
      ]
     },
     "execution_count": 25,
     "metadata": {},
     "output_type": "execute_result"
    }
   ],
   "source": [
    "shops.head()"
   ]
  },
  {
   "cell_type": "code",
   "execution_count": 26,
   "metadata": {},
   "outputs": [],
   "source": [
    "# label encoding item\n",
    "item['name_1_code'] = LabelEncoder().fit_transform(item['name_1'])\n",
    "item['name_2_code'] = LabelEncoder().fit_transform(item['name_2'])\n",
    "item['name_3_code'] = LabelEncoder().fit_transform(item['name_3'])"
   ]
  },
  {
   "cell_type": "code",
   "execution_count": 27,
   "metadata": {},
   "outputs": [
    {
     "data": {
      "text/plain": [
       "(20611, 20611)"
      ]
     },
     "execution_count": 27,
     "metadata": {},
     "output_type": "execute_result"
    }
   ],
   "source": [
    "len(item['name_1'].unique()), len(item['name_1_code'].unique())"
   ]
  },
  {
   "cell_type": "code",
   "execution_count": 28,
   "metadata": {},
   "outputs": [
    {
     "data": {
      "text/html": [
       "<div>\n",
       "<style scoped>\n",
       "    .dataframe tbody tr th:only-of-type {\n",
       "        vertical-align: middle;\n",
       "    }\n",
       "\n",
       "    .dataframe tbody tr th {\n",
       "        vertical-align: top;\n",
       "    }\n",
       "\n",
       "    .dataframe thead th {\n",
       "        text-align: right;\n",
       "    }\n",
       "</style>\n",
       "<table border=\"1\" class=\"dataframe\">\n",
       "  <thead>\n",
       "    <tr style=\"text-align: right;\">\n",
       "      <th></th>\n",
       "      <th>item_name</th>\n",
       "      <th>item_id</th>\n",
       "      <th>item_category_id</th>\n",
       "      <th>name_1</th>\n",
       "      <th>name_2</th>\n",
       "      <th>name_3</th>\n",
       "      <th>name_1_code</th>\n",
       "      <th>name_2_code</th>\n",
       "      <th>name_3_code</th>\n",
       "    </tr>\n",
       "  </thead>\n",
       "  <tbody>\n",
       "    <tr>\n",
       "      <th>0</th>\n",
       "      <td>! ВО ВЛАСТИ НАВАЖДЕНИЯ (ПЛАСТ.)         D</td>\n",
       "      <td>0</td>\n",
       "      <td>40</td>\n",
       "      <td>! ВО ВЛАСТИ НАВАЖДЕНИЯ</td>\n",
       "      <td>0</td>\n",
       "      <td>пласт d</td>\n",
       "      <td>0</td>\n",
       "      <td>4</td>\n",
       "      <td>1331</td>\n",
       "    </tr>\n",
       "    <tr>\n",
       "      <th>1</th>\n",
       "      <td>!ABBYY FineReader 12 Professional Edition Full...</td>\n",
       "      <td>1</td>\n",
       "      <td>76</td>\n",
       "      <td>!ABBYY FineReader 12 Professional Edition Full...</td>\n",
       "      <td>pc цифровая версия</td>\n",
       "      <td>0</td>\n",
       "      <td>1</td>\n",
       "      <td>64</td>\n",
       "      <td>42</td>\n",
       "    </tr>\n",
       "    <tr>\n",
       "      <th>2</th>\n",
       "      <td>***В ЛУЧАХ СЛАВЫ   (UNV)                    D</td>\n",
       "      <td>2</td>\n",
       "      <td>40</td>\n",
       "      <td>***В ЛУЧАХ СЛАВЫ</td>\n",
       "      <td>0</td>\n",
       "      <td>unv d</td>\n",
       "      <td>2</td>\n",
       "      <td>4</td>\n",
       "      <td>1011</td>\n",
       "    </tr>\n",
       "    <tr>\n",
       "      <th>3</th>\n",
       "      <td>***ГОЛУБАЯ ВОЛНА  (Univ)                      D</td>\n",
       "      <td>3</td>\n",
       "      <td>40</td>\n",
       "      <td>***ГОЛУБАЯ ВОЛНА</td>\n",
       "      <td>0</td>\n",
       "      <td>univ d</td>\n",
       "      <td>3</td>\n",
       "      <td>4</td>\n",
       "      <td>1010</td>\n",
       "    </tr>\n",
       "    <tr>\n",
       "      <th>4</th>\n",
       "      <td>***КОРОБКА (СТЕКЛО)                       D</td>\n",
       "      <td>4</td>\n",
       "      <td>40</td>\n",
       "      <td>***КОРОБКА</td>\n",
       "      <td>0</td>\n",
       "      <td>стекло d</td>\n",
       "      <td>4</td>\n",
       "      <td>4</td>\n",
       "      <td>1572</td>\n",
       "    </tr>\n",
       "  </tbody>\n",
       "</table>\n",
       "</div>"
      ],
      "text/plain": [
       "                                           item_name  item_id  \\\n",
       "0          ! ВО ВЛАСТИ НАВАЖДЕНИЯ (ПЛАСТ.)         D        0   \n",
       "1  !ABBYY FineReader 12 Professional Edition Full...        1   \n",
       "2      ***В ЛУЧАХ СЛАВЫ   (UNV)                    D        2   \n",
       "3    ***ГОЛУБАЯ ВОЛНА  (Univ)                      D        3   \n",
       "4        ***КОРОБКА (СТЕКЛО)                       D        4   \n",
       "\n",
       "   item_category_id                                             name_1  \\\n",
       "0                40                            ! ВО ВЛАСТИ НАВАЖДЕНИЯ    \n",
       "1                76  !ABBYY FineReader 12 Professional Edition Full...   \n",
       "2                40                                ***В ЛУЧАХ СЛАВЫ      \n",
       "3                40                                 ***ГОЛУБАЯ ВОЛНА     \n",
       "4                40                                        ***КОРОБКА    \n",
       "\n",
       "                name_2    name_3  name_1_code  name_2_code  name_3_code  \n",
       "0                    0   пласт d            0            4         1331  \n",
       "1  pc цифровая версия          0            1           64           42  \n",
       "2                    0     unv d            2            4         1011  \n",
       "3                    0    univ d            3            4         1010  \n",
       "4                    0  стекло d            4            4         1572  "
      ]
     },
     "execution_count": 28,
     "metadata": {},
     "output_type": "execute_result"
    }
   ],
   "source": [
    "item.head()"
   ]
  },
  {
   "cell_type": "code",
   "execution_count": 29,
   "metadata": {},
   "outputs": [],
   "source": [
    "item.drop(['item_name'], axis=1, inplace=True)"
   ]
  },
  {
   "cell_type": "code",
   "execution_count": 30,
   "metadata": {},
   "outputs": [],
   "source": [
    "sales_train['revenue'] = sales_train['item_price'] *  sales_train['item_cnt_day']"
   ]
  },
  {
   "cell_type": "code",
   "execution_count": 31,
   "metadata": {},
   "outputs": [
    {
     "data": {
      "text/plain": [
       "35"
      ]
     },
     "execution_count": 31,
     "metadata": {},
     "output_type": "execute_result"
    }
   ],
   "source": [
    "gc.collect()"
   ]
  },
  {
   "cell_type": "code",
   "execution_count": 32,
   "metadata": {},
   "outputs": [
    {
     "name": "stdout",
     "output_type": "stream",
     "text": [
      "Mem. usage decreased to 89.59 Mb (50.0% reduction)\n"
     ]
    }
   ],
   "source": [
    "sales_train = reduce_mem_usage(sales_train)"
   ]
  },
  {
   "cell_type": "markdown",
   "metadata": {},
   "source": [
    "# Categorize test and validation data set"
   ]
  },
  {
   "cell_type": "code",
   "execution_count": 33,
   "metadata": {},
   "outputs": [],
   "source": [
    "cols = ['date_block_num','shop_id','item_id']"
   ]
  },
  {
   "cell_type": "code",
   "execution_count": 34,
   "metadata": {},
   "outputs": [],
   "source": [
    "test['date_block_num']= 34\n",
    "test['date_block_num'] = test['date_block_num'].astype(np.int8)\n",
    "test['shop_id'] = test['shop_id'].astype(np.int8)\n",
    "test['item_id'] = test['item_id'].astype(np.int16)\n",
    "test = test[cols]"
   ]
  },
  {
   "cell_type": "code",
   "execution_count": 35,
   "metadata": {},
   "outputs": [],
   "source": [
    "sales_group = sales_train.groupby(['date_block_num', 'shop_id', 'item_id']).agg({\n",
    "                                    'item_cnt_day': ['sum'],\n",
    "                                    'revenue': ['sum']\n",
    "})"
   ]
  },
  {
   "cell_type": "code",
   "execution_count": 36,
   "metadata": {},
   "outputs": [],
   "source": [
    "sales_group.columns = ['_'.join(col).strip() for col in sales_group.columns.values]\n",
    "sales_group.rename(columns = {\n",
    "                            'revenue_sum': 'revenue_month',\n",
    "                            'item_cnt_day_sum': 'item_cnt_month',\n",
    "                            },\n",
    "                 inplace = True) \n",
    "sales_group.reset_index(inplace=True)"
   ]
  },
  {
   "cell_type": "code",
   "execution_count": 37,
   "metadata": {},
   "outputs": [],
   "source": [
    "# Initialize category column, 4 means haven't assigned any tag\n",
    "test['category'] = 4"
   ]
  },
  {
   "cell_type": "code",
   "execution_count": 38,
   "metadata": {},
   "outputs": [],
   "source": [
    "shop_train = sales_group.loc[sales_group['date_block_num']<=33]['shop_id'].unique()\n",
    "item_lst = sales_group.loc[sales_group['date_block_num']<=33]['item_id'].unique()\n",
    "shop_test = test.loc[test['category']==0]['shop_id'].unique()"
   ]
  },
  {
   "cell_type": "code",
   "execution_count": 39,
   "metadata": {},
   "outputs": [
    {
     "data": {
      "text/plain": [
       "33"
      ]
     },
     "execution_count": 39,
     "metadata": {},
     "output_type": "execute_result"
    }
   ],
   "source": [
    "sales_group['date_block_num'].max()"
   ]
  },
  {
   "cell_type": "markdown",
   "metadata": {},
   "source": [
    "Normal items with shop/item in sale history"
   ]
  },
  {
   "cell_type": "code",
   "execution_count": 40,
   "metadata": {},
   "outputs": [],
   "source": [
    "for shop in shop_train:\n",
    "    item_lst_shop = sales_group.loc[(sales_group['date_block_num']<=33)&(sales_group['shop_id'] == shop)]['item_id'].unique()\n",
    "    test.loc[(test['shop_id'] == shop) & (test['item_id'].isin(item_lst_shop)), 'category'] = 0"
   ]
  },
  {
   "cell_type": "markdown",
   "metadata": {},
   "source": [
    "Items w/o sale history"
   ]
  },
  {
   "cell_type": "code",
   "execution_count": 41,
   "metadata": {},
   "outputs": [],
   "source": [
    "test.loc[~(test['item_id'].isin(item_lst)), 'category'] = 2"
   ]
  },
  {
   "cell_type": "markdown",
   "metadata": {},
   "source": [
    "Items w sale history but no good shop/item pair"
   ]
  },
  {
   "cell_type": "code",
   "execution_count": 42,
   "metadata": {},
   "outputs": [],
   "source": [
    "test.loc[test['category'] == 4, 'category'] = 1"
   ]
  },
  {
   "cell_type": "code",
   "execution_count": 43,
   "metadata": {},
   "outputs": [
    {
     "data": {
      "text/plain": [
       "(111511, 87443, 15246)"
      ]
     },
     "execution_count": 43,
     "metadata": {},
     "output_type": "execute_result"
    }
   ],
   "source": [
    "len(test.loc[test['category']==0]), len(test.loc[test['category']==1]), len(test.loc[test['category']==2])"
   ]
  },
  {
   "cell_type": "markdown",
   "metadata": {},
   "source": [
    "# df_price"
   ]
  },
  {
   "cell_type": "code",
   "execution_count": 44,
   "metadata": {},
   "outputs": [
    {
     "data": {
      "text/plain": [
       "21"
      ]
     },
     "execution_count": 44,
     "metadata": {},
     "output_type": "execute_result"
    }
   ],
   "source": [
    "df_price = []\n",
    "for i in range(34):\n",
    "    #sales = sales_train[sales_train.date_block_num==i]\n",
    "    df_price.append(np.array(list(product([i], sales_train.shop_id.unique(), sales_train.item_id.unique())), dtype='int16'))\n",
    "    \n",
    "df_price = pd.DataFrame(np.vstack(df_price), columns=cols)\n",
    "df_price['date_block_num'] = df_price['date_block_num'].astype(np.int8)\n",
    "df_price['shop_id'] = df_price['shop_id'].astype(np.int8)\n",
    "df_price['item_id'] = df_price['item_id'].astype(np.int16)\n",
    "df_price.sort_values(cols,inplace=True)\n",
    "gc.collect()"
   ]
  },
  {
   "cell_type": "code",
   "execution_count": 45,
   "metadata": {},
   "outputs": [],
   "source": [
    "group = sales_train.groupby(['date_block_num', 'shop_id', 'item_id']).agg({'item_price': [#'max','min',\n",
    "                                                                                          'mean',\n",
    "                                                                                          #'median'\n",
    "                                                                                            ]})\n",
    "group.columns = ['mean_price']\n",
    "group.reset_index(inplace = True)"
   ]
  },
  {
   "cell_type": "code",
   "execution_count": 46,
   "metadata": {},
   "outputs": [],
   "source": [
    "df_price = pd.merge(df_price, group, how = 'left', on = ['date_block_num','shop_id','item_id'])"
   ]
  },
  {
   "cell_type": "code",
   "execution_count": 47,
   "metadata": {},
   "outputs": [],
   "source": [
    "df_price['mean_price'] = df_price.groupby(['shop_id','item_id'])['mean_price'].fillna(method='ffill')"
   ]
  },
  {
   "cell_type": "code",
   "execution_count": 48,
   "metadata": {},
   "outputs": [],
   "source": [
    "df_price['mean_price'] = df_price.groupby(['date_block_num','item_id'])['mean_price'].transform(lambda x: x.fillna(x.mean()))"
   ]
  },
  {
   "cell_type": "code",
   "execution_count": 49,
   "metadata": {},
   "outputs": [],
   "source": [
    "df_price['mean_price'] = df_price.groupby(['shop_id','item_id'])['mean_price'].fillna(method='bfill')"
   ]
  },
  {
   "cell_type": "code",
   "execution_count": null,
   "metadata": {},
   "outputs": [],
   "source": [
    "df_price['mean_price'] = df_price.groupby(['shop_id','item_id'])['mean_price'].fillna(method='bfill')"
   ]
  },
  {
   "cell_type": "code",
   "execution_count": 62,
   "metadata": {},
   "outputs": [],
   "source": [
    "def neighbor_feature(df, nearst, col = 'item_cnt_month', fillna = '0'):\n",
    "    tmp = df[['date_block_num', 'shop_id', 'item_id', col]]\n",
    "    \n",
    "    nearst_lst = np.arange(-nearst, nearst+1)\n",
    "    nearst_lst = list(set(nearst_lst).difference(set([0])))\n",
    "    for i in nearst_lst:\n",
    "        shifted = tmp.copy()\n",
    "        shifted.columns = ['date_block_num','shop_id','item_id', col+'_nearst_'+str(i)]\n",
    "        shifted['item_id'] += i\n",
    "        df = pd.merge(df, shifted, on=['date_block_num','shop_id','item_id'], how='left')\n",
    "        \n",
    "        if fillna == 'median':\n",
    "            df[f'{col}_nearst_{i}'].fillna(df[f'{col}_nearst_{i}'].median(), inplace = True)\n",
    "        elif fillna == 'mean':\n",
    "            df[f'{col}_nearst_{i}'].fillna(df[f'{col}_nearst_{i}'].mean(), inplace = True)\n",
    "        elif fillna == '0':\n",
    "            df.fillna(0, inplace = True)\n",
    "            \n",
    "        del shifted\n",
    "        gc.collect()\n",
    "            \n",
    "        \n",
    "    del tmp\n",
    "    gc.collect()\n",
    "    return df"
   ]
  },
  {
   "cell_type": "code",
   "execution_count": 51,
   "metadata": {},
   "outputs": [],
   "source": [
    "t = time.time()\n",
    "\n",
    "nearst = 30\n",
    "df_price = neighbor_feature(df_price, nearst, 'mean_price', 'no')\n",
    "\n",
    "time.time() - t"
   ]
  },
  {
   "cell_type": "code",
   "execution_count": 74,
   "metadata": {},
   "outputs": [],
   "source": [
    "for col in nearst_feature_lst:\n",
    "    df_price[col] = df_price[col].astype('float16')\n",
    "    gc.collect()"
   ]
  },
  {
   "cell_type": "code",
   "execution_count": null,
   "metadata": {},
   "outputs": [],
   "source": [
    "for num_nearst in [2, \n",
    "                   10, 20, 30\n",
    "                  ]:\n",
    "    nearst_lst = np.arange(-num_nearst, num_nearst+1)\n",
    "    nearst_lst = list(set(nearst_lst).difference(set([0])))\n",
    "    nearst_feature_lst = [f'mean_price_nearst_{element}' for element in nearst_lst]\n",
    "\n",
    "    df_price[f'mean_price_avg_nearst_{num_nearst}'] = df_price[nearst_feature_lst].mean(axis = 1)\n",
    "    \n",
    "df_price.drop(nearst_feature_lst, axis = 1, inplace = True)"
   ]
  },
  {
   "cell_type": "code",
   "execution_count": 90,
   "metadata": {},
   "outputs": [],
   "source": [
    "num_nearst = 30\n",
    "nearst_lst = np.arange(-num_nearst, num_nearst+1)\n",
    "nearst_lst = list(set(nearst_lst).difference(set([0])))\n",
    "nearst_feature_lst = [f'mean_price_nearst_{element}' for element in nearst_lst]\n",
    "\n",
    "df_price.drop(nearst_feature_lst, axis = 1, inplace = True)"
   ]
  },
  {
   "cell_type": "code",
   "execution_count": 91,
   "metadata": {},
   "outputs": [
    {
     "data": {
      "text/html": [
       "<div>\n",
       "<style scoped>\n",
       "    .dataframe tbody tr th:only-of-type {\n",
       "        vertical-align: middle;\n",
       "    }\n",
       "\n",
       "    .dataframe tbody tr th {\n",
       "        vertical-align: top;\n",
       "    }\n",
       "\n",
       "    .dataframe thead th {\n",
       "        text-align: right;\n",
       "    }\n",
       "</style>\n",
       "<table border=\"1\" class=\"dataframe\">\n",
       "  <thead>\n",
       "    <tr style=\"text-align: right;\">\n",
       "      <th></th>\n",
       "      <th>date_block_num</th>\n",
       "      <th>shop_id</th>\n",
       "      <th>item_id</th>\n",
       "      <th>mean_price</th>\n",
       "      <th>mean_price_avg_nearst_2</th>\n",
       "      <th>mean_price_avg_nearst_10</th>\n",
       "      <th>mean_price_avg_nearst_20</th>\n",
       "      <th>mean_price_avg_nearst_30</th>\n",
       "    </tr>\n",
       "  </thead>\n",
       "  <tbody>\n",
       "    <tr>\n",
       "      <th>0</th>\n",
       "      <td>0</td>\n",
       "      <td>2</td>\n",
       "      <td>0</td>\n",
       "      <td>58.0</td>\n",
       "      <td>2272.0</td>\n",
       "      <td>500.50000</td>\n",
       "      <td>284.750</td>\n",
       "      <td>393.25</td>\n",
       "    </tr>\n",
       "    <tr>\n",
       "      <th>1</th>\n",
       "      <td>0</td>\n",
       "      <td>2</td>\n",
       "      <td>1</td>\n",
       "      <td>4488.0</td>\n",
       "      <td>72.0</td>\n",
       "      <td>57.46875</td>\n",
       "      <td>63.000</td>\n",
       "      <td>260.25</td>\n",
       "    </tr>\n",
       "    <tr>\n",
       "      <th>2</th>\n",
       "      <td>0</td>\n",
       "      <td>2</td>\n",
       "      <td>2</td>\n",
       "      <td>58.0</td>\n",
       "      <td>1176.0</td>\n",
       "      <td>437.75000</td>\n",
       "      <td>262.750</td>\n",
       "      <td>401.00</td>\n",
       "    </tr>\n",
       "    <tr>\n",
       "      <th>3</th>\n",
       "      <td>0</td>\n",
       "      <td>2</td>\n",
       "      <td>3</td>\n",
       "      <td>100.0</td>\n",
       "      <td>1158.0</td>\n",
       "      <td>405.25000</td>\n",
       "      <td>250.750</td>\n",
       "      <td>402.75</td>\n",
       "    </tr>\n",
       "    <tr>\n",
       "      <th>4</th>\n",
       "      <td>0</td>\n",
       "      <td>2</td>\n",
       "      <td>4</td>\n",
       "      <td>58.0</td>\n",
       "      <td>71.5</td>\n",
       "      <td>381.25000</td>\n",
       "      <td>246.125</td>\n",
       "      <td>396.25</td>\n",
       "    </tr>\n",
       "  </tbody>\n",
       "</table>\n",
       "</div>"
      ],
      "text/plain": [
       "   date_block_num  shop_id  item_id  mean_price  mean_price_avg_nearst_2  \\\n",
       "0               0        2        0        58.0                   2272.0   \n",
       "1               0        2        1      4488.0                     72.0   \n",
       "2               0        2        2        58.0                   1176.0   \n",
       "3               0        2        3       100.0                   1158.0   \n",
       "4               0        2        4        58.0                     71.5   \n",
       "\n",
       "   mean_price_avg_nearst_10  mean_price_avg_nearst_20  \\\n",
       "0                 500.50000                   284.750   \n",
       "1                  57.46875                    63.000   \n",
       "2                 437.75000                   262.750   \n",
       "3                 405.25000                   250.750   \n",
       "4                 381.25000                   246.125   \n",
       "\n",
       "   mean_price_avg_nearst_30  \n",
       "0                    393.25  \n",
       "1                    260.25  \n",
       "2                    401.00  \n",
       "3                    402.75  \n",
       "4                    396.25  "
      ]
     },
     "execution_count": 91,
     "metadata": {},
     "output_type": "execute_result"
    }
   ],
   "source": [
    "df_price.head()"
   ]
  },
  {
   "cell_type": "code",
   "execution_count": 92,
   "metadata": {},
   "outputs": [],
   "source": [
    "with open('df_price_01.pickle', 'wb') as handle:\n",
    "    pickle.dump(df_price, handle, protocol = pickle.HIGHEST_PROTOCOL)"
   ]
  },
  {
   "cell_type": "code",
   "execution_count": 44,
   "metadata": {},
   "outputs": [],
   "source": [
    "with open('df_price_01.pickle', 'rb') as handle:\n",
    "    df_price = pickle.load(handle)"
   ]
  },
  {
   "cell_type": "markdown",
   "metadata": {},
   "source": [
    "For category 2"
   ]
  },
  {
   "cell_type": "code",
   "execution_count": 45,
   "metadata": {},
   "outputs": [
    {
     "data": {
      "text/plain": [
       "0"
      ]
     },
     "execution_count": 45,
     "metadata": {},
     "output_type": "execute_result"
    }
   ],
   "source": [
    "gc.collect()"
   ]
  },
  {
   "cell_type": "code",
   "execution_count": 46,
   "metadata": {},
   "outputs": [
    {
     "data": {
      "text/plain": [
       "21"
      ]
     },
     "execution_count": 46,
     "metadata": {},
     "output_type": "execute_result"
    }
   ],
   "source": [
    "df_price_2 = []\n",
    "for i in range(34):\n",
    "    df_price_2.append(np.array(list(product([i], sales_train.shop_id.unique(), test.loc[test['category']==2].item_id.unique())), dtype='int16'))\n",
    "    \n",
    "df_price_2 = pd.DataFrame(np.vstack(df_price_2), columns=cols)\n",
    "df_price_2['date_block_num'] = df_price_2['date_block_num'].astype(np.int8)\n",
    "df_price_2['shop_id'] = df_price_2['shop_id'].astype(np.int8)\n",
    "df_price_2['item_id'] = df_price_2['item_id'].astype(np.int16)\n",
    "df_price_2.sort_values(cols,inplace=True)\n",
    "gc.collect()"
   ]
  },
  {
   "cell_type": "code",
   "execution_count": 48,
   "metadata": {},
   "outputs": [
    {
     "data": {
      "text/plain": [
       "(691152, 41518624)"
      ]
     },
     "execution_count": 48,
     "metadata": {},
     "output_type": "execute_result"
    }
   ],
   "source": [
    "len(df_price_2), len(df_price)"
   ]
  },
  {
   "cell_type": "code",
   "execution_count": 49,
   "metadata": {},
   "outputs": [],
   "source": [
    "def neighbor_feature_2(df1, df2, nearst, col = 'item_cnt_month', fillna = '0'):\n",
    "    tmp = df2[['date_block_num', 'shop_id', 'item_id', col]]\n",
    "    \n",
    "    nearst_lst = np.arange(-nearst, nearst+1)\n",
    "    nearst_lst = list(set(nearst_lst).difference(set([0])))\n",
    "    for i in nearst_lst:\n",
    "        shifted = tmp.copy()\n",
    "        shifted.columns = ['date_block_num','shop_id','item_id', col+'_nearst_'+str(i)]\n",
    "        shifted['item_id'] += i\n",
    "        df1 = pd.merge(df1, shifted, on=['date_block_num','shop_id','item_id'], how='left')\n",
    "        \n",
    "        if fillna == 'median':\n",
    "            df1[f'{col}_nearst_{i}'].fillna(df1[f'{col}_nearst_{i}'].median(), inplace = True)\n",
    "        elif fillna == 'mean':\n",
    "            df1[f'{col}_nearst_{i}'].fillna(df1[f'{col}_nearst_{i}'].mean(), inplace = True)\n",
    "        elif fillna == '0':\n",
    "            df1.fillna(0, inplace = True)\n",
    "            \n",
    "        \n",
    "    del tmp\n",
    "    gc.collect()\n",
    "    return df1"
   ]
  },
  {
   "cell_type": "code",
   "execution_count": 50,
   "metadata": {},
   "outputs": [
    {
     "data": {
      "text/plain": [
       "619.747948884964"
      ]
     },
     "execution_count": 50,
     "metadata": {},
     "output_type": "execute_result"
    }
   ],
   "source": [
    "t = time.time()\n",
    "\n",
    "nearst = 30\n",
    "df_price_2 = neighbor_feature_2(df_price_2, df_price, nearst, 'mean_price', 'no')\n",
    "\n",
    "time.time() - t"
   ]
  },
  {
   "cell_type": "code",
   "execution_count": 52,
   "metadata": {},
   "outputs": [],
   "source": [
    "nearst_lst = np.arange(-nearst, nearst+1)\n",
    "nearst_lst = list(set(nearst_lst).difference(set([0])))\n",
    "nearst_feature_lst = [f'mean_price_nearst_{element}' for element in nearst_lst]\n",
    "\n",
    "for col in nearst_feature_lst:\n",
    "    df_price_2[col] = df_price_2[col].astype('float16')\n",
    "    gc.collect()"
   ]
  },
  {
   "cell_type": "code",
   "execution_count": 53,
   "metadata": {},
   "outputs": [],
   "source": [
    "for num_nearst in [1, 2, 10, 20, 30]:\n",
    "    nearst_lst = np.arange(-num_nearst, num_nearst+1)\n",
    "    nearst_lst = list(set(nearst_lst).difference(set([0])))\n",
    "    nearst_feature_lst = [f'mean_price_nearst_{element}' for element in nearst_lst]\n",
    "\n",
    "    df_price_2[f'mean_price_avg_nearst_{num_nearst}'] = df_price_2[nearst_feature_lst].mean(axis = 1)\n",
    "    \n",
    "df_price_2.drop(nearst_feature_lst, axis = 1, inplace = True)"
   ]
  },
  {
   "cell_type": "code",
   "execution_count": 54,
   "metadata": {},
   "outputs": [
    {
     "data": {
      "text/html": [
       "<div>\n",
       "<style scoped>\n",
       "    .dataframe tbody tr th:only-of-type {\n",
       "        vertical-align: middle;\n",
       "    }\n",
       "\n",
       "    .dataframe tbody tr th {\n",
       "        vertical-align: top;\n",
       "    }\n",
       "\n",
       "    .dataframe thead th {\n",
       "        text-align: right;\n",
       "    }\n",
       "</style>\n",
       "<table border=\"1\" class=\"dataframe\">\n",
       "  <thead>\n",
       "    <tr style=\"text-align: right;\">\n",
       "      <th></th>\n",
       "      <th>date_block_num</th>\n",
       "      <th>shop_id</th>\n",
       "      <th>item_id</th>\n",
       "      <th>mean_price_avg_nearst_1</th>\n",
       "      <th>mean_price_avg_nearst_2</th>\n",
       "      <th>mean_price_avg_nearst_10</th>\n",
       "      <th>mean_price_avg_nearst_20</th>\n",
       "      <th>mean_price_avg_nearst_30</th>\n",
       "    </tr>\n",
       "  </thead>\n",
       "  <tbody>\n",
       "    <tr>\n",
       "      <th>0</th>\n",
       "      <td>0</td>\n",
       "      <td>2</td>\n",
       "      <td>83</td>\n",
       "      <td>184.0</td>\n",
       "      <td>236.75</td>\n",
       "      <td>346.000</td>\n",
       "      <td>1310.000</td>\n",
       "      <td>1023.000</td>\n",
       "    </tr>\n",
       "    <tr>\n",
       "      <th>1</th>\n",
       "      <td>0</td>\n",
       "      <td>2</td>\n",
       "      <td>140</td>\n",
       "      <td>196.5</td>\n",
       "      <td>235.25</td>\n",
       "      <td>187.000</td>\n",
       "      <td>180.750</td>\n",
       "      <td>177.000</td>\n",
       "    </tr>\n",
       "    <tr>\n",
       "      <th>2</th>\n",
       "      <td>0</td>\n",
       "      <td>2</td>\n",
       "      <td>168</td>\n",
       "      <td>160.5</td>\n",
       "      <td>204.75</td>\n",
       "      <td>184.250</td>\n",
       "      <td>178.625</td>\n",
       "      <td>167.750</td>\n",
       "    </tr>\n",
       "    <tr>\n",
       "      <th>3</th>\n",
       "      <td>0</td>\n",
       "      <td>2</td>\n",
       "      <td>173</td>\n",
       "      <td>165.0</td>\n",
       "      <td>185.25</td>\n",
       "      <td>180.625</td>\n",
       "      <td>166.000</td>\n",
       "      <td>163.625</td>\n",
       "    </tr>\n",
       "    <tr>\n",
       "      <th>4</th>\n",
       "      <td>0</td>\n",
       "      <td>2</td>\n",
       "      <td>204</td>\n",
       "      <td>164.5</td>\n",
       "      <td>174.50</td>\n",
       "      <td>167.125</td>\n",
       "      <td>155.250</td>\n",
       "      <td>160.625</td>\n",
       "    </tr>\n",
       "  </tbody>\n",
       "</table>\n",
       "</div>"
      ],
      "text/plain": [
       "   date_block_num  shop_id  item_id  mean_price_avg_nearst_1  \\\n",
       "0               0        2       83                    184.0   \n",
       "1               0        2      140                    196.5   \n",
       "2               0        2      168                    160.5   \n",
       "3               0        2      173                    165.0   \n",
       "4               0        2      204                    164.5   \n",
       "\n",
       "   mean_price_avg_nearst_2  mean_price_avg_nearst_10  \\\n",
       "0                   236.75                   346.000   \n",
       "1                   235.25                   187.000   \n",
       "2                   204.75                   184.250   \n",
       "3                   185.25                   180.625   \n",
       "4                   174.50                   167.125   \n",
       "\n",
       "   mean_price_avg_nearst_20  mean_price_avg_nearst_30  \n",
       "0                  1310.000                  1023.000  \n",
       "1                   180.750                   177.000  \n",
       "2                   178.625                   167.750  \n",
       "3                   166.000                   163.625  \n",
       "4                   155.250                   160.625  "
      ]
     },
     "execution_count": 54,
     "metadata": {},
     "output_type": "execute_result"
    }
   ],
   "source": [
    "df_price_2.head()"
   ]
  },
  {
   "cell_type": "code",
   "execution_count": 55,
   "metadata": {},
   "outputs": [],
   "source": [
    "with open('df_price_2.pickle', 'wb') as handle:\n",
    "    pickle.dump(df_price_2, handle, protocol = pickle.HIGHEST_PROTOCOL)"
   ]
  },
  {
   "cell_type": "code",
   "execution_count": null,
   "metadata": {},
   "outputs": [],
   "source": [
    "#with open('df_prediction_20191031.pickle', 'rb') as handle:\n",
    "#    test = pickle.load(handle)"
   ]
  },
  {
   "cell_type": "code",
   "execution_count": 56,
   "metadata": {},
   "outputs": [
    {
     "data": {
      "text/plain": [
       "42"
      ]
     },
     "execution_count": 56,
     "metadata": {},
     "output_type": "execute_result"
    }
   ],
   "source": [
    "del df_price, df_price_2\n",
    "gc.collect()"
   ]
  },
  {
   "cell_type": "markdown",
   "metadata": {},
   "source": [
    "# df_item_cnt"
   ]
  },
  {
   "cell_type": "code",
   "execution_count": 57,
   "metadata": {},
   "outputs": [
    {
     "data": {
      "text/plain": [
       "21"
      ]
     },
     "execution_count": 57,
     "metadata": {},
     "output_type": "execute_result"
    }
   ],
   "source": [
    "df_item_cnt = []\n",
    "for i in range(34):\n",
    "    df_item_cnt.append(np.array(list(product([i], sales_train.shop_id.unique(), sales_train.item_id.unique())), dtype='int16'))\n",
    "    \n",
    "df_item_cnt = pd.DataFrame(np.vstack(df_item_cnt), columns=cols)\n",
    "df_item_cnt['date_block_num'] = df_item_cnt['date_block_num'].astype(np.int8)\n",
    "df_item_cnt['shop_id'] = df_item_cnt['shop_id'].astype(np.int8)\n",
    "df_item_cnt['item_id'] = df_item_cnt['item_id'].astype(np.int16)\n",
    "df_item_cnt.sort_values(cols,inplace=True)\n",
    "gc.collect()"
   ]
  },
  {
   "cell_type": "code",
   "execution_count": 60,
   "metadata": {},
   "outputs": [],
   "source": [
    "group = sales_train.groupby(['date_block_num', 'shop_id', 'item_id']).agg({'item_cnt_day': ['sum']})\n",
    "group.columns = ['item_cnt_month']\n",
    "group.reset_index(inplace = True)"
   ]
  },
  {
   "cell_type": "code",
   "execution_count": 61,
   "metadata": {},
   "outputs": [],
   "source": [
    "df_item_cnt = pd.merge(df_item_cnt, group, how = 'left', on = ['date_block_num','shop_id','item_id'])\n",
    "df_item_cnt.fillna(0, inplace = True)"
   ]
  },
  {
   "cell_type": "code",
   "execution_count": 63,
   "metadata": {},
   "outputs": [
    {
     "data": {
      "text/plain": [
       "49"
      ]
     },
     "execution_count": 63,
     "metadata": {},
     "output_type": "execute_result"
    }
   ],
   "source": [
    "gc.collect()"
   ]
  },
  {
   "cell_type": "code",
   "execution_count": 64,
   "metadata": {},
   "outputs": [],
   "source": [
    "nearst = 30\n",
    "df_item_cnt = neighbor_feature(df_item_cnt, nearst, 'item_cnt_month', 'no')"
   ]
  },
  {
   "cell_type": "code",
   "execution_count": 65,
   "metadata": {},
   "outputs": [],
   "source": [
    "nearst_lst = np.arange(-num_nearst, num_nearst+1)\n",
    "nearst_lst = list(set(nearst_lst).difference(set([0])))\n",
    "nearst_feature_lst = [f'item_cnt_month_nearst_{element}' for element in nearst_lst]\n",
    "\n",
    "for col in nearst_feature_lst:\n",
    "    df_item_cnt[col] = df_item_cnt[col].astype('float16')\n",
    "    gc.collect()"
   ]
  },
  {
   "cell_type": "code",
   "execution_count": 67,
   "metadata": {},
   "outputs": [],
   "source": [
    "for num_nearst in [2, 10, 20, 30]:\n",
    "    nearst_lst = np.arange(-num_nearst, num_nearst+1)\n",
    "    nearst_lst = list(set(nearst_lst).difference(set([0])))\n",
    "    nearst_feature_lst = [f'item_cnt_month_nearst_{element}' for element in nearst_lst]\n",
    "\n",
    "    df_item_cnt[f'item_cnt_month_avg_nearst_{num_nearst}'] = df_item_cnt[nearst_feature_lst].mean(axis = 1)\n",
    "    \n",
    "df_item_cnt.drop(nearst_feature_lst, axis = 1, inplace = True)"
   ]
  },
  {
   "cell_type": "code",
   "execution_count": 68,
   "metadata": {},
   "outputs": [
    {
     "data": {
      "text/html": [
       "<div>\n",
       "<style scoped>\n",
       "    .dataframe tbody tr th:only-of-type {\n",
       "        vertical-align: middle;\n",
       "    }\n",
       "\n",
       "    .dataframe tbody tr th {\n",
       "        vertical-align: top;\n",
       "    }\n",
       "\n",
       "    .dataframe thead th {\n",
       "        text-align: right;\n",
       "    }\n",
       "</style>\n",
       "<table border=\"1\" class=\"dataframe\">\n",
       "  <thead>\n",
       "    <tr style=\"text-align: right;\">\n",
       "      <th></th>\n",
       "      <th>date_block_num</th>\n",
       "      <th>shop_id</th>\n",
       "      <th>item_id</th>\n",
       "      <th>item_cnt_month</th>\n",
       "      <th>item_cnt_month_avg_nearst_2</th>\n",
       "      <th>item_cnt_month_avg_nearst_10</th>\n",
       "      <th>item_cnt_month_avg_nearst_20</th>\n",
       "      <th>item_cnt_month_avg_nearst_30</th>\n",
       "    </tr>\n",
       "  </thead>\n",
       "  <tbody>\n",
       "    <tr>\n",
       "      <th>0</th>\n",
       "      <td>0</td>\n",
       "      <td>2</td>\n",
       "      <td>0</td>\n",
       "      <td>0.0</td>\n",
       "      <td>0.0</td>\n",
       "      <td>0.0</td>\n",
       "      <td>0.0</td>\n",
       "      <td>0.033325195312500</td>\n",
       "    </tr>\n",
       "    <tr>\n",
       "      <th>1</th>\n",
       "      <td>0</td>\n",
       "      <td>2</td>\n",
       "      <td>1</td>\n",
       "      <td>0.0</td>\n",
       "      <td>0.0</td>\n",
       "      <td>0.0</td>\n",
       "      <td>0.0</td>\n",
       "      <td>0.032257080078125</td>\n",
       "    </tr>\n",
       "    <tr>\n",
       "      <th>2</th>\n",
       "      <td>0</td>\n",
       "      <td>2</td>\n",
       "      <td>2</td>\n",
       "      <td>0.0</td>\n",
       "      <td>0.0</td>\n",
       "      <td>0.0</td>\n",
       "      <td>0.0</td>\n",
       "      <td>0.031250000000000</td>\n",
       "    </tr>\n",
       "    <tr>\n",
       "      <th>3</th>\n",
       "      <td>0</td>\n",
       "      <td>2</td>\n",
       "      <td>3</td>\n",
       "      <td>0.0</td>\n",
       "      <td>0.0</td>\n",
       "      <td>0.0</td>\n",
       "      <td>0.0</td>\n",
       "      <td>0.060607910156250</td>\n",
       "    </tr>\n",
       "    <tr>\n",
       "      <th>4</th>\n",
       "      <td>0</td>\n",
       "      <td>2</td>\n",
       "      <td>4</td>\n",
       "      <td>0.0</td>\n",
       "      <td>0.0</td>\n",
       "      <td>0.0</td>\n",
       "      <td>0.0</td>\n",
       "      <td>0.058837890625000</td>\n",
       "    </tr>\n",
       "  </tbody>\n",
       "</table>\n",
       "</div>"
      ],
      "text/plain": [
       "   date_block_num  shop_id  item_id  item_cnt_month  \\\n",
       "0               0        2        0             0.0   \n",
       "1               0        2        1             0.0   \n",
       "2               0        2        2             0.0   \n",
       "3               0        2        3             0.0   \n",
       "4               0        2        4             0.0   \n",
       "\n",
       "   item_cnt_month_avg_nearst_2  item_cnt_month_avg_nearst_10  \\\n",
       "0                          0.0                           0.0   \n",
       "1                          0.0                           0.0   \n",
       "2                          0.0                           0.0   \n",
       "3                          0.0                           0.0   \n",
       "4                          0.0                           0.0   \n",
       "\n",
       "   item_cnt_month_avg_nearst_20  item_cnt_month_avg_nearst_30  \n",
       "0                           0.0             0.033325195312500  \n",
       "1                           0.0             0.032257080078125  \n",
       "2                           0.0             0.031250000000000  \n",
       "3                           0.0             0.060607910156250  \n",
       "4                           0.0             0.058837890625000  "
      ]
     },
     "execution_count": 68,
     "metadata": {},
     "output_type": "execute_result"
    }
   ],
   "source": [
    "df_item_cnt.head()"
   ]
  },
  {
   "cell_type": "code",
   "execution_count": 69,
   "metadata": {},
   "outputs": [
    {
     "data": {
      "text/plain": [
       "77"
      ]
     },
     "execution_count": 69,
     "metadata": {},
     "output_type": "execute_result"
    }
   ],
   "source": [
    "gc.collect()"
   ]
  },
  {
   "cell_type": "code",
   "execution_count": 70,
   "metadata": {},
   "outputs": [],
   "source": [
    "with open('df_item_cnt_01.pickle', 'wb') as handle:\n",
    "    pickle.dump(df_item_cnt, handle, protocol = pickle.HIGHEST_PROTOCOL)"
   ]
  },
  {
   "cell_type": "markdown",
   "metadata": {},
   "source": [
    "Category 2"
   ]
  },
  {
   "cell_type": "code",
   "execution_count": 78,
   "metadata": {},
   "outputs": [
    {
     "data": {
      "text/plain": [
       "21"
      ]
     },
     "execution_count": 78,
     "metadata": {},
     "output_type": "execute_result"
    }
   ],
   "source": [
    "df_item_cnt_2 = []\n",
    "for i in range(34):\n",
    "    df_item_cnt_2.append(np.array(list(product([i], sales_train.shop_id.unique(), test.loc[test['category']==2].item_id.unique())), dtype='int16'))\n",
    "    \n",
    "df_item_cnt_2 = pd.DataFrame(np.vstack(df_item_cnt_2), columns=cols)\n",
    "df_item_cnt_2['date_block_num'] = df_item_cnt_2['date_block_num'].astype(np.int8)\n",
    "df_item_cnt_2['shop_id'] = df_item_cnt_2['shop_id'].astype(np.int8)\n",
    "df_item_cnt_2['item_id'] = df_item_cnt_2['item_id'].astype(np.int16)\n",
    "df_item_cnt_2.sort_values(cols,inplace=True)\n",
    "gc.collect()"
   ]
  },
  {
   "cell_type": "code",
   "execution_count": null,
   "metadata": {},
   "outputs": [],
   "source": [
    "nearst = 30\n",
    "df_item_cnt_2 = neighbor_feature_2(df_item_cnt_2, df_item_cnt, nearst, 'item_cnt_month', 'no')"
   ]
  },
  {
   "cell_type": "code",
   "execution_count": null,
   "metadata": {},
   "outputs": [],
   "source": [
    "nearst_lst = np.arange(-nearst, nearst+1)\n",
    "nearst_lst = list(set(nearst_lst).difference(set([0])))\n",
    "nearst_feature_lst = [f'item_cnt_month_nearst_{element}' for element in nearst_lst]\n",
    "\n",
    "for col in nearst_feature_lst:\n",
    "    df_item_cnt_2[col] = df_item_cnt_2[col].astype('float16')\n",
    "    gc.collect()"
   ]
  },
  {
   "cell_type": "code",
   "execution_count": null,
   "metadata": {},
   "outputs": [],
   "source": [
    "for num_nearst in [1, 2, 10, 20, 30]:\n",
    "    nearst_lst = np.arange(-num_nearst, num_nearst+1)\n",
    "    nearst_lst = list(set(nearst_lst).difference(set([0])))\n",
    "    nearst_feature_lst = [f'item_cnt_month_nearst_{element}' for element in nearst_lst]\n",
    "\n",
    "    df_item_cnt_2[f'item_cnt_month_avg_nearst_{num_nearst}'] = df_item_cnt_2[nearst_feature_lst].mean(axis = 1)\n",
    "    \n",
    "df_item_cnt_2.drop(nearst_feature_lst, axis = 1, inplace = True)"
   ]
  },
  {
   "cell_type": "code",
   "execution_count": 77,
   "metadata": {},
   "outputs": [
    {
     "data": {
      "text/html": [
       "<div>\n",
       "<style scoped>\n",
       "    .dataframe tbody tr th:only-of-type {\n",
       "        vertical-align: middle;\n",
       "    }\n",
       "\n",
       "    .dataframe tbody tr th {\n",
       "        vertical-align: top;\n",
       "    }\n",
       "\n",
       "    .dataframe thead th {\n",
       "        text-align: right;\n",
       "    }\n",
       "</style>\n",
       "<table border=\"1\" class=\"dataframe\">\n",
       "  <thead>\n",
       "    <tr style=\"text-align: right;\">\n",
       "      <th></th>\n",
       "      <th>date_block_num</th>\n",
       "      <th>shop_id</th>\n",
       "      <th>item_id</th>\n",
       "      <th>item_cnt_month_avg_nearst_2</th>\n",
       "      <th>item_cnt_month_avg_nearst_10</th>\n",
       "      <th>item_cnt_month_avg_nearst_20</th>\n",
       "      <th>item_cnt_month_avg_nearst_30</th>\n",
       "    </tr>\n",
       "  </thead>\n",
       "  <tbody>\n",
       "    <tr>\n",
       "      <th>0</th>\n",
       "      <td>0</td>\n",
       "      <td>2</td>\n",
       "      <td>83</td>\n",
       "      <td>0.0</td>\n",
       "      <td>0.0</td>\n",
       "      <td>0.0</td>\n",
       "      <td>0.0</td>\n",
       "    </tr>\n",
       "    <tr>\n",
       "      <th>1</th>\n",
       "      <td>0</td>\n",
       "      <td>2</td>\n",
       "      <td>140</td>\n",
       "      <td>0.0</td>\n",
       "      <td>0.0</td>\n",
       "      <td>0.0</td>\n",
       "      <td>0.0</td>\n",
       "    </tr>\n",
       "    <tr>\n",
       "      <th>2</th>\n",
       "      <td>0</td>\n",
       "      <td>2</td>\n",
       "      <td>168</td>\n",
       "      <td>0.0</td>\n",
       "      <td>0.0</td>\n",
       "      <td>0.0</td>\n",
       "      <td>0.0</td>\n",
       "    </tr>\n",
       "    <tr>\n",
       "      <th>3</th>\n",
       "      <td>0</td>\n",
       "      <td>2</td>\n",
       "      <td>173</td>\n",
       "      <td>0.0</td>\n",
       "      <td>0.0</td>\n",
       "      <td>0.0</td>\n",
       "      <td>0.0</td>\n",
       "    </tr>\n",
       "    <tr>\n",
       "      <th>4</th>\n",
       "      <td>0</td>\n",
       "      <td>2</td>\n",
       "      <td>204</td>\n",
       "      <td>0.0</td>\n",
       "      <td>0.0</td>\n",
       "      <td>0.0</td>\n",
       "      <td>0.0</td>\n",
       "    </tr>\n",
       "  </tbody>\n",
       "</table>\n",
       "</div>"
      ],
      "text/plain": [
       "   date_block_num  shop_id  item_id  item_cnt_month_avg_nearst_2  \\\n",
       "0               0        2       83                          0.0   \n",
       "1               0        2      140                          0.0   \n",
       "2               0        2      168                          0.0   \n",
       "3               0        2      173                          0.0   \n",
       "4               0        2      204                          0.0   \n",
       "\n",
       "   item_cnt_month_avg_nearst_10  item_cnt_month_avg_nearst_20  \\\n",
       "0                           0.0                           0.0   \n",
       "1                           0.0                           0.0   \n",
       "2                           0.0                           0.0   \n",
       "3                           0.0                           0.0   \n",
       "4                           0.0                           0.0   \n",
       "\n",
       "   item_cnt_month_avg_nearst_30  \n",
       "0                           0.0  \n",
       "1                           0.0  \n",
       "2                           0.0  \n",
       "3                           0.0  \n",
       "4                           0.0  "
      ]
     },
     "execution_count": 77,
     "metadata": {},
     "output_type": "execute_result"
    }
   ],
   "source": [
    "df_item_cnt_2.head()"
   ]
  },
  {
   "cell_type": "code",
   "execution_count": null,
   "metadata": {},
   "outputs": [],
   "source": [
    "with open('df_item_cnt_2.pickle', 'wb') as handle:\n",
    "    pickle.dump(df_item_cnt_2, handle, protocol = pickle.HIGHEST_PROTOCOL)"
   ]
  },
  {
   "cell_type": "markdown",
   "metadata": {},
   "source": [
    "# df_revenue"
   ]
  },
  {
   "cell_type": "code",
   "execution_count": null,
   "metadata": {},
   "outputs": [],
   "source": [
    "df_revenue = []\n",
    "for i in range(34):\n",
    "    df_revenue.append(np.array(list(product([i], sales_train.shop_id.unique(), sales_train.item_id.unique())), dtype='int16'))\n",
    "    \n",
    "df_revenue = pd.DataFrame(np.vstack(df_revenue), columns=cols)\n",
    "df_revenue['date_block_num'] = df_revenue['date_block_num'].astype(np.int8)\n",
    "df_revenue['shop_id'] = df_revenue['shop_id'].astype(np.int8)\n",
    "df_revenue['item_id'] = df_revenue['item_id'].astype(np.int16)\n",
    "df_revenue.sort_values(cols,inplace=True)\n",
    "gc.collect()"
   ]
  },
  {
   "cell_type": "code",
   "execution_count": null,
   "metadata": {},
   "outputs": [],
   "source": [
    "group = sales_train.groupby(['date_block_num', 'shop_id', 'item_id']).agg({'revenue': ['sum']})\n",
    "group.columns = ['revenue_month']\n",
    "group.reset_index(inplace = True)"
   ]
  },
  {
   "cell_type": "code",
   "execution_count": null,
   "metadata": {},
   "outputs": [],
   "source": [
    "df_revenue = pd.merge(df_revenue, group, how = 'left', on = ['date_block_num','shop_id','item_id'])\n",
    "df_revenue.fillna(0, inplace = True)"
   ]
  },
  {
   "cell_type": "code",
   "execution_count": null,
   "metadata": {},
   "outputs": [],
   "source": [
    "nearst = 30\n",
    "df_revenue = neighbor_feature(df_revenue, nearst, 'item_cnt_month', 'no')"
   ]
  }
 ],
 "metadata": {
  "kernelspec": {
   "display_name": "Python 3",
   "language": "python",
   "name": "python3"
  },
  "language_info": {
   "codemirror_mode": {
    "name": "ipython",
    "version": 3
   },
   "file_extension": ".py",
   "mimetype": "text/x-python",
   "name": "python",
   "nbconvert_exporter": "python",
   "pygments_lexer": "ipython3",
   "version": "3.6.5"
  }
 },
 "nbformat": 4,
 "nbformat_minor": 1
}
